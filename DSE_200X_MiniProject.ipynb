{
 "cells": [
  {
   "cell_type": "code",
   "execution_count": 3,
   "id": "4289a97e",
   "metadata": {},
   "outputs": [],
   "source": [
    "# Data Source: https://www.kaggle.com/datasets/kaggle/world-development-indicators\n",
    "# Folder: 'world-development-indicators' "
   ]
  },
  {
   "cell_type": "markdown",
   "id": "61157639",
   "metadata": {},
   "source": [
    "<br><p style=\"font-family: Arial; font-size:3.75em;color:green; font-style:bold\">\n",
    "World Development Indicators</p><br><br>\n",
    "# Exploring Data Visualization "
   ]
  },
  {
   "cell_type": "code",
   "execution_count": 1,
   "id": "480a55e8",
   "metadata": {},
   "outputs": [],
   "source": [
    "#import libraries\n",
    "\n",
    "import pandas as pd\n",
    "import numpy as np\n",
    "import random\n",
    "import matplotlib.pyplot as plt\n",
    "%matplotlib inline\n",
    "import plotly.express as px"
   ]
  },
  {
   "cell_type": "code",
   "execution_count": 2,
   "id": "254fee43",
   "metadata": {},
   "outputs": [],
   "source": [
    "# loading the csv files into pandas DFs\n",
    "indicators = pd.read_csv('../DS_World_Development_Indicators/data_wdi/Indicators.csv')\n",
    "\n",
    "#series = pd.read_csv('../DS_World_Development_Indicators/data_wdi/Series.csv')\n",
    "#country = pd.read_csv('../DS_World_Development_Indicators/data_wdi/Country.csv')\n",
    "#country_notes = pd.read_csv('../DS_World_Development_Indicators/data_wdi/CountryNotes.csv')\n",
    "#series_notes = pd.read_csv('../DS_World_Development_Indicators/data_wdi/SeriesNotes.csv')\n",
    "#footnotes = pd.read_csv('../DS_World_Development_Indicators/data_wdi/Footnotes.csv')\n"
   ]
  },
  {
   "cell_type": "code",
   "execution_count": 31,
   "id": "89e76ddb",
   "metadata": {},
   "outputs": [
    {
     "data": {
      "text/html": [
       "<div>\n",
       "<style scoped>\n",
       "    .dataframe tbody tr th:only-of-type {\n",
       "        vertical-align: middle;\n",
       "    }\n",
       "\n",
       "    .dataframe tbody tr th {\n",
       "        vertical-align: top;\n",
       "    }\n",
       "\n",
       "    .dataframe thead th {\n",
       "        text-align: right;\n",
       "    }\n",
       "</style>\n",
       "<table border=\"1\" class=\"dataframe\">\n",
       "  <thead>\n",
       "    <tr style=\"text-align: right;\">\n",
       "      <th></th>\n",
       "      <th>CountryName</th>\n",
       "      <th>CountryCode</th>\n",
       "      <th>IndicatorName</th>\n",
       "      <th>IndicatorCode</th>\n",
       "      <th>Year</th>\n",
       "      <th>Value</th>\n",
       "    </tr>\n",
       "  </thead>\n",
       "  <tbody>\n",
       "    <tr>\n",
       "      <th>0</th>\n",
       "      <td>Arab World</td>\n",
       "      <td>ARB</td>\n",
       "      <td>Adolescent fertility rate (births per 1,000 wo...</td>\n",
       "      <td>SP.ADO.TFRT</td>\n",
       "      <td>1960</td>\n",
       "      <td>1.335609e+02</td>\n",
       "    </tr>\n",
       "    <tr>\n",
       "      <th>1</th>\n",
       "      <td>Arab World</td>\n",
       "      <td>ARB</td>\n",
       "      <td>Age dependency ratio (% of working-age populat...</td>\n",
       "      <td>SP.POP.DPND</td>\n",
       "      <td>1960</td>\n",
       "      <td>8.779760e+01</td>\n",
       "    </tr>\n",
       "    <tr>\n",
       "      <th>2</th>\n",
       "      <td>Arab World</td>\n",
       "      <td>ARB</td>\n",
       "      <td>Age dependency ratio, old (% of working-age po...</td>\n",
       "      <td>SP.POP.DPND.OL</td>\n",
       "      <td>1960</td>\n",
       "      <td>6.634579e+00</td>\n",
       "    </tr>\n",
       "    <tr>\n",
       "      <th>3</th>\n",
       "      <td>Arab World</td>\n",
       "      <td>ARB</td>\n",
       "      <td>Age dependency ratio, young (% of working-age ...</td>\n",
       "      <td>SP.POP.DPND.YG</td>\n",
       "      <td>1960</td>\n",
       "      <td>8.102333e+01</td>\n",
       "    </tr>\n",
       "    <tr>\n",
       "      <th>4</th>\n",
       "      <td>Arab World</td>\n",
       "      <td>ARB</td>\n",
       "      <td>Arms exports (SIPRI trend indicator values)</td>\n",
       "      <td>MS.MIL.XPRT.KD</td>\n",
       "      <td>1960</td>\n",
       "      <td>3.000000e+06</td>\n",
       "    </tr>\n",
       "  </tbody>\n",
       "</table>\n",
       "</div>"
      ],
      "text/plain": [
       "  CountryName CountryCode                                      IndicatorName  \\\n",
       "0  Arab World         ARB  Adolescent fertility rate (births per 1,000 wo...   \n",
       "1  Arab World         ARB  Age dependency ratio (% of working-age populat...   \n",
       "2  Arab World         ARB  Age dependency ratio, old (% of working-age po...   \n",
       "3  Arab World         ARB  Age dependency ratio, young (% of working-age ...   \n",
       "4  Arab World         ARB        Arms exports (SIPRI trend indicator values)   \n",
       "\n",
       "    IndicatorCode  Year         Value  \n",
       "0     SP.ADO.TFRT  1960  1.335609e+02  \n",
       "1     SP.POP.DPND  1960  8.779760e+01  \n",
       "2  SP.POP.DPND.OL  1960  6.634579e+00  \n",
       "3  SP.POP.DPND.YG  1960  8.102333e+01  \n",
       "4  MS.MIL.XPRT.KD  1960  3.000000e+06  "
      ]
     },
     "execution_count": 31,
     "metadata": {},
     "output_type": "execute_result"
    }
   ],
   "source": [
    "# Take a look into the dataframes\n",
    "indicators.head(5)"
   ]
  },
  {
   "cell_type": "code",
   "execution_count": 14,
   "id": "d66c666a",
   "metadata": {},
   "outputs": [
    {
     "name": "stdout",
     "output_type": "stream",
     "text": [
      "<class 'pandas.core.frame.DataFrame'>\n",
      "RangeIndex: 5656458 entries, 0 to 5656457\n",
      "Data columns (total 6 columns):\n",
      " #   Column         Dtype  \n",
      "---  ------         -----  \n",
      " 0   CountryName    object \n",
      " 1   CountryCode    object \n",
      " 2   IndicatorName  object \n",
      " 3   IndicatorCode  object \n",
      " 4   Year           int64  \n",
      " 5   Value          float64\n",
      "dtypes: float64(1), int64(1), object(4)\n",
      "memory usage: 258.9+ MB\n"
     ]
    }
   ],
   "source": [
    "# This method prints information about a DataFrame including the index dtype and columns, non-null values and memory usage.\n",
    "indicators.info()"
   ]
  },
  {
   "cell_type": "markdown",
   "id": "dc5387ef",
   "metadata": {},
   "source": [
    "### How many UNIQUE country names are there ?"
   ]
  },
  {
   "cell_type": "code",
   "execution_count": 4,
   "id": "b2bc86a3",
   "metadata": {},
   "outputs": [
    {
     "data": {
      "text/plain": [
       "247"
      ]
     },
     "execution_count": 4,
     "metadata": {},
     "output_type": "execute_result"
    }
   ],
   "source": [
    "countries = indicators['CountryName'].unique().tolist()\n",
    "len(countries)"
   ]
  },
  {
   "cell_type": "markdown",
   "id": "b7b69e03",
   "metadata": {},
   "source": [
    "### Are there same number of country codes ?"
   ]
  },
  {
   "cell_type": "code",
   "execution_count": 5,
   "id": "02537efc",
   "metadata": {},
   "outputs": [
    {
     "data": {
      "text/plain": [
       "247"
      ]
     },
     "execution_count": 5,
     "metadata": {},
     "output_type": "execute_result"
    }
   ],
   "source": [
    "# How many unique country codes are there ? (should be the same #)\n",
    "countryCodes = indicators['CountryCode'].unique().tolist()\n",
    "len(countryCodes)"
   ]
  },
  {
   "cell_type": "markdown",
   "id": "a8243688",
   "metadata": {},
   "source": [
    "### Are there many indicators or few ?"
   ]
  },
  {
   "cell_type": "code",
   "execution_count": 6,
   "id": "17a37b91",
   "metadata": {},
   "outputs": [
    {
     "data": {
      "text/plain": [
       "1344"
      ]
     },
     "execution_count": 6,
     "metadata": {},
     "output_type": "execute_result"
    }
   ],
   "source": [
    "# How many unique indicators are there ? (should be the same #)\n",
    "var_indicators = indicators['IndicatorName'].unique().tolist()\n",
    "len(var_indicators)"
   ]
  },
  {
   "cell_type": "code",
   "execution_count": 20,
   "id": "68caf42a",
   "metadata": {},
   "outputs": [
    {
     "data": {
      "text/plain": [
       "['2005 PPP conversion factor, GDP (LCU per international $)',\n",
       " '2005 PPP conversion factor, private consumption (LCU per international $)',\n",
       " 'ARI treatment (% of children under 5 taken to a health provider)',\n",
       " 'Access to electricity (% of population)',\n",
       " 'Access to electricity, rural (% of rural population)']"
      ]
     },
     "execution_count": 20,
     "metadata": {},
     "output_type": "execute_result"
    }
   ],
   "source": [
    "# List the five first Indicators\n",
    "var_indicators.sort()\n",
    "var_indicators[:5]"
   ]
  },
  {
   "cell_type": "markdown",
   "id": "83295ce3",
   "metadata": {},
   "source": [
    "### How many years of data do we have ?"
   ]
  },
  {
   "cell_type": "code",
   "execution_count": 8,
   "id": "40d16a85",
   "metadata": {},
   "outputs": [
    {
     "data": {
      "text/plain": [
       "56"
      ]
     },
     "execution_count": 8,
     "metadata": {},
     "output_type": "execute_result"
    }
   ],
   "source": [
    "# How many years of data do we have ?\n",
    "years = indicators['Year'].unique().tolist()\n",
    "len(years)"
   ]
  },
  {
   "cell_type": "markdown",
   "id": "2e26bbc7",
   "metadata": {},
   "source": [
    "### What's the range of years?"
   ]
  },
  {
   "cell_type": "code",
   "execution_count": 15,
   "id": "655ec7c8",
   "metadata": {},
   "outputs": [
    {
     "name": "stdout",
     "output_type": "stream",
     "text": [
      "1960  to  2015\n"
     ]
    }
   ],
   "source": [
    "print(min(years),\" to \",max(years))"
   ]
  },
  {
   "cell_type": "markdown",
   "id": "c5f6eb85",
   "metadata": {},
   "source": [
    "### Creating masks\n",
    "\n",
    "we just want the data from <b>Brazil</b>"
   ]
  },
  {
   "cell_type": "markdown",
   "id": "246df320",
   "metadata": {},
   "source": [
    "Creating new DF with the following Indicators:<br>\n",
    "`Expenditure on education as % of total government expenditure (%)`<br>\n",
    "`Life expectancy at birth, total (years)`<br>\n",
    "`Gross domestic income (constant LCU)`"
   ]
  },
  {
   "cell_type": "code",
   "execution_count": 35,
   "id": "a1930369",
   "metadata": {},
   "outputs": [],
   "source": [
    "# Creating masks to select only a few indicators\n",
    "education_expenditure = 'Expenditure on education as % of total'\n",
    "life_expectancy = 'Life expectancy at birth, total'\n",
    "gross_domestic_income_LCU = 'Gross domestic income \\(constant LCU'\n",
    "selected_country = 'BRA' #Brazil\n",
    "\n",
    "mask1 = indicators['IndicatorName'].str.contains(education_expenditure)\n",
    "mask2 = indicators['IndicatorName'].str.contains(life_expectancy)\n",
    "mask3 = indicators['IndicatorName'].str.contains(gross_domestic_income_LCU)\n",
    "mask4 = indicators['CountryCode'].str.contains(selected_country)\n",
    "\n",
    "# Creating new DF matching the masks \n",
    "df_expenditure = indicators[mask1 & mask4]\n",
    "df_life_expectancy = indicators[mask2 & mask4]\n",
    "df_gross_domestic_income_LCU = indicators[mask3 & mask4]"
   ]
  },
  {
   "cell_type": "markdown",
   "id": "77331c91",
   "metadata": {},
   "source": [
    "<b>Now</b> we have 3 new dataframes:\n",
    "`df_expenditure`, `df_life_expectancy`, and `df_gross_domestic_income_LCU` \n"
   ]
  },
  {
   "cell_type": "code",
   "execution_count": 37,
   "id": "87f0458b",
   "metadata": {},
   "outputs": [
    {
     "data": {
      "text/html": [
       "<div>\n",
       "<style scoped>\n",
       "    .dataframe tbody tr th:only-of-type {\n",
       "        vertical-align: middle;\n",
       "    }\n",
       "\n",
       "    .dataframe tbody tr th {\n",
       "        vertical-align: top;\n",
       "    }\n",
       "\n",
       "    .dataframe thead th {\n",
       "        text-align: right;\n",
       "    }\n",
       "</style>\n",
       "<table border=\"1\" class=\"dataframe\">\n",
       "  <thead>\n",
       "    <tr style=\"text-align: right;\">\n",
       "      <th></th>\n",
       "      <th>CountryName</th>\n",
       "      <th>CountryCode</th>\n",
       "      <th>IndicatorName</th>\n",
       "      <th>IndicatorCode</th>\n",
       "      <th>Year</th>\n",
       "      <th>Value</th>\n",
       "    </tr>\n",
       "  </thead>\n",
       "  <tbody>\n",
       "    <tr>\n",
       "      <th>2922667</th>\n",
       "      <td>Brazil</td>\n",
       "      <td>BRA</td>\n",
       "      <td>Expenditure on education as % of total governm...</td>\n",
       "      <td>SE.XPD.TOTL.GB.ZS</td>\n",
       "      <td>1998</td>\n",
       "      <td>11.62986</td>\n",
       "    </tr>\n",
       "    <tr>\n",
       "      <th>3060928</th>\n",
       "      <td>Brazil</td>\n",
       "      <td>BRA</td>\n",
       "      <td>Expenditure on education as % of total governm...</td>\n",
       "      <td>SE.XPD.TOTL.GB.ZS</td>\n",
       "      <td>1999</td>\n",
       "      <td>9.60027</td>\n",
       "    </tr>\n",
       "  </tbody>\n",
       "</table>\n",
       "</div>"
      ],
      "text/plain": [
       "        CountryName CountryCode  \\\n",
       "2922667      Brazil         BRA   \n",
       "3060928      Brazil         BRA   \n",
       "\n",
       "                                             IndicatorName      IndicatorCode  \\\n",
       "2922667  Expenditure on education as % of total governm...  SE.XPD.TOTL.GB.ZS   \n",
       "3060928  Expenditure on education as % of total governm...  SE.XPD.TOTL.GB.ZS   \n",
       "\n",
       "         Year     Value  \n",
       "2922667  1998  11.62986  \n",
       "3060928  1999   9.60027  "
      ]
     },
     "execution_count": 37,
     "metadata": {},
     "output_type": "execute_result"
    }
   ],
   "source": [
    "df_expenditure.head(2)"
   ]
  },
  {
   "cell_type": "code",
   "execution_count": 38,
   "id": "5e4020cf",
   "metadata": {},
   "outputs": [
    {
     "data": {
      "text/html": [
       "<div>\n",
       "<style scoped>\n",
       "    .dataframe tbody tr th:only-of-type {\n",
       "        vertical-align: middle;\n",
       "    }\n",
       "\n",
       "    .dataframe tbody tr th {\n",
       "        vertical-align: top;\n",
       "    }\n",
       "\n",
       "    .dataframe thead th {\n",
       "        text-align: right;\n",
       "    }\n",
       "</style>\n",
       "<table border=\"1\" class=\"dataframe\">\n",
       "  <thead>\n",
       "    <tr style=\"text-align: right;\">\n",
       "      <th></th>\n",
       "      <th>CountryName</th>\n",
       "      <th>CountryCode</th>\n",
       "      <th>IndicatorName</th>\n",
       "      <th>IndicatorCode</th>\n",
       "      <th>Year</th>\n",
       "      <th>Value</th>\n",
       "    </tr>\n",
       "  </thead>\n",
       "  <tbody>\n",
       "    <tr>\n",
       "      <th>5736</th>\n",
       "      <td>Brazil</td>\n",
       "      <td>BRA</td>\n",
       "      <td>Life expectancy at birth, total (years)</td>\n",
       "      <td>SP.DYN.LE00.IN</td>\n",
       "      <td>1960</td>\n",
       "      <td>54.205463</td>\n",
       "    </tr>\n",
       "    <tr>\n",
       "      <th>29829</th>\n",
       "      <td>Brazil</td>\n",
       "      <td>BRA</td>\n",
       "      <td>Life expectancy at birth, total (years)</td>\n",
       "      <td>SP.DYN.LE00.IN</td>\n",
       "      <td>1961</td>\n",
       "      <td>54.718707</td>\n",
       "    </tr>\n",
       "  </tbody>\n",
       "</table>\n",
       "</div>"
      ],
      "text/plain": [
       "      CountryName CountryCode                            IndicatorName  \\\n",
       "5736       Brazil         BRA  Life expectancy at birth, total (years)   \n",
       "29829      Brazil         BRA  Life expectancy at birth, total (years)   \n",
       "\n",
       "        IndicatorCode  Year      Value  \n",
       "5736   SP.DYN.LE00.IN  1960  54.205463  \n",
       "29829  SP.DYN.LE00.IN  1961  54.718707  "
      ]
     },
     "execution_count": 38,
     "metadata": {},
     "output_type": "execute_result"
    }
   ],
   "source": [
    "df_life_expectancy.head(2)"
   ]
  },
  {
   "cell_type": "code",
   "execution_count": 39,
   "id": "a3363838",
   "metadata": {},
   "outputs": [
    {
     "data": {
      "text/html": [
       "<div>\n",
       "<style scoped>\n",
       "    .dataframe tbody tr th:only-of-type {\n",
       "        vertical-align: middle;\n",
       "    }\n",
       "\n",
       "    .dataframe tbody tr th {\n",
       "        vertical-align: top;\n",
       "    }\n",
       "\n",
       "    .dataframe thead th {\n",
       "        text-align: right;\n",
       "    }\n",
       "</style>\n",
       "<table border=\"1\" class=\"dataframe\">\n",
       "  <thead>\n",
       "    <tr style=\"text-align: right;\">\n",
       "      <th></th>\n",
       "      <th>CountryName</th>\n",
       "      <th>CountryCode</th>\n",
       "      <th>IndicatorName</th>\n",
       "      <th>IndicatorCode</th>\n",
       "      <th>Year</th>\n",
       "      <th>Value</th>\n",
       "    </tr>\n",
       "  </thead>\n",
       "  <tbody>\n",
       "    <tr>\n",
       "      <th>5701</th>\n",
       "      <td>Brazil</td>\n",
       "      <td>BRA</td>\n",
       "      <td>Gross domestic income (constant LCU)</td>\n",
       "      <td>NY.GDY.TOTL.KN</td>\n",
       "      <td>1960</td>\n",
       "      <td>2.000133e+11</td>\n",
       "    </tr>\n",
       "    <tr>\n",
       "      <th>29790</th>\n",
       "      <td>Brazil</td>\n",
       "      <td>BRA</td>\n",
       "      <td>Gross domestic income (constant LCU)</td>\n",
       "      <td>NY.GDY.TOTL.KN</td>\n",
       "      <td>1961</td>\n",
       "      <td>2.189879e+11</td>\n",
       "    </tr>\n",
       "  </tbody>\n",
       "</table>\n",
       "</div>"
      ],
      "text/plain": [
       "      CountryName CountryCode                         IndicatorName  \\\n",
       "5701       Brazil         BRA  Gross domestic income (constant LCU)   \n",
       "29790      Brazil         BRA  Gross domestic income (constant LCU)   \n",
       "\n",
       "        IndicatorCode  Year         Value  \n",
       "5701   NY.GDY.TOTL.KN  1960  2.000133e+11  \n",
       "29790  NY.GDY.TOTL.KN  1961  2.189879e+11  "
      ]
     },
     "execution_count": 39,
     "metadata": {},
     "output_type": "execute_result"
    }
   ],
   "source": [
    "df_gross_domestic_income_LCU.head(2)"
   ]
  },
  {
   "cell_type": "code",
   "execution_count": 40,
   "id": "9655fe72",
   "metadata": {},
   "outputs": [
    {
     "data": {
      "text/plain": [
       "CountryName      True\n",
       "CountryCode      True\n",
       "IndicatorName    True\n",
       "IndicatorCode    True\n",
       "Year             True\n",
       "Value            True\n",
       "dtype: bool"
      ]
     },
     "execution_count": 40,
     "metadata": {},
     "output_type": "execute_result"
    }
   ],
   "source": [
    "#Cheking for Null values\n",
    "\n",
    "not_null = 0\n",
    "not_null == df_expenditure.isnull().sum() & df_life_expectancy.isnull().sum() & df_gross_domestic_income_LCU.isnull().sum()"
   ]
  },
  {
   "cell_type": "markdown",
   "id": "137be7e9",
   "metadata": {},
   "source": [
    "### aqui detalhar - Expenditure on Education"
   ]
  },
  {
   "cell_type": "code",
   "execution_count": null,
   "id": "31559dcc",
   "metadata": {},
   "outputs": [],
   "source": []
  },
  {
   "cell_type": "code",
   "execution_count": null,
   "id": "3fa3c412",
   "metadata": {},
   "outputs": [],
   "source": []
  },
  {
   "cell_type": "code",
   "execution_count": null,
   "id": "746069cd",
   "metadata": {},
   "outputs": [],
   "source": []
  },
  {
   "cell_type": "code",
   "execution_count": null,
   "id": "c36a78aa",
   "metadata": {},
   "outputs": [],
   "source": []
  },
  {
   "cell_type": "code",
   "execution_count": null,
   "id": "c8d0c61a",
   "metadata": {},
   "outputs": [],
   "source": []
  },
  {
   "cell_type": "code",
   "execution_count": null,
   "id": "8e337263",
   "metadata": {},
   "outputs": [],
   "source": []
  },
  {
   "cell_type": "code",
   "execution_count": null,
   "id": "97d7469f",
   "metadata": {},
   "outputs": [],
   "source": []
  },
  {
   "cell_type": "code",
   "execution_count": null,
   "id": "cda374e2",
   "metadata": {},
   "outputs": [],
   "source": []
  },
  {
   "cell_type": "code",
   "execution_count": null,
   "id": "82386b1c",
   "metadata": {},
   "outputs": [],
   "source": []
  },
  {
   "cell_type": "code",
   "execution_count": null,
   "id": "5ad6188e",
   "metadata": {},
   "outputs": [],
   "source": []
  },
  {
   "cell_type": "code",
   "execution_count": null,
   "id": "80ddfe17",
   "metadata": {},
   "outputs": [],
   "source": []
  },
  {
   "cell_type": "code",
   "execution_count": null,
   "id": "2d36331b",
   "metadata": {},
   "outputs": [],
   "source": []
  },
  {
   "cell_type": "code",
   "execution_count": null,
   "id": "c9805aea",
   "metadata": {},
   "outputs": [],
   "source": []
  },
  {
   "cell_type": "code",
   "execution_count": null,
   "id": "f561b0af",
   "metadata": {},
   "outputs": [],
   "source": []
  },
  {
   "cell_type": "code",
   "execution_count": null,
   "id": "bfb1cc3b",
   "metadata": {},
   "outputs": [],
   "source": []
  },
  {
   "cell_type": "code",
   "execution_count": null,
   "id": "2fdb56ba",
   "metadata": {},
   "outputs": [],
   "source": []
  },
  {
   "cell_type": "code",
   "execution_count": null,
   "id": "3931a75d",
   "metadata": {},
   "outputs": [],
   "source": []
  },
  {
   "cell_type": "code",
   "execution_count": null,
   "id": "a45d8479",
   "metadata": {},
   "outputs": [],
   "source": []
  },
  {
   "cell_type": "code",
   "execution_count": null,
   "id": "fa53e20d",
   "metadata": {},
   "outputs": [],
   "source": []
  },
  {
   "cell_type": "code",
   "execution_count": null,
   "id": "184b875b",
   "metadata": {},
   "outputs": [],
   "source": []
  },
  {
   "cell_type": "code",
   "execution_count": null,
   "id": "d80fba39",
   "metadata": {},
   "outputs": [],
   "source": []
  },
  {
   "cell_type": "code",
   "execution_count": null,
   "id": "00d65eea",
   "metadata": {},
   "outputs": [],
   "source": []
  },
  {
   "cell_type": "code",
   "execution_count": null,
   "id": "68e84186",
   "metadata": {},
   "outputs": [],
   "source": []
  },
  {
   "cell_type": "code",
   "execution_count": 21,
   "id": "ee9a7a21",
   "metadata": {},
   "outputs": [
    {
     "data": {
      "application/vnd.plotly.v1+json": {
       "config": {
        "plotlyServerURL": "https://plot.ly"
       },
       "data": [
        {
         "hovertemplate": "<b>%{hovertext}</b><br><br>Continent_Name=Oceania<br>Year=1995<br>gdi_value=%{marker.size}<br>ExpenditureEducationValue=%{y}<extra></extra>",
         "hovertext": [
          "Australia"
         ],
         "ids": [
          "Oceania"
         ],
         "legendgroup": "Oceania",
         "marker": {
          "color": "#636efa",
          "size": [
           792272165199.3579
          ],
          "sizemode": "area",
          "sizeref": 3783796695310.0737,
          "symbol": "circle"
         },
         "mode": "markers",
         "name": "Oceania",
         "orientation": "v",
         "showlegend": true,
         "type": "scatter",
         "x": [
          792272165199.3579
         ],
         "xaxis": "x",
         "y": [
          14.11191
         ],
         "yaxis": "y"
        }
       ],
       "frames": [
        {
         "data": [
          {
           "hovertemplate": "<b>%{hovertext}</b><br><br>Continent_Name=Oceania<br>Year=1995<br>gdi_value=%{marker.size}<br>ExpenditureEducationValue=%{y}<extra></extra>",
           "hovertext": [
            "Australia"
           ],
           "ids": [
            "Oceania"
           ],
           "legendgroup": "Oceania",
           "marker": {
            "color": "#636efa",
            "size": [
             792272165199.3579
            ],
            "sizemode": "area",
            "sizeref": 3783796695310.0737,
            "symbol": "circle"
           },
           "mode": "markers",
           "name": "Oceania",
           "orientation": "v",
           "showlegend": true,
           "type": "scatter",
           "x": [
            792272165199.3579
           ],
           "xaxis": "x",
           "y": [
            14.11191
           ],
           "yaxis": "y"
          }
         ],
         "name": "1995"
        },
        {
         "data": [
          {
           "hovertemplate": "<b>%{hovertext}</b><br><br>Continent_Name=Europe<br>Year=1997<br>gdi_value=%{marker.size}<br>ExpenditureEducationValue=%{y}<extra></extra>",
           "hovertext": [
            "Ukraine",
            "Norway",
            "Slovak Republic",
            "Estonia",
            "Albania"
           ],
           "ids": [
            "Europe",
            "Europe",
            "Europe",
            "Europe",
            "Europe"
           ],
           "legendgroup": "Europe",
           "marker": {
            "color": "#EF553B",
            "size": [
             217815617353.89105,
             1683966041422.88,
             41506108447.7523,
             8447909557.683809,
             308169209964.987
            ],
            "sizemode": "area",
            "sizeref": 3783796695310.0737,
            "symbol": "circle"
           },
           "mode": "markers",
           "name": "Europe",
           "orientation": "v",
           "showlegend": true,
           "type": "scatter",
           "x": [
            217815617353.89105,
            1683966041422.88,
            41506108447.7523,
            8447909557.683809,
            308169209964.987
           ],
           "xaxis": "x",
           "y": [
            12.92467,
            15.90564,
            8.55968,
            17.85775,
            11.15339
           ],
           "yaxis": "y"
          },
          {
           "hovertemplate": "<b>%{hovertext}</b><br><br>Continent_Name=Africa<br>Year=1997<br>gdi_value=%{marker.size}<br>ExpenditureEducationValue=%{y}<extra></extra>",
           "hovertext": [
            "Tunisia",
            "Chad",
            "Madagascar"
           ],
           "ids": [
            "Africa",
            "Africa",
            "Africa"
           ],
           "legendgroup": "Africa",
           "marker": {
            "color": "#00cc96",
            "size": [
             35994660995.426,
             1685776508635.88,
             394967789644.196
            ],
            "sizemode": "area",
            "sizeref": 3783796695310.0737,
            "symbol": "circle"
           },
           "mode": "markers",
           "name": "Africa",
           "orientation": "v",
           "showlegend": true,
           "type": "scatter",
           "x": [
            35994660995.426,
            1685776508635.88,
            394967789644.196
           ],
           "xaxis": "x",
           "y": [
            26.21273,
            12.89866,
            10.51932
           ],
           "yaxis": "y"
          },
          {
           "hovertemplate": "<b>%{hovertext}</b><br><br>Continent_Name=Asia<br>Year=1997<br>gdi_value=%{marker.size}<br>ExpenditureEducationValue=%{y}<extra></extra>",
           "hovertext": [
            "Philippines",
            "Malaysia",
            "Jordan",
            "India"
           ],
           "ids": [
            "Asia",
            "Asia",
            "Asia",
            "Asia"
           ],
           "legendgroup": "Asia",
           "marker": {
            "color": "#ab63fa",
            "size": [
             3113631749014.3,
             450554021062.704,
             4807814033.7739,
             34039508443986.3
            ],
            "sizemode": "area",
            "sizeref": 3783796695310.0737,
            "symbol": "circle"
           },
           "mode": "markers",
           "name": "Asia",
           "orientation": "v",
           "showlegend": true,
           "type": "scatter",
           "x": [
            3113631749014.3,
            450554021062.704,
            4807814033.7739,
            34039508443986.3
           ],
           "xaxis": "x",
           "y": [
            15.3684,
            18.98457,
            18.41103,
            10.74361
           ],
           "yaxis": "y"
          },
          {
           "hovertemplate": "<b>%{hovertext}</b><br><br>Continent_Name=North America<br>Year=1997<br>gdi_value=%{marker.size}<br>ExpenditureEducationValue=%{y}<extra></extra>",
           "hovertext": [
            "Panama"
           ],
           "ids": [
            "North America"
           ],
           "legendgroup": "North America",
           "marker": {
            "color": "#FFA15A",
            "size": [
             12458028468.7765
            ],
            "sizemode": "area",
            "sizeref": 3783796695310.0737,
            "symbol": "circle"
           },
           "mode": "markers",
           "name": "North America",
           "orientation": "v",
           "showlegend": true,
           "type": "scatter",
           "x": [
            12458028468.7765
           ],
           "xaxis": "x",
           "y": [
            17.35391
           ],
           "yaxis": "y"
          },
          {
           "hovertemplate": "<b>%{hovertext}</b><br><br>Continent_Name=South America<br>Year=1997<br>gdi_value=%{marker.size}<br>ExpenditureEducationValue=%{y}<extra></extra>",
           "hovertext": [
            "Chile"
           ],
           "ids": [
            "South America"
           ],
           "legendgroup": "South America",
           "marker": {
            "color": "#19d3f3",
            "size": [
             56436552804954.2
            ],
            "sizemode": "area",
            "sizeref": 3783796695310.0737,
            "symbol": "circle"
           },
           "mode": "markers",
           "name": "South America",
           "orientation": "v",
           "showlegend": true,
           "type": "scatter",
           "x": [
            56436552804954.2
           ],
           "xaxis": "x",
           "y": [
            14.44519
           ],
           "yaxis": "y"
          }
         ],
         "name": "1997"
        },
        {
         "data": [
          {
           "hovertemplate": "<b>%{hovertext}</b><br><br>Continent_Name=Europe<br>Year=1998<br>gdi_value=%{marker.size}<br>ExpenditureEducationValue=%{y}<extra></extra>",
           "hovertext": [
            "Netherlands",
            "Ireland",
            "Italy",
            "Latvia",
            "Norway",
            "Poland",
            "Spain",
            "Sweden",
            "Switzerland",
            "Iceland",
            "Ukraine",
            "United Kingdom",
            "Hungary",
            "Germany",
            "Greece",
            "Albania",
            "Austria",
            "France",
            "Estonia",
            "Denmark",
            "Czech Republic"
           ],
           "ids": [
            "Europe",
            "Europe",
            "Europe",
            "Europe",
            "Europe",
            "Europe",
            "Europe",
            "Europe",
            "Europe",
            "Europe",
            "Europe",
            "Europe",
            "Europe",
            "Europe",
            "Europe",
            "Europe",
            "Europe",
            "Europe",
            "Europe",
            "Europe",
            "Europe"
           ],
           "legendgroup": "Europe",
           "marker": {
            "color": "#EF553B",
            "size": [
             503129224076.301,
             105867166792.702,
             1506183105017.8,
             11323965882.9126,
             1683571621036.6,
             787788183230.4209,
             782355630019.4829,
             2705357856027.9,
             478662023146.324,
             1232114065988.09,
             217450672415.575,
             1236791528226.39,
             20850782988185.6,
             2262691160785.06,
             177154395904.258,
             335850791157.325,
             240082781647.362,
             1659106637699.73,
             8776422186.150959,
             1528609092187.47,
             2740570916769.03
            ],
            "sizemode": "area",
            "sizeref": 3783796695310.0737,
            "symbol": "circle"
           },
           "mode": "markers",
           "name": "Europe",
           "orientation": "v",
           "showlegend": true,
           "type": "scatter",
           "x": [
            503129224076.301,
            105867166792.702,
            1506183105017.8,
            11323965882.9126,
            1683571621036.6,
            787788183230.4209,
            782355630019.4829,
            2705357856027.9,
            478662023146.324,
            1232114065988.09,
            217450672415.575,
            1236791528226.39,
            20850782988185.6,
            2262691160785.06,
            177154395904.258,
            335850791157.325,
            240082781647.362,
            1659106637699.73,
            8776422186.150959,
            1528609092187.47,
            2740570916769.03
           ],
           "xaxis": "x",
           "y": [
            10.58261,
            12.38154,
            9.27408,
            11.00897,
            15.24957,
            11.27881,
            10.50367,
            12.77153,
            14.15674,
            16.71814,
            11.59928,
            12.25563,
            9.45664,
            9.55467,
            6.701,
            9.62407,
            11.74834,
            10.81141,
            16.16829,
            14.63437,
            8.71825
           ],
           "yaxis": "y"
          },
          {
           "hovertemplate": "<b>%{hovertext}</b><br><br>Continent_Name=Africa<br>Year=1998<br>gdi_value=%{marker.size}<br>ExpenditureEducationValue=%{y}<extra></extra>",
           "hovertext": [
            "Mozambique",
            "Madagascar",
            "Tanzania",
            "Seychelles",
            "Togo",
            "Morocco",
            "Benin",
            "Chad",
            "Comoros",
            "Gabon",
            "Equatorial Guinea",
            "Eritrea",
            "Congo, Rep."
           ],
           "ids": [
            "Africa",
            "Africa",
            "Africa",
            "Africa",
            "Africa",
            "Africa",
            "Africa",
            "Africa",
            "Africa",
            "Africa",
            "Africa",
            "Africa",
            "Africa"
           ],
           "legendgroup": "Africa",
           "marker": {
            "color": "#00cc96",
            "size": [
             132055561392.16,
             417111469719.26,
             14844835172086,
             3929110758.58208,
             917887977490.694,
             462789845410.67896,
             2044689345669.66,
             1802490058349.32,
             70067104300.138,
             3151146494927.83,
             435841929218.375,
             7009378097.80044,
             684026925881.794
            ],
            "sizemode": "area",
            "sizeref": 3783796695310.0737,
            "symbol": "circle"
           },
           "mode": "markers",
           "name": "Africa",
           "orientation": "v",
           "showlegend": true,
           "type": "scatter",
           "x": [
            132055561392.16,
            417111469719.26,
            14844835172086,
            3929110758.58208,
            917887977490.694,
            462789845410.67896,
            2044689345669.66,
            1802490058349.32,
            70067104300.138,
            3151146494927.83,
            435841929218.375,
            7009378097.80044,
            684026925881.794
           ],
           "xaxis": "x",
           "y": [
            12.05375,
            9.2725,
            11.79397,
            9.87257,
            20.98232,
            25.21153,
            15.16716,
            11.07153,
            15.65296,
            7.05811,
            6.19878,
            6.25092,
            13.74414
           ],
           "yaxis": "y"
          },
          {
           "hovertemplate": "<b>%{hovertext}</b><br><br>Continent_Name=Asia<br>Year=1998<br>gdi_value=%{marker.size}<br>ExpenditureEducationValue=%{y}<extra></extra>",
           "hovertext": [
            "Japan",
            "India",
            "Tajikistan",
            "Thailand",
            "Philippines",
            "Brunei Darussalam",
            "Cambodia",
            "China"
           ],
           "ids": [
            "Asia",
            "Asia",
            "Asia",
            "Asia",
            "Asia",
            "Asia",
            "Asia",
            "Asia"
           ],
           "legendgroup": "Asia",
           "marker": {
            "color": "#ab63fa",
            "size": [
             456018738981441,
             36314032894848.2,
             1260010828.5761,
             5022186542178.97,
             3254507411458.21,
             7902166848.30421,
             11564702552918.7,
             8710002554938.65
            ],
            "sizemode": "area",
            "sizeref": 3783796695310.0737,
            "symbol": "circle"
           },
           "mode": "markers",
           "name": "Asia",
           "orientation": "v",
           "showlegend": true,
           "type": "scatter",
           "x": [
            456018738981441,
            36314032894848.2,
            1260010828.5761,
            5022186542178.97,
            3254507411458.21,
            7902166848.30421,
            11564702552918.7,
            8710002554938.65
           ],
           "xaxis": "x",
           "y": [
            10.2068,
            14.77775,
            15.07245,
            19.481,
            18.18099,
            8.76089,
            9.392,
            14.55141
           ],
           "yaxis": "y"
          },
          {
           "hovertemplate": "<b>%{hovertext}</b><br><br>Continent_Name=North America<br>Year=1998<br>gdi_value=%{marker.size}<br>ExpenditureEducationValue=%{y}<extra></extra>",
           "hovertext": [
            "Mexico",
            "Nicaragua",
            "Canada",
            "El Salvador"
           ],
           "ids": [
            "North America",
            "North America",
            "North America",
            "North America"
           ],
           "legendgroup": "North America",
           "marker": {
            "color": "#FFA15A",
            "size": [
             8984020832381.5,
             92986926420.1325,
             1174106811859.9,
             7355954535.043
            ],
            "sizemode": "area",
            "sizeref": 3783796695310.0737,
            "symbol": "circle"
           },
           "mode": "markers",
           "name": "North America",
           "orientation": "v",
           "showlegend": true,
           "type": "scatter",
           "x": [
            8984020832381.5,
            92986926420.1325,
            1174106811859.9,
            7355954535.043
           ],
           "xaxis": "x",
           "y": [
            15.78813,
            13.38182,
            12.52588,
            13.91532
           ],
           "yaxis": "y"
          },
          {
           "hovertemplate": "<b>%{hovertext}</b><br><br>Continent_Name=South America<br>Year=1998<br>gdi_value=%{marker.size}<br>ExpenditureEducationValue=%{y}<extra></extra>",
           "hovertext": [
            "Argentina",
            "Bolivia",
            "Chile",
            "Brazil",
            "Colombia",
            "Ecuador"
           ],
           "ids": [
            "South America",
            "South America",
            "South America",
            "South America",
            "South America",
            "South America"
           ],
           "legendgroup": "South America",
           "marker": {
            "color": "#19d3f3",
            "size": [
             550433413689.315,
             20694145154.1015,
             57726530698023.6,
             1162463096614.04,
             278261365481659,
             35626141629.2774
            ],
            "sizemode": "area",
            "sizeref": 3783796695310.0737,
            "symbol": "circle"
           },
           "mode": "markers",
           "name": "South America",
           "orientation": "v",
           "showlegend": true,
           "type": "scatter",
           "x": [
            550433413689.315,
            20694145154.1015,
            57726530698023.6,
            1162463096614.04,
            278261365481659,
            35626141629.2774
           ],
           "xaxis": "x",
           "y": [
            15.62227,
            18.42669,
            15.12567,
            11.62986,
            12.47536,
            10.92916
           ],
           "yaxis": "y"
          }
         ],
         "name": "1998"
        },
        {
         "data": [
          {
           "hovertemplate": "<b>%{hovertext}</b><br><br>Continent_Name=Oceania<br>Year=1999<br>gdi_value=%{marker.size}<br>ExpenditureEducationValue=%{y}<extra></extra>",
           "hovertext": [
            "New Zealand",
            "Samoa"
           ],
           "ids": [
            "Oceania",
            "Oceania"
           ],
           "legendgroup": "Oceania",
           "marker": {
            "color": "#636efa",
            "size": [
             145071700557.393,
             1127227393.9737802
            ],
            "sizemode": "area",
            "sizeref": 3783796695310.0737,
            "symbol": "circle"
           },
           "mode": "markers",
           "name": "Oceania",
           "orientation": "v",
           "showlegend": true,
           "type": "scatter",
           "x": [
            145071700557.393,
            1127227393.9737802
           ],
           "xaxis": "x",
           "y": [
            18.5353202819824,
            13.4171695709229
           ],
           "yaxis": "y"
          },
          {
           "hovertemplate": "<b>%{hovertext}</b><br><br>Continent_Name=Europe<br>Year=1999<br>gdi_value=%{marker.size}<br>ExpenditureEducationValue=%{y}<extra></extra>",
           "hovertext": [
            "Netherlands",
            "Moldova",
            "Latvia",
            "Norway",
            "Poland",
            "United Kingdom",
            "Ukraine",
            "Sweden",
            "Spain",
            "Slovak Republic",
            "Portugal",
            "Italy",
            "Estonia",
            "Austria",
            "Albania",
            "Ireland",
            "Cyprus",
            "Iceland",
            "Hungary",
            "France",
            "Greece",
            "Czech Republic",
            "Finland",
            "Denmark"
           ],
           "ids": [
            "Europe",
            "Europe",
            "Europe",
            "Europe",
            "Europe",
            "Europe",
            "Europe",
            "Europe",
            "Europe",
            "Europe",
            "Europe",
            "Europe",
            "Europe",
            "Europe",
            "Europe",
            "Europe",
            "Europe",
            "Europe",
            "Europe",
            "Europe",
            "Europe",
            "Europe",
            "Europe",
            "Europe"
           ],
           "legendgroup": "Europe",
           "marker": {
            "color": "#EF553B",
            "size": [
             527302527180.875,
             7426574610.88292,
             11766248025.8341,
             1778395090542.38,
             820459442595.93,
             1278983007671.49,
             216634217488.70105,
             2800062368205.45,
             817371608659.772,
             42212471541.152,
             161184753601.84302,
             1527874194211.94,
             8677409363.70384,
             248315779290.566,
             381600582978.778,
             117505948511.727,
             11587839229.0908,
             1278360416184.07,
             21503271801209.2,
             1716821705936.54,
             182705492172.10895,
             2772824498654.16,
             157276430509.314,
             1568650400839.86
            ],
            "sizemode": "area",
            "sizeref": 3783796695310.0737,
            "symbol": "circle"
           },
           "mode": "markers",
           "name": "Europe",
           "orientation": "v",
           "showlegend": true,
           "type": "scatter",
           "x": [
            527302527180.875,
            7426574610.88292,
            11766248025.8341,
            1778395090542.38,
            820459442595.93,
            1278983007671.49,
            216634217488.70105,
            2800062368205.45,
            817371608659.772,
            42212471541.152,
            161184753601.84302,
            1527874194211.94,
            8677409363.70384,
            248315779290.566,
            381600582978.778,
            117505948511.727,
            11587839229.0908,
            1278360416184.07,
            21503271801209.2,
            1716821705936.54,
            182705492172.10895,
            2772824498654.16,
            157276430509.314,
            1568650400839.86
           ],
           "xaxis": "x",
           "y": [
            10.483220100402802,
            13.876810073852502,
            9.90668964385986,
            14.8547096252441,
            10.891900062561,
            11.8016796112061,
            13.5341701507568,
            12.480170249939,
            10.7139596939087,
            8.61408042907715,
            11.8566303253174,
            9.54946994781494,
            16.507259368896502,
            11.8415603637695,
            9.68245983123779,
            12.1824398040771,
            13.804920196533198,
            15.5828399658203,
            9.9337100982666,
            10.8444795608521,
            6.9031400680542,
            9.10618019104004,
            11.7600603103638,
            14.5437097549438
           ],
           "yaxis": "y"
          },
          {
           "hovertemplate": "<b>%{hovertext}</b><br><br>Continent_Name=Africa<br>Year=1999<br>gdi_value=%{marker.size}<br>ExpenditureEducationValue=%{y}<extra></extra>",
           "hovertext": [
            "Morocco",
            "Namibia",
            "Mozambique",
            "Madagascar",
            "Lesotho",
            "Kenya",
            "Togo",
            "Tunisia",
            "Swaziland",
            "Seychelles",
            "Rwanda",
            "Chad",
            "Burundi",
            "Benin",
            "Guinea",
            "Gabon",
            "Eritrea",
            "Djibouti"
           ],
           "ids": [
            "Africa",
            "Africa",
            "Africa",
            "Africa",
            "Africa",
            "Africa",
            "Africa",
            "Africa",
            "Africa",
            "Africa",
            "Africa",
            "Africa",
            "Africa",
            "Africa",
            "Africa",
            "Africa",
            "Africa",
            "Africa"
           ],
           "legendgroup": "Africa",
           "marker": {
            "color": "#00cc96",
            "size": [
             465968317562.196,
             44323393947.4389,
             142648874503.108,
             432436052244.156,
             7015317706.90164,
             1960062554340.17,
             940119819710.372,
             39778995657.7769,
             29332051381.648,
             3944503764.1324296,
             1507056041625.56,
             1788615481984.81,
             1084636333340.99,
             1986904449683.22,
             5909388942944.39,
             3299412478123.37,
             7012823827.82601,
             66858609964.4454
            ],
            "sizemode": "area",
            "sizeref": 3783796695310.0737,
            "symbol": "circle"
           },
           "mode": "markers",
           "name": "Africa",
           "orientation": "v",
           "showlegend": true,
           "type": "scatter",
           "x": [
            465968317562.196,
            44323393947.4389,
            142648874503.108,
            432436052244.156,
            7015317706.90164,
            1960062554340.17,
            940119819710.372,
            39778995657.7769,
            29332051381.648,
            3944503764.1324296,
            1507056041625.56,
            1788615481984.81,
            1084636333340.99,
            1986904449683.22,
            5909388942944.39,
            3299412478123.37,
            7012823827.82601,
            66858609964.4454
           ],
           "xaxis": "x",
           "y": [
            25.7684707641602,
            23.0427703857422,
            16.923320770263697,
            15.35608959198,
            32.867111206054695,
            24.1160202026367,
            23.418760299682603,
            25.1503105163574,
            20.875310897827102,
            9.37376022338867,
            21.909420013427702,
            17.0599803924561,
            13.7102603912354,
            14.693510055542,
            14.6584701538086,
            11.3481597900391,
            5.5655398368835405,
            22.896070480346697
           ],
           "yaxis": "y"
          },
          {
           "hovertemplate": "<b>%{hovertext}</b><br><br>Continent_Name=Asia<br>Year=1999<br>gdi_value=%{marker.size}<br>ExpenditureEducationValue=%{y}<extra></extra>",
           "hovertext": [
            "Malaysia",
            "Jordan",
            "Pakistan",
            "Japan",
            "Thailand",
            "Tajikistan",
            "Iran, Islamic Rep.",
            "China",
            "Brunei Darussalam",
            "Bangladesh",
            "Cyprus",
            "India"
           ],
           "ids": [
            "Asia",
            "Asia",
            "Asia",
            "Asia",
            "Asia",
            "Asia",
            "Asia",
            "Asia",
            "Asia",
            "Asia",
            "Asia",
            "Asia"
           ],
           "legendgroup": "Asia",
           "marker": {
            "color": "#ab63fa",
            "size": [
             431638206122.331,
             5105703741.01293,
             6202272837042.36,
             455136546028398,
             5120311470737.82,
             1531862594.50175,
             1101120211226170,
             9261972327537.09,
             8388600461.261259,
             3359729157818.34,
             11587839229.0908,
             39050424260047
            ],
            "sizemode": "area",
            "sizeref": 3783796695310.0737,
            "symbol": "circle"
           },
           "mode": "markers",
           "name": "Asia",
           "orientation": "v",
           "showlegend": true,
           "type": "scatter",
           "x": [
            431638206122.331,
            5105703741.01293,
            6202272837042.36,
            455136546028398,
            5120311470737.82,
            1531862594.50175,
            1101120211226170,
            9261972327537.09,
            8388600461.261259,
            3359729157818.34,
            11587839229.0908,
            39050424260047
           ],
           "xaxis": "x",
           "y": [
            21.188550949096697,
            14.6642599105835,
            11.3073301315308,
            10.3342504501343,
            18.9790191650391,
            11.8343896865845,
            20.1129207611083,
            12.6315603256226,
            8.89342975616455,
            18.129789352417,
            13.804920196533198,
            17.6434097290039
           ],
           "yaxis": "y"
          },
          {
           "hovertemplate": "<b>%{hovertext}</b><br><br>Continent_Name=North America<br>Year=1999<br>gdi_value=%{marker.size}<br>ExpenditureEducationValue=%{y}<extra></extra>",
           "hovertext": [
            "Nicaragua",
            "Mexico",
            "Trinidad and Tobago",
            "Panama",
            "Canada",
            "Belize",
            "Barbados",
            "Costa Rica",
            "El Salvador"
           ],
           "ids": [
            "North America",
            "North America",
            "North America",
            "North America",
            "North America",
            "North America",
            "North America",
            "North America",
            "North America"
           ],
           "legendgroup": "North America",
           "marker": {
            "color": "#FFA15A",
            "size": [
             96812368073.537,
             9336944776119.12,
             46849466331.0258,
             13764475710.1628,
             1234042754858.81,
             1496103747.1033,
             1056163346.61355,
             1467709308984.86,
             7508433742.19927
            ],
            "sizemode": "area",
            "sizeref": 3783796695310.0737,
            "symbol": "circle"
           },
           "mode": "markers",
           "name": "North America",
           "orientation": "v",
           "showlegend": true,
           "type": "scatter",
           "x": [
            96812368073.537,
            9336944776119.12,
            46849466331.0258,
            13764475710.1628,
            1234042754858.81,
            1496103747.1033,
            1056163346.61355,
            1467709308984.86,
            7508433742.19927
           ],
           "xaxis": "x",
           "y": [
            14.7167997360229,
            16.3431797027588,
            9.70981979370117,
            18.9731502532958,
            12.445650100708,
            18.8941497802734,
            13.1466798782349,
            21.9236907958984,
            13.6080198287964
           ],
           "yaxis": "y"
          },
          {
           "hovertemplate": "<b>%{hovertext}</b><br><br>Continent_Name=South America<br>Year=1999<br>gdi_value=%{marker.size}<br>ExpenditureEducationValue=%{y}<extra></extra>",
           "hovertext": [
            "Chile",
            "Brazil",
            "Bolivia",
            "Argentina",
            "Colombia",
            "Ecuador"
           ],
           "ids": [
            "South America",
            "South America",
            "South America",
            "South America",
            "South America",
            "South America"
           ],
           "legendgroup": "South America",
           "marker": {
            "color": "#19d3f3",
            "size": [
             57112604576784.7,
             1156533650936.04,
             20810491069.998,
             527168898695.39,
             266726956904208,
             33834396760.1404
            ],
            "sizemode": "area",
            "sizeref": 3783796695310.0737,
            "symbol": "circle"
           },
           "mode": "markers",
           "name": "South America",
           "orientation": "v",
           "showlegend": true,
           "type": "scatter",
           "x": [
            57112604576784.7,
            1156533650936.04,
            20810491069.998,
            527168898695.39,
            266726956904208,
            33834396760.1404
           ],
           "xaxis": "x",
           "y": [
            15.6332197189331,
            9.60027027130126,
            19.272409439086896,
            15.880089759826696,
            13.1519298553467,
            6.71590995788574
           ],
           "yaxis": "y"
          }
         ],
         "name": "1999"
        },
        {
         "data": [
          {
           "hovertemplate": "<b>%{hovertext}</b><br><br>Continent_Name=Oceania<br>Year=2000<br>gdi_value=%{marker.size}<br>ExpenditureEducationValue=%{y}<extra></extra>",
           "hovertext": [
            "Samoa",
            "Australia"
           ],
           "ids": [
            "Oceania",
            "Oceania"
           ],
           "legendgroup": "Oceania",
           "marker": {
            "color": "#636efa",
            "size": [
             1205217829.4541,
             968051844650.612
            ],
            "sizemode": "area",
            "sizeref": 3783796695310.0737,
            "symbol": "circle"
           },
           "mode": "markers",
           "name": "Oceania",
           "orientation": "v",
           "showlegend": true,
           "type": "scatter",
           "x": [
            1205217829.4541,
            968051844650.612
           ],
           "xaxis": "x",
           "y": [
            10.4612998962402,
            13.590229988098098
           ],
           "yaxis": "y"
          },
          {
           "hovertemplate": "<b>%{hovertext}</b><br><br>Continent_Name=Europe<br>Year=2000<br>gdi_value=%{marker.size}<br>ExpenditureEducationValue=%{y}<extra></extra>",
           "hovertext": [
            "Netherlands",
            "Norway",
            "Moldova",
            "Latvia",
            "Poland",
            "Russian Federation",
            "Italy",
            "United Kingdom",
            "Ukraine",
            "Sweden",
            "Spain",
            "Slovak Republic",
            "Portugal",
            "Azerbaijan",
            "Austria",
            "Ireland",
            "Albania",
            "Iceland",
            "Hungary",
            "Greece",
            "France",
            "Georgia",
            "Estonia",
            "Denmark",
            "Czech Republic",
            "Finland",
            "Cyprus"
           ],
           "ids": [
            "Europe",
            "Europe",
            "Europe",
            "Europe",
            "Europe",
            "Europe",
            "Europe",
            "Europe",
            "Europe",
            "Europe",
            "Europe",
            "Europe",
            "Europe",
            "Europe",
            "Europe",
            "Europe",
            "Europe",
            "Europe",
            "Europe",
            "Europe",
            "Europe",
            "Europe",
            "Europe",
            "Europe",
            "Europe",
            "Europe",
            "Europe"
           ],
           "legendgroup": "Europe",
           "marker": {
            "color": "#EF553B",
            "size": [
             548825895555.261,
             2004934515984,
             7506547710.239679,
             12142896201.5666,
             842217632844.067,
             7305600000000,
             1563257525674.56,
             1324755948010.06,
             231232460972.34305,
             2916939895354.71,
             852423961782.193,
             43471768498.0099,
             166204614629.257,
             4664772101.078361,
             255897114033.564,
             129276347678.702,
             407197938271.77,
             1321978117834.7,
             22268466402456.1,
             189605066849.982,
             1772295006186.8,
             4617992104.57067,
             9879722861.289291,
             1627139670019.74,
             2860705393725.2,
             164594994736.84198,
             12234175056.7365
            ],
            "sizemode": "area",
            "sizeref": 3783796695310.0737,
            "symbol": "circle"
           },
           "mode": "markers",
           "name": "Europe",
           "orientation": "v",
           "showlegend": true,
           "type": "scatter",
           "x": [
            548825895555.261,
            2004934515984,
            7506547710.239679,
            12142896201.5666,
            842217632844.067,
            7305600000000,
            1563257525674.56,
            1324755948010.06,
            231232460972.34305,
            2916939895354.71,
            852423961782.193,
            43471768498.0099,
            166204614629.257,
            4664772101.078361,
            255897114033.564,
            129276347678.702,
            407197938271.77,
            1321978117834.7,
            22268466402456.1,
            189605066849.982,
            1772295006186.8,
            4617992104.57067,
            9879722861.289291,
            1627139670019.74,
            2860705393725.2,
            164594994736.84198,
            12234175056.7365
           ],
           "xaxis": "x",
           "y": [
            11.0733203887939,
            15.4864597320557,
            12.9987297058105,
            10.2619895935059,
            12.1989097595215,
            8.951849937438961,
            9.44847011566162,
            12.060150146484402,
            11.3589696884155,
            13.0055503845215,
            10.6844501495361,
            7.47054004669189,
            12.10435962677,
            18.4979991912842,
            11.1235904693604,
            13.3886098861694,
            10.1370296478271,
            15.7508201599121,
            10.0930595397949,
            7.076590061187741,
            10.7899503707886,
            12.5407199859619,
            14.8104400634766,
            15.3441495895386,
            9.19001007080078,
            12.1709203720093,
            14.3340797424316
           ],
           "yaxis": "y"
          },
          {
           "hovertemplate": "<b>%{hovertext}</b><br><br>Continent_Name=Africa<br>Year=2000<br>gdi_value=%{marker.size}<br>ExpenditureEducationValue=%{y}<extra></extra>",
           "hovertext": [
            "Namibia",
            "Morocco",
            "Mauritius",
            "Mali",
            "Madagascar",
            "Lesotho",
            "Kenya",
            "Tunisia",
            "Zambia",
            "Uganda",
            "Togo",
            "Swaziland",
            "Sudan",
            "Sierra Leone",
            "Senegal",
            "Rwanda",
            "Central African Republic",
            "Cameroon",
            "Burundi",
            "Benin",
            "Chad",
            "Angola",
            "Guinea",
            "Gambia, The",
            "Gabon",
            "Equatorial Guinea",
            "Djibouti"
           ],
           "ids": [
            "Africa",
            "Africa",
            "Africa",
            "Africa",
            "Africa",
            "Africa",
            "Africa",
            "Africa",
            "Africa",
            "Africa",
            "Africa",
            "Africa",
            "Africa",
            "Africa",
            "Africa",
            "Africa",
            "Africa",
            "Africa",
            "Africa",
            "Africa",
            "Africa",
            "Africa",
            "Africa",
            "Africa",
            "Africa",
            "Africa",
            "Africa"
           ],
           "legendgroup": "Africa",
           "marker": {
            "color": "#00cc96",
            "size": [
             47036141659.7228,
             465034465871.64703,
             196271629849.784,
             904937350143.7092,
             458318621962.616,
             7493729909.97088,
             1941164001023.64,
             41345146552.9974,
             47435837061.4922,
             20641914055275.9,
             921475492300,
             29689386963.2788,
             16104318187.4011,
             3731500884899.52,
             3258075464712.23,
             1651806943767.2,
             651102539300,
             6612385360900,
             1075991778642.47,
             2136566635294.12,
             1760103692485.21,
             560909111368.059,
             5959794463018.5,
             15788069767.3125,
             3756567538907.18,
             464399958685.045,
             67136888858.4578
            ],
            "sizemode": "area",
            "sizeref": 3783796695310.0737,
            "symbol": "circle"
           },
           "mode": "markers",
           "name": "Africa",
           "orientation": "v",
           "showlegend": true,
           "type": "scatter",
           "x": [
            47036141659.7228,
            465034465871.64703,
            196271629849.784,
            904937350143.7092,
            458318621962.616,
            7493729909.97088,
            1941164001023.64,
            41345146552.9974,
            47435837061.4922,
            20641914055275.9,
            921475492300,
            29689386963.2788,
            16104318187.4011,
            3731500884899.52,
            3258075464712.23,
            1651806943767.2,
            651102539300,
            6612385360900,
            1075991778642.47,
            2136566635294.12,
            1760103692485.21,
            560909111368.059,
            5959794463018.5,
            15788069767.3125,
            3756567538907.18,
            464399958685.045,
            67136888858.4578
           ],
           "xaxis": "x",
           "y": [
            21.9250602722168,
            22.2872295379639,
            14.3173599243164,
            15.3238096237183,
            15.8905096054077,
            22.1734790802002,
            23.0639896392822,
            25.0473098754883,
            8.35262012481689,
            13.0037298202515,
            24.4237098693848,
            19.510330200195305,
            9.11688995361328,
            20.7313003540039,
            17.6184902191162,
            21.096139907836896,
            9.93076992034912,
            11.6836996078491,
            13.437370300293,
            13.5131998062134,
            12.8444900512695,
            5.2550802230835005,
            15.195969581604,
            11.921799659729,
            17.7064895629883,
            3.21674990653992,
            29.385950088501
           ],
           "yaxis": "y"
          },
          {
           "hovertemplate": "<b>%{hovertext}</b><br><br>Continent_Name=Asia<br>Year=2000<br>gdi_value=%{marker.size}<br>ExpenditureEducationValue=%{y}<extra></extra>",
           "hovertext": [
            "Oman",
            "Pakistan",
            "Malaysia",
            "Lao PDR",
            "Kyrgyz Republic",
            "Philippines",
            "Thailand",
            "Tajikistan",
            "Singapore",
            "Russian Federation",
            "Israel",
            "Japan",
            "Iran, Islamic Rep.",
            "Cambodia",
            "Brunei Darussalam",
            "Bhutan",
            "Bangladesh",
            "Azerbaijan",
            "India",
            "Georgia",
            "Cyprus"
           ],
           "ids": [
            "Asia",
            "Asia",
            "Asia",
            "Asia",
            "Asia",
            "Asia",
            "Asia",
            "Asia",
            "Asia",
            "Asia",
            "Asia",
            "Asia",
            "Asia",
            "Asia",
            "Asia",
            "Asia",
            "Asia",
            "Asia",
            "Asia",
            "Asia",
            "Asia"
           ],
           "legendgroup": "Asia",
           "marker": {
            "color": "#ab63fa",
            "size": [
             10262546834.7916,
             6354149640159.61,
             471869532158.807,
             15785994949891,
             20628724237.6726,
             3580714123300,
             5289026595087.03,
             1786678443.77422,
             181785673705.864,
             7305600000000,
             652767750856.69,
             464318986958975,
             1147201881804740,
             14082621270156.9,
             10345971000,
             19735775600,
             3536289343313.18,
             4664772101.078361,
             40418897875009.7,
             4617992104.57067,
             12234175056.7365
            ],
            "sizemode": "area",
            "sizeref": 3783796695310.0737,
            "symbol": "circle"
           },
           "mode": "markers",
           "name": "Asia",
           "orientation": "v",
           "showlegend": true,
           "type": "scatter",
           "x": [
            10262546834.7916,
            6354149640159.61,
            471869532158.807,
            15785994949891,
            20628724237.6726,
            3580714123300,
            5289026595087.03,
            1786678443.77422,
            181785673705.864,
            7305600000000,
            652767750856.69,
            464318986958975,
            1147201881804740,
            14082621270156.9,
            10345971000,
            19735775600,
            3536289343313.18,
            4664772101.078361,
            40418897875009.7,
            4617992104.57067,
            12234175056.7365
           ],
           "xaxis": "x",
           "y": [
            8.98344039916992,
            8.489879608154299,
            21.3906803131104,
            7.26612997055054,
            11.5972099304199,
            15.2067604064941,
            28.388599395752,
            12.0251398086548,
            14.1551704406738,
            8.951849937438961,
            12.7226600646973,
            9.93041038513184,
            20.6338500976563,
            11.079010009765598,
            8.92074012756348,
            11.5362901687622,
            20.4904193878174,
            18.4979991912842,
            17.4965000152588,
            12.5407199859619,
            14.3340797424316
           ],
           "yaxis": "y"
          },
          {
           "hovertemplate": "<b>%{hovertext}</b><br><br>Continent_Name=North America<br>Year=2000<br>gdi_value=%{marker.size}<br>ExpenditureEducationValue=%{y}<extra></extra>",
           "hovertext": [
            "Panama",
            "Nicaragua",
            "Mexico",
            "Trinidad and Tobago",
            "Canada",
            "Belize",
            "Barbados",
            "Bahamas, The",
            "Costa Rica",
            "El Salvador",
            "Dominican Republic"
           ],
           "ids": [
            "North America",
            "North America",
            "North America",
            "North America",
            "North America",
            "North America",
            "North America",
            "North America",
            "North America",
            "North America",
            "North America"
           ],
           "legendgroup": "North America",
           "marker": {
            "color": "#FFA15A",
            "size": [
             13999848618.5993,
             100580207721.58,
             9985439473391.52,
             51362607419.4515,
             1312680611751.02,
             1664144900,
             1030647221.26338,
             7514668264.41218,
             1427457031483.41,
             7529620736.368041,
             1123049223398.39
            ],
            "sizemode": "area",
            "sizeref": 3783796695310.0737,
            "symbol": "circle"
           },
           "mode": "markers",
           "name": "North America",
           "orientation": "v",
           "showlegend": true,
           "type": "scatter",
           "x": [
            13999848618.5993,
            100580207721.58,
            9985439473391.52,
            51362607419.4515,
            1312680611751.02,
            1664144900,
            1030647221.26338,
            7514668264.41218,
            1427457031483.41,
            7529620736.368041,
            1123049223398.39
           ],
           "xaxis": "x",
           "y": [
            19.8319396972656,
            14.573699951171902,
            19.7763595581055,
            10.427180290222198,
            12.7455196380615,
            16.0544395446777,
            13.9780597686768,
            18.8437194824219,
            18.819509506225604,
            13.910019874572802,
            12.9884796142578
           ],
           "yaxis": "y"
          },
          {
           "hovertemplate": "<b>%{hovertext}</b><br><br>Continent_Name=South America<br>Year=2000<br>gdi_value=%{marker.size}<br>ExpenditureEducationValue=%{y}<extra></extra>",
           "hovertext": [
            "Peru",
            "Uruguay",
            "Brazil",
            "Bolivia",
            "Argentina",
            "Chile",
            "Colombia",
            "Ecuador"
           ],
           "ids": [
            "South America",
            "South America",
            "South America",
            "South America",
            "South America",
            "South America",
            "South America",
            "South America"
           ],
           "legendgroup": "South America",
           "marker": {
            "color": "#19d3f3",
            "size": [
             202825856825.27,
             422936895858.10205,
             1202377000000,
             21136378753.3272,
             529701252799.975,
             59487067307047,
             280625172501646,
             35066092160.4727
            ],
            "sizemode": "area",
            "sizeref": 3783796695310.0737,
            "symbol": "circle"
           },
           "mode": "markers",
           "name": "South America",
           "orientation": "v",
           "showlegend": true,
           "type": "scatter",
           "x": [
            202825856825.27,
            422936895858.10205,
            1202377000000,
            21136378753.3272,
            529701252799.975,
            59487067307047,
            280625172501646,
            35066092160.4727
           ],
           "xaxis": "x",
           "y": [
            15.2503700256348,
            8.31884002685547,
            11.452159881591802,
            18.6708507537842,
            16.2269592285156,
            16.4014892578125,
            13.2868299484253,
            4.99488019943237
           ],
           "yaxis": "y"
          }
         ],
         "name": "2000"
        },
        {
         "data": [
          {
           "hovertemplate": "<b>%{hovertext}</b><br><br>Continent_Name=Oceania<br>Year=2001<br>gdi_value=%{marker.size}<br>ExpenditureEducationValue=%{y}<extra></extra>",
           "hovertext": [
            "New Zealand",
            "Samoa"
           ],
           "ids": [
            "Oceania",
            "Oceania"
           ],
           "legendgroup": "Oceania",
           "marker": {
            "color": "#636efa",
            "size": [
             155209106581.74802,
             1288857211.65049
            ],
            "sizemode": "area",
            "sizeref": 3783796695310.0737,
            "symbol": "circle"
           },
           "mode": "markers",
           "name": "Oceania",
           "orientation": "v",
           "showlegend": true,
           "type": "scatter",
           "x": [
            155209106581.74802,
            1288857211.65049
           ],
           "xaxis": "x",
           "y": [
            19.270149230957,
            12.7703304290771
           ],
           "yaxis": "y"
          },
          {
           "hovertemplate": "<b>%{hovertext}</b><br><br>Continent_Name=Europe<br>Year=2001<br>gdi_value=%{marker.size}<br>ExpenditureEducationValue=%{y}<extra></extra>",
           "hovertext": [
            "Netherlands",
            "Norway",
            "Latvia",
            "Luxembourg",
            "Moldova",
            "Poland",
            "Spain",
            "Russian Federation",
            "United Kingdom",
            "Ukraine",
            "Portugal",
            "Sweden",
            "Slovenia",
            "Slovak Republic",
            "Bulgaria",
            "Belgium",
            "Azerbaijan",
            "Austria",
            "Albania",
            "Cyprus",
            "Czech Republic",
            "Italy",
            "Ireland",
            "Hungary",
            "Greece",
            "Iceland",
            "Georgia",
            "France",
            "Finland",
            "Estonia",
            "Denmark"
           ],
           "ids": [
            "Europe",
            "Europe",
            "Europe",
            "Europe",
            "Europe",
            "Europe",
            "Europe",
            "Europe",
            "Europe",
            "Europe",
            "Europe",
            "Europe",
            "Europe",
            "Europe",
            "Europe",
            "Europe",
            "Europe",
            "Europe",
            "Europe",
            "Europe",
            "Europe",
            "Europe",
            "Europe",
            "Europe",
            "Europe",
            "Europe",
            "Europe",
            "Europe",
            "Europe",
            "Europe",
            "Europe"
           ],
           "legendgroup": "Europe",
           "marker": {
            "color": "#EF553B",
            "size": [
             564554321892.38,
             2024559414135.61,
             12987440676.5991,
             28965681714.7605,
             7982516677.73217,
             852208691569.5509,
             890239750124.207,
             7498440343506.16,
             1364505221849.27,
             242405618417.49103,
             169528037624.586,
             2945541959756.95,
             29034853012.327,
             44771232007.1851,
             46637204632.1918,
             320444186576.286,
             4968435561.515671,
             259683891183.974,
             445763120096.321,
             12760345112.0051,
             2977712202890.2,
             1595401499658.07,
             137950878374.943,
             23194856823376.6,
             197272848278.03,
             1374782443921.93,
             4839907491.829229,
             1808142597868.06,
             169819312712.441,
             10721482072.0294,
             1638622372565.27
            ],
            "sizemode": "area",
            "sizeref": 3783796695310.0737,
            "symbol": "circle"
           },
           "mode": "markers",
           "name": "Europe",
           "orientation": "v",
           "showlegend": true,
           "type": "scatter",
           "x": [
            564554321892.38,
            2024559414135.61,
            12987440676.5991,
            28965681714.7605,
            7982516677.73217,
            852208691569.5509,
            890239750124.207,
            7498440343506.16,
            1364505221849.27,
            242405618417.49103,
            169528037624.586,
            2945541959756.95,
            29034853012.327,
            44771232007.1851,
            46637204632.1918,
            320444186576.286,
            4968435561.515671,
            259683891183.974,
            445763120096.321,
            12760345112.0051,
            2977712202890.2,
            1595401499658.07,
            137950878374.943,
            23194856823376.6,
            197272848278.03,
            1374782443921.93,
            4839907491.829229,
            1808142597868.06,
            169819312712.441,
            10721482072.0294,
            1638622372565.27
           ],
           "xaxis": "x",
           "y": [
            11.0124797821045,
            15.7348604202271,
            11.1588001251221,
            9.69917011260986,
            16.477519989013697,
            12.173919677734402,
            10.712610244751,
            9.21335983276367,
            12.2926301956177,
            12.810950279235804,
            12.0940103530884,
            12.9396896362305,
            13.81725025177,
            8.8993501663208,
            9.27773952484131,
            12.0038003921509,
            18.7729606628418,
            10.9494199752808,
            10.5819301605225,
            14.3532495498657,
            8.95641994476318,
            9.82544040679932,
            12.5921297073364,
            10.545539855957,
            7.70515012741089,
            16.2218704223633,
            12.3619604110718,
            10.5770702362061,
            12.6344499588013,
            15.058380126953098,
            15.5485401153564
           ],
           "yaxis": "y"
          },
          {
           "hovertemplate": "<b>%{hovertext}</b><br><br>Continent_Name=Africa<br>Year=2001<br>gdi_value=%{marker.size}<br>ExpenditureEducationValue=%{y}<extra></extra>",
           "hovertext": [
            "Namibia",
            "Morocco",
            "Mauritius",
            "Mali",
            "Madagascar",
            "Lesotho",
            "Tunisia",
            "Togo",
            "South Africa",
            "Sierra Leone",
            "Senegal",
            "Rwanda",
            "Swaziland",
            "Chad",
            "Cameroon",
            "Burundi",
            "Kenya",
            "Benin",
            "Guinea",
            "Eritrea",
            "Equatorial Guinea",
            "Djibouti"
           ],
           "ids": [
            "Africa",
            "Africa",
            "Africa",
            "Africa",
            "Africa",
            "Africa",
            "Africa",
            "Africa",
            "Africa",
            "Africa",
            "Africa",
            "Africa",
            "Africa",
            "Africa",
            "Africa",
            "Africa",
            "Africa",
            "Africa",
            "Africa",
            "Africa",
            "Africa",
            "Africa"
           ],
           "legendgroup": "Africa",
           "marker": {
            "color": "#00cc96",
            "size": [
             49673478233.2178,
             497924098249.872,
             201516535316.251,
             1063122452098.74,
             497191976965.854,
             8567348054.80491,
             43013219033.6524,
             922550633303.5592,
             1836784544565.22,
             3410916682558.55,
             3421657935137.77,
             1780871143606.5,
             31096076685.3675,
             1943075995619.56,
             6773475161588.79,
             1085422697518.79,
             2065090921306.16,
             2242870764989.66,
             6247498218067.39,
             7430356524.259859,
             740383747032.203,
             68511741678.7303
            ],
            "sizemode": "area",
            "sizeref": 3783796695310.0737,
            "symbol": "circle"
           },
           "mode": "markers",
           "name": "Africa",
           "orientation": "v",
           "showlegend": true,
           "type": "scatter",
           "x": [
            49673478233.2178,
            497924098249.872,
            201516535316.251,
            1063122452098.74,
            497191976965.854,
            8567348054.80491,
            43013219033.6524,
            922550633303.5592,
            1836784544565.22,
            3410916682558.55,
            3421657935137.77,
            1780871143606.5,
            31096076685.3675,
            1943075995619.56,
            6773475161588.79,
            1085422697518.79,
            2065090921306.16,
            2242870764989.66,
            6247498218067.39,
            7430356524.259859,
            740383747032.203,
            68511741678.7303
           ],
           "xaxis": "x",
           "y": [
            22.775709152221697,
            20.8568801879883,
            11.9710502624512,
            14.4931898117065,
            17.6824703216553,
            23.8489208221436,
            24.9665603637695,
            25.7313594818115,
            20.4720497131348,
            17.9708003997803,
            15.7297401428223,
            26.6995697021484,
            19.656179428100604,
            13.7868499755859,
            15.4891395568848,
            14.1125001907349,
            22.1104202270508,
            15.3105802536011,
            10.3157596588135,
            5.861609935760501,
            4.46929979324341,
            26.280019760131804
           ],
           "yaxis": "y"
          },
          {
           "hovertemplate": "<b>%{hovertext}</b><br><br>Continent_Name=Asia<br>Year=2001<br>gdi_value=%{marker.size}<br>ExpenditureEducationValue=%{y}<extra></extra>",
           "hovertext": [
            "Nepal",
            "Oman",
            "Malaysia",
            "Lebanon",
            "Philippines",
            "Thailand",
            "Tajikistan",
            "Syrian Arab Republic",
            "Singapore",
            "Russian Federation",
            "Kyrgyz Republic",
            "Lao PDR",
            "Japan",
            "Cambodia",
            "Bhutan",
            "Bangladesh",
            "Azerbaijan",
            "Cyprus",
            "Israel",
            "Iran, Islamic Rep.",
            "Indonesia",
            "Hong Kong SAR, China",
            "Georgia"
           ],
           "ids": [
            "Asia",
            "Asia",
            "Asia",
            "Asia",
            "Asia",
            "Asia",
            "Asia",
            "Asia",
            "Asia",
            "Asia",
            "Asia",
            "Asia",
            "Asia",
            "Asia",
            "Asia",
            "Asia",
            "Asia",
            "Asia",
            "Asia",
            "Asia",
            "Asia",
            "Asia",
            "Asia"
           ],
           "legendgroup": "Asia",
           "marker": {
            "color": "#ab63fa",
            "size": [
             441355715301.755,
             10275803327.2562,
             470739359614.03705,
             26622441575299.3,
             3658058316623.2,
             5404190469475.72,
             1797778679.09417,
             954538592007.895,
             177929739230.746,
             7498440343506.16,
             21796622040.9017,
             16693912696974,
             464775559599577,
             15203762753000.2,
             21354854008.0414,
             3708141878404.21,
             4968435561.515671,
             12760345112.0051,
             652006930512.467,
             1197256077705250,
             4417223091312240,
             1442532604538.51,
             4839907491.829229
            ],
            "sizemode": "area",
            "sizeref": 3783796695310.0737,
            "symbol": "circle"
           },
           "mode": "markers",
           "name": "Asia",
           "orientation": "v",
           "showlegend": true,
           "type": "scatter",
           "x": [
            441355715301.755,
            10275803327.2562,
            470739359614.03705,
            26622441575299.3,
            3658058316623.2,
            5404190469475.72,
            1797778679.09417,
            954538592007.895,
            177929739230.746,
            7498440343506.16,
            21796622040.9017,
            16693912696974,
            464775559599577,
            15203762753000.2,
            21354854008.0414,
            3708141878404.21,
            4968435561.515671,
            12760345112.0051,
            652006930512.467,
            1197256077705250,
            4417223091312240,
            1442532604538.51,
            4839907491.829229
           ],
           "xaxis": "x",
           "y": [
            21.6189403533936,
            10.5839900970459,
            24.348520278930696,
            7.421249866485599,
            13.9159097671509,
            24.241340637207,
            13.1885299682617,
            15.6620597839355,
            18.1095905303955,
            9.21335983276367,
            13.7055397033691,
            9.11738014221191,
            9.63897037506104,
            11.3807897567749,
            10.095290184021,
            18.5847797393799,
            18.7729606628418,
            14.3532495498657,
            12.7257204055786,
            24.424169540405305,
            11.5939903259277,
            22.4187793731689,
            12.3619604110718
           ],
           "yaxis": "y"
          },
          {
           "hovertemplate": "<b>%{hovertext}</b><br><br>Continent_Name=North America<br>Year=2001<br>gdi_value=%{marker.size}<br>ExpenditureEducationValue=%{y}<extra></extra>",
           "hovertext": [
            "Panama",
            "Mexico",
            "Trinidad and Tobago",
            "Canada",
            "Costa Rica",
            "Barbados",
            "Belize",
            "Dominican Republic"
           ],
           "ids": [
            "North America",
            "North America",
            "North America",
            "North America",
            "North America",
            "North America",
            "North America",
            "North America"
           ],
           "legendgroup": "North America",
           "marker": {
            "color": "#FFA15A",
            "size": [
             14199146281.0537,
             9931432153220.78,
             46232982971.8224,
             1333077161540.57,
             1429964205900.1,
             1021061305.44537,
             1718031415.65275,
             1146754230189.93
            ],
            "sizemode": "area",
            "sizeref": 3783796695310.0737,
            "symbol": "circle"
           },
           "mode": "markers",
           "name": "North America",
           "orientation": "v",
           "showlegend": true,
           "type": "scatter",
           "x": [
            14199146281.0537,
            9931432153220.78,
            46232982971.8224,
            1333077161540.57,
            1429964205900.1,
            1021061305.44537,
            1718031415.65275,
            1146754230189.93
           ],
           "xaxis": "x",
           "y": [
            16.6391296386719,
            20.8465995788574,
            10.423649787902802,
            12.233790397644,
            19.1528205871582,
            17.2579402923583,
            18.3053703308105,
            12.5072898864746
           ],
           "yaxis": "y"
          },
          {
           "hovertemplate": "<b>%{hovertext}</b><br><br>Continent_Name=South America<br>Year=2001<br>gdi_value=%{marker.size}<br>ExpenditureEducationValue=%{y}<extra></extra>",
           "hovertext": [
            "Peru",
            "Uruguay",
            "Colombia",
            "Brazil",
            "Bolivia",
            "Argentina"
           ],
           "ids": [
            "South America",
            "South America",
            "South America",
            "South America",
            "South America",
            "South America"
           ],
           "legendgroup": "South America",
           "marker": {
            "color": "#19d3f3",
            "size": [
             201678160145.422,
             411779554067.891,
             282083713158272,
             1215361243509.77,
             21577132100.0959,
             506304222946.716
            ],
            "sizemode": "area",
            "sizeref": 3783796695310.0737,
            "symbol": "circle"
           },
           "mode": "markers",
           "name": "South America",
           "orientation": "v",
           "showlegend": true,
           "type": "scatter",
           "x": [
            201678160145.422,
            411779554067.891,
            282083713158272,
            1215361243509.77,
            21577132100.0959,
            506304222946.716
           ],
           "xaxis": "x",
           "y": [
            14.7962303161621,
            9.19989967346191,
            13.4677200317383,
            10.6107597351074,
            18.4614601135254,
            16.357610702514602
           ],
           "yaxis": "y"
          }
         ],
         "name": "2001"
        },
        {
         "data": [
          {
           "hovertemplate": "<b>%{hovertext}</b><br><br>Continent_Name=Oceania<br>Year=2002<br>gdi_value=%{marker.size}<br>ExpenditureEducationValue=%{y}<extra></extra>",
           "hovertext": [
            "New Zealand",
            "Samoa"
           ],
           "ids": [
            "Oceania",
            "Oceania"
           ],
           "legendgroup": "Oceania",
           "marker": {
            "color": "#636efa",
            "size": [
             162035060113.923,
             1344845100
            ],
            "sizemode": "area",
            "sizeref": 3783796695310.0737,
            "symbol": "circle"
           },
           "mode": "markers",
           "name": "Oceania",
           "orientation": "v",
           "showlegend": true,
           "type": "scatter",
           "x": [
            162035060113.923,
            1344845100
           ],
           "xaxis": "x",
           "y": [
            19.4802207946777,
            12.7938003540039
           ],
           "yaxis": "y"
          },
          {
           "hovertemplate": "<b>%{hovertext}</b><br><br>Continent_Name=Europe<br>Year=2002<br>gdi_value=%{marker.size}<br>ExpenditureEducationValue=%{y}<extra></extra>",
           "hovertext": [
            "Netherlands",
            "Norway",
            "Poland",
            "Macedonia, FYR",
            "Moldova",
            "Malta",
            "Portugal",
            "Russian Federation",
            "United Kingdom",
            "Latvia",
            "Ukraine",
            "Turkey",
            "Sweden",
            "Spain",
            "Slovenia",
            "Slovak Republic",
            "Croatia",
            "Cyprus",
            "Bulgaria",
            "Belgium",
            "Azerbaijan",
            "Albania",
            "Austria",
            "Denmark",
            "Czech Republic",
            "Italy",
            "Ireland",
            "Iceland",
            "Hungary",
            "Kazakhstan",
            "Greece",
            "Finland",
            "France",
            "Georgia",
            "Estonia"
           ],
           "ids": [
            "Europe",
            "Europe",
            "Europe",
            "Europe",
            "Europe",
            "Europe",
            "Europe",
            "Europe",
            "Europe",
            "Europe",
            "Europe",
            "Europe",
            "Europe",
            "Europe",
            "Europe",
            "Europe",
            "Europe",
            "Europe",
            "Europe",
            "Europe",
            "Europe",
            "Europe",
            "Europe",
            "Europe",
            "Europe",
            "Europe",
            "Europe",
            "Europe",
            "Europe",
            "Europe",
            "Europe",
            "Europe",
            "Europe",
            "Europe",
            "Europe"
           ],
           "legendgroup": "Europe",
           "marker": {
            "color": "#EF553B",
            "size": [
             567502981524.948,
             2013688451483.22,
             862469987994.732,
             270930175192.155,
             8531959933.93222,
             4643061910.39958,
             171499720293.799,
             7784419817916.35,
             1401557953613,
             13783942651.4944,
             255765709738.004,
             71431212307.1846,
             2985746369567.13,
             922369350016.386,
             30442940696.7759,
             46822030852.2664,
             269905100876.144,
             13075301168.0689,
             49357466107.6656,
             327730572637.021,
             5594705853.26229,
             457816032524.229,
             264867544454.462,
             1651873410490.72,
             3067719958286.05,
             1605347257853.15,
             147158893077.893,
             1387486849275.67,
             24371056413498.7,
             5264518573040.57,
             205633325664.418,
             172927446081.715,
             1836251085281.36,
             5104836178.60577,
             11599605449.4213
            ],
            "sizemode": "area",
            "sizeref": 3783796695310.0737,
            "symbol": "circle"
           },
           "mode": "markers",
           "name": "Europe",
           "orientation": "v",
           "showlegend": true,
           "type": "scatter",
           "x": [
            567502981524.948,
            2013688451483.22,
            862469987994.732,
            270930175192.155,
            8531959933.93222,
            4643061910.39958,
            171499720293.799,
            7784419817916.35,
            1401557953613,
            13783942651.4944,
            255765709738.004,
            71431212307.1846,
            2985746369567.13,
            922369350016.386,
            30442940696.7759,
            46822030852.2664,
            269905100876.144,
            13075301168.0689,
            49357466107.6656,
            327730572637.021,
            5594705853.26229,
            457816032524.229,
            264867544454.462,
            1651873410490.72,
            3067719958286.05,
            1605347257853.15,
            147158893077.893,
            1387486849275.67,
            24371056413498.7,
            5264518573040.57,
            205633325664.418,
            172927446081.715,
            1836251085281.36,
            5104836178.60577,
            11599605449.4213
           ],
           "xaxis": "x",
           "y": [
            11.0910196304321,
            16.2564392089844,
            12.2274303436279,
            8.64087963104248,
            18.0878105163574,
            9.53534030914307,
            12.0221500396729,
            10.5838403701782,
            13.5654897689819,
            11.5050401687622,
            14.3609600067139,
            6.52606010437012,
            13.2432403564453,
            10.7089996337891,
            13.7252702713013,
            9.47443008422852,
            7.96840000152588,
            14.9478397369385,
            9.65431976318359,
            12.1544799804688,
            11.39684009552,
            9.88691997528076,
            10.913020133972198,
            15.4338798522949,
            9.09932994842529,
            9.50514030456542,
            12.4324703216553,
            17.1042194366455,
            10.2667999267578,
            14.7594804763794,
            7.91811990737915,
            12.6825304031372,
            10.3428897857666,
            13.6035099029541,
            15.2868299484253
           ],
           "yaxis": "y"
          },
          {
           "hovertemplate": "<b>%{hovertext}</b><br><br>Continent_Name=Africa<br>Year=2002<br>gdi_value=%{marker.size}<br>ExpenditureEducationValue=%{y}<extra></extra>",
           "hovertext": [
            "Namibia",
            "Mauritius",
            "Mali",
            "Madagascar",
            "Lesotho",
            "Morocco",
            "Tunisia",
            "Togo",
            "Swaziland",
            "Sudan",
            "South Africa",
            "Sierra Leone",
            "Seychelles",
            "Senegal",
            "Kenya",
            "Congo, Rep.",
            "Comoros",
            "Central African Republic",
            "Burundi",
            "Benin",
            "Guinea",
            "Equatorial Guinea",
            "Eritrea",
            "Djibouti"
           ],
           "ids": [
            "Africa",
            "Africa",
            "Africa",
            "Africa",
            "Africa",
            "Africa",
            "Africa",
            "Africa",
            "Africa",
            "Africa",
            "Africa",
            "Africa",
            "Africa",
            "Africa",
            "Africa",
            "Africa",
            "Africa",
            "Africa",
            "Africa",
            "Africa",
            "Africa",
            "Africa",
            "Africa",
            "Africa"
           ],
           "legendgroup": "Africa",
           "marker": {
            "color": "#00cc96",
            "size": [
             51973783609.6619,
             210279316681.398,
             1091447589672.27,
             438026654198.154,
             8277741799.94974,
             518198786575.484,
             43665971241.8178,
             912343358860.25,
             31871283307.4798,
             16154334474.9643,
             1922000874886.08,
             4267127163215.8,
             5101494859.53613,
             3409651290944.62,
             2066470879484.32,
             1145775186873.47,
             88667026719.2555,
             704771156005.4159,
             1136590888294.95,
             2362685922257.24,
             6624852764220.55,
             790505717427.395,
             7625776932.86565,
             70305830781.2036
            ],
            "sizemode": "area",
            "sizeref": 3783796695310.0737,
            "symbol": "circle"
           },
           "mode": "markers",
           "name": "Africa",
           "orientation": "v",
           "showlegend": true,
           "type": "scatter",
           "x": [
            51973783609.6619,
            210279316681.398,
            1091447589672.27,
            438026654198.154,
            8277741799.94974,
            518198786575.484,
            43665971241.8178,
            912343358860.25,
            31871283307.4798,
            16154334474.9643,
            1922000874886.08,
            4267127163215.8,
            5101494859.53613,
            3409651290944.62,
            2066470879484.32,
            1145775186873.47,
            88667026719.2555,
            704771156005.4159,
            1136590888294.95,
            2362685922257.24,
            6624852764220.55,
            790505717427.395,
            7625776932.86565,
            70305830781.2036
           ],
           "xaxis": "x",
           "y": [
            21.8368606567383,
            11.510120391845698,
            14.5252103805541,
            17.9367599487305,
            24.363759994506804,
            19.8586502075195,
            23.147020339965803,
            30.7000293731689,
            17.2937698364258,
            11.0448904037476,
            20.0956993103027,
            17.703189849853498,
            9.22015953063965,
            16.7219200134277,
            25.628210067749,
            11.5927696228027,
            15.789719581604,
            9.21473026275635,
            15.23766040802,
            14.1290798187256,
            13.064319610595698,
            5.57981014251708,
            5.633379936218259,
            25.4893093109131
           ],
           "yaxis": "y"
          },
          {
           "hovertemplate": "<b>%{hovertext}</b><br><br>Continent_Name=Asia<br>Year=2002<br>gdi_value=%{marker.size}<br>ExpenditureEducationValue=%{y}<extra></extra>",
           "hovertext": [
            "Philippines",
            "Nepal",
            "Oman",
            "Maldives",
            "Malaysia",
            "Lebanon",
            "Turkey",
            "Thailand",
            "Tajikistan",
            "Syrian Arab Republic",
            "Singapore",
            "Russian Federation",
            "Lao PDR",
            "Cambodia",
            "Kyrgyz Republic",
            "Bangladesh",
            "Azerbaijan",
            "Cyprus",
            "Kazakhstan",
            "Japan",
            "Israel",
            "Iran, Islamic Rep.",
            "Indonesia",
            "Hong Kong SAR, China",
            "Georgia"
           ],
           "ids": [
            "Asia",
            "Asia",
            "Asia",
            "Asia",
            "Asia",
            "Asia",
            "Asia",
            "Asia",
            "Asia",
            "Asia",
            "Asia",
            "Asia",
            "Asia",
            "Asia",
            "Asia",
            "Asia",
            "Asia",
            "Asia",
            "Asia",
            "Asia",
            "Asia",
            "Asia",
            "Asia",
            "Asia",
            "Asia"
           ],
           "legendgroup": "Asia",
           "marker": {
            "color": "#ab63fa",
            "size": [
             3816209076099.28,
             443137360362.72296,
             10660963320.9991,
             10618522643.5104,
             499854885751.761,
             27703416052279.4,
             71431212307.1846,
             5769579116371.46,
             2031603248.62083,
             1014921911084.69,
             183429954531.285,
             7784419817916.35,
             17681983499922.5,
             16443485088424.2,
             21557376788.8208,
             3849927553370.99,
             5594705853.26229,
             13075301168.0689,
             5264518573040.57,
             466775015853947,
             650771537343.75,
             1373999533340800,
             4552593808632200,
             1498833193198.45,
             5104836178.60577
            ],
            "sizemode": "area",
            "sizeref": 3783796695310.0737,
            "symbol": "circle"
           },
           "mode": "markers",
           "name": "Asia",
           "orientation": "v",
           "showlegend": true,
           "type": "scatter",
           "x": [
            3816209076099.28,
            443137360362.72296,
            10660963320.9991,
            10618522643.5104,
            499854885751.761,
            27703416052279.4,
            71431212307.1846,
            5769579116371.46,
            2031603248.62083,
            1014921911084.69,
            183429954531.285,
            7784419817916.35,
            17681983499922.5,
            16443485088424.2,
            21557376788.8208,
            3849927553370.99,
            5594705853.26229,
            13075301168.0689,
            5264518573040.57,
            466775015853947,
            650771537343.75,
            1373999533340800,
            4552593808632200,
            1498833193198.45,
            5104836178.60577
           ],
           "xaxis": "x",
           "y": [
            14.0689296722412,
            20.426349639892603,
            11.062479972839402,
            21.2399005889893,
            25.903600692749,
            7.05630016326904,
            6.52606010437012,
            16.2229309082031,
            14.5936403274536,
            16.8260707855225,
            17.6956005096436,
            10.5838403701782,
            16.2045497894287,
            10.1375703811646,
            15.0168104171753,
            15.6937999725342,
            11.39684009552,
            14.9478397369385,
            14.7594804763794,
            9.858110427856449,
            12.6119003295898,
            26.3335208892822,
            14.3672304153442,
            22.2072906494141,
            13.6035099029541
           ],
           "yaxis": "y"
          },
          {
           "hovertemplate": "<b>%{hovertext}</b><br><br>Continent_Name=North America<br>Year=2002<br>gdi_value=%{marker.size}<br>ExpenditureEducationValue=%{y}<extra></extra>",
           "hovertext": [
            "Nicaragua",
            "Panama",
            "Mexico",
            "United States",
            "Trinidad and Tobago",
            "Costa Rica",
            "Canada",
            "Belize",
            "Barbados",
            "Dominican Republic",
            "El Salvador"
           ],
           "ids": [
            "North America",
            "North America",
            "North America",
            "North America",
            "North America",
            "North America",
            "North America",
            "North America",
            "North America",
            "North America",
            "North America"
           ],
           "legendgroup": "North America",
           "marker": {
            "color": "#FFA15A",
            "size": [
             103280429505.743,
             14652357652.0019,
             9934041676440.27,
             13150348316691.8,
             49115186266.7719,
             1460992814062.28,
             1361214733403.69,
             1815148884.6765,
             1027136758.32127,
             1199840507235.4,
             7819204934.65832
            ],
            "sizemode": "area",
            "sizeref": 3783796695310.0737,
            "symbol": "circle"
           },
           "mode": "markers",
           "name": "North America",
           "orientation": "v",
           "showlegend": true,
           "type": "scatter",
           "x": [
            103280429505.743,
            14652357652.0019,
            9934041676440.27,
            13150348316691.8,
            49115186266.7719,
            1460992814062.28,
            1361214733403.69,
            1815148884.6765,
            1027136758.32127,
            1199840507235.4,
            7819204934.65832
           ],
           "xaxis": "x",
           "y": [
            15.6877899169922,
            16.957500457763697,
            20.9714794158936,
            16.380569458007802,
            13.3984403610229,
            19.24049949646,
            12.1744003295898,
            15.9391603469849,
            15.917010307312,
            12.079719543457,
            15.8993101119995
           ],
           "yaxis": "y"
          },
          {
           "hovertemplate": "<b>%{hovertext}</b><br><br>Continent_Name=South America<br>Year=2002<br>gdi_value=%{marker.size}<br>ExpenditureEducationValue=%{y}<extra></extra>",
           "hovertext": [
            "Peru",
            "Uruguay",
            "Bolivia",
            "Colombia",
            "Chile",
            "Argentina",
            "Brazil"
           ],
           "ids": [
            "South America",
            "South America",
            "South America",
            "South America",
            "South America",
            "South America",
            "South America"
           ],
           "legendgroup": "South America",
           "marker": {
            "color": "#19d3f3",
            "size": [
             212905419802.712,
             379040464202.398,
             22361296774.9305,
             289837839974870,
             62352894991673.8,
             442313960995.277,
             1255241564499.74
            ],
            "sizemode": "area",
            "sizeref": 3783796695310.0737,
            "symbol": "circle"
           },
           "mode": "markers",
           "name": "South America",
           "orientation": "v",
           "showlegend": true,
           "type": "scatter",
           "x": [
            212905419802.712,
            379040464202.398,
            22361296774.9305,
            289837839974870,
            62352894991673.8,
            442313960995.277,
            1255241564499.74
           ],
           "xaxis": "x",
           "y": [
            14.5780601501465,
            7.71913003921509,
            18.713809967041,
            15.2995595932007,
            17.4072799682617,
            16.4432907104492,
            9.63646030426025
           ],
           "yaxis": "y"
          }
         ],
         "name": "2002"
        },
        {
         "data": [
          {
           "hovertemplate": "<b>%{hovertext}</b><br><br>Continent_Name=Oceania<br>Year=2003<br>gdi_value=%{marker.size}<br>ExpenditureEducationValue=%{y}<extra></extra>",
           "hovertext": [
            "New Zealand"
           ],
           "ids": [
            "Oceania"
           ],
           "legendgroup": "Oceania",
           "marker": {
            "color": "#636efa",
            "size": [
             172538452222.114
            ],
            "sizemode": "area",
            "sizeref": 3783796695310.0737,
            "symbol": "circle"
           },
           "mode": "markers",
           "name": "Oceania",
           "orientation": "v",
           "showlegend": true,
           "type": "scatter",
           "x": [
            172538452222.114
           ],
           "xaxis": "x",
           "y": [
            19.6698093414307
           ],
           "yaxis": "y"
          },
          {
           "hovertemplate": "<b>%{hovertext}</b><br><br>Continent_Name=Europe<br>Year=2003<br>gdi_value=%{marker.size}<br>ExpenditureEducationValue=%{y}<extra></extra>",
           "hovertext": [
            "Portugal",
            "Norway",
            "Poland",
            "Moldova",
            "Russian Federation",
            "Netherlands",
            "United Kingdom",
            "Ukraine",
            "Turkey",
            "Sweden",
            "Spain",
            "Slovenia",
            "Slovak Republic",
            "Latvia",
            "Cyprus",
            "Croatia",
            "Czech Republic",
            "Bulgaria",
            "Belgium",
            "Azerbaijan",
            "Austria",
            "Albania",
            "Denmark",
            "Italy",
            "Ireland",
            "Iceland",
            "Hungary",
            "Greece",
            "Georgia",
            "France",
            "Finland",
            "Estonia"
           ],
           "ids": [
            "Europe",
            "Europe",
            "Europe",
            "Europe",
            "Europe",
            "Europe",
            "Europe",
            "Europe",
            "Europe",
            "Europe",
            "Europe",
            "Europe",
            "Europe",
            "Europe",
            "Europe",
            "Europe",
            "Europe",
            "Europe",
            "Europe",
            "Europe",
            "Europe",
            "Europe",
            "Europe",
            "Europe",
            "Europe",
            "Europe",
            "Europe",
            "Europe",
            "Europe",
            "Europe",
            "Europe",
            "Europe"
           ],
           "legendgroup": "Europe",
           "marker": {
            "color": "#EF553B",
            "size": [
             169904238332.44,
             2040051438342.19,
             890697915282.855,
             8985206871.55725,
             8598651008246.83,
             570170674120.6229,
             1452836472252.49,
             267344000000,
             75763826188.4988,
             3058695318652.89,
             955038244280.682,
             31406951217.0559,
             49458456765.6709,
             15062535808.7674,
             13538504574.7186,
             286730878809.399,
             3180979271661.19,
             52392537375.3053,
             329543769581.008,
             6402290703.26199,
             267798907883.7,
             479890890595.552,
             1664162794984.8,
             1613730975720.21,
             151315898028.65,
             1396315931246.88,
             25274182649522.4,
             218232010659.65695,
             5669334227.029429,
             1850928804257.84,
             175221455488.85098,
             12547760805.2642
            ],
            "sizemode": "area",
            "sizeref": 3783796695310.0737,
            "symbol": "circle"
           },
           "mode": "markers",
           "name": "Europe",
           "orientation": "v",
           "showlegend": true,
           "type": "scatter",
           "x": [
            169904238332.44,
            2040051438342.19,
            890697915282.855,
            8985206871.55725,
            8598651008246.83,
            570170674120.6229,
            1452836472252.49,
            267344000000,
            75763826188.4988,
            3058695318652.89,
            955038244280.682,
            31406951217.0559,
            49458456765.6709,
            15062535808.7674,
            13538504574.7186,
            286730878809.399,
            3180979271661.19,
            52392537375.3053,
            329543769581.008,
            6402290703.26199,
            267798907883.7,
            479890890595.552,
            1664162794984.8,
            1613730975720.21,
            151315898028.65,
            1396315931246.88,
            25274182649522.4,
            218232010659.65695,
            5669334227.029429,
            1850928804257.84,
            175221455488.85098,
            12547760805.2642
           ],
           "xaxis": "x",
           "y": [
            11.6459503173828,
            15.7551498413086,
            11.9741802215576,
            16.282329559326197,
            10.5316896438599,
            11.4018497467041,
            13.616539955139196,
            14.4195203781128,
            7.14305019378662,
            12.9597597122192,
            10.8875503540039,
            13.695960044860804,
            10.6366195678711,
            10.8068599700928,
            16.5025005340576,
            8.27388954162598,
            8.64953994750977,
            11.1802501678467,
            11.7502202987671,
            11.523289680481,
            10.5492401123047,
            10.5735998153687,
            15.1417503356934,
            9.64083957672119,
            12.752960205078098,
            16.394840240478498,
            11.9148197174072,
            7.952899932861331,
            12.492939949035598,
            10.8421497344971,
            12.775970458984402,
            15.1878299713135
           ],
           "yaxis": "y"
          },
          {
           "hovertemplate": "<b>%{hovertext}</b><br><br>Continent_Name=Africa<br>Year=2003<br>gdi_value=%{marker.size}<br>ExpenditureEducationValue=%{y}<extra></extra>",
           "hovertext": [
            "Namibia",
            "Morocco",
            "Mauritius",
            "Mali",
            "Malawi",
            "Seychelles",
            "Madagascar",
            "Tunisia",
            "Senegal",
            "Togo",
            "Swaziland",
            "South Africa",
            "Sierra Leone",
            "Lesotho",
            "Congo, Rep.",
            "Central African Republic",
            "Cameroon",
            "Benin",
            "Djibouti",
            "Kenya",
            "Guinea",
            "Egypt, Arab Rep."
           ],
           "ids": [
            "Africa",
            "Africa",
            "Africa",
            "Africa",
            "Africa",
            "Africa",
            "Africa",
            "Africa",
            "Africa",
            "Africa",
            "Africa",
            "Africa",
            "Africa",
            "Africa",
            "Africa",
            "Africa",
            "Africa",
            "Africa",
            "Africa",
            "Africa",
            "Africa",
            "Africa"
           ],
           "legendgroup": "Africa",
           "marker": {
            "color": "#00cc96",
            "size": [
             50911388987.3032,
             556486488046.421,
             213484453263.862,
             1122250611865.99,
             489739578578.224,
             4768957813.22471,
             494164533386.197,
             45859131505.4886,
             3620474094331.18,
             951607442082.6808,
             32705913960.1087,
             2004879090054.35,
             4680589225698.3,
             7926479298.708159,
             966828879479.3728,
             666731276304.71,
             7411372197816.15,
             2457694592592.59,
             72555493449.7576,
             2090221896247.15,
             6840950000000,
             389770137524.558
            ],
            "sizemode": "area",
            "sizeref": 3783796695310.0737,
            "symbol": "circle"
           },
           "mode": "markers",
           "name": "Africa",
           "orientation": "v",
           "showlegend": true,
           "type": "scatter",
           "x": [
            50911388987.3032,
            556486488046.421,
            213484453263.862,
            1122250611865.99,
            489739578578.224,
            4768957813.22471,
            494164533386.197,
            45859131505.4886,
            3620474094331.18,
            951607442082.6808,
            32705913960.1087,
            2004879090054.35,
            4680589225698.3,
            7926479298.708159,
            966828879479.3728,
            666731276304.71,
            7411372197816.15,
            2457694592592.59,
            72555493449.7576,
            2090221896247.15,
            6840950000000,
            389770137524.558
           ],
           "xaxis": "x",
           "y": [
            20.3282108306885,
            20.7118606567383,
            15.9108695983887,
            18.2837600708008,
            12.7964696884155,
            12.0431995391846,
            15.7631397247314,
            28.0318794250488,
            16.1175098419189,
            27.7564296722412,
            22.063819885253896,
            19.5923004150391,
            17.3193607330322,
            32.1057281494141,
            9.5199499130249,
            12.028019905090302,
            21.4420204162598,
            16.6825294494629,
            24.271490097045803,
            24.980089187622102,
            11.6247501373291,
            14.043869972229
           ],
           "yaxis": "y"
          },
          {
           "hovertemplate": "<b>%{hovertext}</b><br><br>Continent_Name=Asia<br>Year=2003<br>gdi_value=%{marker.size}<br>ExpenditureEducationValue=%{y}<extra></extra>",
           "hovertext": [
            "Philippines",
            "Oman",
            "Nepal",
            "Maldives",
            "Malaysia",
            "Russian Federation",
            "Tajikistan",
            "Turkey",
            "Syrian Arab Republic",
            "Singapore",
            "Thailand",
            "Kyrgyz Republic",
            "Cyprus",
            "Bangladesh",
            "Azerbaijan",
            "Japan",
            "Israel",
            "Indonesia",
            "India",
            "Iran, Islamic Rep.",
            "Hong Kong SAR, China",
            "Georgia"
           ],
           "ids": [
            "Asia",
            "Asia",
            "Asia",
            "Asia",
            "Asia",
            "Asia",
            "Asia",
            "Asia",
            "Asia",
            "Asia",
            "Asia",
            "Asia",
            "Asia",
            "Asia",
            "Asia",
            "Asia",
            "Asia",
            "Asia",
            "Asia",
            "Asia",
            "Asia",
            "Asia"
           ],
           "legendgroup": "Asia",
           "marker": {
            "color": "#ab63fa",
            "size": [
             4022091055285.21,
             11034955425.2199,
             455204148859.219,
             12039345909.8054,
             540252658417.2271,
             8598651008246.83,
             2146234343.85198,
             75763826188.4988,
             1076459993882.46,
             193236031890.455,
             6248745789873.28,
             23251342145.7978,
             13538504574.7186,
             4041379174448.44,
             6402290703.26199,
             473936822361565,
             654603829111.97,
             4791747692903330,
             47274639436830.1,
             1474478500382290,
             1519366336520.67,
             5669334227.029429
            ],
            "sizemode": "area",
            "sizeref": 3783796695310.0737,
            "symbol": "circle"
           },
           "mode": "markers",
           "name": "Asia",
           "orientation": "v",
           "showlegend": true,
           "type": "scatter",
           "x": [
            4022091055285.21,
            11034955425.2199,
            455204148859.219,
            12039345909.8054,
            540252658417.2271,
            8598651008246.83,
            2146234343.85198,
            75763826188.4988,
            1076459993882.46,
            193236031890.455,
            6248745789873.28,
            23251342145.7978,
            13538504574.7186,
            4041379174448.44,
            6402290703.26199,
            473936822361565,
            654603829111.97,
            4791747692903330,
            47274639436830.1,
            1474478500382290,
            1519366336520.67,
            5669334227.029429
           ],
           "xaxis": "x",
           "y": [
            14.380220413208,
            10.038960456848098,
            21.302179336547898,
            20.3462009429932,
            24.5424404144287,
            10.5316896438599,
            12.694239616394,
            7.14305019378662,
            19.8554000854492,
            22.6797695159912,
            20.8663501739502,
            15.6549997329712,
            16.5025005340576,
            16.6816291809082,
            11.523289680481,
            9.946370124816893,
            12.6816501617432,
            16.278640747070302,
            12.922229766845698,
            21.652959823608303,
            23.2444190979004,
            12.492939949035598
           ],
           "yaxis": "y"
          },
          {
           "hovertemplate": "<b>%{hovertext}</b><br><br>Continent_Name=North America<br>Year=2003<br>gdi_value=%{marker.size}<br>ExpenditureEducationValue=%{y}<extra></extra>",
           "hovertext": [
            "Panama",
            "Nicaragua",
            "Mexico",
            "United States",
            "Trinidad and Tobago",
            "Costa Rica",
            "Belize",
            "Barbados",
            "Dominican Republic",
            "El Salvador"
           ],
           "ids": [
            "North America",
            "North America",
            "North America",
            "North America",
            "North America",
            "North America",
            "North America",
            "North America",
            "North America",
            "North America"
           ],
           "legendgroup": "North America",
           "marker": {
            "color": "#FFA15A",
            "size": [
             15935943934.0726,
             105634227714.34698,
             10121002685052.9,
             13499948565648.4,
             68882626168.2243,
             1532069695609.96,
             1889139960.79632,
             1047715796.43093,
             1196253339859.57,
             7944961501.345459
            ],
            "sizemode": "area",
            "sizeref": 3783796695310.0737,
            "symbol": "circle"
           },
           "mode": "markers",
           "name": "North America",
           "orientation": "v",
           "showlegend": true,
           "type": "scatter",
           "x": [
            15935943934.0726,
            105634227714.34698,
            10121002685052.9,
            13499948565648.4,
            68882626168.2243,
            1532069695609.96,
            1889139960.79632,
            1047715796.43093,
            1196253339859.57,
            7944961501.345459
           ],
           "xaxis": "x",
           "y": [
            16.3430099487305,
            14.887000083923304,
            23.6120300292969,
            16.4283790588379,
            13.3358497619629,
            20.151720046997102,
            16.1585102081299,
            15.665949821472198,
            9.70180988311768,
            14.4400796890259
           ],
           "yaxis": "y"
          },
          {
           "hovertemplate": "<b>%{hovertext}</b><br><br>Continent_Name=South America<br>Year=2003<br>gdi_value=%{marker.size}<br>ExpenditureEducationValue=%{y}<extra></extra>",
           "hovertext": [
            "Peru",
            "Uruguay",
            "Colombia",
            "Chile",
            "Argentina",
            "Bolivia"
           ],
           "ids": [
            "South America",
            "South America",
            "South America",
            "South America",
            "South America",
            "South America"
           ],
           "legendgroup": "South America",
           "marker": {
            "color": "#19d3f3",
            "size": [
             223213526851.886,
             389311981315.692,
             302084502209619,
             66113102104244.7,
             489158690567.715,
             23594438585.3072
            ],
            "sizemode": "area",
            "sizeref": 3783796695310.0737,
            "symbol": "circle"
           },
           "mode": "markers",
           "name": "South America",
           "orientation": "v",
           "showlegend": true,
           "type": "scatter",
           "x": [
            223213526851.886,
            389311981315.692,
            302084502209619,
            66113102104244.7,
            489158690567.715,
            23594438585.3072
           ],
           "xaxis": "x",
           "y": [
            14.6583099365234,
            6.8295001983642605,
            15.537260055542,
            17.604679107665998,
            14.3627901077271,
            19.940959930419897
           ],
           "yaxis": "y"
          }
         ],
         "name": "2003"
        },
        {
         "data": [
          {
           "hovertemplate": "<b>%{hovertext}</b><br><br>Continent_Name=Oceania<br>Year=2004<br>gdi_value=%{marker.size}<br>ExpenditureEducationValue=%{y}<extra></extra>",
           "hovertext": [
            "New Zealand"
           ],
           "ids": [
            "Oceania"
           ],
           "legendgroup": "Oceania",
           "marker": {
            "color": "#636efa",
            "size": [
             181334041082.22305
            ],
            "sizemode": "area",
            "sizeref": 3783796695310.0737,
            "symbol": "circle"
           },
           "mode": "markers",
           "name": "Oceania",
           "orientation": "v",
           "showlegend": true,
           "type": "scatter",
           "x": [
            181334041082.22305
           ],
           "xaxis": "x",
           "y": [
            20.1399993896484
           ],
           "yaxis": "y"
          },
          {
           "hovertemplate": "<b>%{hovertext}</b><br><br>Continent_Name=Europe<br>Year=2004<br>gdi_value=%{marker.size}<br>ExpenditureEducationValue=%{y}<extra></extra>",
           "hovertext": [
            "Norway",
            "Poland",
            "Portugal",
            "Netherlands",
            "Moldova",
            "Malta",
            "Russian Federation",
            "United Kingdom",
            "Ukraine",
            "Turkey",
            "Sweden",
            "Spain",
            "Slovenia",
            "Slovak Republic",
            "Latvia",
            "Austria",
            "Bulgaria",
            "Croatia",
            "Belgium",
            "Belarus",
            "Azerbaijan",
            "Albania",
            "Cyprus",
            "Czech Republic",
            "Kazakhstan",
            "Italy",
            "Ireland",
            "Iceland",
            "Hungary",
            "Estonia",
            "Denmark",
            "France",
            "Georgia",
            "Greece",
            "Finland"
           ],
           "ids": [
            "Europe",
            "Europe",
            "Europe",
            "Europe",
            "Europe",
            "Europe",
            "Europe",
            "Europe",
            "Europe",
            "Europe",
            "Europe",
            "Europe",
            "Europe",
            "Europe",
            "Europe",
            "Europe",
            "Europe",
            "Europe",
            "Europe",
            "Europe",
            "Europe",
            "Europe",
            "Europe",
            "Europe",
            "Europe",
            "Europe",
            "Europe",
            "Europe",
            "Europe",
            "Europe",
            "Europe",
            "Europe",
            "Europe",
            "Europe",
            "Europe"
           ],
           "legendgroup": "Europe",
           "marker": {
            "color": "#EF553B",
            "size": [
             2190096978316.32,
             947461849870.945,
             172780969688.754,
             580438746376.914,
             9220379756.930971,
             4644908558.15645,
             9954673253903.48,
             1490797949056.46,
             306645519028.027,
             83284475355.1936,
             3174837623138.45,
             984139748793.487,
             32634733436.38,
             52232742839.621,
             16462011196.277,
             274645545709.815,
             56016842011.5639,
             301126780919.445,
             339539106300.214,
             12635304531910.9,
             7550245484.68013,
             506883596508.699,
             14243115473.5592,
             3367598668932.81,
             6521072963129.08,
             1636602663534.76,
             157499115666.209,
             1500823894411.4,
             26540547089351.4,
             13353122491.947,
             1713803517502.04,
             1898346226315.44,
             6001405787.34921,
             229333465762.125,
             180934590165.531
            ],
            "sizemode": "area",
            "sizeref": 3783796695310.0737,
            "symbol": "circle"
           },
           "mode": "markers",
           "name": "Europe",
           "orientation": "v",
           "showlegend": true,
           "type": "scatter",
           "x": [
            2190096978316.32,
            947461849870.945,
            172780969688.754,
            580438746376.914,
            9220379756.930971,
            4644908558.15645,
            9954673253903.48,
            1490797949056.46,
            306645519028.027,
            83284475355.1936,
            3174837623138.45,
            984139748793.487,
            32634733436.38,
            52232742839.621,
            16462011196.277,
            274645545709.815,
            56016842011.5639,
            301126780919.445,
            339539106300.214,
            12635304531910.9,
            7550245484.68013,
            506883596508.699,
            14243115473.5592,
            3367598668932.81,
            6521072963129.08,
            1636602663534.76,
            157499115666.209,
            1500823894411.4,
            26540547089351.4,
            13353122491.947,
            1713803517502.04,
            1898346226315.44,
            6001405787.34921,
            229333465762.125,
            180934590165.531
           ],
           "xaxis": "x",
           "y": [
            16.5360507965088,
            12.6810998916626,
            10.9462099075317,
            11.7195596694946,
            19.553730010986303,
            10.5651597976685,
            11.1759099960327,
            12.955510139465302,
            12.781749725341802,
            8.75745010375977,
            13.0808696746826,
            10.7262897491455,
            13.4990196228027,
            10.9335498809814,
            10.1919403076172,
            9.95687007904053,
            6.70300006866455,
            8.19225978851318,
            12.013879776001,
            12.8464202880859,
            13.3316402435303,
            10.703160285949698,
            15.771129608154302,
            9.69723987579346,
            10.2669200897217,
            9.38801002502441,
            13.5497102737427,
            16.824970245361303,
            11.0919599533081,
            14.4886598587036,
            15.4868602752686,
            10.732310295105,
            15.0367603302002,
            8.422670364379881,
            12.7789602279663
           ],
           "yaxis": "y"
          },
          {
           "hovertemplate": "<b>%{hovertext}</b><br><br>Continent_Name=Africa<br>Year=2004<br>gdi_value=%{marker.size}<br>ExpenditureEducationValue=%{y}<extra></extra>",
           "hovertext": [
            "Madagascar",
            "Morocco",
            "Mauritius",
            "Mauritania",
            "Mali",
            "Lesotho",
            "Mozambique",
            "Zambia",
            "Senegal",
            "Uganda",
            "Tunisia",
            "Togo",
            "Tanzania",
            "Swaziland",
            "Sudan",
            "South Africa",
            "Sierra Leone",
            "Congo, Rep.",
            "Chad",
            "Central African Republic",
            "Cameroon",
            "Burundi",
            "Benin",
            "Kenya",
            "Djibouti",
            "Egypt, Arab Rep.",
            "Eritrea"
           ],
           "ids": [
            "Africa",
            "Africa",
            "Africa",
            "Africa",
            "Africa",
            "Africa",
            "Africa",
            "Africa",
            "Africa",
            "Africa",
            "Africa",
            "Africa",
            "Africa",
            "Africa",
            "Africa",
            "Africa",
            "Africa",
            "Africa",
            "Africa",
            "Africa",
            "Africa",
            "Africa",
            "Africa",
            "Africa",
            "Africa",
            "Africa",
            "Africa"
           ],
           "legendgroup": "Africa",
           "marker": {
            "color": "#00cc96",
            "size": [
             515814569871.35205,
             578250305763.27,
             220041362037.945,
             485862882307.03,
             1160207863940.14,
             7972537700,
             200493367045.252,
             58906419327.1848,
             3767406265205.31,
             25958879169930.8,
             48705034310.4317,
             932377927311.744,
             21564652394031.6,
             33317222726.0502,
             19348677233.2298,
             2108711980317.05,
             5051302281322.66,
             1262906877379.01,
             3835612308705.67,
             706703576655.4391,
             7668991123431.74,
             1183437638686.21,
             2597585913994.83,
             2192697298871.95,
             75331846945.3899,
             405311977715.878,
             7353871398.86687
            ],
            "sizemode": "area",
            "sizeref": 3783796695310.0737,
            "symbol": "circle"
           },
           "mode": "markers",
           "name": "Africa",
           "orientation": "v",
           "showlegend": true,
           "type": "scatter",
           "x": [
            515814569871.35205,
            578250305763.27,
            220041362037.945,
            485862882307.03,
            1160207863940.14,
            7972537700,
            200493367045.252,
            58906419327.1848,
            3767406265205.31,
            25958879169930.8,
            48705034310.4317,
            932377927311.744,
            21564652394031.6,
            33317222726.0502,
            19348677233.2298,
            2108711980317.05,
            5051302281322.66,
            1262906877379.01,
            3835612308705.67,
            706703576655.4391,
            7668991123431.74,
            1183437638686.21,
            2597585913994.83,
            2192697298871.95,
            75331846945.3899,
            405311977715.878,
            7353871398.86687
           ],
           "xaxis": "x",
           "y": [
            12.9607696533203,
            20.0115604400635,
            16.2123908996582,
            8.17586040496826,
            17.736349105835,
            27.6499004364014,
            18.001539230346697,
            10.5849895477295,
            16.9622497558594,
            21.8537101745605,
            27.7362098693848,
            21.8306903839111,
            19.492639541626,
            21.104070663452102,
            7.94924020767212,
            19.9346294403076,
            17.1487998962402,
            8.56180953979492,
            11.0319004058838,
            12.0644598007202,
            20.8471202850342,
            12.9588298797607,
            19.2139492034912,
            26.668149948120103,
            24.7011394500732,
            13.7928304672241,
            5.7418498992919895
           ],
           "yaxis": "y"
          },
          {
           "hovertemplate": "<b>%{hovertext}</b><br><br>Continent_Name=Asia<br>Year=2004<br>gdi_value=%{marker.size}<br>ExpenditureEducationValue=%{y}<extra></extra>",
           "hovertext": [
            "Oman",
            "Pakistan",
            "Philippines",
            "Nepal",
            "Maldives",
            "Malaysia",
            "Qatar",
            "Lebanon",
            "Turkey",
            "Thailand",
            "Tajikistan",
            "Syrian Arab Republic",
            "Singapore",
            "Russian Federation",
            "Kyrgyz Republic",
            "Cambodia",
            "Bangladesh",
            "Azerbaijan",
            "Lao PDR",
            "Bhutan",
            "Cyprus",
            "Kazakhstan",
            "Japan",
            "Israel",
            "Iran, Islamic Rep.",
            "Indonesia",
            "India",
            "Hong Kong SAR, China",
            "Georgia"
           ],
           "ids": [
            "Asia",
            "Asia",
            "Asia",
            "Asia",
            "Asia",
            "Asia",
            "Asia",
            "Asia",
            "Asia",
            "Asia",
            "Asia",
            "Asia",
            "Asia",
            "Asia",
            "Asia",
            "Asia",
            "Asia",
            "Asia",
            "Asia",
            "Asia",
            "Asia",
            "Asia",
            "Asia",
            "Asia",
            "Asia",
            "Asia",
            "Asia",
            "Asia",
            "Asia"
           ],
           "legendgroup": "Asia",
           "marker": {
            "color": "#ab63fa",
            "size": [
             12080148878.6814,
             7359605619797.94,
             4252392064852.61,
             475795404124.228,
             13584003360.5341,
             584098858491.999,
             163059994482.80402,
             32347482441589,
             83284475355.1936,
             6694091047893,
             2318428369.9134,
             1145648779183.65,
             216080464166.883,
             9954673253903.48,
             24853231848.5647,
             19593482432622,
             4260965428307.88,
             7550245484.68013,
             19947118714294.7,
             26959170515.7778,
             14243115473.5592,
             6521072963129.08,
             483623442159710,
             682944159574.7379,
             1582365567461180,
             5031421631028400,
             50276698463912.9,
             1592124406132.53,
             6001405787.34921
            ],
            "sizemode": "area",
            "sizeref": 3783796695310.0737,
            "symbol": "circle"
           },
           "mode": "markers",
           "name": "Asia",
           "orientation": "v",
           "showlegend": true,
           "type": "scatter",
           "x": [
            12080148878.6814,
            7359605619797.94,
            4252392064852.61,
            475795404124.228,
            13584003360.5341,
            584098858491.999,
            163059994482.80402,
            32347482441589,
            83284475355.1936,
            6694091047893,
            2318428369.9134,
            1145648779183.65,
            216080464166.883,
            9954673253903.48,
            24853231848.5647,
            19593482432622,
            4260965428307.88,
            7550245484.68013,
            19947118714294.7,
            26959170515.7778,
            14243115473.5592,
            6521072963129.08,
            483623442159710,
            682944159574.7379,
            1582365567461180,
            5031421631028400,
            50276698463912.9,
            1592124406132.53,
            6001405787.34921
           ],
           "xaxis": "x",
           "y": [
            10.3164701461791,
            11.229350090026902,
            12.750849723815902,
            21.60618019104,
            19.4792404174805,
            21.012920379638697,
            7.28412008285522,
            7.93123006820679,
            8.75745010375977,
            21.457670211792,
            13.6767597198486,
            17.1453990936279,
            26.360670089721697,
            11.1759099960327,
            15.9067001342773,
            12.4043102264404,
            15.953120231628402,
            13.3316402435303,
            16.243829727172898,
            18.8499393463135,
            15.771129608154302,
            10.2669200897217,
            9.93784046173096,
            12.6044597625732,
            21.474050521850604,
            14.170299530029302,
            11.552189826965302,
            23.151309967041,
            15.0367603302002
           ],
           "yaxis": "y"
          },
          {
           "hovertemplate": "<b>%{hovertext}</b><br><br>Continent_Name=North America<br>Year=2004<br>gdi_value=%{marker.size}<br>ExpenditureEducationValue=%{y}<extra></extra>",
           "hovertext": [
            "Panama",
            "Mexico",
            "United States",
            "Costa Rica",
            "Belize",
            "Barbados"
           ],
           "ids": [
            "North America",
            "North America",
            "North America",
            "North America",
            "North America",
            "North America"
           ],
           "legendgroup": "North America",
           "marker": {
            "color": "#FFA15A",
            "size": [
             16522560022.6838,
             10534286182959,
             13998620085369.6,
             1579638266851.86,
             1907870681.2601,
             1013625828.7691
            ],
            "sizemode": "area",
            "sizeref": 3783796695310.0737,
            "symbol": "circle"
           },
           "mode": "markers",
           "name": "North America",
           "orientation": "v",
           "showlegend": true,
           "type": "scatter",
           "x": [
            16522560022.6838,
            10534286182959,
            13998620085369.6,
            1579638266851.86,
            1907870681.2601,
            1013625828.7691
           ],
           "xaxis": "x",
           "y": [
            14.5682697296143,
            22.8481998443604,
            15.5266304016113,
            20.430889129638697,
            16.8213405609131,
            15.3879299163818
           ],
           "yaxis": "y"
          },
          {
           "hovertemplate": "<b>%{hovertext}</b><br><br>Continent_Name=South America<br>Year=2004<br>gdi_value=%{marker.size}<br>ExpenditureEducationValue=%{y}<extra></extra>",
           "hovertext": [
            "Peru",
            "Uruguay",
            "Colombia",
            "Chile",
            "Brazil",
            "Argentina"
           ],
           "ids": [
            "South America",
            "South America",
            "South America",
            "South America",
            "South America",
            "South America"
           ],
           "legendgroup": "South America",
           "marker": {
            "color": "#19d3f3",
            "size": [
             238355852600.482,
             404679650579.337,
             320803878148400,
             74102350331792.3,
             1346943145999.71,
             535828336083.091
            ],
            "sizemode": "area",
            "sizeref": 3783796695310.0737,
            "symbol": "circle"
           },
           "mode": "markers",
           "name": "South America",
           "orientation": "v",
           "showlegend": true,
           "type": "scatter",
           "x": [
            238355852600.482,
            404679650579.337,
            320803878148400,
            74102350331792.3,
            1346943145999.71,
            535828336083.091
           ],
           "xaxis": "x",
           "y": [
            15.273850440979,
            8.42053985595703,
            15.4397802352905,
            16.9748802185059,
            10.3937196731567,
            15.1602001190186
           ],
           "yaxis": "y"
          }
         ],
         "name": "2004"
        },
        {
         "data": [
          {
           "hovertemplate": "<b>%{hovertext}</b><br><br>Continent_Name=Oceania<br>Year=2005<br>gdi_value=%{marker.size}<br>ExpenditureEducationValue=%{y}<extra></extra>",
           "hovertext": [
            "New Zealand",
            "Australia"
           ],
           "ids": [
            "Oceania",
            "Oceania"
           ],
           "legendgroup": "Oceania",
           "marker": {
            "color": "#636efa",
            "size": [
             187275052021.466,
             1172150833775.92
            ],
            "sizemode": "area",
            "sizeref": 3783796695310.0737,
            "symbol": "circle"
           },
           "mode": "markers",
           "name": "Oceania",
           "orientation": "v",
           "showlegend": true,
           "type": "scatter",
           "x": [
            187275052021.466,
            1172150833775.92
           ],
           "xaxis": "x",
           "y": [
            19.4904804229736,
            13.585129737854
           ],
           "yaxis": "y"
          },
          {
           "hovertemplate": "<b>%{hovertext}</b><br><br>Continent_Name=Europe<br>Year=2005<br>gdi_value=%{marker.size}<br>ExpenditureEducationValue=%{y}<extra></extra>",
           "hovertext": [
            "Norway",
            "Netherlands",
            "Moldova",
            "Poland",
            "Sweden",
            "Russian Federation",
            "Kazakhstan",
            "United Kingdom",
            "Ukraine",
            "Portugal",
            "Spain",
            "Slovenia",
            "Slovak Republic",
            "Italy",
            "Bulgaria",
            "Belgium",
            "Azerbaijan",
            "Austria",
            "Armenia",
            "Albania",
            "Belarus",
            "Iceland",
            "Hungary",
            "Greece",
            "Georgia",
            "France",
            "Ireland",
            "Estonia",
            "Denmark",
            "Czech Republic",
            "Cyprus",
            "Finland"
           ],
           "ids": [
            "Europe",
            "Europe",
            "Europe",
            "Europe",
            "Europe",
            "Europe",
            "Europe",
            "Europe",
            "Europe",
            "Europe",
            "Europe",
            "Europe",
            "Europe",
            "Europe",
            "Europe",
            "Europe",
            "Europe",
            "Europe",
            "Europe",
            "Europe",
            "Europe",
            "Europe",
            "Europe",
            "Europe",
            "Europe",
            "Europe",
            "Europe",
            "Europe",
            "Europe",
            "Europe",
            "Europe",
            "Europe"
           ],
           "legendgroup": "Europe",
           "marker": {
            "color": "#EF553B",
            "size": [
             2383160934613.25,
             594470270281.184,
             9497014624.82706,
             984919000000,
             3237109900478.68,
             11469196018140.2,
             7590593500000,
             1533358037899.68,
             318326338398.99896,
             173572744036.259,
             1022914666270.64,
             33573006368.2971,
             55653322491.7379,
             1639367473805.19,
             59803736500.8219,
             345063319061.68604,
             11251238132.5965,
             279629696967.497,
             1431037523708.75,
             525479501033.688,
             14910960281151.4,
             1597872016567.92,
             27457348036312.5,
             230282171553.872,
             6577519183.858911,
             1922295876201.03,
             165855035680.99698,
             14728467233.0646,
             1767574287000.84,
             3549040541572.22,
             14691270094.7822,
             183770968038.668
            ],
            "sizemode": "area",
            "sizeref": 3783796695310.0737,
            "symbol": "circle"
           },
           "mode": "markers",
           "name": "Europe",
           "orientation": "v",
           "showlegend": true,
           "type": "scatter",
           "x": [
            2383160934613.25,
            594470270281.184,
            9497014624.82706,
            984919000000,
            3237109900478.68,
            11469196018140.2,
            7590593500000,
            1533358037899.68,
            318326338398.99896,
            173572744036.259,
            1022914666270.64,
            33573006368.2971,
            55653322491.7379,
            1639367473805.19,
            59803736500.8219,
            345063319061.68604,
            11251238132.5965,
            279629696967.497,
            1431037523708.75,
            525479501033.688,
            14910960281151.4,
            1597872016567.92,
            27457348036312.5,
            230282171553.872,
            6577519183.858911,
            1922295876201.03,
            165855035680.99698,
            14728467233.0646,
            1767574287000.84,
            3549040541572.22,
            14691270094.7822,
            183770968038.668
           ],
           "xaxis": "x",
           "y": [
            16.7516994476318,
            12.190899848938,
            19.350650787353494,
            12.1864995956421,
            12.7873296737671,
            11.9505701065063,
            10.2278003692627,
            13.186650276184098,
            13.7386503219604,
            10.863539695739698,
            10.7814502716064,
            13.2905502319336,
            9.59239959716797,
            9.0137300491333,
            12.0725202560425,
            11.3502998352051,
            13.1206798553467,
            10.3396596908569,
            13.6480903625488,
            11.3579702377319,
            12.9149398803711,
            17.8096103668213,
            10.9096202850342,
            9.17249011993408,
            11.1812496185303,
            10.4009199142456,
            13.5801296234131,
            14.5233497619629,
            15.7793397903442,
            9.47811031341553,
            15.7937202453613,
            12.249699592590302
           ],
           "yaxis": "y"
          },
          {
           "hovertemplate": "<b>%{hovertext}</b><br><br>Continent_Name=Africa<br>Year=2005<br>gdi_value=%{marker.size}<br>ExpenditureEducationValue=%{y}<extra></extra>",
           "hovertext": [
            "Morocco",
            "Mozambique",
            "Lesotho",
            "Mauritius",
            "Mali",
            "Madagascar",
            "Kenya",
            "Zambia",
            "Tunisia",
            "Togo",
            "Tanzania",
            "Swaziland",
            "Sudan",
            "South Africa",
            "Sierra Leone",
            "Senegal",
            "Cameroon",
            "Burundi",
            "Burkina Faso",
            "Botswana",
            "Benin",
            "Central African Republic",
            "Chad",
            "Egypt, Arab Rep.",
            "Djibouti",
            "Congo, Rep."
           ],
           "ids": [
            "Africa",
            "Africa",
            "Africa",
            "Africa",
            "Africa",
            "Africa",
            "Africa",
            "Africa",
            "Africa",
            "Africa",
            "Africa",
            "Africa",
            "Africa",
            "Africa",
            "Africa",
            "Africa",
            "Africa",
            "Africa",
            "Africa",
            "Africa",
            "Africa",
            "Africa",
            "Africa",
            "Africa",
            "Africa",
            "Africa"
           ],
           "legendgroup": "Africa",
           "marker": {
            "color": "#00cc96",
            "size": [
             589209125552.22,
             222283731892.555,
             8226466513.835859,
             212327189400,
             1200511685355.14,
             520390624781.99896,
             2330871747719.23,
             60093087773.5035,
             50501332754.6471,
             886842377610.716,
             23310588826669.9,
             34147749149.2238,
             19768052967.6603,
             2226025537476.07,
             5299611290445.9,
             3998131283286.6,
             7812055417907.79,
             1208400000000,
             2604015676389.75,
             54545111781.4065,
             2596497519083.97,
             713119061198.305,
             3505903000000,
             423725170842.825,
             77719565956.5071,
             1404151578699.05
            ],
            "sizemode": "area",
            "sizeref": 3783796695310.0737,
            "symbol": "circle"
           },
           "mode": "markers",
           "name": "Africa",
           "orientation": "v",
           "showlegend": true,
           "type": "scatter",
           "x": [
            589209125552.22,
            222283731892.555,
            8226466513.835859,
            212327189400,
            1200511685355.14,
            520390624781.99896,
            2330871747719.23,
            60093087773.5035,
            50501332754.6471,
            886842377610.716,
            23310588826669.9,
            34147749149.2238,
            19768052967.6603,
            2226025537476.07,
            5299611290445.9,
            3998131283286.6,
            7812055417907.79,
            1208400000000,
            2604015676389.75,
            54545111781.4065,
            2596497519083.97,
            713119061198.305,
            3505903000000,
            423725170842.825,
            77719565956.5071,
            1404151578699.05
           ],
           "xaxis": "x",
           "y": [
            22.4466495513916,
            22.7181797027588,
            32.404918670654205,
            15.821660041809098,
            16.2803001403809,
            18.033039093017603,
            27.3088397979736,
            7.729730129241941,
            26.737970352172898,
            17.6780796051025,
            18.143140792846697,
            20.8918590545654,
            5.96680021286011,
            19.9249897003174,
            15.506609916687,
            21.7709693908691,
            21.377609252929695,
            13.8704204559326,
            19.4941902160645,
            25.8235301971436,
            18.7903900146484,
            9.68047046661376,
            14.6728200912476,
            14.4214496612549,
            22.7150497436523,
            7.59781980514526
           ],
           "yaxis": "y"
          },
          {
           "hovertemplate": "<b>%{hovertext}</b><br><br>Continent_Name=Asia<br>Year=2005<br>gdi_value=%{marker.size}<br>ExpenditureEducationValue=%{y}<extra></extra>",
           "hovertext": [
            "Pakistan",
            "Oman",
            "Nepal",
            "Lebanon",
            "Lao PDR",
            "Kyrgyz Republic",
            "Kazakhstan",
            "Philippines",
            "Thailand",
            "Singapore",
            "Russian Federation",
            "Tajikistan",
            "Japan",
            "Israel",
            "Azerbaijan",
            "Armenia",
            "Bhutan",
            "Iran, Islamic Rep.",
            "Indonesia",
            "India",
            "Hong Kong SAR, China",
            "Georgia",
            "Cyprus"
           ],
           "ids": [
            "Asia",
            "Asia",
            "Asia",
            "Asia",
            "Asia",
            "Asia",
            "Asia",
            "Asia",
            "Asia",
            "Asia",
            "Asia",
            "Asia",
            "Asia",
            "Asia",
            "Asia",
            "Asia",
            "Asia",
            "Asia",
            "Asia",
            "Asia",
            "Asia",
            "Asia",
            "Asia"
           ],
           "legendgroup": "Asia",
           "marker": {
            "color": "#ab63fa",
            "size": [
             7877710067144.25,
             13940705145.4741,
             489952700677.924,
             32570005781324.1,
             21364873814647.2,
             24734211632.3378,
             7590593500000,
             4404234841110.89,
             6925445618075.84,
             233424047909.67,
             11469196018140.2,
             1727974886.16968,
             484799200007746,
             708953984141.523,
             11251238132.5965,
             1431037523708.75,
             28879353447.1724,
             1750387152265940,
             5307779307251270,
             54983111850444.8,
             1688699943955.76,
             6577519183.858911,
             14691270094.7822
            ],
            "sizemode": "area",
            "sizeref": 3783796695310.0737,
            "symbol": "circle"
           },
           "mode": "markers",
           "name": "Asia",
           "orientation": "v",
           "showlegend": true,
           "type": "scatter",
           "x": [
            7877710067144.25,
            13940705145.4741,
            489952700677.924,
            32570005781324.1,
            21364873814647.2,
            24734211632.3378,
            7590593500000,
            4404234841110.89,
            6925445618075.84,
            233424047909.67,
            11469196018140.2,
            1727974886.16968,
            484799200007746,
            708953984141.523,
            11251238132.5965,
            1431037523708.75,
            28879353447.1724,
            1750387152265940,
            5307779307251270,
            54983111850444.8,
            1688699943955.76,
            6577519183.858911,
            14691270094.7822
           ],
           "xaxis": "x",
           "y": [
            13.7775096893311,
            10.053640365600598,
            22.2768898010254,
            8.42131042480469,
            13.7315797805786,
            16.4619197845458,
            10.2278003692627,
            12.4223604202271,
            20.5468196868896,
            23.852300643920803,
            11.9505701065063,
            15.2933797836304,
            10.2918195724487,
            12.5063695907593,
            13.1206798553467,
            13.6480903625488,
            17.4828205108643,
            22.321960449218803,
            15.1487998962402,
            11.5321502685547,
            22.4784107208252,
            11.1812496185303,
            15.7937202453613
           ],
           "yaxis": "y"
          },
          {
           "hovertemplate": "<b>%{hovertext}</b><br><br>Continent_Name=North America<br>Year=2005<br>gdi_value=%{marker.size}<br>ExpenditureEducationValue=%{y}<extra></extra>",
           "hovertext": [
            "Mexico",
            "United States",
            "Canada",
            "Barbados",
            "El Salvador"
           ],
           "ids": [
            "North America",
            "North America",
            "North America",
            "North America",
            "North America"
           ],
           "legendgroup": "North America",
           "marker": {
            "color": "#FFA15A",
            "size": [
             10933029064771.5,
             14443582613984.7,
             1541741070692.19,
             980738720.872583,
             8200093242.72411
            ],
            "sizemode": "area",
            "sizeref": 3783796695310.0737,
            "symbol": "circle"
           },
           "mode": "markers",
           "name": "North America",
           "orientation": "v",
           "showlegend": true,
           "type": "scatter",
           "x": [
            10933029064771.5,
            14443582613984.7,
            1541741070692.19,
            980738720.872583,
            8200093242.72411
           ],
           "xaxis": "x",
           "y": [
            22.6173496246338,
            14.975520133972198,
            12.2474498748779,
            15.3954401016235,
            14.6558198928833
           ],
           "yaxis": "y"
          },
          {
           "hovertemplate": "<b>%{hovertext}</b><br><br>Continent_Name=South America<br>Year=2005<br>gdi_value=%{marker.size}<br>ExpenditureEducationValue=%{y}<extra></extra>",
           "hovertext": [
            "Peru",
            "Uruguay",
            "Brazil",
            "Argentina",
            "Colombia",
            "Chile"
           ],
           "ids": [
            "South America",
            "South America",
            "South America",
            "South America",
            "South America",
            "South America"
           ],
           "legendgroup": "South America",
           "marker": {
            "color": "#19d3f3",
            "size": [
             254746925190.798,
             425018448100,
             1389918913688.54,
             582228329143.297,
             340156000000000,
             81062472878854.8
            ],
            "sizemode": "area",
            "sizeref": 3783796695310.0737,
            "symbol": "circle"
           },
           "mode": "markers",
           "name": "South America",
           "orientation": "v",
           "showlegend": true,
           "type": "scatter",
           "x": [
            254746925190.798,
            425018448100,
            1389918913688.54,
            582228329143.297,
            340156000000000,
            81062472878854.8
           ],
           "xaxis": "x",
           "y": [
            14.2785196304321,
            9.46483039855957,
            11.2567195892334,
            15.8062801361084,
            15.5356101989746,
            16.122249603271502
           ],
           "yaxis": "y"
          }
         ],
         "name": "2005"
        },
        {
         "data": [
          {
           "hovertemplate": "<b>%{hovertext}</b><br><br>Continent_Name=Oceania<br>Year=2006<br>gdi_value=%{marker.size}<br>ExpenditureEducationValue=%{y}<extra></extra>",
           "hovertext": [
            "New Zealand",
            "Australia"
           ],
           "ids": [
            "Oceania",
            "Oceania"
           ],
           "legendgroup": "Oceania",
           "marker": {
            "color": "#636efa",
            "size": [
             191681440264.435,
             1226635804572.14
            ],
            "sizemode": "area",
            "sizeref": 3783796695310.0737,
            "symbol": "circle"
           },
           "mode": "markers",
           "name": "Oceania",
           "orientation": "v",
           "showlegend": true,
           "type": "scatter",
           "x": [
            191681440264.435,
            1226635804572.14
           ],
           "xaxis": "x",
           "y": [
            18.058889389038104,
            13.1781997680664
           ],
           "yaxis": "y"
          },
          {
           "hovertemplate": "<b>%{hovertext}</b><br><br>Continent_Name=Europe<br>Year=2006<br>gdi_value=%{marker.size}<br>ExpenditureEducationValue=%{y}<extra></extra>",
           "hovertext": [
            "Poland",
            "Netherlands",
            "Norway",
            "Moldova",
            "Latvia",
            "Portugal",
            "United Kingdom",
            "Ukraine",
            "Turkey",
            "Russian Federation",
            "Sweden",
            "Spain",
            "Slovenia",
            "Slovak Republic",
            "Bulgaria",
            "Belgium",
            "Belarus",
            "Azerbaijan",
            "Austria",
            "Armenia",
            "Cyprus",
            "Albania",
            "Denmark",
            "Kazakhstan",
            "Italy",
            "Ireland",
            "Czech Republic",
            "Iceland",
            "Hungary",
            "France",
            "Georgia",
            "Germany",
            "Finland"
           ],
           "ids": [
            "Europe",
            "Europe",
            "Europe",
            "Europe",
            "Europe",
            "Europe",
            "Europe",
            "Europe",
            "Europe",
            "Europe",
            "Europe",
            "Europe",
            "Europe",
            "Europe",
            "Europe",
            "Europe",
            "Europe",
            "Europe",
            "Europe",
            "Europe",
            "Europe",
            "Europe",
            "Europe",
            "Europe",
            "Europe",
            "Europe",
            "Europe",
            "Europe",
            "Europe",
            "Europe",
            "Europe",
            "Europe",
            "Europe"
           ],
           "legendgroup": "Europe",
           "marker": {
            "color": "#EF553B",
            "size": [
             1045664650295.62,
             616326429944.553,
             2557571115356.94,
             9851524110.05173,
             20257176050.3987,
             176440506701.20398,
             1571289832871.01,
             348367456658.076,
             95393330898.8629,
             13163816752346.9,
             3384024217791.77,
             1065985932429.56,
             35379822027.3451,
             60025751425.4351,
             65493141441.3571,
             351940624149.52795,
             16806132645318.1,
             17256364300.8223,
             287564618909.55,
             1618956227543.28,
             15345855903.7554,
             551447781883.152,
             1828888321842.06,
             8887531194822.42,
             1659473454257.41,
             175301548289.266,
             3750788640874.01,
             1679753947253.9,
             28276741486613.1,
             1960082213961.54,
             7194705998.828859,
             2510025782943.17,
             189029363275.913
            ],
            "sizemode": "area",
            "sizeref": 3783796695310.0737,
            "symbol": "circle"
           },
           "mode": "markers",
           "name": "Europe",
           "orientation": "v",
           "showlegend": true,
           "type": "scatter",
           "x": [
            1045664650295.62,
            616326429944.553,
            2557571115356.94,
            9851524110.05173,
            20257176050.3987,
            176440506701.20398,
            1571289832871.01,
            348367456658.076,
            95393330898.8629,
            13163816752346.9,
            3384024217791.77,
            1065985932429.56,
            35379822027.3451,
            60025751425.4351,
            65493141441.3571,
            351940624149.52795,
            16806132645318.1,
            17256364300.8223,
            287564618909.55,
            1618956227543.28,
            15345855903.7554,
            551447781883.152,
            1828888321842.06,
            8887531194822.42,
            1659473454257.41,
            175301548289.266,
            3750788640874.01,
            1679753947253.9,
            28276741486613.1,
            1960082213961.54,
            7194705998.828859,
            2510025782943.17,
            189029363275.913
           ],
           "xaxis": "x",
           "y": [
            12.6283302307129,
            11.8270702362061,
            16.233539581298803,
            18.6719703674316,
            9.77717018127441,
            11.4394397735596,
            13.2210702896118,
            13.9232301712036,
            8.55447959899902,
            12.4258003234863,
            12.7999801635742,
            10.8887901306152,
            13.3197002410889,
            9.67681980133057,
            12.010479927063,
            12.2234497070313,
            12.696439743042,
            9.5108699798584,
            10.4633798599243,
            13.578519821167,
            16.135799407959002,
            10.9329500198364,
            15.5126399993896,
            13.2673397064209,
            9.52719020843506,
            13.429759979248,
            10.5287199020386,
            17.925279617309602,
            10.427470207214402,
            10.367300033569302,
            12.8953895568848,
            9.76033973693848,
            12.2838201522827
           ],
           "yaxis": "y"
          },
          {
           "hovertemplate": "<b>%{hovertext}</b><br><br>Continent_Name=Africa<br>Year=2006<br>gdi_value=%{marker.size}<br>ExpenditureEducationValue=%{y}<extra></extra>",
           "hovertext": [
            "Niger",
            "Namibia",
            "Mauritius",
            "Morocco",
            "Mauritania",
            "Madagascar",
            "Lesotho",
            "Mozambique",
            "Tunisia",
            "Togo",
            "Tanzania",
            "Swaziland",
            "Sudan",
            "South Africa",
            "Seychelles",
            "Senegal",
            "Kenya",
            "Central African Republic",
            "Cameroon",
            "Burkina Faso",
            "Benin",
            "Ghana",
            "Egypt, Arab Rep.",
            "Eritrea",
            "Djibouti"
           ],
           "ids": [
            "Africa",
            "Africa",
            "Africa",
            "Africa",
            "Africa",
            "Africa",
            "Africa",
            "Africa",
            "Africa",
            "Africa",
            "Africa",
            "Africa",
            "Africa",
            "Africa",
            "Africa",
            "Africa",
            "Africa",
            "Africa",
            "Africa",
            "Africa",
            "Africa",
            "Africa",
            "Africa",
            "Africa",
            "Africa"
           ],
           "legendgroup": "Africa",
           "marker": {
            "color": "#00cc96",
            "size": [
             1906838000000,
             67234601452.5254,
             213444000000,
             630741452172.586,
             724812153941.101,
             540816278851.019,
             8646472594.48897,
             245147689704.963,
             53025055890.5748,
             917218387918.519,
             24597280570556.4,
             35228495129.6425,
             20439058642.2029,
             2380280920601.25,
             5610323700,
             4081002158200.34,
             2524701438717.35,
             717939365040.23,
             8322784806486.89,
             2762836317590.22,
             2696772321428.57,
             18705084600,
             455912820512.821,
             7319869681.94017,
             81450000007.2684
            ],
            "sizemode": "area",
            "sizeref": 3783796695310.0737,
            "symbol": "circle"
           },
           "mode": "markers",
           "name": "Africa",
           "orientation": "v",
           "showlegend": true,
           "type": "scatter",
           "x": [
            1906838000000,
            67234601452.5254,
            213444000000,
            630741452172.586,
            724812153941.101,
            540816278851.019,
            8646472594.48897,
            245147689704.963,
            53025055890.5748,
            917218387918.519,
            24597280570556.4,
            35228495129.6425,
            20439058642.2029,
            2380280920601.25,
            5610323700,
            4081002158200.34,
            2524701438717.35,
            717939365040.23,
            8322784806486.89,
            2762836317590.22,
            2696772321428.57,
            18705084600,
            455912820512.821,
            7319869681.94017,
            81450000007.2684
           ],
           "xaxis": "x",
           "y": [
            16.883769989013697,
            21.6029891967773,
            14.1383304595947,
            18.6764698028564,
            10.3102903366089,
            15.3241901397705,
            28.233810424804695,
            18.5500392913818,
            27.1384391784668,
            17.2866497039795,
            15.0141201019287,
            22.7075691223145,
            8.25316047668457,
            19.6818504333496,
            10.9545202255249,
            17.9546394348145,
            24.9559707641602,
            10.0542402267456,
            20.312650680542,
            18.2017002105713,
            19.7096099853516,
            24.161979675293,
            10.5962295532227,
            5.16806983947754,
            22.145410537719695
           ],
           "yaxis": "y"
          },
          {
           "hovertemplate": "<b>%{hovertext}</b><br><br>Continent_Name=Asia<br>Year=2006<br>gdi_value=%{marker.size}<br>ExpenditureEducationValue=%{y}<extra></extra>",
           "hovertext": [
            "Philippines",
            "Oman",
            "Pakistan",
            "Nepal",
            "Malaysia",
            "Lebanon",
            "Russian Federation",
            "Lao PDR",
            "Turkey",
            "Thailand",
            "Syrian Arab Republic",
            "Tajikistan",
            "Kyrgyz Republic",
            "Kazakhstan",
            "Bangladesh",
            "Bahrain",
            "Azerbaijan",
            "Armenia",
            "Cyprus",
            "Japan",
            "Israel",
            "Iran, Islamic Rep.",
            "Hong Kong SAR, China",
            "India",
            "Georgia"
           ],
           "ids": [
            "Asia",
            "Asia",
            "Asia",
            "Asia",
            "Asia",
            "Asia",
            "Asia",
            "Asia",
            "Asia",
            "Asia",
            "Asia",
            "Asia",
            "Asia",
            "Asia",
            "Asia",
            "Asia",
            "Asia",
            "Asia",
            "Asia",
            "Asia",
            "Asia",
            "Asia",
            "Asia",
            "Asia",
            "Asia"
           ],
           "legendgroup": "Asia",
           "marker": {
            "color": "#ab63fa",
            "size": [
             4611636442511.34,
             15853654358.8612,
             8216160000000,
             502288835545.748,
             674466534940.339,
             32752158884174.4,
             13163816752346.9,
             23206369163766.6,
             95393330898.8629,
             7223571175534.61,
             1249994192482.31,
             1433476327.5104198,
             25698658157.107,
             8887531194822.42,
             4823368000000,
             6724181183.56265,
             17256364300.8223,
             1618956227543.28,
             15345855903.7554,
             488098545194961,
             747899542525.8241,
             1850645235476820,
             1769291845286.45,
             60047901527058.7,
             7194705998.828859
            ],
            "sizemode": "area",
            "sizeref": 3783796695310.0737,
            "symbol": "circle"
           },
           "mode": "markers",
           "name": "Asia",
           "orientation": "v",
           "showlegend": true,
           "type": "scatter",
           "x": [
            4611636442511.34,
            15853654358.8612,
            8216160000000,
            502288835545.748,
            674466534940.339,
            32752158884174.4,
            13163816752346.9,
            23206369163766.6,
            95393330898.8629,
            7223571175534.61,
            1249994192482.31,
            1433476327.5104198,
            25698658157.107,
            8887531194822.42,
            4823368000000,
            6724181183.56265,
            17256364300.8223,
            1618956227543.28,
            15345855903.7554,
            488098545194961,
            747899542525.8241,
            1850645235476820,
            1769291845286.45,
            60047901527058.7,
            7194705998.828859
           ],
           "xaxis": "x",
           "y": [
            13.2685298919678,
            11.224630355834998,
            15.289099693298304,
            25.485040664672898,
            16.745569229126,
            7.69319009780884,
            12.4258003234863,
            17.4804706573486,
            8.55447959899902,
            22.0027904510498,
            20.0484790802002,
            15.6360101699829,
            18.434749603271506,
            13.2673397064209,
            17.3365306854248,
            11.9186601638794,
            9.5108699798584,
            13.578519821167,
            16.135799407959002,
            10.1511697769165,
            12.9200401306152,
            19.3481292724609,
            23.2827396392822,
            11.7810897827148,
            12.8953895568848
           ],
           "yaxis": "y"
          },
          {
           "hovertemplate": "<b>%{hovertext}</b><br><br>Continent_Name=North America<br>Year=2006<br>gdi_value=%{marker.size}<br>ExpenditureEducationValue=%{y}<extra></extra>",
           "hovertext": [
            "Mexico",
            "United States",
            "Costa Rica",
            "Guatemala",
            "El Salvador"
           ],
           "ids": [
            "North America",
            "North America",
            "North America",
            "North America",
            "North America"
           ],
           "legendgroup": "North America",
           "marker": {
            "color": "#FFA15A",
            "size": [
             11566917475062.9,
             14820611002072.3,
             1742921089364.63,
             171057707492.235,
             8469205505.412
            ],
            "sizemode": "area",
            "sizeref": 3783796695310.0737,
            "symbol": "circle"
           },
           "mode": "markers",
           "name": "North America",
           "orientation": "v",
           "showlegend": true,
           "type": "scatter",
           "x": [
            11566917475062.9,
            14820611002072.3,
            1742921089364.63,
            171057707492.235,
            8469205505.412
           ],
           "xaxis": "x",
           "y": [
            20.7457809448242,
            15.0133304595947,
            20.643390655517603,
            20.3384494781494,
            15.5718297958374
           ],
           "yaxis": "y"
          },
          {
           "hovertemplate": "<b>%{hovertext}</b><br><br>Continent_Name=South America<br>Year=2006<br>gdi_value=%{marker.size}<br>ExpenditureEducationValue=%{y}<extra></extra>",
           "hovertext": [
            "Peru",
            "Venezuela, RB",
            "Uruguay",
            "Colombia",
            "Chile",
            "Brazil",
            "Bolivia",
            "Argentina"
           ],
           "ids": [
            "South America",
            "South America",
            "South America",
            "South America",
            "South America",
            "South America",
            "South America",
            "South America"
           ],
           "legendgroup": "South America",
           "marker": {
            "color": "#19d3f3",
            "size": [
             291841738453.08,
             73177659003.4404,
             439858530013.654,
             366528295843428,
             91773579965998.3,
             1461560332947.75,
             28587996047.1378,
             635531398179.076
            ],
            "sizemode": "area",
            "sizeref": 3783796695310.0737,
            "symbol": "circle"
           },
           "mode": "markers",
           "name": "South America",
           "orientation": "v",
           "showlegend": true,
           "type": "scatter",
           "x": [
            291841738453.08,
            73177659003.4404,
            439858530013.654,
            366528295843428,
            91773579965998.3,
            1461560332947.75,
            28587996047.1378,
            635531398179.076
           ],
           "xaxis": "x",
           "y": [
            14.0353002548218,
            9.3439998626709,
            9.89818000793457,
            13.7688302993774,
            16.1579208374023,
            12.4227304458618,
            21.1625003814697,
            16.3514804840088
           ],
           "yaxis": "y"
          }
         ],
         "name": "2006"
        },
        {
         "data": [
          {
           "hovertemplate": "<b>%{hovertext}</b><br><br>Continent_Name=Oceania<br>Year=2007<br>gdi_value=%{marker.size}<br>ExpenditureEducationValue=%{y}<extra></extra>",
           "hovertext": [
            "New Zealand",
            "Australia"
           ],
           "ids": [
            "Oceania",
            "Oceania"
           ],
           "legendgroup": "Oceania",
           "marker": {
            "color": "#636efa",
            "size": [
             201945827694.288,
             1287478354734.76
            ],
            "sizemode": "area",
            "sizeref": 3783796695310.0737,
            "symbol": "circle"
           },
           "mode": "markers",
           "name": "Oceania",
           "orientation": "v",
           "showlegend": true,
           "type": "scatter",
           "x": [
            201945827694.288,
            1287478354734.76
           ],
           "xaxis": "x",
           "y": [
            17.6912803649902,
            13.0302696228027
           ],
           "yaxis": "y"
          },
          {
           "hovertemplate": "<b>%{hovertext}</b><br><br>Continent_Name=Europe<br>Year=2007<br>gdi_value=%{marker.size}<br>ExpenditureEducationValue=%{y}<extra></extra>",
           "hovertext": [
            "Netherlands",
            "Moldova",
            "Italy",
            "Latvia",
            "Kazakhstan",
            "Norway",
            "Malta",
            "Sweden",
            "United Kingdom",
            "Ukraine",
            "Spain",
            "Slovenia",
            "Slovak Republic",
            "Serbia",
            "Portugal",
            "Poland",
            "Ireland",
            "Bulgaria",
            "Belgium",
            "Belarus",
            "Azerbaijan",
            "Austria",
            "Armenia",
            "Albania",
            "Iceland",
            "Hungary",
            "Georgia",
            "France",
            "Finland",
            "Germany",
            "Estonia",
            "Denmark",
            "Czech Republic",
            "Cyprus",
            "Croatia"
           ],
           "ids": [
            "Europe",
            "Europe",
            "Europe",
            "Europe",
            "Europe",
            "Europe",
            "Europe",
            "Europe",
            "Europe",
            "Europe",
            "Europe",
            "Europe",
            "Europe",
            "Europe",
            "Europe",
            "Europe",
            "Europe",
            "Europe",
            "Europe",
            "Europe",
            "Europe",
            "Europe",
            "Europe",
            "Europe",
            "Europe",
            "Europe",
            "Europe",
            "Europe",
            "Europe",
            "Europe",
            "Europe",
            "Europe",
            "Europe",
            "Europe",
            "Europe"
           ],
           "legendgroup": "Europe",
           "marker": {
            "color": "#EF553B",
            "size": [
             638594791434.283,
             9949290246.97092,
             1688643044273.53,
             22699279148.5316,
             9973963266521.25,
             2606025051980.14,
             5179623135.72114,
             3522997050508.42,
             1608367514626.9,
             392690151515.074,
             1107974804764.71,
             38074948220.2331,
             65986943527.1602,
             2967468286949.33,
             181085279501.9,
             1128242815326.86,
             181806543828.515,
             71242223624.9962,
             364379585116.159,
             18000611994064.8,
             23513938369.4944,
             297419987749.101,
             1825170164658.37,
             585724620200.96,
             1820653985038.55,
             28469907744256.2,
             8082820481.854441,
             2012553218996.07,
             198852338089.245,
             2593375435278.69,
             17967161519.3726,
             1839796353727.32,
             3984789502578.28,
             16238078234.3081,
             349098217823.48
            ],
            "sizemode": "area",
            "sizeref": 3783796695310.0737,
            "symbol": "circle"
           },
           "mode": "markers",
           "name": "Europe",
           "orientation": "v",
           "showlegend": true,
           "type": "scatter",
           "x": [
            638594791434.283,
            9949290246.97092,
            1688643044273.53,
            22699279148.5316,
            9973963266521.25,
            2606025051980.14,
            5179623135.72114,
            3522997050508.42,
            1608367514626.9,
            392690151515.074,
            1107974804764.71,
            38074948220.2331,
            65986943527.1602,
            2967468286949.33,
            181085279501.9,
            1128242815326.86,
            181806543828.515,
            71242223624.9962,
            364379585116.159,
            18000611994064.8,
            23513938369.4944,
            297419987749.101,
            1825170164658.37,
            585724620200.96,
            1820653985038.55,
            28469907744256.2,
            8082820481.854441,
            2012553218996.07,
            198852338089.245,
            2593375435278.69,
            17967161519.3726,
            1839796353727.32,
            3984789502578.28,
            16238078234.3081,
            349098217823.48
           ],
           "xaxis": "x",
           "y": [
            11.6218299865723,
            19.487850189209,
            8.80193042755126,
            9.886389732360833,
            11.9446201324463,
            16.5571308135986,
            14.536789894104,
            12.864959716796902,
            13.0127401351929,
            14.036190032959,
            10.876199722290002,
            12.8966598510742,
            9.81595993041992,
            10.3935604095459,
            11.063759803772,
            11.2532196044922,
            13.129460334777802,
            11.113920211792,
            12.2826795578003,
            10.7487201690674,
            9.82855987548828,
            10.5420799255371,
            13.4655895233154,
            11.177189826965302,
            17.2176399230957,
            10.4443397521973,
            9.486650466918949,
            10.425990104675302,
            12.150360107421902,
            10.3287601470947,
            13.877770423889196,
            15.3566999435425,
            9.87837028503417,
            16.649610519409197,
            8.883279800415039
           ],
           "yaxis": "y"
          },
          {
           "hovertemplate": "<b>%{hovertext}</b><br><br>Continent_Name=Africa<br>Year=2007<br>gdi_value=%{marker.size}<br>ExpenditureEducationValue=%{y}<extra></extra>",
           "hovertext": [
            "Niger",
            "Morocco",
            "Mauritius",
            "Madagascar",
            "Zambia",
            "Tunisia",
            "Togo",
            "Tanzania",
            "South Africa",
            "Sierra Leone",
            "Rwanda",
            "Cameroon",
            "Cabo Verde",
            "Burkina Faso",
            "Botswana",
            "Benin",
            "Central African Republic",
            "Ghana",
            "Egypt, Arab Rep."
           ],
           "ids": [
            "Africa",
            "Africa",
            "Africa",
            "Africa",
            "Africa",
            "Africa",
            "Africa",
            "Africa",
            "Africa",
            "Africa",
            "Africa",
            "Africa",
            "Africa",
            "Africa",
            "Africa",
            "Africa",
            "Africa",
            "Africa",
            "Africa"
           ],
           "legendgroup": "Africa",
           "marker": {
            "color": "#00cc96",
            "size": [
             1956806156165.01,
             647530000000,
             228414018493.828,
             557702545125.76,
             75536430148.7735,
             56174803799.0472,
             939841954647.445,
             26770431799800,
             2527580584595.48,
             5947195713037.99,
             2765392079207.92,
             8535880837365.98,
             121973724800,
             2896736411588.18,
             64303156035.0605,
             2861000000000,
             746293517003.2471,
             19518160727.383,
             480658326908.25
            ],
            "sizemode": "area",
            "sizeref": 3783796695310.0737,
            "symbol": "circle"
           },
           "mode": "markers",
           "name": "Africa",
           "orientation": "v",
           "showlegend": true,
           "type": "scatter",
           "x": [
            1956806156165.01,
            647530000000,
            228414018493.828,
            557702545125.76,
            75536430148.7735,
            56174803799.0472,
            939841954647.445,
            26770431799800,
            2527580584595.48,
            5947195713037.99,
            2765392079207.92,
            8535880837365.98,
            121973724800,
            2896736411588.18,
            64303156035.0605,
            2861000000000,
            746293517003.2471,
            19518160727.383,
            480658326908.25
           ],
           "xaxis": "x",
           "y": [
            17.375970840454098,
            20.028720855712898,
            12.7499504089355,
            18.0445499420166,
            6.227910041809079,
            27.2232093811035,
            18.15452003479,
            19.4317398071289,
            18.3821506500244,
            19.7502193450928,
            18.774959564209,
            21.5682201385498,
            18.3287506103516,
            17.8638191223145,
            26.5077896118164,
            14.9486904144287,
            9.86948013305664,
            24.1195697784424,
            10.4479103088379
           ],
           "yaxis": "y"
          },
          {
           "hovertemplate": "<b>%{hovertext}</b><br><br>Continent_Name=Asia<br>Year=2007<br>gdi_value=%{marker.size}<br>ExpenditureEducationValue=%{y}<extra></extra>",
           "hovertext": [
            "Nepal",
            "Mongolia",
            "Malaysia",
            "Lebanon",
            "Lao PDR",
            "Kyrgyz Republic",
            "Japan",
            "Pakistan",
            "Philippines",
            "Israel",
            "Thailand",
            "Tajikistan",
            "Syrian Arab Republic",
            "Kazakhstan",
            "Indonesia",
            "Cambodia",
            "Bangladesh",
            "Bahrain",
            "Azerbaijan",
            "Armenia",
            "Iran, Islamic Rep.",
            "Hong Kong SAR, China",
            "Georgia",
            "Cyprus"
           ],
           "ids": [
            "Asia",
            "Asia",
            "Asia",
            "Asia",
            "Asia",
            "Asia",
            "Asia",
            "Asia",
            "Asia",
            "Asia",
            "Asia",
            "Asia",
            "Asia",
            "Asia",
            "Asia",
            "Asia",
            "Asia",
            "Asia",
            "Asia",
            "Asia",
            "Asia",
            "Asia",
            "Asia",
            "Asia"
           ],
           "legendgroup": "Asia",
           "marker": {
            "color": "#ab63fa",
            "size": [
             518699806061.682,
             9100343354293.52,
             725555803721.2471,
             35417304409613.6,
             24969317299963.9,
             28170876178.1615,
             495826300549898,
             8569296650424.16,
             4884030956496.86,
             788282094913.207,
             7783677376160.22,
             1411053519.58704,
             1367649113227.69,
             9973963266521.25,
             5987072203769450,
             27032841858802.3,
             5174238828577.84,
             7649807064.13902,
             23513938369.4944,
             1825170164658.37,
             2088534453840480,
             1901278135338.9,
             8082820481.854441,
             16238078234.3081
            ],
            "sizemode": "area",
            "sizeref": 3783796695310.0737,
            "symbol": "circle"
           },
           "mode": "markers",
           "name": "Asia",
           "orientation": "v",
           "showlegend": true,
           "type": "scatter",
           "x": [
            518699806061.682,
            9100343354293.52,
            725555803721.2471,
            35417304409613.6,
            24969317299963.9,
            28170876178.1615,
            495826300549898,
            8569296650424.16,
            4884030956496.86,
            788282094913.207,
            7783677376160.22,
            1411053519.58704,
            1367649113227.69,
            9973963266521.25,
            5987072203769450,
            27032841858802.3,
            5174238828577.84,
            7649807064.13902,
            23513938369.4944,
            1825170164658.37,
            2088534453840480,
            1901278135338.9,
            8082820481.854441,
            16238078234.3081
           ],
           "xaxis": "x",
           "y": [
            21.1286697387695,
            13.2864503860474,
            16.1246604919434,
            7.341040134429929,
            17.3574504852295,
            20.3240699768066,
            10.0429801940918,
            15.445520401001,
            13.6670198440552,
            12.8846197128296,
            18.484670639038104,
            12.214879989624,
            18.9259300231934,
            11.9446201324463,
            14.9443101882935,
            11.0617198944092,
            18.153400421142603,
            11.0267295837402,
            9.82855987548828,
            13.4655895233154,
            19.8744297027588,
            22.6378803253174,
            9.486650466918949,
            16.649610519409197
           ],
           "yaxis": "y"
          },
          {
           "hovertemplate": "<b>%{hovertext}</b><br><br>Continent_Name=North America<br>Year=2007<br>gdi_value=%{marker.size}<br>ExpenditureEducationValue=%{y}<extra></extra>",
           "hovertext": [
            "Mexico",
            "Jamaica",
            "United States",
            "Canada",
            "Barbados",
            "Guatemala",
            "El Salvador",
            "Dominican Republic",
            "Costa Rica"
           ],
           "ids": [
            "North America",
            "North America",
            "North America",
            "North America",
            "North America",
            "North America",
            "North America",
            "North America",
            "North America"
           ],
           "legendgroup": "North America",
           "marker": {
            "color": "#FFA15A",
            "size": [
             11974825072303,
             885632200000,
             15082128317697.3,
             1635950029276.4,
             993184115.523466,
             181441165801.96695,
             8712173165.73288,
             1455253260247.04,
             1849477503360.39
            ],
            "sizemode": "area",
            "sizeref": 3783796695310.0737,
            "symbol": "circle"
           },
           "mode": "markers",
           "name": "North America",
           "orientation": "v",
           "showlegend": true,
           "type": "scatter",
           "x": [
            11974825072303,
            885632200000,
            15082128317697.3,
            1635950029276.4,
            993184115.523466,
            181441165801.96695,
            8712173165.73288,
            1455253260247.04,
            1849477503360.39
           ],
           "xaxis": "x",
           "y": [
            20.3031005859375,
            17.173049926757802,
            14.4024200439453,
            12.3589296340942,
            15.2156295776367,
            21.2781600952148,
            16.940650939941403,
            12.5778799057007,
            21.0218906402588
           ],
           "yaxis": "y"
          },
          {
           "hovertemplate": "<b>%{hovertext}</b><br><br>Continent_Name=South America<br>Year=2007<br>gdi_value=%{marker.size}<br>ExpenditureEducationValue=%{y}<extra></extra>",
           "hovertext": [
            "Venezuela, RB",
            "Peru",
            "Brazil",
            "Argentina",
            "Colombia",
            "Chile"
           ],
           "ids": [
            "South America",
            "South America",
            "South America",
            "South America",
            "South America",
            "South America"
           ],
           "legendgroup": "South America",
           "marker": {
            "color": "#19d3f3",
            "size": [
             78566775154.6166,
             319692999000,
             1553767268379.88,
             694280079029.776,
             394500345836459,
             97372186886106.8
            ],
            "sizemode": "area",
            "sizeref": 3783796695310.0737,
            "symbol": "circle"
           },
           "mode": "markers",
           "name": "South America",
           "orientation": "v",
           "showlegend": true,
           "type": "scatter",
           "x": [
            78566775154.6166,
            319692999000,
            1553767268379.88,
            694280079029.776,
            394500345836459,
            97372186886106.8
           ],
           "xaxis": "x",
           "y": [
            10.0900497436523,
            14.141770362854,
            13.218560218811,
            15.8274898529053,
            14.481450080871598,
            16.648370742797898
           ],
           "yaxis": "y"
          }
         ],
         "name": "2007"
        },
        {
         "data": [
          {
           "hovertemplate": "<b>%{hovertext}</b><br><br>Continent_Name=Oceania<br>Year=2008<br>gdi_value=%{marker.size}<br>ExpenditureEducationValue=%{y}<extra></extra>",
           "hovertext": [
            "New Zealand",
            "Vanuatu",
            "Australia"
           ],
           "ids": [
            "Oceania",
            "Oceania",
            "Oceania"
           ],
           "legendgroup": "Oceania",
           "marker": {
            "color": "#636efa",
            "size": [
             197574695715.953,
             57260766402.7946,
             1347972595301.1
            ],
            "sizemode": "area",
            "sizeref": 3783796695310.0737,
            "symbol": "circle"
           },
           "mode": "markers",
           "name": "Oceania",
           "orientation": "v",
           "showlegend": true,
           "type": "scatter",
           "x": [
            197574695715.953,
            57260766402.7946,
            1347972595301.1
           ],
           "xaxis": "x",
           "y": [
            16.827880859375,
            21.4056301116943,
            12.599720001220698
           ],
           "yaxis": "y"
          },
          {
           "hovertemplate": "<b>%{hovertext}</b><br><br>Continent_Name=Europe<br>Year=2008<br>gdi_value=%{marker.size}<br>ExpenditureEducationValue=%{y}<extra></extra>",
           "hovertext": [
            "Netherlands",
            "Norway",
            "Moldova",
            "Latvia",
            "Malta",
            "Poland",
            "United Kingdom",
            "Ukraine",
            "Sweden",
            "Portugal",
            "Spain",
            "Slovenia",
            "Slovak Republic",
            "Serbia",
            "Russian Federation",
            "Kazakhstan",
            "Bulgaria",
            "Azerbaijan",
            "Austria",
            "Armenia",
            "Belgium",
            "Croatia",
            "Ireland",
            "Iceland",
            "Hungary",
            "Germany",
            "Italy",
            "Georgia",
            "France",
            "Finland",
            "Estonia",
            "Denmark",
            "Czech Republic",
            "Cyprus"
           ],
           "ids": [
            "Europe",
            "Europe",
            "Europe",
            "Europe",
            "Europe",
            "Europe",
            "Europe",
            "Europe",
            "Europe",
            "Europe",
            "Europe",
            "Europe",
            "Europe",
            "Europe",
            "Europe",
            "Europe",
            "Europe",
            "Europe",
            "Europe",
            "Europe",
            "Europe",
            "Europe",
            "Europe",
            "Europe",
            "Europe",
            "Europe",
            "Europe",
            "Europe",
            "Europe",
            "Europe",
            "Europe",
            "Europe",
            "Europe",
            "Europe"
           ],
           "legendgroup": "Europe",
           "marker": {
            "color": "#EF553B",
            "size": [
             648389315148.397,
             2752048855762.39,
             10238464406.4246,
             21717595676.7248,
             5295088620.57137,
             1165066137324.59,
             1584639814397.93,
             416017871528.38,
             3496377590855.26,
             180183116233.108,
             1113590353310.08,
             39007360726.2157,
             68787243794.4252,
             3146779448842.99,
             16502585043944.3,
             11245018685958.2,
             75720150966.7908,
             30376232316.796,
             299915383430.134,
             1928523683529.95,
             359754291811.891,
             357913391857.31104,
             173608995860.644,
             1790476663066.93,
             28427982204649.8,
             2602771705160.87,
             1661453358232.45,
             8269860730.563391,
             2013091630421.14,
             198751229348.882,
             17023239922.7949,
             1840300196064.02,
             4060877113291.21,
             16670389776.1271
            ],
            "sizemode": "area",
            "sizeref": 3783796695310.0737,
            "symbol": "circle"
           },
           "mode": "markers",
           "name": "Europe",
           "orientation": "v",
           "showlegend": true,
           "type": "scatter",
           "x": [
            648389315148.397,
            2752048855762.39,
            10238464406.4246,
            21717595676.7248,
            5295088620.57137,
            1165066137324.59,
            1584639814397.93,
            416017871528.38,
            3496377590855.26,
            180183116233.108,
            1113590353310.08,
            39007360726.2157,
            68787243794.4252,
            3146779448842.99,
            16502585043944.3,
            11245018685958.2,
            75720150966.7908,
            30376232316.796,
            299915383430.134,
            1928523683529.95,
            359754291811.891,
            357913391857.31104,
            173608995860.644,
            1790476663066.93,
            28427982204649.8,
            2602771705160.87,
            1661453358232.45,
            8269860730.563391,
            2013091630421.14,
            198751229348.882,
            17023239922.7949,
            1840300196064.02,
            4060877113291.21,
            16670389776.1271
           ],
           "xaxis": "x",
           "y": [
            11.6887397766113,
            16.148870468139602,
            19.8227500915527,
            9.36797046661376,
            13.0857095718384,
            11.4508495330811,
            12.9662199020386,
            13.5557098388672,
            13.0583000183105,
            10.3718299865723,
            10.9386701583862,
            12.5490398406982,
            9.73608016967773,
            10.8384599685669,
            11.9592304229736,
            13.6471099853516,
            12.6122598648071,
            8.28234958648682,
            10.6384401321411,
            14.2684497833252,
            12.6905202865601,
            9.63045978546143,
            13.0165700912476,
            13.0336198806763,
            10.356760025024402,
            10.3590297698975,
            9.20516967773438,
            8.93760013580322,
            10.2736101150513,
            12.1146297454834,
            14.1512699127197,
            14.8302602767944,
            9.51578998565674,
            17.583490371704098
           ],
           "yaxis": "y"
          },
          {
           "hovertemplate": "<b>%{hovertext}</b><br><br>Continent_Name=Africa<br>Year=2008<br>gdi_value=%{marker.size}<br>ExpenditureEducationValue=%{y}<extra></extra>",
           "hovertext": [
            "Morocco",
            "Namibia",
            "Niger",
            "Mauritania",
            "Mali",
            "Madagascar",
            "Liberia",
            "Lesotho",
            "Mauritius",
            "Zambia",
            "Tunisia",
            "Togo",
            "Tanzania",
            "Swaziland",
            "South Africa",
            "Sierra Leone",
            "Senegal",
            "Rwanda",
            "Sudan",
            "Central African Republic",
            "Cameroon",
            "Cabo Verde",
            "Burundi",
            "Benin",
            "Algeria",
            "Comoros",
            "Cote d'Ivoire",
            "Guinea",
            "Ghana",
            "Gambia, The",
            "Egypt, Arab Rep."
           ],
           "ids": [
            "Africa",
            "Africa",
            "Africa",
            "Africa",
            "Africa",
            "Africa",
            "Africa",
            "Africa",
            "Africa",
            "Africa",
            "Africa",
            "Africa",
            "Africa",
            "Africa",
            "Africa",
            "Africa",
            "Africa",
            "Africa",
            "Africa",
            "Africa",
            "Africa",
            "Africa",
            "Africa",
            "Africa",
            "Africa",
            "Africa",
            "Africa",
            "Africa",
            "Africa",
            "Africa",
            "Africa"
           ],
           "legendgroup": "Africa",
           "marker": {
            "color": "#00cc96",
            "size": [
             699327417508.192,
             79376809072.2293,
             2074794867082.33,
             747100784287.827,
             1459121039865.46,
             608577019236.07,
             444181692.27836,
             9961911235.81558,
             228445103961.293,
             84487558927.6421,
             59212434709.8846,
             927798066460.4608,
             28099101682885,
             36643452232.9184,
             2617510260892.51,
             6309466246095.64,
             4394431217731.48,
             3031961643835.62,
             25214070159.1395,
             756599835249.491,
             8687147313884.07,
             129752719024.226,
             1372800971948.49,
             3005614368136.98,
             314446231208.38104,
             89077892241.1717,
             10848549459600.7,
             9302833929799.94,
             21304039011.5037,
             19117843085.4778,
             507069051030.925
            ],
            "sizemode": "area",
            "sizeref": 3783796695310.0737,
            "symbol": "circle"
           },
           "mode": "markers",
           "name": "Africa",
           "orientation": "v",
           "showlegend": true,
           "type": "scatter",
           "x": [
            699327417508.192,
            79376809072.2293,
            2074794867082.33,
            747100784287.827,
            1459121039865.46,
            608577019236.07,
            444181692.27836,
            9961911235.81558,
            228445103961.293,
            84487558927.6421,
            59212434709.8846,
            927798066460.4608,
            28099101682885,
            36643452232.9184,
            2617510260892.51,
            6309466246095.64,
            4394431217731.48,
            3031961643835.62,
            25214070159.1395,
            756599835249.491,
            8687147313884.07,
            129752719024.226,
            1372800971948.49,
            3005614368136.98,
            314446231208.38104,
            89077892241.1717,
            10848549459600.7,
            9302833929799.94,
            21304039011.5037,
            19117843085.4778,
            507069051030.925
           ],
           "xaxis": "x",
           "y": [
            17.4706401824951,
            25.0723495483398,
            16.1773300170898,
            13.8801698684692,
            18.0316905975342,
            16.2581405639648,
            10.1141700744629,
            24.6975498199463,
            11.955249786377,
            5.651800155639651,
            25.3473205566406,
            19.2456607818604,
            18.7784099578857,
            21.8132400512695,
            17.9063091278076,
            14.9308996200562,
            19.226139068603494,
            15.5908803939819,
            9.38539981842041,
            7.86225986480713,
            15.5886402130127,
            18.6230792999268,
            12.6155395507813,
            19.0885791778564,
            11.4294099807739,
            29.2331199645996,
            21.9425792694092,
            15.678259849548304,
            23.606449127197298,
            18.164909362793,
            10.4425296783447
           ],
           "yaxis": "y"
          },
          {
           "hovertemplate": "<b>%{hovertext}</b><br><br>Continent_Name=Asia<br>Year=2008<br>gdi_value=%{marker.size}<br>ExpenditureEducationValue=%{y}<extra></extra>",
           "hovertext": [
            "Nepal",
            "Pakistan",
            "Malaysia",
            "Lebanon",
            "Lao PDR",
            "Kyrgyz Republic",
            "Philippines",
            "Qatar",
            "Vietnam",
            "Thailand",
            "Tajikistan",
            "Singapore",
            "Russian Federation",
            "Kazakhstan",
            "Bhutan",
            "Bangladesh",
            "Bahrain",
            "Azerbaijan",
            "Armenia",
            "Japan",
            "Israel",
            "Iran, Islamic Rep.",
            "Indonesia",
            "Hong Kong SAR, China",
            "Cyprus",
            "Georgia"
           ],
           "ids": [
            "Asia",
            "Asia",
            "Asia",
            "Asia",
            "Asia",
            "Asia",
            "Asia",
            "Asia",
            "Asia",
            "Asia",
            "Asia",
            "Asia",
            "Asia",
            "Asia",
            "Asia",
            "Asia",
            "Asia",
            "Asia",
            "Asia",
            "Asia",
            "Asia",
            "Asia",
            "Asia",
            "Asia",
            "Asia",
            "Asia"
           ],
           "legendgroup": "Asia",
           "marker": {
            "color": "#ab63fa",
            "size": [
             552254215908.379,
             8593717964814.91,
             800596215228.408,
             38311931837555,
             26923142099208.7,
             30165817205.9657,
             5050107094099.52,
             437636521043.65,
             1851963978407990,
             7681352043197.24,
             1146683191.72361,
             278479625810.835,
             16502585043944.3,
             11245018685958.2,
             37165713208.9686,
             5364891992633.75,
             8815411720.28955,
             30376232316.796,
             1928523683529.95,
             483094250883650,
             804794442675.2329,
             2083082040845130,
             6171632773624670,
             1913444857096.31,
             16670389776.1271,
             8269860730.563391
            ],
            "sizemode": "area",
            "sizeref": 3783796695310.0737,
            "symbol": "circle"
           },
           "mode": "markers",
           "name": "Asia",
           "orientation": "v",
           "showlegend": true,
           "type": "scatter",
           "x": [
            552254215908.379,
            8593717964814.91,
            800596215228.408,
            38311931837555,
            26923142099208.7,
            30165817205.9657,
            5050107094099.52,
            437636521043.65,
            1851963978407990,
            7681352043197.24,
            1146683191.72361,
            278479625810.835,
            16502585043944.3,
            11245018685958.2,
            37165713208.9686,
            5364891992633.75,
            8815411720.28955,
            30376232316.796,
            1928523683529.95,
            483094250883650,
            804794442675.2329,
            2083082040845130,
            6171632773624670,
            1913444857096.31,
            16670389776.1271,
            8269860730.563391
           ],
           "xaxis": "x",
           "y": [
            22.114820480346697,
            14.096960067749,
            14.038640022277802,
            5.869770050048831,
            13.9630098342896,
            20.172960281372102,
            14.4419898986816,
            8.236499786376951,
            18.0542106628418,
            17.5441303253174,
            12.800499916076696,
            22.8246994018555,
            11.9592304229736,
            13.6471099853516,
            13.134129524231,
            17.8161907196045,
            10.5586700439453,
            8.28234958648682,
            14.2684497833252,
            10.3273496627808,
            13.0475597381592,
            20.5794296264648,
            13.674750328064,
            22.9222297668457,
            17.583490371704098,
            8.93760013580322
           ],
           "yaxis": "y"
          },
          {
           "hovertemplate": "<b>%{hovertext}</b><br><br>Continent_Name=North America<br>Year=2008<br>gdi_value=%{marker.size}<br>ExpenditureEducationValue=%{y}<extra></extra>",
           "hovertext": [
            "Panama",
            "Mexico",
            "United States",
            "Jamaica",
            "Canada",
            "Belize",
            "Barbados",
            "Guatemala",
            "El Salvador"
           ],
           "ids": [
            "North America",
            "North America",
            "North America",
            "North America",
            "North America",
            "North America",
            "North America",
            "North America",
            "North America"
           ],
           "legendgroup": "North America",
           "marker": {
            "color": "#FFA15A",
            "size": [
             22792620342.2021,
             12256863645000,
             14942847165288.3,
             848781858871.595,
             1677463244361.05,
             2153947421.90676,
             950885966.714609,
             186702462566.772,
             8712810179.42146
            ],
            "sizemode": "area",
            "sizeref": 3783796695310.0737,
            "symbol": "circle"
           },
           "mode": "markers",
           "name": "North America",
           "orientation": "v",
           "showlegend": true,
           "type": "scatter",
           "x": [
            22792620342.2021,
            12256863645000,
            14942847165288.3,
            848781858871.595,
            1677463244361.05,
            2153947421.90676,
            950885966.714609,
            186702462566.772,
            8712810179.42146
           ],
           "xaxis": "x",
           "y": [
            14.8898296356201,
            18.7323093414307,
            14.0189504623413,
            19.1193809509277,
            12.0665903091431,
            19.6007194519043,
            13.4276304244995,
            23.3481597900391,
            19.4488296508789
           ],
           "yaxis": "y"
          },
          {
           "hovertemplate": "<b>%{hovertext}</b><br><br>Continent_Name=South America<br>Year=2008<br>gdi_value=%{marker.size}<br>ExpenditureEducationValue=%{y}<extra></extra>",
           "hovertext": [
            "Peru",
            "Chile",
            "Brazil",
            "Bolivia",
            "Colombia",
            "Argentina"
           ],
           "ids": [
            "South America",
            "South America",
            "South America",
            "South America",
            "South America",
            "South America"
           ],
           "legendgroup": "South America",
           "marker": {
            "color": "#19d3f3",
            "size": [
             338272088451.25104,
             93847932008135.7,
             1638430992820.09,
             31730648412.0475,
             417014192479286,
             729693385807.323
            ],
            "sizemode": "area",
            "sizeref": 3783796695310.0737,
            "symbol": "circle"
           },
           "mode": "markers",
           "name": "South America",
           "orientation": "v",
           "showlegend": true,
           "type": "scatter",
           "x": [
            338272088451.25104,
            93847932008135.7,
            1638430992820.09,
            31730648412.0475,
            417014192479286,
            729693385807.323
           ],
           "xaxis": "x",
           "y": [
            14.5344200134277,
            17.4780902862549,
            14.0822401046753,
            19.923809051513697,
            14.6772899627686,
            16.6255207061768
           ],
           "yaxis": "y"
          }
         ],
         "name": "2008"
        },
        {
         "data": [
          {
           "hovertemplate": "<b>%{hovertext}</b><br><br>Continent_Name=Oceania<br>Year=2009<br>gdi_value=%{marker.size}<br>ExpenditureEducationValue=%{y}<extra></extra>",
           "hovertext": [
            "New Zealand",
            "Vanuatu",
            "Australia"
           ],
           "ids": [
            "Oceania",
            "Oceania",
            "Oceania"
           ],
           "legendgroup": "Oceania",
           "marker": {
            "color": "#636efa",
            "size": [
             194406500864.74695,
             59524841078.3966,
             1391158518587.56
            ],
            "sizemode": "area",
            "sizeref": 3783796695310.0737,
            "symbol": "circle"
           },
           "mode": "markers",
           "name": "Oceania",
           "orientation": "v",
           "showlegend": true,
           "type": "scatter",
           "x": [
            194406500864.74695,
            59524841078.3966,
            1391158518587.56
           ],
           "xaxis": "x",
           "y": [
            18.1121196746826,
            18.7231502532958,
            13.4150199890137
           ],
           "yaxis": "y"
          },
          {
           "hovertemplate": "<b>%{hovertext}</b><br><br>Continent_Name=Europe<br>Year=2009<br>gdi_value=%{marker.size}<br>ExpenditureEducationValue=%{y}<extra></extra>",
           "hovertext": [
            "Netherlands",
            "Norway",
            "Malta",
            "Latvia",
            "Moldova",
            "Poland",
            "Sweden",
            "United Kingdom",
            "Ukraine",
            "Portugal",
            "Spain",
            "Slovenia",
            "Slovak Republic",
            "Serbia",
            "Switzerland",
            "Kazakhstan",
            "Italy",
            "Bulgaria",
            "Belgium",
            "Belarus",
            "Azerbaijan",
            "Austria",
            "Armenia",
            "Croatia",
            "Ireland",
            "Iceland",
            "Hungary",
            "Germany",
            "Cyprus",
            "Georgia",
            "France",
            "Finland",
            "Estonia",
            "Denmark",
            "Czech Republic"
           ],
           "ids": [
            "Europe",
            "Europe",
            "Europe",
            "Europe",
            "Europe",
            "Europe",
            "Europe",
            "Europe",
            "Europe",
            "Europe",
            "Europe",
            "Europe",
            "Europe",
            "Europe",
            "Europe",
            "Europe",
            "Europe",
            "Europe",
            "Europe",
            "Europe",
            "Europe",
            "Europe",
            "Europe",
            "Europe",
            "Europe",
            "Europe",
            "Europe",
            "Europe",
            "Europe",
            "Europe",
            "Europe",
            "Europe",
            "Europe",
            "Europe",
            "Europe"
           ],
           "legendgroup": "Europe",
           "marker": {
            "color": "#EF553B",
            "size": [
             627284443342.088,
             2510456764657.62,
             5151305604.434589,
             18616193771.7257,
             9734049359.48296,
             1210284424913.5,
             3328926428563.68,
             1525980255625.79,
             330715192885.287,
             177243275032.732,
             1086758729000.94,
             36699097215.5561,
             64394884785.5687,
             3055734210339.98,
             589192295814.916,
             9803067098558.79,
             1593856352430.66,
             73382742843.8139,
             359560887121.5,
             19666403932217,
             25438089055.9494,
             291422263783.342,
             1616867908891.67,
             332993440339.68896,
             167905528155.87,
             1641147996436.64,
             26835209062810.2,
             2501584394036.89,
             16366487439.503,
             7957609497.655641,
             1966523732066.28,
             183092445703.875,
             14541674985.0945,
             1749563073869.34,
             3910777164335.48
            ],
            "sizemode": "area",
            "sizeref": 3783796695310.0737,
            "symbol": "circle"
           },
           "mode": "markers",
           "name": "Europe",
           "orientation": "v",
           "showlegend": true,
           "type": "scatter",
           "x": [
            627284443342.088,
            2510456764657.62,
            5151305604.434589,
            18616193771.7257,
            9734049359.48296,
            1210284424913.5,
            3328926428563.68,
            1525980255625.79,
            330715192885.287,
            177243275032.732,
            1086758729000.94,
            36699097215.5561,
            64394884785.5687,
            3055734210339.98,
            589192295814.916,
            9803067098558.79,
            1593856352430.66,
            73382742843.8139,
            359560887121.5,
            19666403932217,
            25438089055.9494,
            291422263783.342,
            1616867908891.67,
            332993440339.68896,
            167905528155.87,
            1641147996436.64,
            26835209062810.2,
            2501584394036.89,
            16366487439.503,
            7957609497.655641,
            1966523732066.28,
            183092445703.875,
            14541674985.0945,
            1749563073869.34,
            3910777164335.48
           ],
           "xaxis": "x",
           "y": [
            11.4065799713135,
            15.7609195709229,
            12.3497400283813,
            8.9966697692871,
            21.0141201019287,
            11.1392803192139,
            13.2163600921631,
            12.6069803237915,
            15.0573701858521,
            11.0748100280762,
            10.6355199813843,
            12.3041801452637,
            9.18132972717285,
            10.9367704391479,
            16.1419696807861,
            13.0409002304077,
            8.867170333862301,
            12.656749725341802,
            12.026309967041,
            9.78505992889404,
            9.54358005523682,
            10.6606302261353,
            13.4512195587158,
            9.30414009094238,
            13.043140411377,
            15.1677703857422,
            9.94991970062256,
            10.4751501083374,
            17.1792907714844,
            8.998250007629391,
            10.1098804473877,
            11.8384304046631,
            13.4590301513672,
            14.9441699981689,
            9.7614402770996
           ],
           "yaxis": "y"
          },
          {
           "hovertemplate": "<b>%{hovertext}</b><br><br>Continent_Name=Africa<br>Year=2009<br>gdi_value=%{marker.size}<br>ExpenditureEducationValue=%{y}<extra></extra>",
           "hovertext": [
            "Morocco",
            "Niger",
            "Mali",
            "Mauritius",
            "Madagascar",
            "Senegal",
            "Uganda",
            "Tunisia",
            "Togo",
            "Tanzania",
            "Swaziland",
            "Sudan",
            "South Africa",
            "Sierra Leone",
            "Burundi",
            "Cameroon",
            "Cabo Verde",
            "Botswana",
            "Benin",
            "Central African Republic",
            "Guinea",
            "Ghana",
            "Gambia, The"
           ],
           "ids": [
            "Africa",
            "Africa",
            "Africa",
            "Africa",
            "Africa",
            "Africa",
            "Africa",
            "Africa",
            "Africa",
            "Africa",
            "Africa",
            "Africa",
            "Africa",
            "Africa",
            "Africa",
            "Africa",
            "Africa",
            "Africa",
            "Africa",
            "Africa",
            "Africa",
            "Africa",
            "Africa"
           ],
           "legendgroup": "Africa",
           "marker": {
            "color": "#00cc96",
            "size": [
             724876742804.636,
             2110499942432.54,
             1553303971825.89,
             232290438842.46,
             578282186568.674,
             4561360618696.37,
             38235379965930.2,
             60251622697.7504,
             985287991207.682,
             29770537767783.7,
             37003475368.0779,
             23371960378.6295,
             2625891554264.34,
             6615376960445.2,
             1425284440049.78,
             8852834151039.94,
             129880142304.155,
             60111617172.0453,
             3094524893852.69,
             790132977305.227,
             8589526102734.98,
             22336362247.6147,
             20396041824.0613
            ],
            "sizemode": "area",
            "sizeref": 3783796695310.0737,
            "symbol": "circle"
           },
           "mode": "markers",
           "name": "Africa",
           "orientation": "v",
           "showlegend": true,
           "type": "scatter",
           "x": [
            724876742804.636,
            2110499942432.54,
            1553303971825.89,
            232290438842.46,
            578282186568.674,
            4561360618696.37,
            38235379965930.2,
            60251622697.7504,
            985287991207.682,
            29770537767783.7,
            37003475368.0779,
            23371960378.6295,
            2625891554264.34,
            6615376960445.2,
            1425284440049.78,
            8852834151039.94,
            129880142304.155,
            60111617172.0453,
            3094524893852.69,
            790132977305.227,
            8589526102734.98,
            22336362247.6147,
            20396041824.0613
           ],
           "xaxis": "x",
           "y": [
            17.2952899932861,
            18.9129390716553,
            16.9594097137451,
            11.6479301452637,
            22.5858306884766,
            20.8808307647705,
            15.9659004211426,
            26.400630950927702,
            19.3719806671143,
            17.4109191894531,
            19.3863792419434,
            10.7707004547119,
            18.3062591552734,
            15.8964595794678,
            16.3016891479492,
            19.7797908782958,
            16.1689205169678,
            20.4773998260498,
            18.1756191253662,
            7.83038997650146,
            13.583399772644,
            22.675989151001,
            13.293740272522
           ],
           "yaxis": "y"
          },
          {
           "hovertemplate": "<b>%{hovertext}</b><br><br>Continent_Name=Asia<br>Year=2009<br>gdi_value=%{marker.size}<br>ExpenditureEducationValue=%{y}<extra></extra>",
           "hovertext": [
            "Nepal",
            "Oman",
            "Pakistan",
            "Mongolia",
            "Malaysia",
            "Macao SAR, China",
            "Lebanon",
            "Kyrgyz Republic",
            "Philippines",
            "Kazakhstan",
            "Thailand",
            "Tajikistan",
            "Singapore",
            "Bhutan",
            "Bangladesh",
            "Azerbaijan",
            "Armenia",
            "Iran, Islamic Rep.",
            "Indonesia",
            "India",
            "Hong Kong SAR, China",
            "Israel",
            "Cyprus",
            "Georgia"
           ],
           "ids": [
            "Asia",
            "Asia",
            "Asia",
            "Asia",
            "Asia",
            "Asia",
            "Asia",
            "Asia",
            "Asia",
            "Asia",
            "Asia",
            "Asia",
            "Asia",
            "Asia",
            "Asia",
            "Asia",
            "Asia",
            "Asia",
            "Asia",
            "Asia",
            "Asia",
            "Asia",
            "Asia",
            "Asia"
           ],
           "legendgroup": "Asia",
           "marker": {
            "color": "#ab63fa",
            "size": [
             578157184293.038,
             19102143592.9258,
             8873000937110.8,
             8801350469521.8,
             770188254450.966,
             200629517336.244,
             43166408407780.7,
             30899108274.198,
             5186097040352.77,
             9803067098558.79,
             7747328192474.23,
             1286288663.71664,
             279153722671.06,
             40662248043.6952,
             5647044740979.24,
             25438089055.9494,
             1616867908891.67,
             2039442901967930,
             6497583812494850,
             74906777666611.8,
             1875258508659.2,
             837181200599.74,
             16366487439.503,
             7957609497.655641
            ],
            "sizemode": "area",
            "sizeref": 3783796695310.0737,
            "symbol": "circle"
           },
           "mode": "markers",
           "name": "Asia",
           "orientation": "v",
           "showlegend": true,
           "type": "scatter",
           "x": [
            578157184293.038,
            19102143592.9258,
            8873000937110.8,
            8801350469521.8,
            770188254450.966,
            200629517336.244,
            43166408407780.7,
            30899108274.198,
            5186097040352.77,
            9803067098558.79,
            7747328192474.23,
            1286288663.71664,
            279153722671.06,
            40662248043.6952,
            5647044740979.24,
            25438089055.9494,
            1616867908891.67,
            2039442901967930,
            6497583812494850,
            74906777666611.8,
            1875258508659.2,
            837181200599.74,
            16366487439.503,
            7957609497.655641
           ],
           "xaxis": "x",
           "y": [
            19.8475303649902,
            10.949179649353,
            12.082630157470698,
            14.511420249939,
            18.4646301269531,
            12.9088201522827,
            5.502999782562259,
            18.1331005096436,
            13.2111597061157,
            13.0409002304077,
            17.562519073486303,
            14.312159538269,
            17.5252895355225,
            13.1167697906494,
            14.029870033264196,
            9.54358005523682,
            13.4512195587158,
            18.0235404968262,
            19.3084392547607,
            10.8218402862549,
            23.7995090484619,
            12.9191598892212,
            17.1792907714844,
            8.998250007629391
           ],
           "yaxis": "y"
          },
          {
           "hovertemplate": "<b>%{hovertext}</b><br><br>Continent_Name=North America<br>Year=2009<br>gdi_value=%{marker.size}<br>ExpenditureEducationValue=%{y}<extra></extra>",
           "hovertext": [
            "Mexico",
            "United States",
            "Canada",
            "Barbados",
            "Jamaica",
            "Belize",
            "El Salvador"
           ],
           "ids": [
            "North America",
            "North America",
            "North America",
            "North America",
            "North America",
            "North America",
            "North America"
           ],
           "legendgroup": "North America",
           "marker": {
            "color": "#FFA15A",
            "size": [
             11550460116238.1,
             14619236850761.1,
             1587174504451.33,
             976743094.597898,
             812818036036.778,
             2066998780.69045,
             8484617489.29993
            ],
            "sizemode": "area",
            "sizeref": 3783796695310.0737,
            "symbol": "circle"
           },
           "mode": "markers",
           "name": "North America",
           "orientation": "v",
           "showlegend": true,
           "type": "scatter",
           "x": [
            11550460116238.1,
            14619236850761.1,
            1587174504451.33,
            976743094.597898,
            812818036036.778,
            2066998780.69045,
            8484617489.29993
           ],
           "xaxis": "x",
           "y": [
            19.217950820922898,
            12.7826099395752,
            12.48876953125,
            13.8427600860596,
            17.5528392791748,
            21.7700290679932,
            18.5469799041748
           ],
           "yaxis": "y"
          },
          {
           "hovertemplate": "<b>%{hovertext}</b><br><br>Continent_Name=South America<br>Year=2009<br>gdi_value=%{marker.size}<br>ExpenditureEducationValue=%{y}<extra></extra>",
           "hovertext": [
            "Peru",
            "Venezuela, RB",
            "Brazil",
            "Bolivia",
            "Argentina",
            "Chile",
            "Colombia"
           ],
           "ids": [
            "South America",
            "South America",
            "South America",
            "South America",
            "South America",
            "South America",
            "South America"
           ],
           "legendgroup": "South America",
           "marker": {
            "color": "#19d3f3",
            "size": [
             340481107288.282,
             67098413340.3815,
             1630322300663.46,
             31776233015.5812,
             727873935520.5559,
             94756828120840.4,
             417912788520425
            ],
            "sizemode": "area",
            "sizeref": 3783796695310.0737,
            "symbol": "circle"
           },
           "mode": "markers",
           "name": "South America",
           "orientation": "v",
           "showlegend": true,
           "type": "scatter",
           "x": [
            340481107288.282,
            67098413340.3815,
            1630322300663.46,
            31776233015.5812,
            727873935520.5559,
            94756828120840.4,
            417912788520425
           ],
           "xaxis": "x",
           "y": [
            14.6187200546265,
            20.6635799407958,
            14.724029541015598,
            22.5608406066895,
            16.6149005889893,
            17.18869972229,
            16.081169128418
           ],
           "yaxis": "y"
          }
         ],
         "name": "2009"
        },
        {
         "data": [
          {
           "hovertemplate": "<b>%{hovertext}</b><br><br>Continent_Name=Oceania<br>Year=2010<br>gdi_value=%{marker.size}<br>ExpenditureEducationValue=%{y}<extra></extra>",
           "hovertext": [
            "New Zealand",
            "Australia"
           ],
           "ids": [
            "Oceania",
            "Oceania"
           ],
           "legendgroup": "Oceania",
           "marker": {
            "color": "#636efa",
            "size": [
             201630122100,
             1408005385648.56
            ],
            "sizemode": "area",
            "sizeref": 3783796695310.0737,
            "symbol": "circle"
           },
           "mode": "markers",
           "name": "Oceania",
           "orientation": "v",
           "showlegend": true,
           "type": "scatter",
           "x": [
            201630122100,
            1408005385648.56
           ],
           "xaxis": "x",
           "y": [
            19.4754695892333,
            14.327599525451696
           ],
           "yaxis": "y"
          },
          {
           "hovertemplate": "<b>%{hovertext}</b><br><br>Continent_Name=Europe<br>Year=2010<br>gdi_value=%{marker.size}<br>ExpenditureEducationValue=%{y}<extra></extra>",
           "hovertext": [
            "Netherlands",
            "Norway",
            "Moldova",
            "Malta",
            "Latvia",
            "Poland",
            "United Kingdom",
            "Switzerland",
            "Sweden",
            "Spain",
            "Slovenia",
            "Slovak Republic",
            "Serbia",
            "Portugal",
            "Ireland",
            "Bulgaria",
            "Belgium",
            "Belarus",
            "Azerbaijan",
            "Austria",
            "Italy",
            "Armenia",
            "Iceland",
            "Hungary",
            "Germany",
            "Finland",
            "Estonia",
            "Denmark",
            "Czech Republic",
            "Cyprus",
            "Croatia",
            "France"
           ],
           "ids": [
            "Europe",
            "Europe",
            "Europe",
            "Europe",
            "Europe",
            "Europe",
            "Europe",
            "Europe",
            "Europe",
            "Europe",
            "Europe",
            "Europe",
            "Europe",
            "Europe",
            "Europe",
            "Europe",
            "Europe",
            "Europe",
            "Europe",
            "Europe",
            "Europe",
            "Europe",
            "Europe",
            "Europe",
            "Europe",
            "Europe",
            "Europe",
            "Europe",
            "Europe",
            "Europe",
            "Europe",
            "Europe"
           ],
           "legendgroup": "Europe",
           "marker": {
            "color": "#EF553B",
            "size": [
             631512000000,
             2590089000000,
             10323943329.1099,
             5348342269.71068,
             17921450000,
             1246522672255.61,
             1555548000000,
             606145691100,
             3519994000000,
             1080913000000,
             36252430000,
             67387142000,
             3067210200000,
             179929812000,
             166157466400,
             73780127000,
             365101000000,
             21367624184278.7,
             27190306690.26,
             294627500000,
             1605694419600,
             1683004890405.32,
             1618101000000,
             27051695000000,
             2580060000000,
             187100000000,
             14718470000,
             1798649000000,
             3953651000000,
             16582506626.3224,
             328040520200,
             1998481000000
            ],
            "sizemode": "area",
            "sizeref": 3783796695310.0737,
            "symbol": "circle"
           },
           "mode": "markers",
           "name": "Europe",
           "orientation": "v",
           "showlegend": true,
           "type": "scatter",
           "x": [
            631512000000,
            2590089000000,
            10323943329.1099,
            5348342269.71068,
            17921450000,
            1246522672255.61,
            1555548000000,
            606145691100,
            3519994000000,
            1080913000000,
            36252430000,
            67387142000,
            3067210200000,
            179929812000,
            166157466400,
            73780127000,
            365101000000,
            21367624184278.7,
            27190306690.26,
            294627500000,
            1605694419600,
            1683004890405.32,
            1618101000000,
            27051695000000,
            2580060000000,
            187100000000,
            14718470000,
            1798649000000,
            3953651000000,
            16582506626.3224,
            328040520200,
            1998481000000
           ],
           "xaxis": "x",
           "y": [
            11.524359703064,
            15.30601978302,
            22.3360996246338,
            15.7308197021484,
            8.12263965606689,
            11.1089200973511,
            12.9603700637817,
            15.9490003585815,
            13.3455400466919,
            10.5639801025391,
            12.080189704895,
            9.85752964019775,
            10.5135498046875,
            10.4265604019165,
            9.29551029205322,
            11.1634197235107,
            12.2237396240234,
            12.8646297454834,
            8.77910995483398,
            10.8581695556641,
            8.723950386047362,
            12.4005098342896,
            14.6101303100586,
            9.684980392456051,
            10.6165800094604,
            11.9561100006104,
            13.681799888610804,
            15.1033401489258,
            9.71249961853027,
            15.6823396682739,
            9.08259010314941,
            10.0691299438477
           ],
           "yaxis": "y"
          },
          {
           "hovertemplate": "<b>%{hovertext}</b><br><br>Continent_Name=Africa<br>Year=2010<br>gdi_value=%{marker.size}<br>ExpenditureEducationValue=%{y}<extra></extra>",
           "hovertext": [
            "Namibia",
            "Niger",
            "Malawi",
            "Mauritania",
            "Mali",
            "Kenya",
            "Mauritius",
            "Zimbabwe",
            "Uganda",
            "Tunisia",
            "Togo",
            "Tanzania",
            "Swaziland",
            "South Africa",
            "Sierra Leone",
            "Senegal",
            "Rwanda",
            "Cameroon",
            "Cabo Verde",
            "Burundi",
            "Burkina Faso",
            "Benin",
            "Central African Republic",
            "Guinea",
            "Ghana",
            "Gambia, The",
            "Congo, Rep."
           ],
           "ids": [
            "Africa",
            "Africa",
            "Africa",
            "Africa",
            "Africa",
            "Africa",
            "Africa",
            "Africa",
            "Africa",
            "Africa",
            "Africa",
            "Africa",
            "Africa",
            "Africa",
            "Africa",
            "Africa",
            "Africa",
            "Africa",
            "Africa",
            "Africa",
            "Africa",
            "Africa",
            "Africa",
            "Africa",
            "Africa",
            "Africa",
            "Africa"
           ],
           "legendgroup": "Africa",
           "marker": {
            "color": "#00cc96",
            "size": [
             82599109945.8435,
             2268089944345.03,
             756557395511.91,
             861059779913.2421,
             1602500901869.16,
             3067834426037.32,
             232213797755.387,
             8987403725.69678,
             40946469965300,
             63054787097.9235,
             1002233090522.54,
             31935819198481.9,
             37356579909.8716,
             2748008332300,
             7112997928089.65,
             4687194892795.57,
             3566941872981.7,
             9239151898347.06,
             131102747833.186,
             1537674976179.24,
             3585914678540.59,
             3181401308003.74,
             814540923599.49,
             9083544341049.48,
             23599010724.5266,
             21633302975.9259,
             2271498942238.76
            ],
            "sizemode": "area",
            "sizeref": 3783796695310.0737,
            "symbol": "circle"
           },
           "mode": "markers",
           "name": "Africa",
           "orientation": "v",
           "showlegend": true,
           "type": "scatter",
           "x": [
            82599109945.8435,
            2268089944345.03,
            756557395511.91,
            861059779913.2421,
            1602500901869.16,
            3067834426037.32,
            232213797755.387,
            8987403725.69678,
            40946469965300,
            63054787097.9235,
            1002233090522.54,
            31935819198481.9,
            37356579909.8716,
            2748008332300,
            7112997928089.65,
            4687194892795.57,
            3566941872981.7,
            9239151898347.06,
            131102747833.186,
            1537674976179.24,
            3585914678540.59,
            3181401308003.74,
            814540923599.49,
            9083544341049.48,
            23599010724.5266,
            21633302975.9259,
            2271498942238.76
           ],
           "xaxis": "x",
           "y": [
            26.193250656127898,
            18.104040145874,
            10.8215398788452,
            16.0350208282471,
            16.5039100646973,
            20.5559902191162,
            14.5731496810913,
            8.72091007232666,
            13.5175695419312,
            25.5817394256592,
            19.6157608032227,
            19.6480102539063,
            18.2830295562744,
            18.0443706512451,
            12.801910400390598,
            20.723180770874,
            17.3757591247559,
            18.7538890838623,
            14.396240234375,
            16.5881004333496,
            17.2508106231689,
            26.1439609527588,
            6.475520133972171,
            12.4383201599121,
            21.244220733642603,
            17.3059196472168,
            29.0183601379395
           ],
           "yaxis": "y"
          },
          {
           "hovertemplate": "<b>%{hovertext}</b><br><br>Continent_Name=Asia<br>Year=2010<br>gdi_value=%{marker.size}<br>ExpenditureEducationValue=%{y}<extra></extra>",
           "hovertext": [
            "Mongolia",
            "Nepal",
            "Pakistan",
            "Malaysia",
            "Macao SAR, China",
            "Lebanon",
            "Lao PDR",
            "Kyrgyz Republic",
            "Japan",
            "Vietnam",
            "Thailand",
            "Tajikistan",
            "Singapore",
            "Israel",
            "Cambodia",
            "Brunei Darussalam",
            "Bhutan",
            "Azerbaijan",
            "Armenia",
            "Indonesia",
            "India",
            "Hong Kong SAR, China",
            "Iran, Islamic Rep.",
            "Cyprus"
           ],
           "ids": [
            "Asia",
            "Asia",
            "Asia",
            "Asia",
            "Asia",
            "Asia",
            "Asia",
            "Asia",
            "Asia",
            "Asia",
            "Asia",
            "Asia",
            "Asia",
            "Asia",
            "Asia",
            "Asia",
            "Asia",
            "Asia",
            "Asia",
            "Asia",
            "Asia",
            "Asia",
            "Asia",
            "Asia"
           ],
           "legendgroup": "Asia",
           "marker": {
            "color": "#ab63fa",
            "size": [
             9756588429833.16,
             611054708239.098,
             8996297304726.64,
             821435000000,
             255606409053.965,
             46111262646118.7,
             31410785571577.6,
             30559891207.1627,
             482384400000000,
             2157828000000000,
             8353821189094.91,
             1427732972.83246,
             322361100000,
             876130000000,
             31596979681889.5,
             19729102167.8845,
             45431459787.8232,
             27190306690.26,
             1683004890405.32,
             6864133100000010,
             82983741955085.1,
             1965211605363.37,
             2238002738321870,
             16582506626.3224
            ],
            "sizemode": "area",
            "sizeref": 3783796695310.0737,
            "symbol": "circle"
           },
           "mode": "markers",
           "name": "Asia",
           "orientation": "v",
           "showlegend": true,
           "type": "scatter",
           "x": [
            9756588429833.16,
            611054708239.098,
            8996297304726.64,
            821435000000,
            255606409053.965,
            46111262646118.7,
            31410785571577.6,
            30559891207.1627,
            482384400000000,
            2157828000000000,
            8353821189094.91,
            1427732972.83246,
            322361100000,
            876130000000,
            31596979681889.5,
            19729102167.8845,
            45431459787.8232,
            27190306690.26,
            1683004890405.32,
            6864133100000010,
            82983741955085.1,
            1965211605363.37,
            2238002738321870,
            16582506626.3224
           ],
           "xaxis": "x",
           "y": [
            14.7111396789551,
            20.8135204315186,
            11.9250898361206,
            18.406230926513697,
            15.672679901123,
            5.5342898368835405,
            11.8929796218872,
            15.684760093689,
            9.45757961273193,
            20.9394302368164,
            16.4613208770752,
            15.3314504623413,
            16.5565891265869,
            13.2593202590942,
            13.0835800170898,
            5.291540145874019,
            8.24322986602783,
            8.77910995483398,
            12.4005098342896,
            16.6541805267333,
            11.7427797317505,
            19.9095497131348,
            18.804349899292,
            15.6823396682739
           ],
           "yaxis": "y"
          },
          {
           "hovertemplate": "<b>%{hovertext}</b><br><br>Continent_Name=North America<br>Year=2010<br>gdi_value=%{marker.size}<br>ExpenditureEducationValue=%{y}<extra></extra>",
           "hovertext": [
            "Nicaragua",
            "Mexico",
            "United States",
            "Jamaica",
            "Canada",
            "Barbados",
            "Belize",
            "Guatemala",
            "El Salvador"
           ],
           "ids": [
            "North America",
            "North America",
            "North America",
            "North America",
            "North America",
            "North America",
            "North America",
            "North America",
            "North America"
           ],
           "legendgroup": "North America",
           "marker": {
            "color": "#FFA15A",
            "size": [
             137078379320.272,
             12175363417496.9,
             14964372000000,
             799136855997.966,
             1662757000000,
             923018750,
             2183004922.03179,
             198200406041.19,
             8546138213.915979
            ],
            "sizemode": "area",
            "sizeref": 3783796695310.0737,
            "symbol": "circle"
           },
           "mode": "markers",
           "name": "North America",
           "orientation": "v",
           "showlegend": true,
           "type": "scatter",
           "x": [
            137078379320.272,
            12175363417496.9,
            14964372000000,
            799136855997.966,
            1662757000000,
            923018750,
            2183004922.03179,
            198200406041.19,
            8546138213.915979
           ],
           "xaxis": "x",
           "y": [
            22.7536697387695,
            19.319980621337898,
            13.0375699996948,
            16.1029396057129,
            12.3878898620605,
            15.5602397918701,
            23.0520801544189,
            19.2969207763672,
            16.1642208099365
           ],
           "yaxis": "y"
          },
          {
           "hovertemplate": "<b>%{hovertext}</b><br><br>Continent_Name=South America<br>Year=2010<br>gdi_value=%{marker.size}<br>ExpenditureEducationValue=%{y}<extra></extra>",
           "hovertext": [
            "Paraguay",
            "Peru",
            "Brazil",
            "Bolivia",
            "Argentina",
            "Colombia",
            "Chile",
            "Ecuador"
           ],
           "ids": [
            "South America",
            "South America",
            "South America",
            "South America",
            "South America",
            "South America",
            "South America",
            "South America"
           ],
           "legendgroup": "South America",
           "marker": {
            "color": "#19d3f3",
            "size": [
             22631754357341,
             387545183826.74896,
             1788965701454.38,
             34378858069.7299,
             803951689900.6659,
             443448158101338,
             107080954612620,
             56479739053.3248
            ],
            "sizemode": "area",
            "sizeref": 3783796695310.0737,
            "symbol": "circle"
           },
           "mode": "markers",
           "name": "South America",
           "orientation": "v",
           "showlegend": true,
           "type": "scatter",
           "x": [
            22631754357341,
            387545183826.74896,
            1788965701454.38,
            34378858069.7299,
            803951689900.6659,
            443448158101338,
            107080954612620,
            56479739053.3248
           ],
           "xaxis": "x",
           "y": [
            15.7070302963257,
            13.6427001953125,
            14.559889793396,
            24.1277904510498,
            15.570460319519,
            16.4185791015625,
            17.5140209197998,
            11.7518301010132
           ],
           "yaxis": "y"
          }
         ],
         "name": "2010"
        },
        {
         "data": [
          {
           "hovertemplate": "<b>%{hovertext}</b><br><br>Continent_Name=Oceania<br>Year=2011<br>gdi_value=%{marker.size}<br>ExpenditureEducationValue=%{y}<extra></extra>",
           "hovertext": [
            "New Zealand",
            "Australia"
           ],
           "ids": [
            "Oceania",
            "Oceania"
           ],
           "legendgroup": "Oceania",
           "marker": {
            "color": "#636efa",
            "size": [
             207023265940.814,
             1496979535887.82
            ],
            "sizemode": "area",
            "sizeref": 3783796695310.0737,
            "symbol": "circle"
           },
           "mode": "markers",
           "name": "Oceania",
           "orientation": "v",
           "showlegend": true,
           "type": "scatter",
           "x": [
            207023265940.814,
            1496979535887.82
           ],
           "xaxis": "x",
           "y": [
            17.8662490844727,
            13.5020198822021
           ],
           "yaxis": "y"
          },
          {
           "hovertemplate": "<b>%{hovertext}</b><br><br>Continent_Name=Europe<br>Year=2011<br>gdi_value=%{marker.size}<br>ExpenditureEducationValue=%{y}<extra></extra>",
           "hovertext": [
            "Moldova",
            "Norway",
            "Netherlands",
            "Latvia",
            "Spain",
            "Italy",
            "United Kingdom",
            "Ukraine",
            "Switzerland",
            "Sweden",
            "Slovenia",
            "Slovak Republic",
            "Serbia",
            "Portugal",
            "Poland",
            "Bulgaria",
            "Belgium",
            "Belarus",
            "Azerbaijan",
            "Austria",
            "Armenia",
            "Ireland",
            "Cyprus",
            "Croatia",
            "Iceland",
            "Hungary",
            "Germany",
            "France",
            "Finland",
            "Estonia",
            "Denmark",
            "Georgia",
            "Czech Republic"
           ],
           "ids": [
            "Europe",
            "Europe",
            "Europe",
            "Europe",
            "Europe",
            "Europe",
            "Europe",
            "Europe",
            "Europe",
            "Europe",
            "Europe",
            "Europe",
            "Europe",
            "Europe",
            "Europe",
            "Europe",
            "Europe",
            "Europe",
            "Europe",
            "Europe",
            "Europe",
            "Europe",
            "Europe",
            "Europe",
            "Europe",
            "Europe",
            "Europe",
            "Europe",
            "Europe",
            "Europe",
            "Europe",
            "Europe",
            "Europe"
           ],
           "legendgroup": "Europe",
           "marker": {
            "color": "#EF553B",
            "size": [
             10494000510.2499,
             2708530364683.53,
             634778728220.3579,
             19361813060.7312,
             1059022267460.37,
             1603977501976.16,
             1581434077548.22,
             377368758227.8471,
             615134055310.795,
             3599792247175.7,
             36140263426.4601,
             68545584061.5838,
             3140705985647.4,
             175500320276.544,
             1300826959062.9,
             76655590563.2942,
             368141850444.855,
             25345016673211.7,
             31153685705.1754,
             300194644330.745,
             1730717031044.67,
             168870688455.539,
             16594193754.8951,
             327385458484.69604,
             1626230514046.2,
             27194539783070.5,
             2642496112655.19,
             2026884809495.1,
             190750670602.275,
             15894270150.158,
             1798852723454.38,
             9063975432.11353,
             3987216529154.01
            ],
            "sizemode": "area",
            "sizeref": 3783796695310.0737,
            "symbol": "circle"
           },
           "mode": "markers",
           "name": "Europe",
           "orientation": "v",
           "showlegend": true,
           "type": "scatter",
           "x": [
            10494000510.2499,
            2708530364683.53,
            634778728220.3579,
            19361813060.7312,
            1059022267460.37,
            1603977501976.16,
            1581434077548.22,
            377368758227.8471,
            615134055310.795,
            3599792247175.7,
            36140263426.4601,
            68545584061.5838,
            3140705985647.4,
            175500320276.544,
            1300826959062.9,
            76655590563.2942,
            368141850444.855,
            25345016673211.7,
            31153685705.1754,
            300194644330.745,
            1730717031044.67,
            168870688455.539,
            16594193754.8951,
            327385458484.69604,
            1626230514046.2,
            27194539783070.5,
            2642496112655.19,
            2026884809495.1,
            190750670602.275,
            15894270150.158,
            1798852723454.38,
            9063975432.11353,
            3987216529154.01
           ],
           "xaxis": "x",
           "y": [
            21.9582004547119,
            15.010930061340302,
            11.7542295455933,
            8.94204998016357,
            10.6610097885132,
            8.430210113525389,
            12.716420173645,
            13.4843196868896,
            15.8985204696655,
            13.2463998794556,
            12.0716800689697,
            9.83438014984131,
            10.6035203933716,
            10.2466802597046,
            11.063289642334,
            11.1000499725342,
            11.954700469970698,
            14.0311603546143,
            7.30383014678955,
            11.045390129089402,
            12.5933399200439,
            12.6826496124268,
            15.5367097854614,
            8.62063026428223,
            15.4157695770264,
            9.35004997253417,
            11.0262298583984,
            9.86394023895264,
            11.9230003356934,
            13.4126501083374,
            15.036259651184098,
            9.26943016052246,
            10.4440898895264
           ],
           "yaxis": "y"
          },
          {
           "hovertemplate": "<b>%{hovertext}</b><br><br>Continent_Name=Africa<br>Year=2011<br>gdi_value=%{marker.size}<br>ExpenditureEducationValue=%{y}<extra></extra>",
           "hovertext": [
            "Mauritius",
            "Niger",
            "Mauritania",
            "Malawi",
            "Madagascar",
            "Mali",
            "Uganda",
            "Togo",
            "South Africa",
            "Rwanda",
            "Swaziland",
            "Cameroon",
            "Central African Republic",
            "Cabo Verde",
            "Burundi",
            "Burkina Faso",
            "Guinea",
            "Ghana",
            "Gambia, The"
           ],
           "ids": [
            "Africa",
            "Africa",
            "Africa",
            "Africa",
            "Africa",
            "Africa",
            "Africa",
            "Africa",
            "Africa",
            "Africa",
            "Africa",
            "Africa",
            "Africa",
            "Africa",
            "Africa",
            "Africa",
            "Africa",
            "Africa",
            "Africa"
           ],
           "legendgroup": "Africa",
           "marker": {
            "color": "#00cc96",
            "size": [
             239246516702.9,
             2325646637060.68,
             930857338420.735,
             789448691927.755,
             610723341698.094,
             1658002167492.87,
             45035374182561.2,
             1035754935605.08,
             2871643720776.73,
             3846000000000,
             36037249349.3042,
             9655092464630.03,
             842700251005.239,
             135624374476.17,
             1585653602608.31,
             3937383591269.03,
             9085952958008.25,
             27486102081.4158,
             20697089132.8046
            ],
            "sizemode": "area",
            "sizeref": 3783796695310.0737,
            "symbol": "circle"
           },
           "mode": "markers",
           "name": "Africa",
           "orientation": "v",
           "showlegend": true,
           "type": "scatter",
           "x": [
            239246516702.9,
            2325646637060.68,
            930857338420.735,
            789448691927.755,
            610723341698.094,
            1658002167492.87,
            45035374182561.2,
            1035754935605.08,
            2871643720776.73,
            3846000000000,
            36037249349.3042,
            9655092464630.03,
            842700251005.239,
            135624374476.17,
            1585653602608.31,
            3937383591269.03,
            9085952958008.25,
            27486102081.4158,
            20697089132.8046
           ],
           "xaxis": "x",
           "y": [
            13.846170425415002,
            21.675809860229503,
            13.6826601028442,
            14.6596097946166,
            19.7796993255615,
            18.2702503204346,
            13.315460205078098,
            18.634939193725604,
            18.9216194152832,
            15.3851003646851,
            22.356309890747102,
            14.8677701950073,
            7.8254599571228,
            15.1532802581787,
            14.9792995452881,
            20.3136405944824,
            14.2593097686768,
            30.7698097229004,
            15.1183300018311
           ],
           "yaxis": "y"
          },
          {
           "hovertemplate": "<b>%{hovertext}</b><br><br>Continent_Name=Asia<br>Year=2011<br>gdi_value=%{marker.size}<br>ExpenditureEducationValue=%{y}<extra></extra>",
           "hovertext": [
            "Mongolia",
            "Macao SAR, China",
            "Malaysia",
            "Lebanon",
            "Kyrgyz Republic",
            "Japan",
            "Pakistan",
            "Thailand",
            "Tajikistan",
            "Singapore",
            "Israel",
            "Iran, Islamic Rep.",
            "Brunei Darussalam",
            "Bhutan",
            "Armenia",
            "Azerbaijan",
            "Indonesia",
            "India",
            "Georgia",
            "Hong Kong SAR, China",
            "Cyprus"
           ],
           "ids": [
            "Asia",
            "Asia",
            "Asia",
            "Asia",
            "Asia",
            "Asia",
            "Asia",
            "Asia",
            "Asia",
            "Asia",
            "Asia",
            "Asia",
            "Asia",
            "Asia",
            "Asia",
            "Asia",
            "Asia",
            "Asia",
            "Asia",
            "Asia",
            "Asia"
           ],
           "legendgroup": "Asia",
           "marker": {
            "color": "#ab63fa",
            "size": [
             11895581040553.1,
             308124462949.86896,
             879743927854.913,
             46368697108047,
             32671981825.7157,
             474642536731659,
             9276102207495.49,
             8209028799258.93,
             1454533751.66208,
             332939054236.283,
             909014200713.334,
             2395930536772860,
             22655842845.9421,
             49017280503.6908,
             1730717031044.67,
             31153685705.1754,
             7325702982341421,
             88320115262326.3,
             9063975432.11353,
             2045767287762.18,
             16594193754.8951
            ],
            "sizemode": "area",
            "sizeref": 3783796695310.0737,
            "symbol": "circle"
           },
           "mode": "markers",
           "name": "Asia",
           "orientation": "v",
           "showlegend": true,
           "type": "scatter",
           "x": [
            11895581040553.1,
            308124462949.86896,
            879743927854.913,
            46368697108047,
            32671981825.7157,
            474642536731659,
            9276102207495.49,
            8209028799258.93,
            1454533751.66208,
            332939054236.283,
            909014200713.334,
            2395930536772860,
            22655842845.9421,
            49017280503.6908,
            1730717031044.67,
            31153685705.1754,
            7325702982341421,
            88320115262326.3,
            9063975432.11353,
            2045767287762.18,
            16594193754.8951
           ],
           "xaxis": "x",
           "y": [
            12.1508502960205,
            16.1378707885742,
            20.9770202636719,
            5.73380994796753,
            18.172700881958,
            9.70960998535156,
            10.979419708252,
            21.9537200927734,
            14.560509681701696,
            20.6166305541992,
            13.4908199310303,
            19.1266994476318,
            9.18218994140625,
            11.3027896881104,
            12.5933399200439,
            7.30383014678955,
            18.0618591308594,
            14.1536197662354,
            9.26943016052246,
            20.1483898162842,
            15.5367097854614
           ],
           "yaxis": "y"
          },
          {
           "hovertemplate": "<b>%{hovertext}</b><br><br>Continent_Name=North America<br>Year=2011<br>gdi_value=%{marker.size}<br>ExpenditureEducationValue=%{y}<extra></extra>",
           "hovertext": [
            "Mexico",
            "Jamaica",
            "Panama",
            "United States",
            "Canada",
            "Guatemala",
            "El Salvador"
           ],
           "ids": [
            "North America",
            "North America",
            "North America",
            "North America",
            "North America",
            "North America",
            "North America"
           ],
           "legendgroup": "North America",
           "marker": {
            "color": "#FFA15A",
            "size": [
             12643473649390.6,
             803044855030.572,
             28105500064.9963,
             15180634027039.8,
             1729819191734.13,
             208642575571.505,
             8714676293.36692
            ],
            "sizemode": "area",
            "sizeref": 3783796695310.0737,
            "symbol": "circle"
           },
           "mode": "markers",
           "name": "North America",
           "orientation": "v",
           "showlegend": true,
           "type": "scatter",
           "x": [
            12643473649390.6,
            803044855030.572,
            28105500064.9963,
            15180634027039.8,
            1729819191734.13,
            208642575571.505,
            8714676293.36692
           ],
           "xaxis": "x",
           "y": [
            19.0880508422852,
            18.5819301605225,
            13.0197200775146,
            12.9089603424072,
            12.2270803451538,
            20.246410369873,
            15.872579574584998
           ],
           "yaxis": "y"
          },
          {
           "hovertemplate": "<b>%{hovertext}</b><br><br>Continent_Name=South America<br>Year=2011<br>gdi_value=%{marker.size}<br>ExpenditureEducationValue=%{y}<extra></extra>",
           "hovertext": [
            "Peru",
            "Paraguay",
            "Uruguay",
            "Brazil",
            "Bolivia",
            "Argentina",
            "Chile",
            "Colombia",
            "Ecuador"
           ],
           "ids": [
            "South America",
            "South America",
            "South America",
            "South America",
            "South America",
            "South America",
            "South America",
            "South America",
            "South America"
           ],
           "legendgroup": "South America",
           "marker": {
            "color": "#19d3f3",
            "size": [
             420667325489.123,
             23813132871540.7,
             625043685496.652,
             1882147686450.33,
             37048759891.3164,
             887759835442.0591,
             113169458081372,
             487204427186352,
             61980999335.0517
            ],
            "sizemode": "area",
            "sizeref": 3783796695310.0737,
            "symbol": "circle"
           },
           "mode": "markers",
           "name": "South America",
           "orientation": "v",
           "showlegend": true,
           "type": "scatter",
           "x": [
            420667325489.123,
            23813132871540.7,
            625043685496.652,
            1882147686450.33,
            37048759891.3164,
            887759835442.0591,
            113169458081372,
            487204427186352,
            61980999335.0517
           ],
           "xaxis": "x",
           "y": [
            13.525050163269,
            18.6604595184326,
            14.9258899688721,
            15.2692899703979,
            19.4831104278564,
            15.7295503616333,
            17.5041103363037,
            15.5291404724121,
            10.9646701812744
           ],
           "yaxis": "y"
          }
         ],
         "name": "2011"
        },
        {
         "data": [
          {
           "hovertemplate": "<b>%{hovertext}</b><br><br>Continent_Name=Oceania<br>Year=2012<br>gdi_value=%{marker.size}<br>ExpenditureEducationValue=%{y}<extra></extra>",
           "hovertext": [
            "New Zealand",
            "Australia"
           ],
           "ids": [
            "Oceania",
            "Oceania"
           ],
           "legendgroup": "Oceania",
           "marker": {
            "color": "#636efa",
            "size": [
             208664756197.44,
             1553394992997.73
            ],
            "sizemode": "area",
            "sizeref": 3783796695310.0737,
            "symbol": "circle"
           },
           "mode": "markers",
           "name": "Oceania",
           "orientation": "v",
           "showlegend": true,
           "type": "scatter",
           "x": [
            208664756197.44,
            1553394992997.73
           ],
           "xaxis": "x",
           "y": [
            18.6658706665039,
            13.2204103469849
           ],
           "yaxis": "y"
          },
          {
           "hovertemplate": "<b>%{hovertext}</b><br><br>Continent_Name=Europe<br>Year=2012<br>gdi_value=%{marker.size}<br>ExpenditureEducationValue=%{y}<extra></extra>",
           "hovertext": [
            "Netherlands",
            "Moldova",
            "Serbia",
            "Slovak Republic",
            "Spain",
            "Switzerland",
            "Ukraine",
            "Latvia",
            "Armenia",
            "Belarus",
            "Georgia",
            "France",
            "Finland"
           ],
           "ids": [
            "Europe",
            "Europe",
            "Europe",
            "Europe",
            "Europe",
            "Europe",
            "Europe",
            "Europe",
            "Europe",
            "Europe",
            "Europe",
            "Europe",
            "Europe"
           ],
           "legendgroup": "Europe",
           "marker": {
            "color": "#EF553B",
            "size": [
             626316401676.898,
             10313057201.8634,
             3116781829883.26,
             68769006551.2647,
             1025955604960.65,
             619564350609.013,
             385225581231.408,
             19815619085.6711,
             1862579841193.1,
             27811902804137.2,
             9624321077.71062,
             2028482028911.03,
             187228231165.305
            ],
            "sizemode": "area",
            "sizeref": 3783796695310.0737,
            "symbol": "circle"
           },
           "mode": "markers",
           "name": "Europe",
           "orientation": "v",
           "showlegend": true,
           "type": "scatter",
           "x": [
            626316401676.898,
            10313057201.8634,
            3116781829883.26,
            68769006551.2647,
            1025955604960.65,
            619564350609.013,
            385225581231.408,
            19815619085.6711,
            1862579841193.1,
            27811902804137.2,
            9624321077.71062,
            2028482028911.03,
            187228231165.305
           ],
           "xaxis": "x",
           "y": [
            11.6193504333496,
            20.8234691619873,
            9.59922981262207,
            9.794389724731449,
            9.22980976104736,
            16.099510192871097,
            13.6655197143555,
            8.743639945983888,
            13.7018699645996,
            13.180720329284698,
            6.707759857177731,
            9.74195957183838,
            12.8176002502441
           ],
           "yaxis": "y"
          },
          {
           "hovertemplate": "<b>%{hovertext}</b><br><br>Continent_Name=Africa<br>Year=2012<br>gdi_value=%{marker.size}<br>ExpenditureEducationValue=%{y}<extra></extra>",
           "hovertext": [
            "Niger",
            "Mozambique",
            "Morocco",
            "Mali",
            "Mauritania",
            "Madagascar",
            "Liberia",
            "Mauritius",
            "Rwanda",
            "South Africa",
            "Togo",
            "Tunisia",
            "Uganda",
            "Benin",
            "Burkina Faso",
            "Burundi",
            "Cameroon",
            "Guinea",
            "Gambia, The"
           ],
           "ids": [
            "Africa",
            "Africa",
            "Africa",
            "Africa",
            "Africa",
            "Africa",
            "Africa",
            "Africa",
            "Africa",
            "Africa",
            "Africa",
            "Africa",
            "Africa",
            "Africa",
            "Africa",
            "Africa",
            "Africa",
            "Africa",
            "Africa"
           ],
           "legendgroup": "Africa",
           "marker": {
            "color": "#00cc96",
            "size": [
             2610500693465.67,
             349927260344.714,
             802348980025.705,
             1636833554835.37,
             947241206753.048,
             636398550193.319,
             631120063.0903491,
             246082688561.553,
             4142513055751.59,
             2922992674427.54,
             1283434781816.81,
             63593718850.8533,
             47140320295160.7,
             3458404038968.95,
             4080771521426.54,
             1639572653745.42,
             10166418396913.4,
             8874089837084.08,
             21909713979.9947
            ],
            "sizemode": "area",
            "sizeref": 3783796695310.0737,
            "symbol": "circle"
           },
           "mode": "markers",
           "name": "Africa",
           "orientation": "v",
           "showlegend": true,
           "type": "scatter",
           "x": [
            2610500693465.67,
            349927260344.714,
            802348980025.705,
            1636833554835.37,
            947241206753.048,
            636398550193.319,
            631120063.0903491,
            246082688561.553,
            4142513055751.59,
            2922992674427.54,
            1283434781816.81,
            63593718850.8533,
            47140320295160.7,
            3458404038968.95,
            4080771521426.54,
            1639572653745.42,
            10166418396913.4,
            8874089837084.08,
            21909713979.9947
           ],
           "xaxis": "x",
           "y": [
            19.1920204162598,
            19.767240524292,
            17.1595897674561,
            22.403379440307603,
            10.017749786377,
            20.3257999420166,
            8.1326904296875,
            14.9606199264526,
            15.9212398529053,
            20.6222190856934,
            17.6804294586182,
            21.2496700286865,
            14.0230703353882,
            25.0213108062744,
            15.8953800201416,
            16.3489208221436,
            15.1762199401855,
            9.46061038970947,
            13.8002996444702
           ],
           "yaxis": "y"
          },
          {
           "hovertemplate": "<b>%{hovertext}</b><br><br>Continent_Name=Asia<br>Year=2012<br>gdi_value=%{marker.size}<br>ExpenditureEducationValue=%{y}<extra></extra>",
           "hovertext": [
            "Macao SAR, China",
            "Pakistan",
            "Thailand",
            "Singapore",
            "Tajikistan",
            "Vietnam",
            "Lebanon",
            "Hong Kong SAR, China",
            "Japan",
            "Kyrgyz Republic",
            "Armenia",
            "Bahrain",
            "Brunei Darussalam",
            "Iran, Islamic Rep.",
            "Indonesia",
            "India",
            "Georgia"
           ],
           "ids": [
            "Asia",
            "Asia",
            "Asia",
            "Asia",
            "Asia",
            "Asia",
            "Asia",
            "Asia",
            "Asia",
            "Asia",
            "Asia",
            "Asia",
            "Asia",
            "Asia",
            "Asia",
            "Asia",
            "Asia"
           ],
           "legendgroup": "Asia",
           "marker": {
            "color": "#ab63fa",
            "size": [
             343499500000,
             9566668476980.43,
             8766885668996.06,
             342167565496.897,
             1827431470.14664,
             2476807141197320,
             49573001013810,
             2067329092313.25,
             482080082996546,
             32624437360.1265,
             1862579841193.1,
             10463866790.1346,
             23941125777.3942,
             2024670920381350,
             7662188308002899,
             92524868090379.4,
             9624321077.71062
            ],
            "sizemode": "area",
            "sizeref": 3783796695310.0737,
            "symbol": "circle"
           },
           "mode": "markers",
           "name": "Asia",
           "orientation": "v",
           "showlegend": true,
           "type": "scatter",
           "x": [
            343499500000,
            9566668476980.43,
            8766885668996.06,
            342167565496.897,
            1827431470.14664,
            2476807141197320,
            49573001013810,
            2067329092313.25,
            482080082996546,
            32624437360.1265,
            1862579841193.1,
            10463866790.1346,
            23941125777.3942,
            2024670920381350,
            7662188308002899,
            92524868090379.4,
            9624321077.71062
           ],
           "xaxis": "x",
           "y": [
            20.2237491607666,
            10.9475803375244,
            20.7391109466553,
            20.9007301330566,
            16.3502407073975,
            21.437429428100604,
            7.10915994644165,
            18.6494102478027,
            9.480139732360833,
            18.1955890655518,
            13.7018699645996,
            8.94804000854492,
            9.727820396423333,
            17.034309387207,
            18.090419769287102,
            14.2194499969482,
            6.707759857177731
           ],
           "yaxis": "y"
          },
          {
           "hovertemplate": "<b>%{hovertext}</b><br><br>Continent_Name=North America<br>Year=2012<br>gdi_value=%{marker.size}<br>ExpenditureEducationValue=%{y}<extra></extra>",
           "hovertext": [
            "Barbados",
            "Jamaica",
            "Guatemala"
           ],
           "ids": [
            "North America",
            "North America",
            "North America"
           ],
           "legendgroup": "North America",
           "marker": {
            "color": "#FFA15A",
            "size": [
             940504711.560561,
             800187446134.611,
             213502634594.30103
            ],
            "sizemode": "area",
            "sizeref": 3783796695310.0737,
            "symbol": "circle"
           },
           "mode": "markers",
           "name": "North America",
           "orientation": "v",
           "showlegend": true,
           "type": "scatter",
           "x": [
            940504711.560561,
            800187446134.611,
            213502634594.30103
           ],
           "xaxis": "x",
           "y": [
            13.689579963684098,
            18.809259414672898,
            21.1051406860352
           ],
           "yaxis": "y"
          },
          {
           "hovertemplate": "<b>%{hovertext}</b><br><br>Continent_Name=South America<br>Year=2012<br>gdi_value=%{marker.size}<br>ExpenditureEducationValue=%{y}<extra></extra>",
           "hovertext": [
            "Paraguay",
            "Peru",
            "Argentina",
            "Bolivia",
            "Brazil",
            "Colombia",
            "Chile",
            "Ecuador"
           ],
           "ids": [
            "South America",
            "South America",
            "South America",
            "South America",
            "South America",
            "South America",
            "South America",
            "South America"
           ],
           "legendgroup": "South America",
           "marker": {
            "color": "#19d3f3",
            "size": [
             23725536009788.1,
             442988467680.90295,
             896369638933.096,
             39178931140.6702,
             1900869269154.8,
             507304224800144,
             116595272081012,
             65079926705.9621
            ],
            "sizemode": "area",
            "sizeref": 3783796695310.0737,
            "symbol": "circle"
           },
           "mode": "markers",
           "name": "South America",
           "orientation": "v",
           "showlegend": true,
           "type": "scatter",
           "x": [
            23725536009788.1,
            442988467680.90295,
            896369638933.096,
            39178931140.6702,
            1900869269154.8,
            507304224800144,
            116595272081012,
            65079926705.9621
           ],
           "xaxis": "x",
           "y": [
            16.088970184326197,
            14.3761701583862,
            15.0635299682617,
            17.8287506103516,
            15.5696496963501,
            15.5128297805786,
            19.277999877929695,
            10.3482904434204
           ],
           "yaxis": "y"
          }
         ],
         "name": "2012"
        },
        {
         "data": [
          {
           "hovertemplate": "<b>%{hovertext}</b><br><br>Continent_Name=Europe<br>Year=2013<br>gdi_value=%{marker.size}<br>ExpenditureEducationValue=%{y}<extra></extra>",
           "hovertext": [
            "Armenia",
            "Belarus"
           ],
           "ids": [
            "Europe",
            "Europe"
           ],
           "legendgroup": "Europe",
           "marker": {
            "color": "#EF553B",
            "size": [
             1885978900736.63,
             27167691091380.1
            ],
            "sizemode": "area",
            "sizeref": 3783796695310.0737,
            "symbol": "circle"
           },
           "mode": "markers",
           "name": "Europe",
           "orientation": "v",
           "showlegend": true,
           "type": "scatter",
           "x": [
            1885978900736.63,
            27167691091380.1
           ],
           "xaxis": "x",
           "y": [
            8.8688497543335,
            12.3036298751831
           ],
           "yaxis": "y"
          },
          {
           "hovertemplate": "<b>%{hovertext}</b><br><br>Continent_Name=Africa<br>Year=2013<br>gdi_value=%{marker.size}<br>ExpenditureEducationValue=%{y}<extra></extra>",
           "hovertext": [
            "Malawi",
            "Mozambique",
            "Mauritania",
            "Mauritius",
            "Morocco",
            "Togo",
            "Rwanda",
            "South Africa",
            "Uganda",
            "Madagascar",
            "Benin",
            "Burkina Faso",
            "Burundi",
            "Guinea"
           ],
           "ids": [
            "Africa",
            "Africa",
            "Africa",
            "Africa",
            "Africa",
            "Africa",
            "Africa",
            "Africa",
            "Africa",
            "Africa",
            "Africa",
            "Africa",
            "Africa",
            "Africa"
           ],
           "legendgroup": "Africa",
           "marker": {
            "color": "#00cc96",
            "size": [
             846161589175.807,
             382692816270.324,
             987162868189.738,
             259030166036.567,
             839568327480.817,
             1450420429617.21,
             4383190348525.47,
             2940749002886.86,
             48860823310972,
             634223161853.459,
             3722029119182.02,
             4181981935465.97,
             1705548287422.97,
             9352829005572.25
            ],
            "sizemode": "area",
            "sizeref": 3783796695310.0737,
            "symbol": "circle"
           },
           "mode": "markers",
           "name": "Africa",
           "orientation": "v",
           "showlegend": true,
           "type": "scatter",
           "x": [
            846161589175.807,
            382692816270.324,
            987162868189.738,
            259030166036.567,
            839568327480.817,
            1450420429617.21,
            4383190348525.47,
            2940749002886.86,
            48860823310972,
            634223161853.459,
            3722029119182.02,
            4181981935465.97,
            1705548287422.97,
            9352829005572.25
           ],
           "xaxis": "x",
           "y": [
            13.65149974823,
            19.0328807830811,
            11.405369758606,
            14.779109954834,
            18.4573001861572,
            17.2000102996826,
            16.597190856933597,
            19.1552505493164,
            12.866189956665002,
            13.9893798828125,
            22.3412208557129,
            16.1652793884277,
            17.241529464721697,
            14.1327695846558
           ],
           "yaxis": "y"
          },
          {
           "hovertemplate": "<b>%{hovertext}</b><br><br>Continent_Name=Asia<br>Year=2013<br>gdi_value=%{marker.size}<br>ExpenditureEducationValue=%{y}<extra></extra>",
           "hovertext": [
            "Nepal",
            "Singapore",
            "Pakistan",
            "Lebanon",
            "Armenia",
            "Bhutan",
            "Japan",
            "Hong Kong SAR, China",
            "Iran, Islamic Rep."
           ],
           "ids": [
            "Asia",
            "Asia",
            "Asia",
            "Asia",
            "Asia",
            "Asia",
            "Asia",
            "Asia",
            "Asia"
           ],
           "legendgroup": "Asia",
           "marker": {
            "color": "#ab63fa",
            "size": [
             697508946418.249,
             357051948293.411,
             9944725200686.36,
             49299334286442,
             1885978900736.63,
             52606614251.4286,
             488506181296568,
             2138660000000,
             2003483055780330
            ],
            "sizemode": "area",
            "sizeref": 3783796695310.0737,
            "symbol": "circle"
           },
           "mode": "markers",
           "name": "Asia",
           "orientation": "v",
           "showlegend": true,
           "type": "scatter",
           "x": [
            697508946418.249,
            357051948293.411,
            9944725200686.36,
            49299334286442,
            1885978900736.63,
            52606614251.4286,
            488506181296568,
            2138660000000,
            2003483055780330
           ],
           "xaxis": "x",
           "y": [
            21.3980197906494,
            19.9503402709961,
            11.5536203384399,
            8.57551956176758,
            8.8688497543335,
            15.6082897186279,
            9.57814979553223,
            20.3008708953857,
            21.6739101409912
           ],
           "yaxis": "y"
          },
          {
           "hovertemplate": "<b>%{hovertext}</b><br><br>Continent_Name=North America<br>Year=2013<br>gdi_value=%{marker.size}<br>ExpenditureEducationValue=%{y}<extra></extra>",
           "hovertext": [
            "Jamaica",
            "Dominican Republic",
            "Guatemala",
            "Honduras"
           ],
           "ids": [
            "North America",
            "North America",
            "North America",
            "North America"
           ],
           "legendgroup": "North America",
           "marker": {
            "color": "#FFA15A",
            "size": [
             797167684457.263,
             1779947380393.56,
             219462515263.99,
             156783064143.859
            ],
            "sizemode": "area",
            "sizeref": 3783796695310.0737,
            "symbol": "circle"
           },
           "mode": "markers",
           "name": "North America",
           "orientation": "v",
           "showlegend": true,
           "type": "scatter",
           "x": [
            797167684457.263,
            1779947380393.56,
            219462515263.99,
            156783064143.859
           ],
           "xaxis": "x",
           "y": [
            20.573860168457,
            20.6472492218018,
            20.6379508972168,
            19.230510711669897
           ],
           "yaxis": "y"
          },
          {
           "hovertemplate": "<b>%{hovertext}</b><br><br>Continent_Name=South America<br>Year=2013<br>gdi_value=%{marker.size}<br>ExpenditureEducationValue=%{y}<extra></extra>",
           "hovertext": [
            "Peru",
            "Colombia"
           ],
           "ids": [
            "South America",
            "South America"
           ],
           "legendgroup": "South America",
           "marker": {
            "color": "#19d3f3",
            "size": [
             460418437643.009,
             528206544951957
            ],
            "sizemode": "area",
            "sizeref": 3783796695310.0737,
            "symbol": "circle"
           },
           "mode": "markers",
           "name": "South America",
           "orientation": "v",
           "showlegend": true,
           "type": "scatter",
           "x": [
            460418437643.009,
            528206544951957
           ],
           "xaxis": "x",
           "y": [
            15.2097902297974,
            16.8658790588379
           ],
           "yaxis": "y"
          }
         ],
         "name": "2013"
        },
        {
         "data": [
          {
           "hovertemplate": "<b>%{hovertext}</b><br><br>Continent_Name=Africa<br>Year=2014<br>gdi_value=%{marker.size}<br>ExpenditureEducationValue=%{y}<extra></extra>",
           "hovertext": [
            "Tanzania"
           ],
           "ids": [
            "Africa"
           ],
           "legendgroup": "Africa",
           "marker": {
            "color": "#00cc96",
            "size": [
             41196612768394.8
            ],
            "sizemode": "area",
            "sizeref": 3783796695310.0737,
            "symbol": "circle"
           },
           "mode": "markers",
           "name": "Africa",
           "orientation": "v",
           "showlegend": true,
           "type": "scatter",
           "x": [
            41196612768394.8
           ],
           "xaxis": "x",
           "y": [
            15.879810333252
           ],
           "yaxis": "y"
          },
          {
           "hovertemplate": "<b>%{hovertext}</b><br><br>Continent_Name=Asia<br>Year=2014<br>gdi_value=%{marker.size}<br>ExpenditureEducationValue=%{y}<extra></extra>",
           "hovertext": [
            "Lao PDR"
           ],
           "ids": [
            "Asia"
           ],
           "legendgroup": "Asia",
           "marker": {
            "color": "#ab63fa",
            "size": [
             42752670350045.6
            ],
            "sizemode": "area",
            "sizeref": 3783796695310.0737,
            "symbol": "circle"
           },
           "mode": "markers",
           "name": "Asia",
           "orientation": "v",
           "showlegend": true,
           "type": "scatter",
           "x": [
            42752670350045.6
           ],
           "xaxis": "x",
           "y": [
            15.3525295257568
           ],
           "yaxis": "y"
          }
         ],
         "name": "2014"
        }
       ],
       "layout": {
        "legend": {
         "itemsizing": "constant",
         "title": {
          "text": "Continent_Name"
         },
         "tracegroupgap": 0
        },
        "margin": {
         "t": 60
        },
        "sliders": [
         {
          "active": 0,
          "currentvalue": {
           "prefix": "Year="
          },
          "len": 0.9,
          "pad": {
           "b": 10,
           "t": 60
          },
          "steps": [
           {
            "args": [
             [
              "1995"
             ],
             {
              "frame": {
               "duration": 0,
               "redraw": false
              },
              "fromcurrent": true,
              "mode": "immediate",
              "transition": {
               "duration": 0,
               "easing": "linear"
              }
             }
            ],
            "label": "1995",
            "method": "animate"
           },
           {
            "args": [
             [
              "1997"
             ],
             {
              "frame": {
               "duration": 0,
               "redraw": false
              },
              "fromcurrent": true,
              "mode": "immediate",
              "transition": {
               "duration": 0,
               "easing": "linear"
              }
             }
            ],
            "label": "1997",
            "method": "animate"
           },
           {
            "args": [
             [
              "1998"
             ],
             {
              "frame": {
               "duration": 0,
               "redraw": false
              },
              "fromcurrent": true,
              "mode": "immediate",
              "transition": {
               "duration": 0,
               "easing": "linear"
              }
             }
            ],
            "label": "1998",
            "method": "animate"
           },
           {
            "args": [
             [
              "1999"
             ],
             {
              "frame": {
               "duration": 0,
               "redraw": false
              },
              "fromcurrent": true,
              "mode": "immediate",
              "transition": {
               "duration": 0,
               "easing": "linear"
              }
             }
            ],
            "label": "1999",
            "method": "animate"
           },
           {
            "args": [
             [
              "2000"
             ],
             {
              "frame": {
               "duration": 0,
               "redraw": false
              },
              "fromcurrent": true,
              "mode": "immediate",
              "transition": {
               "duration": 0,
               "easing": "linear"
              }
             }
            ],
            "label": "2000",
            "method": "animate"
           },
           {
            "args": [
             [
              "2001"
             ],
             {
              "frame": {
               "duration": 0,
               "redraw": false
              },
              "fromcurrent": true,
              "mode": "immediate",
              "transition": {
               "duration": 0,
               "easing": "linear"
              }
             }
            ],
            "label": "2001",
            "method": "animate"
           },
           {
            "args": [
             [
              "2002"
             ],
             {
              "frame": {
               "duration": 0,
               "redraw": false
              },
              "fromcurrent": true,
              "mode": "immediate",
              "transition": {
               "duration": 0,
               "easing": "linear"
              }
             }
            ],
            "label": "2002",
            "method": "animate"
           },
           {
            "args": [
             [
              "2003"
             ],
             {
              "frame": {
               "duration": 0,
               "redraw": false
              },
              "fromcurrent": true,
              "mode": "immediate",
              "transition": {
               "duration": 0,
               "easing": "linear"
              }
             }
            ],
            "label": "2003",
            "method": "animate"
           },
           {
            "args": [
             [
              "2004"
             ],
             {
              "frame": {
               "duration": 0,
               "redraw": false
              },
              "fromcurrent": true,
              "mode": "immediate",
              "transition": {
               "duration": 0,
               "easing": "linear"
              }
             }
            ],
            "label": "2004",
            "method": "animate"
           },
           {
            "args": [
             [
              "2005"
             ],
             {
              "frame": {
               "duration": 0,
               "redraw": false
              },
              "fromcurrent": true,
              "mode": "immediate",
              "transition": {
               "duration": 0,
               "easing": "linear"
              }
             }
            ],
            "label": "2005",
            "method": "animate"
           },
           {
            "args": [
             [
              "2006"
             ],
             {
              "frame": {
               "duration": 0,
               "redraw": false
              },
              "fromcurrent": true,
              "mode": "immediate",
              "transition": {
               "duration": 0,
               "easing": "linear"
              }
             }
            ],
            "label": "2006",
            "method": "animate"
           },
           {
            "args": [
             [
              "2007"
             ],
             {
              "frame": {
               "duration": 0,
               "redraw": false
              },
              "fromcurrent": true,
              "mode": "immediate",
              "transition": {
               "duration": 0,
               "easing": "linear"
              }
             }
            ],
            "label": "2007",
            "method": "animate"
           },
           {
            "args": [
             [
              "2008"
             ],
             {
              "frame": {
               "duration": 0,
               "redraw": false
              },
              "fromcurrent": true,
              "mode": "immediate",
              "transition": {
               "duration": 0,
               "easing": "linear"
              }
             }
            ],
            "label": "2008",
            "method": "animate"
           },
           {
            "args": [
             [
              "2009"
             ],
             {
              "frame": {
               "duration": 0,
               "redraw": false
              },
              "fromcurrent": true,
              "mode": "immediate",
              "transition": {
               "duration": 0,
               "easing": "linear"
              }
             }
            ],
            "label": "2009",
            "method": "animate"
           },
           {
            "args": [
             [
              "2010"
             ],
             {
              "frame": {
               "duration": 0,
               "redraw": false
              },
              "fromcurrent": true,
              "mode": "immediate",
              "transition": {
               "duration": 0,
               "easing": "linear"
              }
             }
            ],
            "label": "2010",
            "method": "animate"
           },
           {
            "args": [
             [
              "2011"
             ],
             {
              "frame": {
               "duration": 0,
               "redraw": false
              },
              "fromcurrent": true,
              "mode": "immediate",
              "transition": {
               "duration": 0,
               "easing": "linear"
              }
             }
            ],
            "label": "2011",
            "method": "animate"
           },
           {
            "args": [
             [
              "2012"
             ],
             {
              "frame": {
               "duration": 0,
               "redraw": false
              },
              "fromcurrent": true,
              "mode": "immediate",
              "transition": {
               "duration": 0,
               "easing": "linear"
              }
             }
            ],
            "label": "2012",
            "method": "animate"
           },
           {
            "args": [
             [
              "2013"
             ],
             {
              "frame": {
               "duration": 0,
               "redraw": false
              },
              "fromcurrent": true,
              "mode": "immediate",
              "transition": {
               "duration": 0,
               "easing": "linear"
              }
             }
            ],
            "label": "2013",
            "method": "animate"
           },
           {
            "args": [
             [
              "2014"
             ],
             {
              "frame": {
               "duration": 0,
               "redraw": false
              },
              "fromcurrent": true,
              "mode": "immediate",
              "transition": {
               "duration": 0,
               "easing": "linear"
              }
             }
            ],
            "label": "2014",
            "method": "animate"
           }
          ],
          "x": 0.1,
          "xanchor": "left",
          "y": 0,
          "yanchor": "top"
         }
        ],
        "template": {
         "data": {
          "bar": [
           {
            "error_x": {
             "color": "#2a3f5f"
            },
            "error_y": {
             "color": "#2a3f5f"
            },
            "marker": {
             "line": {
              "color": "#E5ECF6",
              "width": 0.5
             },
             "pattern": {
              "fillmode": "overlay",
              "size": 10,
              "solidity": 0.2
             }
            },
            "type": "bar"
           }
          ],
          "barpolar": [
           {
            "marker": {
             "line": {
              "color": "#E5ECF6",
              "width": 0.5
             },
             "pattern": {
              "fillmode": "overlay",
              "size": 10,
              "solidity": 0.2
             }
            },
            "type": "barpolar"
           }
          ],
          "carpet": [
           {
            "aaxis": {
             "endlinecolor": "#2a3f5f",
             "gridcolor": "white",
             "linecolor": "white",
             "minorgridcolor": "white",
             "startlinecolor": "#2a3f5f"
            },
            "baxis": {
             "endlinecolor": "#2a3f5f",
             "gridcolor": "white",
             "linecolor": "white",
             "minorgridcolor": "white",
             "startlinecolor": "#2a3f5f"
            },
            "type": "carpet"
           }
          ],
          "choropleth": [
           {
            "colorbar": {
             "outlinewidth": 0,
             "ticks": ""
            },
            "type": "choropleth"
           }
          ],
          "contour": [
           {
            "colorbar": {
             "outlinewidth": 0,
             "ticks": ""
            },
            "colorscale": [
             [
              0,
              "#0d0887"
             ],
             [
              0.1111111111111111,
              "#46039f"
             ],
             [
              0.2222222222222222,
              "#7201a8"
             ],
             [
              0.3333333333333333,
              "#9c179e"
             ],
             [
              0.4444444444444444,
              "#bd3786"
             ],
             [
              0.5555555555555556,
              "#d8576b"
             ],
             [
              0.6666666666666666,
              "#ed7953"
             ],
             [
              0.7777777777777778,
              "#fb9f3a"
             ],
             [
              0.8888888888888888,
              "#fdca26"
             ],
             [
              1,
              "#f0f921"
             ]
            ],
            "type": "contour"
           }
          ],
          "contourcarpet": [
           {
            "colorbar": {
             "outlinewidth": 0,
             "ticks": ""
            },
            "type": "contourcarpet"
           }
          ],
          "heatmap": [
           {
            "colorbar": {
             "outlinewidth": 0,
             "ticks": ""
            },
            "colorscale": [
             [
              0,
              "#0d0887"
             ],
             [
              0.1111111111111111,
              "#46039f"
             ],
             [
              0.2222222222222222,
              "#7201a8"
             ],
             [
              0.3333333333333333,
              "#9c179e"
             ],
             [
              0.4444444444444444,
              "#bd3786"
             ],
             [
              0.5555555555555556,
              "#d8576b"
             ],
             [
              0.6666666666666666,
              "#ed7953"
             ],
             [
              0.7777777777777778,
              "#fb9f3a"
             ],
             [
              0.8888888888888888,
              "#fdca26"
             ],
             [
              1,
              "#f0f921"
             ]
            ],
            "type": "heatmap"
           }
          ],
          "heatmapgl": [
           {
            "colorbar": {
             "outlinewidth": 0,
             "ticks": ""
            },
            "colorscale": [
             [
              0,
              "#0d0887"
             ],
             [
              0.1111111111111111,
              "#46039f"
             ],
             [
              0.2222222222222222,
              "#7201a8"
             ],
             [
              0.3333333333333333,
              "#9c179e"
             ],
             [
              0.4444444444444444,
              "#bd3786"
             ],
             [
              0.5555555555555556,
              "#d8576b"
             ],
             [
              0.6666666666666666,
              "#ed7953"
             ],
             [
              0.7777777777777778,
              "#fb9f3a"
             ],
             [
              0.8888888888888888,
              "#fdca26"
             ],
             [
              1,
              "#f0f921"
             ]
            ],
            "type": "heatmapgl"
           }
          ],
          "histogram": [
           {
            "marker": {
             "pattern": {
              "fillmode": "overlay",
              "size": 10,
              "solidity": 0.2
             }
            },
            "type": "histogram"
           }
          ],
          "histogram2d": [
           {
            "colorbar": {
             "outlinewidth": 0,
             "ticks": ""
            },
            "colorscale": [
             [
              0,
              "#0d0887"
             ],
             [
              0.1111111111111111,
              "#46039f"
             ],
             [
              0.2222222222222222,
              "#7201a8"
             ],
             [
              0.3333333333333333,
              "#9c179e"
             ],
             [
              0.4444444444444444,
              "#bd3786"
             ],
             [
              0.5555555555555556,
              "#d8576b"
             ],
             [
              0.6666666666666666,
              "#ed7953"
             ],
             [
              0.7777777777777778,
              "#fb9f3a"
             ],
             [
              0.8888888888888888,
              "#fdca26"
             ],
             [
              1,
              "#f0f921"
             ]
            ],
            "type": "histogram2d"
           }
          ],
          "histogram2dcontour": [
           {
            "colorbar": {
             "outlinewidth": 0,
             "ticks": ""
            },
            "colorscale": [
             [
              0,
              "#0d0887"
             ],
             [
              0.1111111111111111,
              "#46039f"
             ],
             [
              0.2222222222222222,
              "#7201a8"
             ],
             [
              0.3333333333333333,
              "#9c179e"
             ],
             [
              0.4444444444444444,
              "#bd3786"
             ],
             [
              0.5555555555555556,
              "#d8576b"
             ],
             [
              0.6666666666666666,
              "#ed7953"
             ],
             [
              0.7777777777777778,
              "#fb9f3a"
             ],
             [
              0.8888888888888888,
              "#fdca26"
             ],
             [
              1,
              "#f0f921"
             ]
            ],
            "type": "histogram2dcontour"
           }
          ],
          "mesh3d": [
           {
            "colorbar": {
             "outlinewidth": 0,
             "ticks": ""
            },
            "type": "mesh3d"
           }
          ],
          "parcoords": [
           {
            "line": {
             "colorbar": {
              "outlinewidth": 0,
              "ticks": ""
             }
            },
            "type": "parcoords"
           }
          ],
          "pie": [
           {
            "automargin": true,
            "type": "pie"
           }
          ],
          "scatter": [
           {
            "fillpattern": {
             "fillmode": "overlay",
             "size": 10,
             "solidity": 0.2
            },
            "type": "scatter"
           }
          ],
          "scatter3d": [
           {
            "line": {
             "colorbar": {
              "outlinewidth": 0,
              "ticks": ""
             }
            },
            "marker": {
             "colorbar": {
              "outlinewidth": 0,
              "ticks": ""
             }
            },
            "type": "scatter3d"
           }
          ],
          "scattercarpet": [
           {
            "marker": {
             "colorbar": {
              "outlinewidth": 0,
              "ticks": ""
             }
            },
            "type": "scattercarpet"
           }
          ],
          "scattergeo": [
           {
            "marker": {
             "colorbar": {
              "outlinewidth": 0,
              "ticks": ""
             }
            },
            "type": "scattergeo"
           }
          ],
          "scattergl": [
           {
            "marker": {
             "colorbar": {
              "outlinewidth": 0,
              "ticks": ""
             }
            },
            "type": "scattergl"
           }
          ],
          "scattermapbox": [
           {
            "marker": {
             "colorbar": {
              "outlinewidth": 0,
              "ticks": ""
             }
            },
            "type": "scattermapbox"
           }
          ],
          "scatterpolar": [
           {
            "marker": {
             "colorbar": {
              "outlinewidth": 0,
              "ticks": ""
             }
            },
            "type": "scatterpolar"
           }
          ],
          "scatterpolargl": [
           {
            "marker": {
             "colorbar": {
              "outlinewidth": 0,
              "ticks": ""
             }
            },
            "type": "scatterpolargl"
           }
          ],
          "scatterternary": [
           {
            "marker": {
             "colorbar": {
              "outlinewidth": 0,
              "ticks": ""
             }
            },
            "type": "scatterternary"
           }
          ],
          "surface": [
           {
            "colorbar": {
             "outlinewidth": 0,
             "ticks": ""
            },
            "colorscale": [
             [
              0,
              "#0d0887"
             ],
             [
              0.1111111111111111,
              "#46039f"
             ],
             [
              0.2222222222222222,
              "#7201a8"
             ],
             [
              0.3333333333333333,
              "#9c179e"
             ],
             [
              0.4444444444444444,
              "#bd3786"
             ],
             [
              0.5555555555555556,
              "#d8576b"
             ],
             [
              0.6666666666666666,
              "#ed7953"
             ],
             [
              0.7777777777777778,
              "#fb9f3a"
             ],
             [
              0.8888888888888888,
              "#fdca26"
             ],
             [
              1,
              "#f0f921"
             ]
            ],
            "type": "surface"
           }
          ],
          "table": [
           {
            "cells": {
             "fill": {
              "color": "#EBF0F8"
             },
             "line": {
              "color": "white"
             }
            },
            "header": {
             "fill": {
              "color": "#C8D4E3"
             },
             "line": {
              "color": "white"
             }
            },
            "type": "table"
           }
          ]
         },
         "layout": {
          "annotationdefaults": {
           "arrowcolor": "#2a3f5f",
           "arrowhead": 0,
           "arrowwidth": 1
          },
          "autotypenumbers": "strict",
          "coloraxis": {
           "colorbar": {
            "outlinewidth": 0,
            "ticks": ""
           }
          },
          "colorscale": {
           "diverging": [
            [
             0,
             "#8e0152"
            ],
            [
             0.1,
             "#c51b7d"
            ],
            [
             0.2,
             "#de77ae"
            ],
            [
             0.3,
             "#f1b6da"
            ],
            [
             0.4,
             "#fde0ef"
            ],
            [
             0.5,
             "#f7f7f7"
            ],
            [
             0.6,
             "#e6f5d0"
            ],
            [
             0.7,
             "#b8e186"
            ],
            [
             0.8,
             "#7fbc41"
            ],
            [
             0.9,
             "#4d9221"
            ],
            [
             1,
             "#276419"
            ]
           ],
           "sequential": [
            [
             0,
             "#0d0887"
            ],
            [
             0.1111111111111111,
             "#46039f"
            ],
            [
             0.2222222222222222,
             "#7201a8"
            ],
            [
             0.3333333333333333,
             "#9c179e"
            ],
            [
             0.4444444444444444,
             "#bd3786"
            ],
            [
             0.5555555555555556,
             "#d8576b"
            ],
            [
             0.6666666666666666,
             "#ed7953"
            ],
            [
             0.7777777777777778,
             "#fb9f3a"
            ],
            [
             0.8888888888888888,
             "#fdca26"
            ],
            [
             1,
             "#f0f921"
            ]
           ],
           "sequentialminus": [
            [
             0,
             "#0d0887"
            ],
            [
             0.1111111111111111,
             "#46039f"
            ],
            [
             0.2222222222222222,
             "#7201a8"
            ],
            [
             0.3333333333333333,
             "#9c179e"
            ],
            [
             0.4444444444444444,
             "#bd3786"
            ],
            [
             0.5555555555555556,
             "#d8576b"
            ],
            [
             0.6666666666666666,
             "#ed7953"
            ],
            [
             0.7777777777777778,
             "#fb9f3a"
            ],
            [
             0.8888888888888888,
             "#fdca26"
            ],
            [
             1,
             "#f0f921"
            ]
           ]
          },
          "colorway": [
           "#636efa",
           "#EF553B",
           "#00cc96",
           "#ab63fa",
           "#FFA15A",
           "#19d3f3",
           "#FF6692",
           "#B6E880",
           "#FF97FF",
           "#FECB52"
          ],
          "font": {
           "color": "#2a3f5f"
          },
          "geo": {
           "bgcolor": "white",
           "lakecolor": "white",
           "landcolor": "#E5ECF6",
           "showlakes": true,
           "showland": true,
           "subunitcolor": "white"
          },
          "hoverlabel": {
           "align": "left"
          },
          "hovermode": "closest",
          "mapbox": {
           "style": "light"
          },
          "paper_bgcolor": "white",
          "plot_bgcolor": "#E5ECF6",
          "polar": {
           "angularaxis": {
            "gridcolor": "white",
            "linecolor": "white",
            "ticks": ""
           },
           "bgcolor": "#E5ECF6",
           "radialaxis": {
            "gridcolor": "white",
            "linecolor": "white",
            "ticks": ""
           }
          },
          "scene": {
           "xaxis": {
            "backgroundcolor": "#E5ECF6",
            "gridcolor": "white",
            "gridwidth": 2,
            "linecolor": "white",
            "showbackground": true,
            "ticks": "",
            "zerolinecolor": "white"
           },
           "yaxis": {
            "backgroundcolor": "#E5ECF6",
            "gridcolor": "white",
            "gridwidth": 2,
            "linecolor": "white",
            "showbackground": true,
            "ticks": "",
            "zerolinecolor": "white"
           },
           "zaxis": {
            "backgroundcolor": "#E5ECF6",
            "gridcolor": "white",
            "gridwidth": 2,
            "linecolor": "white",
            "showbackground": true,
            "ticks": "",
            "zerolinecolor": "white"
           }
          },
          "shapedefaults": {
           "line": {
            "color": "#2a3f5f"
           }
          },
          "ternary": {
           "aaxis": {
            "gridcolor": "white",
            "linecolor": "white",
            "ticks": ""
           },
           "baxis": {
            "gridcolor": "white",
            "linecolor": "white",
            "ticks": ""
           },
           "bgcolor": "#E5ECF6",
           "caxis": {
            "gridcolor": "white",
            "linecolor": "white",
            "ticks": ""
           }
          },
          "title": {
           "x": 0.05
          },
          "xaxis": {
           "automargin": true,
           "gridcolor": "white",
           "linecolor": "white",
           "ticks": "",
           "title": {
            "standoff": 15
           },
           "zerolinecolor": "white",
           "zerolinewidth": 2
          },
          "yaxis": {
           "automargin": true,
           "gridcolor": "white",
           "linecolor": "white",
           "ticks": "",
           "title": {
            "standoff": 15
           },
           "zerolinecolor": "white",
           "zerolinewidth": 2
          }
         }
        },
        "updatemenus": [
         {
          "buttons": [
           {
            "args": [
             null,
             {
              "frame": {
               "duration": 900,
               "redraw": false
              },
              "fromcurrent": true,
              "mode": "immediate",
              "transition": {
               "duration": 500,
               "easing": "linear"
              }
             }
            ],
            "label": "&#9654;",
            "method": "animate"
           },
           {
            "args": [
             [
              null
             ],
             {
              "frame": {
               "duration": 0,
               "redraw": false
              },
              "fromcurrent": true,
              "mode": "immediate",
              "transition": {
               "duration": 0,
               "easing": "linear"
              }
             }
            ],
            "label": "&#9724;",
            "method": "animate"
           }
          ],
          "direction": "left",
          "pad": {
           "r": 10,
           "t": 70
          },
          "showactive": false,
          "type": "buttons",
          "x": 0.1,
          "xanchor": "right",
          "y": 0,
          "yanchor": "top"
         }
        ],
        "xaxis": {
         "anchor": "y",
         "domain": [
          0,
          1
         ],
         "range": [
          2.301029995663981,
          5.1760912590556805
         ],
         "title": {
          "text": "gdi_value"
         },
         "type": "log"
        },
        "yaxis": {
         "anchor": "x",
         "domain": [
          0,
          1
         ],
         "range": [
          10,
          100
         ],
         "title": {
          "text": "ExpenditureEducationValue"
         }
        }
       }
      },
      "text/html": [
       "<div>                            <div id=\"12bdbab3-aae4-4d4e-b419-eff40680cfab\" class=\"plotly-graph-div\" style=\"height:525px; width:100%;\"></div>            <script type=\"text/javascript\">                require([\"plotly\"], function(Plotly) {                    window.PLOTLYENV=window.PLOTLYENV || {};                                    if (document.getElementById(\"12bdbab3-aae4-4d4e-b419-eff40680cfab\")) {                    Plotly.newPlot(                        \"12bdbab3-aae4-4d4e-b419-eff40680cfab\",                        [{\"hovertemplate\":\"<b>%{hovertext}</b><br><br>Continent_Name=Oceania<br>Year=1995<br>gdi_value=%{marker.size}<br>ExpenditureEducationValue=%{y}<extra></extra>\",\"hovertext\":[\"Australia\"],\"ids\":[\"Oceania\"],\"legendgroup\":\"Oceania\",\"marker\":{\"color\":\"#636efa\",\"size\":[792272165199.3579],\"sizemode\":\"area\",\"sizeref\":3783796695310.0737,\"symbol\":\"circle\"},\"mode\":\"markers\",\"name\":\"Oceania\",\"orientation\":\"v\",\"showlegend\":true,\"x\":[792272165199.3579],\"xaxis\":\"x\",\"y\":[14.11191],\"yaxis\":\"y\",\"type\":\"scatter\"}],                        {\"template\":{\"data\":{\"histogram2dcontour\":[{\"type\":\"histogram2dcontour\",\"colorbar\":{\"outlinewidth\":0,\"ticks\":\"\"},\"colorscale\":[[0.0,\"#0d0887\"],[0.1111111111111111,\"#46039f\"],[0.2222222222222222,\"#7201a8\"],[0.3333333333333333,\"#9c179e\"],[0.4444444444444444,\"#bd3786\"],[0.5555555555555556,\"#d8576b\"],[0.6666666666666666,\"#ed7953\"],[0.7777777777777778,\"#fb9f3a\"],[0.8888888888888888,\"#fdca26\"],[1.0,\"#f0f921\"]]}],\"choropleth\":[{\"type\":\"choropleth\",\"colorbar\":{\"outlinewidth\":0,\"ticks\":\"\"}}],\"histogram2d\":[{\"type\":\"histogram2d\",\"colorbar\":{\"outlinewidth\":0,\"ticks\":\"\"},\"colorscale\":[[0.0,\"#0d0887\"],[0.1111111111111111,\"#46039f\"],[0.2222222222222222,\"#7201a8\"],[0.3333333333333333,\"#9c179e\"],[0.4444444444444444,\"#bd3786\"],[0.5555555555555556,\"#d8576b\"],[0.6666666666666666,\"#ed7953\"],[0.7777777777777778,\"#fb9f3a\"],[0.8888888888888888,\"#fdca26\"],[1.0,\"#f0f921\"]]}],\"heatmap\":[{\"type\":\"heatmap\",\"colorbar\":{\"outlinewidth\":0,\"ticks\":\"\"},\"colorscale\":[[0.0,\"#0d0887\"],[0.1111111111111111,\"#46039f\"],[0.2222222222222222,\"#7201a8\"],[0.3333333333333333,\"#9c179e\"],[0.4444444444444444,\"#bd3786\"],[0.5555555555555556,\"#d8576b\"],[0.6666666666666666,\"#ed7953\"],[0.7777777777777778,\"#fb9f3a\"],[0.8888888888888888,\"#fdca26\"],[1.0,\"#f0f921\"]]}],\"heatmapgl\":[{\"type\":\"heatmapgl\",\"colorbar\":{\"outlinewidth\":0,\"ticks\":\"\"},\"colorscale\":[[0.0,\"#0d0887\"],[0.1111111111111111,\"#46039f\"],[0.2222222222222222,\"#7201a8\"],[0.3333333333333333,\"#9c179e\"],[0.4444444444444444,\"#bd3786\"],[0.5555555555555556,\"#d8576b\"],[0.6666666666666666,\"#ed7953\"],[0.7777777777777778,\"#fb9f3a\"],[0.8888888888888888,\"#fdca26\"],[1.0,\"#f0f921\"]]}],\"contourcarpet\":[{\"type\":\"contourcarpet\",\"colorbar\":{\"outlinewidth\":0,\"ticks\":\"\"}}],\"contour\":[{\"type\":\"contour\",\"colorbar\":{\"outlinewidth\":0,\"ticks\":\"\"},\"colorscale\":[[0.0,\"#0d0887\"],[0.1111111111111111,\"#46039f\"],[0.2222222222222222,\"#7201a8\"],[0.3333333333333333,\"#9c179e\"],[0.4444444444444444,\"#bd3786\"],[0.5555555555555556,\"#d8576b\"],[0.6666666666666666,\"#ed7953\"],[0.7777777777777778,\"#fb9f3a\"],[0.8888888888888888,\"#fdca26\"],[1.0,\"#f0f921\"]]}],\"surface\":[{\"type\":\"surface\",\"colorbar\":{\"outlinewidth\":0,\"ticks\":\"\"},\"colorscale\":[[0.0,\"#0d0887\"],[0.1111111111111111,\"#46039f\"],[0.2222222222222222,\"#7201a8\"],[0.3333333333333333,\"#9c179e\"],[0.4444444444444444,\"#bd3786\"],[0.5555555555555556,\"#d8576b\"],[0.6666666666666666,\"#ed7953\"],[0.7777777777777778,\"#fb9f3a\"],[0.8888888888888888,\"#fdca26\"],[1.0,\"#f0f921\"]]}],\"mesh3d\":[{\"type\":\"mesh3d\",\"colorbar\":{\"outlinewidth\":0,\"ticks\":\"\"}}],\"scatter\":[{\"fillpattern\":{\"fillmode\":\"overlay\",\"size\":10,\"solidity\":0.2},\"type\":\"scatter\"}],\"parcoords\":[{\"type\":\"parcoords\",\"line\":{\"colorbar\":{\"outlinewidth\":0,\"ticks\":\"\"}}}],\"scatterpolargl\":[{\"type\":\"scatterpolargl\",\"marker\":{\"colorbar\":{\"outlinewidth\":0,\"ticks\":\"\"}}}],\"bar\":[{\"error_x\":{\"color\":\"#2a3f5f\"},\"error_y\":{\"color\":\"#2a3f5f\"},\"marker\":{\"line\":{\"color\":\"#E5ECF6\",\"width\":0.5},\"pattern\":{\"fillmode\":\"overlay\",\"size\":10,\"solidity\":0.2}},\"type\":\"bar\"}],\"scattergeo\":[{\"type\":\"scattergeo\",\"marker\":{\"colorbar\":{\"outlinewidth\":0,\"ticks\":\"\"}}}],\"scatterpolar\":[{\"type\":\"scatterpolar\",\"marker\":{\"colorbar\":{\"outlinewidth\":0,\"ticks\":\"\"}}}],\"histogram\":[{\"marker\":{\"pattern\":{\"fillmode\":\"overlay\",\"size\":10,\"solidity\":0.2}},\"type\":\"histogram\"}],\"scattergl\":[{\"type\":\"scattergl\",\"marker\":{\"colorbar\":{\"outlinewidth\":0,\"ticks\":\"\"}}}],\"scatter3d\":[{\"type\":\"scatter3d\",\"line\":{\"colorbar\":{\"outlinewidth\":0,\"ticks\":\"\"}},\"marker\":{\"colorbar\":{\"outlinewidth\":0,\"ticks\":\"\"}}}],\"scattermapbox\":[{\"type\":\"scattermapbox\",\"marker\":{\"colorbar\":{\"outlinewidth\":0,\"ticks\":\"\"}}}],\"scatterternary\":[{\"type\":\"scatterternary\",\"marker\":{\"colorbar\":{\"outlinewidth\":0,\"ticks\":\"\"}}}],\"scattercarpet\":[{\"type\":\"scattercarpet\",\"marker\":{\"colorbar\":{\"outlinewidth\":0,\"ticks\":\"\"}}}],\"carpet\":[{\"aaxis\":{\"endlinecolor\":\"#2a3f5f\",\"gridcolor\":\"white\",\"linecolor\":\"white\",\"minorgridcolor\":\"white\",\"startlinecolor\":\"#2a3f5f\"},\"baxis\":{\"endlinecolor\":\"#2a3f5f\",\"gridcolor\":\"white\",\"linecolor\":\"white\",\"minorgridcolor\":\"white\",\"startlinecolor\":\"#2a3f5f\"},\"type\":\"carpet\"}],\"table\":[{\"cells\":{\"fill\":{\"color\":\"#EBF0F8\"},\"line\":{\"color\":\"white\"}},\"header\":{\"fill\":{\"color\":\"#C8D4E3\"},\"line\":{\"color\":\"white\"}},\"type\":\"table\"}],\"barpolar\":[{\"marker\":{\"line\":{\"color\":\"#E5ECF6\",\"width\":0.5},\"pattern\":{\"fillmode\":\"overlay\",\"size\":10,\"solidity\":0.2}},\"type\":\"barpolar\"}],\"pie\":[{\"automargin\":true,\"type\":\"pie\"}]},\"layout\":{\"autotypenumbers\":\"strict\",\"colorway\":[\"#636efa\",\"#EF553B\",\"#00cc96\",\"#ab63fa\",\"#FFA15A\",\"#19d3f3\",\"#FF6692\",\"#B6E880\",\"#FF97FF\",\"#FECB52\"],\"font\":{\"color\":\"#2a3f5f\"},\"hovermode\":\"closest\",\"hoverlabel\":{\"align\":\"left\"},\"paper_bgcolor\":\"white\",\"plot_bgcolor\":\"#E5ECF6\",\"polar\":{\"bgcolor\":\"#E5ECF6\",\"angularaxis\":{\"gridcolor\":\"white\",\"linecolor\":\"white\",\"ticks\":\"\"},\"radialaxis\":{\"gridcolor\":\"white\",\"linecolor\":\"white\",\"ticks\":\"\"}},\"ternary\":{\"bgcolor\":\"#E5ECF6\",\"aaxis\":{\"gridcolor\":\"white\",\"linecolor\":\"white\",\"ticks\":\"\"},\"baxis\":{\"gridcolor\":\"white\",\"linecolor\":\"white\",\"ticks\":\"\"},\"caxis\":{\"gridcolor\":\"white\",\"linecolor\":\"white\",\"ticks\":\"\"}},\"coloraxis\":{\"colorbar\":{\"outlinewidth\":0,\"ticks\":\"\"}},\"colorscale\":{\"sequential\":[[0.0,\"#0d0887\"],[0.1111111111111111,\"#46039f\"],[0.2222222222222222,\"#7201a8\"],[0.3333333333333333,\"#9c179e\"],[0.4444444444444444,\"#bd3786\"],[0.5555555555555556,\"#d8576b\"],[0.6666666666666666,\"#ed7953\"],[0.7777777777777778,\"#fb9f3a\"],[0.8888888888888888,\"#fdca26\"],[1.0,\"#f0f921\"]],\"sequentialminus\":[[0.0,\"#0d0887\"],[0.1111111111111111,\"#46039f\"],[0.2222222222222222,\"#7201a8\"],[0.3333333333333333,\"#9c179e\"],[0.4444444444444444,\"#bd3786\"],[0.5555555555555556,\"#d8576b\"],[0.6666666666666666,\"#ed7953\"],[0.7777777777777778,\"#fb9f3a\"],[0.8888888888888888,\"#fdca26\"],[1.0,\"#f0f921\"]],\"diverging\":[[0,\"#8e0152\"],[0.1,\"#c51b7d\"],[0.2,\"#de77ae\"],[0.3,\"#f1b6da\"],[0.4,\"#fde0ef\"],[0.5,\"#f7f7f7\"],[0.6,\"#e6f5d0\"],[0.7,\"#b8e186\"],[0.8,\"#7fbc41\"],[0.9,\"#4d9221\"],[1,\"#276419\"]]},\"xaxis\":{\"gridcolor\":\"white\",\"linecolor\":\"white\",\"ticks\":\"\",\"title\":{\"standoff\":15},\"zerolinecolor\":\"white\",\"automargin\":true,\"zerolinewidth\":2},\"yaxis\":{\"gridcolor\":\"white\",\"linecolor\":\"white\",\"ticks\":\"\",\"title\":{\"standoff\":15},\"zerolinecolor\":\"white\",\"automargin\":true,\"zerolinewidth\":2},\"scene\":{\"xaxis\":{\"backgroundcolor\":\"#E5ECF6\",\"gridcolor\":\"white\",\"linecolor\":\"white\",\"showbackground\":true,\"ticks\":\"\",\"zerolinecolor\":\"white\",\"gridwidth\":2},\"yaxis\":{\"backgroundcolor\":\"#E5ECF6\",\"gridcolor\":\"white\",\"linecolor\":\"white\",\"showbackground\":true,\"ticks\":\"\",\"zerolinecolor\":\"white\",\"gridwidth\":2},\"zaxis\":{\"backgroundcolor\":\"#E5ECF6\",\"gridcolor\":\"white\",\"linecolor\":\"white\",\"showbackground\":true,\"ticks\":\"\",\"zerolinecolor\":\"white\",\"gridwidth\":2}},\"shapedefaults\":{\"line\":{\"color\":\"#2a3f5f\"}},\"annotationdefaults\":{\"arrowcolor\":\"#2a3f5f\",\"arrowhead\":0,\"arrowwidth\":1},\"geo\":{\"bgcolor\":\"white\",\"landcolor\":\"#E5ECF6\",\"subunitcolor\":\"white\",\"showland\":true,\"showlakes\":true,\"lakecolor\":\"white\"},\"title\":{\"x\":0.05},\"mapbox\":{\"style\":\"light\"}}},\"xaxis\":{\"anchor\":\"y\",\"domain\":[0.0,1.0],\"title\":{\"text\":\"gdi_value\"},\"type\":\"log\",\"range\":[2.301029995663981,5.1760912590556805]},\"yaxis\":{\"anchor\":\"x\",\"domain\":[0.0,1.0],\"title\":{\"text\":\"ExpenditureEducationValue\"},\"range\":[10,100]},\"legend\":{\"title\":{\"text\":\"Continent_Name\"},\"tracegroupgap\":0,\"itemsizing\":\"constant\"},\"margin\":{\"t\":60},\"updatemenus\":[{\"buttons\":[{\"args\":[null,{\"frame\":{\"duration\":900,\"redraw\":false},\"mode\":\"immediate\",\"fromcurrent\":true,\"transition\":{\"duration\":500,\"easing\":\"linear\"}}],\"label\":\"&#9654;\",\"method\":\"animate\"},{\"args\":[[null],{\"frame\":{\"duration\":0,\"redraw\":false},\"mode\":\"immediate\",\"fromcurrent\":true,\"transition\":{\"duration\":0,\"easing\":\"linear\"}}],\"label\":\"&#9724;\",\"method\":\"animate\"}],\"direction\":\"left\",\"pad\":{\"r\":10,\"t\":70},\"showactive\":false,\"type\":\"buttons\",\"x\":0.1,\"xanchor\":\"right\",\"y\":0,\"yanchor\":\"top\"}],\"sliders\":[{\"active\":0,\"currentvalue\":{\"prefix\":\"Year=\"},\"len\":0.9,\"pad\":{\"b\":10,\"t\":60},\"steps\":[{\"args\":[[\"1995\"],{\"frame\":{\"duration\":0,\"redraw\":false},\"mode\":\"immediate\",\"fromcurrent\":true,\"transition\":{\"duration\":0,\"easing\":\"linear\"}}],\"label\":\"1995\",\"method\":\"animate\"},{\"args\":[[\"1997\"],{\"frame\":{\"duration\":0,\"redraw\":false},\"mode\":\"immediate\",\"fromcurrent\":true,\"transition\":{\"duration\":0,\"easing\":\"linear\"}}],\"label\":\"1997\",\"method\":\"animate\"},{\"args\":[[\"1998\"],{\"frame\":{\"duration\":0,\"redraw\":false},\"mode\":\"immediate\",\"fromcurrent\":true,\"transition\":{\"duration\":0,\"easing\":\"linear\"}}],\"label\":\"1998\",\"method\":\"animate\"},{\"args\":[[\"1999\"],{\"frame\":{\"duration\":0,\"redraw\":false},\"mode\":\"immediate\",\"fromcurrent\":true,\"transition\":{\"duration\":0,\"easing\":\"linear\"}}],\"label\":\"1999\",\"method\":\"animate\"},{\"args\":[[\"2000\"],{\"frame\":{\"duration\":0,\"redraw\":false},\"mode\":\"immediate\",\"fromcurrent\":true,\"transition\":{\"duration\":0,\"easing\":\"linear\"}}],\"label\":\"2000\",\"method\":\"animate\"},{\"args\":[[\"2001\"],{\"frame\":{\"duration\":0,\"redraw\":false},\"mode\":\"immediate\",\"fromcurrent\":true,\"transition\":{\"duration\":0,\"easing\":\"linear\"}}],\"label\":\"2001\",\"method\":\"animate\"},{\"args\":[[\"2002\"],{\"frame\":{\"duration\":0,\"redraw\":false},\"mode\":\"immediate\",\"fromcurrent\":true,\"transition\":{\"duration\":0,\"easing\":\"linear\"}}],\"label\":\"2002\",\"method\":\"animate\"},{\"args\":[[\"2003\"],{\"frame\":{\"duration\":0,\"redraw\":false},\"mode\":\"immediate\",\"fromcurrent\":true,\"transition\":{\"duration\":0,\"easing\":\"linear\"}}],\"label\":\"2003\",\"method\":\"animate\"},{\"args\":[[\"2004\"],{\"frame\":{\"duration\":0,\"redraw\":false},\"mode\":\"immediate\",\"fromcurrent\":true,\"transition\":{\"duration\":0,\"easing\":\"linear\"}}],\"label\":\"2004\",\"method\":\"animate\"},{\"args\":[[\"2005\"],{\"frame\":{\"duration\":0,\"redraw\":false},\"mode\":\"immediate\",\"fromcurrent\":true,\"transition\":{\"duration\":0,\"easing\":\"linear\"}}],\"label\":\"2005\",\"method\":\"animate\"},{\"args\":[[\"2006\"],{\"frame\":{\"duration\":0,\"redraw\":false},\"mode\":\"immediate\",\"fromcurrent\":true,\"transition\":{\"duration\":0,\"easing\":\"linear\"}}],\"label\":\"2006\",\"method\":\"animate\"},{\"args\":[[\"2007\"],{\"frame\":{\"duration\":0,\"redraw\":false},\"mode\":\"immediate\",\"fromcurrent\":true,\"transition\":{\"duration\":0,\"easing\":\"linear\"}}],\"label\":\"2007\",\"method\":\"animate\"},{\"args\":[[\"2008\"],{\"frame\":{\"duration\":0,\"redraw\":false},\"mode\":\"immediate\",\"fromcurrent\":true,\"transition\":{\"duration\":0,\"easing\":\"linear\"}}],\"label\":\"2008\",\"method\":\"animate\"},{\"args\":[[\"2009\"],{\"frame\":{\"duration\":0,\"redraw\":false},\"mode\":\"immediate\",\"fromcurrent\":true,\"transition\":{\"duration\":0,\"easing\":\"linear\"}}],\"label\":\"2009\",\"method\":\"animate\"},{\"args\":[[\"2010\"],{\"frame\":{\"duration\":0,\"redraw\":false},\"mode\":\"immediate\",\"fromcurrent\":true,\"transition\":{\"duration\":0,\"easing\":\"linear\"}}],\"label\":\"2010\",\"method\":\"animate\"},{\"args\":[[\"2011\"],{\"frame\":{\"duration\":0,\"redraw\":false},\"mode\":\"immediate\",\"fromcurrent\":true,\"transition\":{\"duration\":0,\"easing\":\"linear\"}}],\"label\":\"2011\",\"method\":\"animate\"},{\"args\":[[\"2012\"],{\"frame\":{\"duration\":0,\"redraw\":false},\"mode\":\"immediate\",\"fromcurrent\":true,\"transition\":{\"duration\":0,\"easing\":\"linear\"}}],\"label\":\"2012\",\"method\":\"animate\"},{\"args\":[[\"2013\"],{\"frame\":{\"duration\":0,\"redraw\":false},\"mode\":\"immediate\",\"fromcurrent\":true,\"transition\":{\"duration\":0,\"easing\":\"linear\"}}],\"label\":\"2013\",\"method\":\"animate\"},{\"args\":[[\"2014\"],{\"frame\":{\"duration\":0,\"redraw\":false},\"mode\":\"immediate\",\"fromcurrent\":true,\"transition\":{\"duration\":0,\"easing\":\"linear\"}}],\"label\":\"2014\",\"method\":\"animate\"}],\"x\":0.1,\"xanchor\":\"left\",\"y\":0,\"yanchor\":\"top\"}]},                        {\"responsive\": true}                    ).then(function(){\n",
       "                            Plotly.addFrames('12bdbab3-aae4-4d4e-b419-eff40680cfab', [{\"data\":[{\"hovertemplate\":\"<b>%{hovertext}</b><br><br>Continent_Name=Oceania<br>Year=1995<br>gdi_value=%{marker.size}<br>ExpenditureEducationValue=%{y}<extra></extra>\",\"hovertext\":[\"Australia\"],\"ids\":[\"Oceania\"],\"legendgroup\":\"Oceania\",\"marker\":{\"color\":\"#636efa\",\"size\":[792272165199.3579],\"sizemode\":\"area\",\"sizeref\":3783796695310.0737,\"symbol\":\"circle\"},\"mode\":\"markers\",\"name\":\"Oceania\",\"orientation\":\"v\",\"showlegend\":true,\"x\":[792272165199.3579],\"xaxis\":\"x\",\"y\":[14.11191],\"yaxis\":\"y\",\"type\":\"scatter\"}],\"name\":\"1995\"},{\"data\":[{\"hovertemplate\":\"<b>%{hovertext}</b><br><br>Continent_Name=Europe<br>Year=1997<br>gdi_value=%{marker.size}<br>ExpenditureEducationValue=%{y}<extra></extra>\",\"hovertext\":[\"Ukraine\",\"Norway\",\"Slovak Republic\",\"Estonia\",\"Albania\"],\"ids\":[\"Europe\",\"Europe\",\"Europe\",\"Europe\",\"Europe\"],\"legendgroup\":\"Europe\",\"marker\":{\"color\":\"#EF553B\",\"size\":[217815617353.89105,1683966041422.88,41506108447.7523,8447909557.683809,308169209964.987],\"sizemode\":\"area\",\"sizeref\":3783796695310.0737,\"symbol\":\"circle\"},\"mode\":\"markers\",\"name\":\"Europe\",\"orientation\":\"v\",\"showlegend\":true,\"x\":[217815617353.89105,1683966041422.88,41506108447.7523,8447909557.683809,308169209964.987],\"xaxis\":\"x\",\"y\":[12.92467,15.90564,8.55968,17.85775,11.15339],\"yaxis\":\"y\",\"type\":\"scatter\"},{\"hovertemplate\":\"<b>%{hovertext}</b><br><br>Continent_Name=Africa<br>Year=1997<br>gdi_value=%{marker.size}<br>ExpenditureEducationValue=%{y}<extra></extra>\",\"hovertext\":[\"Tunisia\",\"Chad\",\"Madagascar\"],\"ids\":[\"Africa\",\"Africa\",\"Africa\"],\"legendgroup\":\"Africa\",\"marker\":{\"color\":\"#00cc96\",\"size\":[35994660995.426,1685776508635.88,394967789644.196],\"sizemode\":\"area\",\"sizeref\":3783796695310.0737,\"symbol\":\"circle\"},\"mode\":\"markers\",\"name\":\"Africa\",\"orientation\":\"v\",\"showlegend\":true,\"x\":[35994660995.426,1685776508635.88,394967789644.196],\"xaxis\":\"x\",\"y\":[26.21273,12.89866,10.51932],\"yaxis\":\"y\",\"type\":\"scatter\"},{\"hovertemplate\":\"<b>%{hovertext}</b><br><br>Continent_Name=Asia<br>Year=1997<br>gdi_value=%{marker.size}<br>ExpenditureEducationValue=%{y}<extra></extra>\",\"hovertext\":[\"Philippines\",\"Malaysia\",\"Jordan\",\"India\"],\"ids\":[\"Asia\",\"Asia\",\"Asia\",\"Asia\"],\"legendgroup\":\"Asia\",\"marker\":{\"color\":\"#ab63fa\",\"size\":[3113631749014.3,450554021062.704,4807814033.7739,34039508443986.3],\"sizemode\":\"area\",\"sizeref\":3783796695310.0737,\"symbol\":\"circle\"},\"mode\":\"markers\",\"name\":\"Asia\",\"orientation\":\"v\",\"showlegend\":true,\"x\":[3113631749014.3,450554021062.704,4807814033.7739,34039508443986.3],\"xaxis\":\"x\",\"y\":[15.3684,18.98457,18.41103,10.74361],\"yaxis\":\"y\",\"type\":\"scatter\"},{\"hovertemplate\":\"<b>%{hovertext}</b><br><br>Continent_Name=North America<br>Year=1997<br>gdi_value=%{marker.size}<br>ExpenditureEducationValue=%{y}<extra></extra>\",\"hovertext\":[\"Panama\"],\"ids\":[\"North America\"],\"legendgroup\":\"North America\",\"marker\":{\"color\":\"#FFA15A\",\"size\":[12458028468.7765],\"sizemode\":\"area\",\"sizeref\":3783796695310.0737,\"symbol\":\"circle\"},\"mode\":\"markers\",\"name\":\"North America\",\"orientation\":\"v\",\"showlegend\":true,\"x\":[12458028468.7765],\"xaxis\":\"x\",\"y\":[17.35391],\"yaxis\":\"y\",\"type\":\"scatter\"},{\"hovertemplate\":\"<b>%{hovertext}</b><br><br>Continent_Name=South America<br>Year=1997<br>gdi_value=%{marker.size}<br>ExpenditureEducationValue=%{y}<extra></extra>\",\"hovertext\":[\"Chile\"],\"ids\":[\"South America\"],\"legendgroup\":\"South America\",\"marker\":{\"color\":\"#19d3f3\",\"size\":[56436552804954.2],\"sizemode\":\"area\",\"sizeref\":3783796695310.0737,\"symbol\":\"circle\"},\"mode\":\"markers\",\"name\":\"South America\",\"orientation\":\"v\",\"showlegend\":true,\"x\":[56436552804954.2],\"xaxis\":\"x\",\"y\":[14.44519],\"yaxis\":\"y\",\"type\":\"scatter\"}],\"name\":\"1997\"},{\"data\":[{\"hovertemplate\":\"<b>%{hovertext}</b><br><br>Continent_Name=Europe<br>Year=1998<br>gdi_value=%{marker.size}<br>ExpenditureEducationValue=%{y}<extra></extra>\",\"hovertext\":[\"Netherlands\",\"Ireland\",\"Italy\",\"Latvia\",\"Norway\",\"Poland\",\"Spain\",\"Sweden\",\"Switzerland\",\"Iceland\",\"Ukraine\",\"United Kingdom\",\"Hungary\",\"Germany\",\"Greece\",\"Albania\",\"Austria\",\"France\",\"Estonia\",\"Denmark\",\"Czech Republic\"],\"ids\":[\"Europe\",\"Europe\",\"Europe\",\"Europe\",\"Europe\",\"Europe\",\"Europe\",\"Europe\",\"Europe\",\"Europe\",\"Europe\",\"Europe\",\"Europe\",\"Europe\",\"Europe\",\"Europe\",\"Europe\",\"Europe\",\"Europe\",\"Europe\",\"Europe\"],\"legendgroup\":\"Europe\",\"marker\":{\"color\":\"#EF553B\",\"size\":[503129224076.301,105867166792.702,1506183105017.8,11323965882.9126,1683571621036.6,787788183230.4209,782355630019.4829,2705357856027.9,478662023146.324,1232114065988.09,217450672415.575,1236791528226.39,20850782988185.6,2262691160785.06,177154395904.258,335850791157.325,240082781647.362,1659106637699.73,8776422186.150959,1528609092187.47,2740570916769.03],\"sizemode\":\"area\",\"sizeref\":3783796695310.0737,\"symbol\":\"circle\"},\"mode\":\"markers\",\"name\":\"Europe\",\"orientation\":\"v\",\"showlegend\":true,\"x\":[503129224076.301,105867166792.702,1506183105017.8,11323965882.9126,1683571621036.6,787788183230.4209,782355630019.4829,2705357856027.9,478662023146.324,1232114065988.09,217450672415.575,1236791528226.39,20850782988185.6,2262691160785.06,177154395904.258,335850791157.325,240082781647.362,1659106637699.73,8776422186.150959,1528609092187.47,2740570916769.03],\"xaxis\":\"x\",\"y\":[10.58261,12.38154,9.27408,11.00897,15.24957,11.27881,10.50367,12.77153,14.15674,16.71814,11.59928,12.25563,9.45664,9.55467,6.701,9.62407,11.74834,10.81141,16.16829,14.63437,8.71825],\"yaxis\":\"y\",\"type\":\"scatter\"},{\"hovertemplate\":\"<b>%{hovertext}</b><br><br>Continent_Name=Africa<br>Year=1998<br>gdi_value=%{marker.size}<br>ExpenditureEducationValue=%{y}<extra></extra>\",\"hovertext\":[\"Mozambique\",\"Madagascar\",\"Tanzania\",\"Seychelles\",\"Togo\",\"Morocco\",\"Benin\",\"Chad\",\"Comoros\",\"Gabon\",\"Equatorial Guinea\",\"Eritrea\",\"Congo, Rep.\"],\"ids\":[\"Africa\",\"Africa\",\"Africa\",\"Africa\",\"Africa\",\"Africa\",\"Africa\",\"Africa\",\"Africa\",\"Africa\",\"Africa\",\"Africa\",\"Africa\"],\"legendgroup\":\"Africa\",\"marker\":{\"color\":\"#00cc96\",\"size\":[132055561392.16,417111469719.26,14844835172086.0,3929110758.58208,917887977490.694,462789845410.67896,2044689345669.66,1802490058349.32,70067104300.138,3151146494927.83,435841929218.375,7009378097.80044,684026925881.794],\"sizemode\":\"area\",\"sizeref\":3783796695310.0737,\"symbol\":\"circle\"},\"mode\":\"markers\",\"name\":\"Africa\",\"orientation\":\"v\",\"showlegend\":true,\"x\":[132055561392.16,417111469719.26,14844835172086.0,3929110758.58208,917887977490.694,462789845410.67896,2044689345669.66,1802490058349.32,70067104300.138,3151146494927.83,435841929218.375,7009378097.80044,684026925881.794],\"xaxis\":\"x\",\"y\":[12.05375,9.2725,11.79397,9.87257,20.98232,25.21153,15.16716,11.07153,15.65296,7.05811,6.19878,6.25092,13.74414],\"yaxis\":\"y\",\"type\":\"scatter\"},{\"hovertemplate\":\"<b>%{hovertext}</b><br><br>Continent_Name=Asia<br>Year=1998<br>gdi_value=%{marker.size}<br>ExpenditureEducationValue=%{y}<extra></extra>\",\"hovertext\":[\"Japan\",\"India\",\"Tajikistan\",\"Thailand\",\"Philippines\",\"Brunei Darussalam\",\"Cambodia\",\"China\"],\"ids\":[\"Asia\",\"Asia\",\"Asia\",\"Asia\",\"Asia\",\"Asia\",\"Asia\",\"Asia\"],\"legendgroup\":\"Asia\",\"marker\":{\"color\":\"#ab63fa\",\"size\":[456018738981441.0,36314032894848.2,1260010828.5761,5022186542178.97,3254507411458.21,7902166848.30421,11564702552918.7,8710002554938.65],\"sizemode\":\"area\",\"sizeref\":3783796695310.0737,\"symbol\":\"circle\"},\"mode\":\"markers\",\"name\":\"Asia\",\"orientation\":\"v\",\"showlegend\":true,\"x\":[456018738981441.0,36314032894848.2,1260010828.5761,5022186542178.97,3254507411458.21,7902166848.30421,11564702552918.7,8710002554938.65],\"xaxis\":\"x\",\"y\":[10.2068,14.77775,15.07245,19.481,18.18099,8.76089,9.392,14.55141],\"yaxis\":\"y\",\"type\":\"scatter\"},{\"hovertemplate\":\"<b>%{hovertext}</b><br><br>Continent_Name=North America<br>Year=1998<br>gdi_value=%{marker.size}<br>ExpenditureEducationValue=%{y}<extra></extra>\",\"hovertext\":[\"Mexico\",\"Nicaragua\",\"Canada\",\"El Salvador\"],\"ids\":[\"North America\",\"North America\",\"North America\",\"North America\"],\"legendgroup\":\"North America\",\"marker\":{\"color\":\"#FFA15A\",\"size\":[8984020832381.5,92986926420.1325,1174106811859.9,7355954535.043],\"sizemode\":\"area\",\"sizeref\":3783796695310.0737,\"symbol\":\"circle\"},\"mode\":\"markers\",\"name\":\"North America\",\"orientation\":\"v\",\"showlegend\":true,\"x\":[8984020832381.5,92986926420.1325,1174106811859.9,7355954535.043],\"xaxis\":\"x\",\"y\":[15.78813,13.38182,12.52588,13.91532],\"yaxis\":\"y\",\"type\":\"scatter\"},{\"hovertemplate\":\"<b>%{hovertext}</b><br><br>Continent_Name=South America<br>Year=1998<br>gdi_value=%{marker.size}<br>ExpenditureEducationValue=%{y}<extra></extra>\",\"hovertext\":[\"Argentina\",\"Bolivia\",\"Chile\",\"Brazil\",\"Colombia\",\"Ecuador\"],\"ids\":[\"South America\",\"South America\",\"South America\",\"South America\",\"South America\",\"South America\"],\"legendgroup\":\"South America\",\"marker\":{\"color\":\"#19d3f3\",\"size\":[550433413689.315,20694145154.1015,57726530698023.6,1162463096614.04,278261365481659.0,35626141629.2774],\"sizemode\":\"area\",\"sizeref\":3783796695310.0737,\"symbol\":\"circle\"},\"mode\":\"markers\",\"name\":\"South America\",\"orientation\":\"v\",\"showlegend\":true,\"x\":[550433413689.315,20694145154.1015,57726530698023.6,1162463096614.04,278261365481659.0,35626141629.2774],\"xaxis\":\"x\",\"y\":[15.62227,18.42669,15.12567,11.62986,12.47536,10.92916],\"yaxis\":\"y\",\"type\":\"scatter\"}],\"name\":\"1998\"},{\"data\":[{\"hovertemplate\":\"<b>%{hovertext}</b><br><br>Continent_Name=Oceania<br>Year=1999<br>gdi_value=%{marker.size}<br>ExpenditureEducationValue=%{y}<extra></extra>\",\"hovertext\":[\"New Zealand\",\"Samoa\"],\"ids\":[\"Oceania\",\"Oceania\"],\"legendgroup\":\"Oceania\",\"marker\":{\"color\":\"#636efa\",\"size\":[145071700557.393,1127227393.9737802],\"sizemode\":\"area\",\"sizeref\":3783796695310.0737,\"symbol\":\"circle\"},\"mode\":\"markers\",\"name\":\"Oceania\",\"orientation\":\"v\",\"showlegend\":true,\"x\":[145071700557.393,1127227393.9737802],\"xaxis\":\"x\",\"y\":[18.5353202819824,13.4171695709229],\"yaxis\":\"y\",\"type\":\"scatter\"},{\"hovertemplate\":\"<b>%{hovertext}</b><br><br>Continent_Name=Europe<br>Year=1999<br>gdi_value=%{marker.size}<br>ExpenditureEducationValue=%{y}<extra></extra>\",\"hovertext\":[\"Netherlands\",\"Moldova\",\"Latvia\",\"Norway\",\"Poland\",\"United Kingdom\",\"Ukraine\",\"Sweden\",\"Spain\",\"Slovak Republic\",\"Portugal\",\"Italy\",\"Estonia\",\"Austria\",\"Albania\",\"Ireland\",\"Cyprus\",\"Iceland\",\"Hungary\",\"France\",\"Greece\",\"Czech Republic\",\"Finland\",\"Denmark\"],\"ids\":[\"Europe\",\"Europe\",\"Europe\",\"Europe\",\"Europe\",\"Europe\",\"Europe\",\"Europe\",\"Europe\",\"Europe\",\"Europe\",\"Europe\",\"Europe\",\"Europe\",\"Europe\",\"Europe\",\"Europe\",\"Europe\",\"Europe\",\"Europe\",\"Europe\",\"Europe\",\"Europe\",\"Europe\"],\"legendgroup\":\"Europe\",\"marker\":{\"color\":\"#EF553B\",\"size\":[527302527180.875,7426574610.88292,11766248025.8341,1778395090542.38,820459442595.93,1278983007671.49,216634217488.70105,2800062368205.45,817371608659.772,42212471541.152,161184753601.84302,1527874194211.94,8677409363.70384,248315779290.566,381600582978.778,117505948511.727,11587839229.0908,1278360416184.07,21503271801209.2,1716821705936.54,182705492172.10895,2772824498654.16,157276430509.314,1568650400839.86],\"sizemode\":\"area\",\"sizeref\":3783796695310.0737,\"symbol\":\"circle\"},\"mode\":\"markers\",\"name\":\"Europe\",\"orientation\":\"v\",\"showlegend\":true,\"x\":[527302527180.875,7426574610.88292,11766248025.8341,1778395090542.38,820459442595.93,1278983007671.49,216634217488.70105,2800062368205.45,817371608659.772,42212471541.152,161184753601.84302,1527874194211.94,8677409363.70384,248315779290.566,381600582978.778,117505948511.727,11587839229.0908,1278360416184.07,21503271801209.2,1716821705936.54,182705492172.10895,2772824498654.16,157276430509.314,1568650400839.86],\"xaxis\":\"x\",\"y\":[10.483220100402802,13.876810073852502,9.90668964385986,14.8547096252441,10.891900062561,11.8016796112061,13.5341701507568,12.480170249939,10.7139596939087,8.61408042907715,11.8566303253174,9.54946994781494,16.507259368896502,11.8415603637695,9.68245983123779,12.1824398040771,13.804920196533198,15.5828399658203,9.9337100982666,10.8444795608521,6.9031400680542,9.10618019104004,11.7600603103638,14.5437097549438],\"yaxis\":\"y\",\"type\":\"scatter\"},{\"hovertemplate\":\"<b>%{hovertext}</b><br><br>Continent_Name=Africa<br>Year=1999<br>gdi_value=%{marker.size}<br>ExpenditureEducationValue=%{y}<extra></extra>\",\"hovertext\":[\"Morocco\",\"Namibia\",\"Mozambique\",\"Madagascar\",\"Lesotho\",\"Kenya\",\"Togo\",\"Tunisia\",\"Swaziland\",\"Seychelles\",\"Rwanda\",\"Chad\",\"Burundi\",\"Benin\",\"Guinea\",\"Gabon\",\"Eritrea\",\"Djibouti\"],\"ids\":[\"Africa\",\"Africa\",\"Africa\",\"Africa\",\"Africa\",\"Africa\",\"Africa\",\"Africa\",\"Africa\",\"Africa\",\"Africa\",\"Africa\",\"Africa\",\"Africa\",\"Africa\",\"Africa\",\"Africa\",\"Africa\"],\"legendgroup\":\"Africa\",\"marker\":{\"color\":\"#00cc96\",\"size\":[465968317562.196,44323393947.4389,142648874503.108,432436052244.156,7015317706.90164,1960062554340.17,940119819710.372,39778995657.7769,29332051381.648,3944503764.1324296,1507056041625.56,1788615481984.81,1084636333340.99,1986904449683.22,5909388942944.39,3299412478123.37,7012823827.82601,66858609964.4454],\"sizemode\":\"area\",\"sizeref\":3783796695310.0737,\"symbol\":\"circle\"},\"mode\":\"markers\",\"name\":\"Africa\",\"orientation\":\"v\",\"showlegend\":true,\"x\":[465968317562.196,44323393947.4389,142648874503.108,432436052244.156,7015317706.90164,1960062554340.17,940119819710.372,39778995657.7769,29332051381.648,3944503764.1324296,1507056041625.56,1788615481984.81,1084636333340.99,1986904449683.22,5909388942944.39,3299412478123.37,7012823827.82601,66858609964.4454],\"xaxis\":\"x\",\"y\":[25.7684707641602,23.0427703857422,16.923320770263697,15.35608959198,32.867111206054695,24.1160202026367,23.418760299682603,25.1503105163574,20.875310897827102,9.37376022338867,21.909420013427702,17.0599803924561,13.7102603912354,14.693510055542,14.6584701538086,11.3481597900391,5.5655398368835405,22.896070480346697],\"yaxis\":\"y\",\"type\":\"scatter\"},{\"hovertemplate\":\"<b>%{hovertext}</b><br><br>Continent_Name=Asia<br>Year=1999<br>gdi_value=%{marker.size}<br>ExpenditureEducationValue=%{y}<extra></extra>\",\"hovertext\":[\"Malaysia\",\"Jordan\",\"Pakistan\",\"Japan\",\"Thailand\",\"Tajikistan\",\"Iran, Islamic Rep.\",\"China\",\"Brunei Darussalam\",\"Bangladesh\",\"Cyprus\",\"India\"],\"ids\":[\"Asia\",\"Asia\",\"Asia\",\"Asia\",\"Asia\",\"Asia\",\"Asia\",\"Asia\",\"Asia\",\"Asia\",\"Asia\",\"Asia\"],\"legendgroup\":\"Asia\",\"marker\":{\"color\":\"#ab63fa\",\"size\":[431638206122.331,5105703741.01293,6202272837042.36,455136546028398.0,5120311470737.82,1531862594.50175,1101120211226170.0,9261972327537.09,8388600461.261259,3359729157818.34,11587839229.0908,39050424260047.0],\"sizemode\":\"area\",\"sizeref\":3783796695310.0737,\"symbol\":\"circle\"},\"mode\":\"markers\",\"name\":\"Asia\",\"orientation\":\"v\",\"showlegend\":true,\"x\":[431638206122.331,5105703741.01293,6202272837042.36,455136546028398.0,5120311470737.82,1531862594.50175,1101120211226170.0,9261972327537.09,8388600461.261259,3359729157818.34,11587839229.0908,39050424260047.0],\"xaxis\":\"x\",\"y\":[21.188550949096697,14.6642599105835,11.3073301315308,10.3342504501343,18.9790191650391,11.8343896865845,20.1129207611083,12.6315603256226,8.89342975616455,18.129789352417,13.804920196533198,17.6434097290039],\"yaxis\":\"y\",\"type\":\"scatter\"},{\"hovertemplate\":\"<b>%{hovertext}</b><br><br>Continent_Name=North America<br>Year=1999<br>gdi_value=%{marker.size}<br>ExpenditureEducationValue=%{y}<extra></extra>\",\"hovertext\":[\"Nicaragua\",\"Mexico\",\"Trinidad and Tobago\",\"Panama\",\"Canada\",\"Belize\",\"Barbados\",\"Costa Rica\",\"El Salvador\"],\"ids\":[\"North America\",\"North America\",\"North America\",\"North America\",\"North America\",\"North America\",\"North America\",\"North America\",\"North America\"],\"legendgroup\":\"North America\",\"marker\":{\"color\":\"#FFA15A\",\"size\":[96812368073.537,9336944776119.12,46849466331.0258,13764475710.1628,1234042754858.81,1496103747.1033,1056163346.61355,1467709308984.86,7508433742.19927],\"sizemode\":\"area\",\"sizeref\":3783796695310.0737,\"symbol\":\"circle\"},\"mode\":\"markers\",\"name\":\"North America\",\"orientation\":\"v\",\"showlegend\":true,\"x\":[96812368073.537,9336944776119.12,46849466331.0258,13764475710.1628,1234042754858.81,1496103747.1033,1056163346.61355,1467709308984.86,7508433742.19927],\"xaxis\":\"x\",\"y\":[14.7167997360229,16.3431797027588,9.70981979370117,18.9731502532958,12.445650100708,18.8941497802734,13.1466798782349,21.9236907958984,13.6080198287964],\"yaxis\":\"y\",\"type\":\"scatter\"},{\"hovertemplate\":\"<b>%{hovertext}</b><br><br>Continent_Name=South America<br>Year=1999<br>gdi_value=%{marker.size}<br>ExpenditureEducationValue=%{y}<extra></extra>\",\"hovertext\":[\"Chile\",\"Brazil\",\"Bolivia\",\"Argentina\",\"Colombia\",\"Ecuador\"],\"ids\":[\"South America\",\"South America\",\"South America\",\"South America\",\"South America\",\"South America\"],\"legendgroup\":\"South America\",\"marker\":{\"color\":\"#19d3f3\",\"size\":[57112604576784.7,1156533650936.04,20810491069.998,527168898695.39,266726956904208.0,33834396760.1404],\"sizemode\":\"area\",\"sizeref\":3783796695310.0737,\"symbol\":\"circle\"},\"mode\":\"markers\",\"name\":\"South America\",\"orientation\":\"v\",\"showlegend\":true,\"x\":[57112604576784.7,1156533650936.04,20810491069.998,527168898695.39,266726956904208.0,33834396760.1404],\"xaxis\":\"x\",\"y\":[15.6332197189331,9.60027027130126,19.272409439086896,15.880089759826696,13.1519298553467,6.71590995788574],\"yaxis\":\"y\",\"type\":\"scatter\"}],\"name\":\"1999\"},{\"data\":[{\"hovertemplate\":\"<b>%{hovertext}</b><br><br>Continent_Name=Oceania<br>Year=2000<br>gdi_value=%{marker.size}<br>ExpenditureEducationValue=%{y}<extra></extra>\",\"hovertext\":[\"Samoa\",\"Australia\"],\"ids\":[\"Oceania\",\"Oceania\"],\"legendgroup\":\"Oceania\",\"marker\":{\"color\":\"#636efa\",\"size\":[1205217829.4541,968051844650.612],\"sizemode\":\"area\",\"sizeref\":3783796695310.0737,\"symbol\":\"circle\"},\"mode\":\"markers\",\"name\":\"Oceania\",\"orientation\":\"v\",\"showlegend\":true,\"x\":[1205217829.4541,968051844650.612],\"xaxis\":\"x\",\"y\":[10.4612998962402,13.590229988098098],\"yaxis\":\"y\",\"type\":\"scatter\"},{\"hovertemplate\":\"<b>%{hovertext}</b><br><br>Continent_Name=Europe<br>Year=2000<br>gdi_value=%{marker.size}<br>ExpenditureEducationValue=%{y}<extra></extra>\",\"hovertext\":[\"Netherlands\",\"Norway\",\"Moldova\",\"Latvia\",\"Poland\",\"Russian Federation\",\"Italy\",\"United Kingdom\",\"Ukraine\",\"Sweden\",\"Spain\",\"Slovak Republic\",\"Portugal\",\"Azerbaijan\",\"Austria\",\"Ireland\",\"Albania\",\"Iceland\",\"Hungary\",\"Greece\",\"France\",\"Georgia\",\"Estonia\",\"Denmark\",\"Czech Republic\",\"Finland\",\"Cyprus\"],\"ids\":[\"Europe\",\"Europe\",\"Europe\",\"Europe\",\"Europe\",\"Europe\",\"Europe\",\"Europe\",\"Europe\",\"Europe\",\"Europe\",\"Europe\",\"Europe\",\"Europe\",\"Europe\",\"Europe\",\"Europe\",\"Europe\",\"Europe\",\"Europe\",\"Europe\",\"Europe\",\"Europe\",\"Europe\",\"Europe\",\"Europe\",\"Europe\"],\"legendgroup\":\"Europe\",\"marker\":{\"color\":\"#EF553B\",\"size\":[548825895555.261,2004934515984.0,7506547710.239679,12142896201.5666,842217632844.067,7305600000000.0,1563257525674.56,1324755948010.06,231232460972.34305,2916939895354.71,852423961782.193,43471768498.0099,166204614629.257,4664772101.078361,255897114033.564,129276347678.702,407197938271.77,1321978117834.7,22268466402456.1,189605066849.982,1772295006186.8,4617992104.57067,9879722861.289291,1627139670019.74,2860705393725.2,164594994736.84198,12234175056.7365],\"sizemode\":\"area\",\"sizeref\":3783796695310.0737,\"symbol\":\"circle\"},\"mode\":\"markers\",\"name\":\"Europe\",\"orientation\":\"v\",\"showlegend\":true,\"x\":[548825895555.261,2004934515984.0,7506547710.239679,12142896201.5666,842217632844.067,7305600000000.0,1563257525674.56,1324755948010.06,231232460972.34305,2916939895354.71,852423961782.193,43471768498.0099,166204614629.257,4664772101.078361,255897114033.564,129276347678.702,407197938271.77,1321978117834.7,22268466402456.1,189605066849.982,1772295006186.8,4617992104.57067,9879722861.289291,1627139670019.74,2860705393725.2,164594994736.84198,12234175056.7365],\"xaxis\":\"x\",\"y\":[11.0733203887939,15.4864597320557,12.9987297058105,10.2619895935059,12.1989097595215,8.951849937438961,9.44847011566162,12.060150146484402,11.3589696884155,13.0055503845215,10.6844501495361,7.47054004669189,12.10435962677,18.4979991912842,11.1235904693604,13.3886098861694,10.1370296478271,15.7508201599121,10.0930595397949,7.076590061187741,10.7899503707886,12.5407199859619,14.8104400634766,15.3441495895386,9.19001007080078,12.1709203720093,14.3340797424316],\"yaxis\":\"y\",\"type\":\"scatter\"},{\"hovertemplate\":\"<b>%{hovertext}</b><br><br>Continent_Name=Africa<br>Year=2000<br>gdi_value=%{marker.size}<br>ExpenditureEducationValue=%{y}<extra></extra>\",\"hovertext\":[\"Namibia\",\"Morocco\",\"Mauritius\",\"Mali\",\"Madagascar\",\"Lesotho\",\"Kenya\",\"Tunisia\",\"Zambia\",\"Uganda\",\"Togo\",\"Swaziland\",\"Sudan\",\"Sierra Leone\",\"Senegal\",\"Rwanda\",\"Central African Republic\",\"Cameroon\",\"Burundi\",\"Benin\",\"Chad\",\"Angola\",\"Guinea\",\"Gambia, The\",\"Gabon\",\"Equatorial Guinea\",\"Djibouti\"],\"ids\":[\"Africa\",\"Africa\",\"Africa\",\"Africa\",\"Africa\",\"Africa\",\"Africa\",\"Africa\",\"Africa\",\"Africa\",\"Africa\",\"Africa\",\"Africa\",\"Africa\",\"Africa\",\"Africa\",\"Africa\",\"Africa\",\"Africa\",\"Africa\",\"Africa\",\"Africa\",\"Africa\",\"Africa\",\"Africa\",\"Africa\",\"Africa\"],\"legendgroup\":\"Africa\",\"marker\":{\"color\":\"#00cc96\",\"size\":[47036141659.7228,465034465871.64703,196271629849.784,904937350143.7092,458318621962.616,7493729909.97088,1941164001023.64,41345146552.9974,47435837061.4922,20641914055275.9,921475492300.0,29689386963.2788,16104318187.4011,3731500884899.52,3258075464712.23,1651806943767.2,651102539300.0,6612385360900.0,1075991778642.47,2136566635294.12,1760103692485.21,560909111368.059,5959794463018.5,15788069767.3125,3756567538907.18,464399958685.045,67136888858.4578],\"sizemode\":\"area\",\"sizeref\":3783796695310.0737,\"symbol\":\"circle\"},\"mode\":\"markers\",\"name\":\"Africa\",\"orientation\":\"v\",\"showlegend\":true,\"x\":[47036141659.7228,465034465871.64703,196271629849.784,904937350143.7092,458318621962.616,7493729909.97088,1941164001023.64,41345146552.9974,47435837061.4922,20641914055275.9,921475492300.0,29689386963.2788,16104318187.4011,3731500884899.52,3258075464712.23,1651806943767.2,651102539300.0,6612385360900.0,1075991778642.47,2136566635294.12,1760103692485.21,560909111368.059,5959794463018.5,15788069767.3125,3756567538907.18,464399958685.045,67136888858.4578],\"xaxis\":\"x\",\"y\":[21.9250602722168,22.2872295379639,14.3173599243164,15.3238096237183,15.8905096054077,22.1734790802002,23.0639896392822,25.0473098754883,8.35262012481689,13.0037298202515,24.4237098693848,19.510330200195305,9.11688995361328,20.7313003540039,17.6184902191162,21.096139907836896,9.93076992034912,11.6836996078491,13.437370300293,13.5131998062134,12.8444900512695,5.2550802230835005,15.195969581604,11.921799659729,17.7064895629883,3.21674990653992,29.385950088501],\"yaxis\":\"y\",\"type\":\"scatter\"},{\"hovertemplate\":\"<b>%{hovertext}</b><br><br>Continent_Name=Asia<br>Year=2000<br>gdi_value=%{marker.size}<br>ExpenditureEducationValue=%{y}<extra></extra>\",\"hovertext\":[\"Oman\",\"Pakistan\",\"Malaysia\",\"Lao PDR\",\"Kyrgyz Republic\",\"Philippines\",\"Thailand\",\"Tajikistan\",\"Singapore\",\"Russian Federation\",\"Israel\",\"Japan\",\"Iran, Islamic Rep.\",\"Cambodia\",\"Brunei Darussalam\",\"Bhutan\",\"Bangladesh\",\"Azerbaijan\",\"India\",\"Georgia\",\"Cyprus\"],\"ids\":[\"Asia\",\"Asia\",\"Asia\",\"Asia\",\"Asia\",\"Asia\",\"Asia\",\"Asia\",\"Asia\",\"Asia\",\"Asia\",\"Asia\",\"Asia\",\"Asia\",\"Asia\",\"Asia\",\"Asia\",\"Asia\",\"Asia\",\"Asia\",\"Asia\"],\"legendgroup\":\"Asia\",\"marker\":{\"color\":\"#ab63fa\",\"size\":[10262546834.7916,6354149640159.61,471869532158.807,15785994949891.0,20628724237.6726,3580714123300.0,5289026595087.03,1786678443.77422,181785673705.864,7305600000000.0,652767750856.69,464318986958975.0,1147201881804740.0,14082621270156.9,10345971000.0,19735775600.0,3536289343313.18,4664772101.078361,40418897875009.7,4617992104.57067,12234175056.7365],\"sizemode\":\"area\",\"sizeref\":3783796695310.0737,\"symbol\":\"circle\"},\"mode\":\"markers\",\"name\":\"Asia\",\"orientation\":\"v\",\"showlegend\":true,\"x\":[10262546834.7916,6354149640159.61,471869532158.807,15785994949891.0,20628724237.6726,3580714123300.0,5289026595087.03,1786678443.77422,181785673705.864,7305600000000.0,652767750856.69,464318986958975.0,1147201881804740.0,14082621270156.9,10345971000.0,19735775600.0,3536289343313.18,4664772101.078361,40418897875009.7,4617992104.57067,12234175056.7365],\"xaxis\":\"x\",\"y\":[8.98344039916992,8.489879608154299,21.3906803131104,7.26612997055054,11.5972099304199,15.2067604064941,28.388599395752,12.0251398086548,14.1551704406738,8.951849937438961,12.7226600646973,9.93041038513184,20.6338500976563,11.079010009765598,8.92074012756348,11.5362901687622,20.4904193878174,18.4979991912842,17.4965000152588,12.5407199859619,14.3340797424316],\"yaxis\":\"y\",\"type\":\"scatter\"},{\"hovertemplate\":\"<b>%{hovertext}</b><br><br>Continent_Name=North America<br>Year=2000<br>gdi_value=%{marker.size}<br>ExpenditureEducationValue=%{y}<extra></extra>\",\"hovertext\":[\"Panama\",\"Nicaragua\",\"Mexico\",\"Trinidad and Tobago\",\"Canada\",\"Belize\",\"Barbados\",\"Bahamas, The\",\"Costa Rica\",\"El Salvador\",\"Dominican Republic\"],\"ids\":[\"North America\",\"North America\",\"North America\",\"North America\",\"North America\",\"North America\",\"North America\",\"North America\",\"North America\",\"North America\",\"North America\"],\"legendgroup\":\"North America\",\"marker\":{\"color\":\"#FFA15A\",\"size\":[13999848618.5993,100580207721.58,9985439473391.52,51362607419.4515,1312680611751.02,1664144900.0,1030647221.26338,7514668264.41218,1427457031483.41,7529620736.368041,1123049223398.39],\"sizemode\":\"area\",\"sizeref\":3783796695310.0737,\"symbol\":\"circle\"},\"mode\":\"markers\",\"name\":\"North America\",\"orientation\":\"v\",\"showlegend\":true,\"x\":[13999848618.5993,100580207721.58,9985439473391.52,51362607419.4515,1312680611751.02,1664144900.0,1030647221.26338,7514668264.41218,1427457031483.41,7529620736.368041,1123049223398.39],\"xaxis\":\"x\",\"y\":[19.8319396972656,14.573699951171902,19.7763595581055,10.427180290222198,12.7455196380615,16.0544395446777,13.9780597686768,18.8437194824219,18.819509506225604,13.910019874572802,12.9884796142578],\"yaxis\":\"y\",\"type\":\"scatter\"},{\"hovertemplate\":\"<b>%{hovertext}</b><br><br>Continent_Name=South America<br>Year=2000<br>gdi_value=%{marker.size}<br>ExpenditureEducationValue=%{y}<extra></extra>\",\"hovertext\":[\"Peru\",\"Uruguay\",\"Brazil\",\"Bolivia\",\"Argentina\",\"Chile\",\"Colombia\",\"Ecuador\"],\"ids\":[\"South America\",\"South America\",\"South America\",\"South America\",\"South America\",\"South America\",\"South America\",\"South America\"],\"legendgroup\":\"South America\",\"marker\":{\"color\":\"#19d3f3\",\"size\":[202825856825.27,422936895858.10205,1202377000000.0,21136378753.3272,529701252799.975,59487067307047.0,280625172501646.0,35066092160.4727],\"sizemode\":\"area\",\"sizeref\":3783796695310.0737,\"symbol\":\"circle\"},\"mode\":\"markers\",\"name\":\"South America\",\"orientation\":\"v\",\"showlegend\":true,\"x\":[202825856825.27,422936895858.10205,1202377000000.0,21136378753.3272,529701252799.975,59487067307047.0,280625172501646.0,35066092160.4727],\"xaxis\":\"x\",\"y\":[15.2503700256348,8.31884002685547,11.452159881591802,18.6708507537842,16.2269592285156,16.4014892578125,13.2868299484253,4.99488019943237],\"yaxis\":\"y\",\"type\":\"scatter\"}],\"name\":\"2000\"},{\"data\":[{\"hovertemplate\":\"<b>%{hovertext}</b><br><br>Continent_Name=Oceania<br>Year=2001<br>gdi_value=%{marker.size}<br>ExpenditureEducationValue=%{y}<extra></extra>\",\"hovertext\":[\"New Zealand\",\"Samoa\"],\"ids\":[\"Oceania\",\"Oceania\"],\"legendgroup\":\"Oceania\",\"marker\":{\"color\":\"#636efa\",\"size\":[155209106581.74802,1288857211.65049],\"sizemode\":\"area\",\"sizeref\":3783796695310.0737,\"symbol\":\"circle\"},\"mode\":\"markers\",\"name\":\"Oceania\",\"orientation\":\"v\",\"showlegend\":true,\"x\":[155209106581.74802,1288857211.65049],\"xaxis\":\"x\",\"y\":[19.270149230957,12.7703304290771],\"yaxis\":\"y\",\"type\":\"scatter\"},{\"hovertemplate\":\"<b>%{hovertext}</b><br><br>Continent_Name=Europe<br>Year=2001<br>gdi_value=%{marker.size}<br>ExpenditureEducationValue=%{y}<extra></extra>\",\"hovertext\":[\"Netherlands\",\"Norway\",\"Latvia\",\"Luxembourg\",\"Moldova\",\"Poland\",\"Spain\",\"Russian Federation\",\"United Kingdom\",\"Ukraine\",\"Portugal\",\"Sweden\",\"Slovenia\",\"Slovak Republic\",\"Bulgaria\",\"Belgium\",\"Azerbaijan\",\"Austria\",\"Albania\",\"Cyprus\",\"Czech Republic\",\"Italy\",\"Ireland\",\"Hungary\",\"Greece\",\"Iceland\",\"Georgia\",\"France\",\"Finland\",\"Estonia\",\"Denmark\"],\"ids\":[\"Europe\",\"Europe\",\"Europe\",\"Europe\",\"Europe\",\"Europe\",\"Europe\",\"Europe\",\"Europe\",\"Europe\",\"Europe\",\"Europe\",\"Europe\",\"Europe\",\"Europe\",\"Europe\",\"Europe\",\"Europe\",\"Europe\",\"Europe\",\"Europe\",\"Europe\",\"Europe\",\"Europe\",\"Europe\",\"Europe\",\"Europe\",\"Europe\",\"Europe\",\"Europe\",\"Europe\"],\"legendgroup\":\"Europe\",\"marker\":{\"color\":\"#EF553B\",\"size\":[564554321892.38,2024559414135.61,12987440676.5991,28965681714.7605,7982516677.73217,852208691569.5509,890239750124.207,7498440343506.16,1364505221849.27,242405618417.49103,169528037624.586,2945541959756.95,29034853012.327,44771232007.1851,46637204632.1918,320444186576.286,4968435561.515671,259683891183.974,445763120096.321,12760345112.0051,2977712202890.2,1595401499658.07,137950878374.943,23194856823376.6,197272848278.03,1374782443921.93,4839907491.829229,1808142597868.06,169819312712.441,10721482072.0294,1638622372565.27],\"sizemode\":\"area\",\"sizeref\":3783796695310.0737,\"symbol\":\"circle\"},\"mode\":\"markers\",\"name\":\"Europe\",\"orientation\":\"v\",\"showlegend\":true,\"x\":[564554321892.38,2024559414135.61,12987440676.5991,28965681714.7605,7982516677.73217,852208691569.5509,890239750124.207,7498440343506.16,1364505221849.27,242405618417.49103,169528037624.586,2945541959756.95,29034853012.327,44771232007.1851,46637204632.1918,320444186576.286,4968435561.515671,259683891183.974,445763120096.321,12760345112.0051,2977712202890.2,1595401499658.07,137950878374.943,23194856823376.6,197272848278.03,1374782443921.93,4839907491.829229,1808142597868.06,169819312712.441,10721482072.0294,1638622372565.27],\"xaxis\":\"x\",\"y\":[11.0124797821045,15.7348604202271,11.1588001251221,9.69917011260986,16.477519989013697,12.173919677734402,10.712610244751,9.21335983276367,12.2926301956177,12.810950279235804,12.0940103530884,12.9396896362305,13.81725025177,8.8993501663208,9.27773952484131,12.0038003921509,18.7729606628418,10.9494199752808,10.5819301605225,14.3532495498657,8.95641994476318,9.82544040679932,12.5921297073364,10.545539855957,7.70515012741089,16.2218704223633,12.3619604110718,10.5770702362061,12.6344499588013,15.058380126953098,15.5485401153564],\"yaxis\":\"y\",\"type\":\"scatter\"},{\"hovertemplate\":\"<b>%{hovertext}</b><br><br>Continent_Name=Africa<br>Year=2001<br>gdi_value=%{marker.size}<br>ExpenditureEducationValue=%{y}<extra></extra>\",\"hovertext\":[\"Namibia\",\"Morocco\",\"Mauritius\",\"Mali\",\"Madagascar\",\"Lesotho\",\"Tunisia\",\"Togo\",\"South Africa\",\"Sierra Leone\",\"Senegal\",\"Rwanda\",\"Swaziland\",\"Chad\",\"Cameroon\",\"Burundi\",\"Kenya\",\"Benin\",\"Guinea\",\"Eritrea\",\"Equatorial Guinea\",\"Djibouti\"],\"ids\":[\"Africa\",\"Africa\",\"Africa\",\"Africa\",\"Africa\",\"Africa\",\"Africa\",\"Africa\",\"Africa\",\"Africa\",\"Africa\",\"Africa\",\"Africa\",\"Africa\",\"Africa\",\"Africa\",\"Africa\",\"Africa\",\"Africa\",\"Africa\",\"Africa\",\"Africa\"],\"legendgroup\":\"Africa\",\"marker\":{\"color\":\"#00cc96\",\"size\":[49673478233.2178,497924098249.872,201516535316.251,1063122452098.74,497191976965.854,8567348054.80491,43013219033.6524,922550633303.5592,1836784544565.22,3410916682558.55,3421657935137.77,1780871143606.5,31096076685.3675,1943075995619.56,6773475161588.79,1085422697518.79,2065090921306.16,2242870764989.66,6247498218067.39,7430356524.259859,740383747032.203,68511741678.7303],\"sizemode\":\"area\",\"sizeref\":3783796695310.0737,\"symbol\":\"circle\"},\"mode\":\"markers\",\"name\":\"Africa\",\"orientation\":\"v\",\"showlegend\":true,\"x\":[49673478233.2178,497924098249.872,201516535316.251,1063122452098.74,497191976965.854,8567348054.80491,43013219033.6524,922550633303.5592,1836784544565.22,3410916682558.55,3421657935137.77,1780871143606.5,31096076685.3675,1943075995619.56,6773475161588.79,1085422697518.79,2065090921306.16,2242870764989.66,6247498218067.39,7430356524.259859,740383747032.203,68511741678.7303],\"xaxis\":\"x\",\"y\":[22.775709152221697,20.8568801879883,11.9710502624512,14.4931898117065,17.6824703216553,23.8489208221436,24.9665603637695,25.7313594818115,20.4720497131348,17.9708003997803,15.7297401428223,26.6995697021484,19.656179428100604,13.7868499755859,15.4891395568848,14.1125001907349,22.1104202270508,15.3105802536011,10.3157596588135,5.861609935760501,4.46929979324341,26.280019760131804],\"yaxis\":\"y\",\"type\":\"scatter\"},{\"hovertemplate\":\"<b>%{hovertext}</b><br><br>Continent_Name=Asia<br>Year=2001<br>gdi_value=%{marker.size}<br>ExpenditureEducationValue=%{y}<extra></extra>\",\"hovertext\":[\"Nepal\",\"Oman\",\"Malaysia\",\"Lebanon\",\"Philippines\",\"Thailand\",\"Tajikistan\",\"Syrian Arab Republic\",\"Singapore\",\"Russian Federation\",\"Kyrgyz Republic\",\"Lao PDR\",\"Japan\",\"Cambodia\",\"Bhutan\",\"Bangladesh\",\"Azerbaijan\",\"Cyprus\",\"Israel\",\"Iran, Islamic Rep.\",\"Indonesia\",\"Hong Kong SAR, China\",\"Georgia\"],\"ids\":[\"Asia\",\"Asia\",\"Asia\",\"Asia\",\"Asia\",\"Asia\",\"Asia\",\"Asia\",\"Asia\",\"Asia\",\"Asia\",\"Asia\",\"Asia\",\"Asia\",\"Asia\",\"Asia\",\"Asia\",\"Asia\",\"Asia\",\"Asia\",\"Asia\",\"Asia\",\"Asia\"],\"legendgroup\":\"Asia\",\"marker\":{\"color\":\"#ab63fa\",\"size\":[441355715301.755,10275803327.2562,470739359614.03705,26622441575299.3,3658058316623.2,5404190469475.72,1797778679.09417,954538592007.895,177929739230.746,7498440343506.16,21796622040.9017,16693912696974.0,464775559599577.0,15203762753000.2,21354854008.0414,3708141878404.21,4968435561.515671,12760345112.0051,652006930512.467,1197256077705250.0,4417223091312240.0,1442532604538.51,4839907491.829229],\"sizemode\":\"area\",\"sizeref\":3783796695310.0737,\"symbol\":\"circle\"},\"mode\":\"markers\",\"name\":\"Asia\",\"orientation\":\"v\",\"showlegend\":true,\"x\":[441355715301.755,10275803327.2562,470739359614.03705,26622441575299.3,3658058316623.2,5404190469475.72,1797778679.09417,954538592007.895,177929739230.746,7498440343506.16,21796622040.9017,16693912696974.0,464775559599577.0,15203762753000.2,21354854008.0414,3708141878404.21,4968435561.515671,12760345112.0051,652006930512.467,1197256077705250.0,4417223091312240.0,1442532604538.51,4839907491.829229],\"xaxis\":\"x\",\"y\":[21.6189403533936,10.5839900970459,24.348520278930696,7.421249866485599,13.9159097671509,24.241340637207,13.1885299682617,15.6620597839355,18.1095905303955,9.21335983276367,13.7055397033691,9.11738014221191,9.63897037506104,11.3807897567749,10.095290184021,18.5847797393799,18.7729606628418,14.3532495498657,12.7257204055786,24.424169540405305,11.5939903259277,22.4187793731689,12.3619604110718],\"yaxis\":\"y\",\"type\":\"scatter\"},{\"hovertemplate\":\"<b>%{hovertext}</b><br><br>Continent_Name=North America<br>Year=2001<br>gdi_value=%{marker.size}<br>ExpenditureEducationValue=%{y}<extra></extra>\",\"hovertext\":[\"Panama\",\"Mexico\",\"Trinidad and Tobago\",\"Canada\",\"Costa Rica\",\"Barbados\",\"Belize\",\"Dominican Republic\"],\"ids\":[\"North America\",\"North America\",\"North America\",\"North America\",\"North America\",\"North America\",\"North America\",\"North America\"],\"legendgroup\":\"North America\",\"marker\":{\"color\":\"#FFA15A\",\"size\":[14199146281.0537,9931432153220.78,46232982971.8224,1333077161540.57,1429964205900.1,1021061305.44537,1718031415.65275,1146754230189.93],\"sizemode\":\"area\",\"sizeref\":3783796695310.0737,\"symbol\":\"circle\"},\"mode\":\"markers\",\"name\":\"North America\",\"orientation\":\"v\",\"showlegend\":true,\"x\":[14199146281.0537,9931432153220.78,46232982971.8224,1333077161540.57,1429964205900.1,1021061305.44537,1718031415.65275,1146754230189.93],\"xaxis\":\"x\",\"y\":[16.6391296386719,20.8465995788574,10.423649787902802,12.233790397644,19.1528205871582,17.2579402923583,18.3053703308105,12.5072898864746],\"yaxis\":\"y\",\"type\":\"scatter\"},{\"hovertemplate\":\"<b>%{hovertext}</b><br><br>Continent_Name=South America<br>Year=2001<br>gdi_value=%{marker.size}<br>ExpenditureEducationValue=%{y}<extra></extra>\",\"hovertext\":[\"Peru\",\"Uruguay\",\"Colombia\",\"Brazil\",\"Bolivia\",\"Argentina\"],\"ids\":[\"South America\",\"South America\",\"South America\",\"South America\",\"South America\",\"South America\"],\"legendgroup\":\"South America\",\"marker\":{\"color\":\"#19d3f3\",\"size\":[201678160145.422,411779554067.891,282083713158272.0,1215361243509.77,21577132100.0959,506304222946.716],\"sizemode\":\"area\",\"sizeref\":3783796695310.0737,\"symbol\":\"circle\"},\"mode\":\"markers\",\"name\":\"South America\",\"orientation\":\"v\",\"showlegend\":true,\"x\":[201678160145.422,411779554067.891,282083713158272.0,1215361243509.77,21577132100.0959,506304222946.716],\"xaxis\":\"x\",\"y\":[14.7962303161621,9.19989967346191,13.4677200317383,10.6107597351074,18.4614601135254,16.357610702514602],\"yaxis\":\"y\",\"type\":\"scatter\"}],\"name\":\"2001\"},{\"data\":[{\"hovertemplate\":\"<b>%{hovertext}</b><br><br>Continent_Name=Oceania<br>Year=2002<br>gdi_value=%{marker.size}<br>ExpenditureEducationValue=%{y}<extra></extra>\",\"hovertext\":[\"New Zealand\",\"Samoa\"],\"ids\":[\"Oceania\",\"Oceania\"],\"legendgroup\":\"Oceania\",\"marker\":{\"color\":\"#636efa\",\"size\":[162035060113.923,1344845100.0],\"sizemode\":\"area\",\"sizeref\":3783796695310.0737,\"symbol\":\"circle\"},\"mode\":\"markers\",\"name\":\"Oceania\",\"orientation\":\"v\",\"showlegend\":true,\"x\":[162035060113.923,1344845100.0],\"xaxis\":\"x\",\"y\":[19.4802207946777,12.7938003540039],\"yaxis\":\"y\",\"type\":\"scatter\"},{\"hovertemplate\":\"<b>%{hovertext}</b><br><br>Continent_Name=Europe<br>Year=2002<br>gdi_value=%{marker.size}<br>ExpenditureEducationValue=%{y}<extra></extra>\",\"hovertext\":[\"Netherlands\",\"Norway\",\"Poland\",\"Macedonia, FYR\",\"Moldova\",\"Malta\",\"Portugal\",\"Russian Federation\",\"United Kingdom\",\"Latvia\",\"Ukraine\",\"Turkey\",\"Sweden\",\"Spain\",\"Slovenia\",\"Slovak Republic\",\"Croatia\",\"Cyprus\",\"Bulgaria\",\"Belgium\",\"Azerbaijan\",\"Albania\",\"Austria\",\"Denmark\",\"Czech Republic\",\"Italy\",\"Ireland\",\"Iceland\",\"Hungary\",\"Kazakhstan\",\"Greece\",\"Finland\",\"France\",\"Georgia\",\"Estonia\"],\"ids\":[\"Europe\",\"Europe\",\"Europe\",\"Europe\",\"Europe\",\"Europe\",\"Europe\",\"Europe\",\"Europe\",\"Europe\",\"Europe\",\"Europe\",\"Europe\",\"Europe\",\"Europe\",\"Europe\",\"Europe\",\"Europe\",\"Europe\",\"Europe\",\"Europe\",\"Europe\",\"Europe\",\"Europe\",\"Europe\",\"Europe\",\"Europe\",\"Europe\",\"Europe\",\"Europe\",\"Europe\",\"Europe\",\"Europe\",\"Europe\",\"Europe\"],\"legendgroup\":\"Europe\",\"marker\":{\"color\":\"#EF553B\",\"size\":[567502981524.948,2013688451483.22,862469987994.732,270930175192.155,8531959933.93222,4643061910.39958,171499720293.799,7784419817916.35,1401557953613.0,13783942651.4944,255765709738.004,71431212307.1846,2985746369567.13,922369350016.386,30442940696.7759,46822030852.2664,269905100876.144,13075301168.0689,49357466107.6656,327730572637.021,5594705853.26229,457816032524.229,264867544454.462,1651873410490.72,3067719958286.05,1605347257853.15,147158893077.893,1387486849275.67,24371056413498.7,5264518573040.57,205633325664.418,172927446081.715,1836251085281.36,5104836178.60577,11599605449.4213],\"sizemode\":\"area\",\"sizeref\":3783796695310.0737,\"symbol\":\"circle\"},\"mode\":\"markers\",\"name\":\"Europe\",\"orientation\":\"v\",\"showlegend\":true,\"x\":[567502981524.948,2013688451483.22,862469987994.732,270930175192.155,8531959933.93222,4643061910.39958,171499720293.799,7784419817916.35,1401557953613.0,13783942651.4944,255765709738.004,71431212307.1846,2985746369567.13,922369350016.386,30442940696.7759,46822030852.2664,269905100876.144,13075301168.0689,49357466107.6656,327730572637.021,5594705853.26229,457816032524.229,264867544454.462,1651873410490.72,3067719958286.05,1605347257853.15,147158893077.893,1387486849275.67,24371056413498.7,5264518573040.57,205633325664.418,172927446081.715,1836251085281.36,5104836178.60577,11599605449.4213],\"xaxis\":\"x\",\"y\":[11.0910196304321,16.2564392089844,12.2274303436279,8.64087963104248,18.0878105163574,9.53534030914307,12.0221500396729,10.5838403701782,13.5654897689819,11.5050401687622,14.3609600067139,6.52606010437012,13.2432403564453,10.7089996337891,13.7252702713013,9.47443008422852,7.96840000152588,14.9478397369385,9.65431976318359,12.1544799804688,11.39684009552,9.88691997528076,10.913020133972198,15.4338798522949,9.09932994842529,9.50514030456542,12.4324703216553,17.1042194366455,10.2667999267578,14.7594804763794,7.91811990737915,12.6825304031372,10.3428897857666,13.6035099029541,15.2868299484253],\"yaxis\":\"y\",\"type\":\"scatter\"},{\"hovertemplate\":\"<b>%{hovertext}</b><br><br>Continent_Name=Africa<br>Year=2002<br>gdi_value=%{marker.size}<br>ExpenditureEducationValue=%{y}<extra></extra>\",\"hovertext\":[\"Namibia\",\"Mauritius\",\"Mali\",\"Madagascar\",\"Lesotho\",\"Morocco\",\"Tunisia\",\"Togo\",\"Swaziland\",\"Sudan\",\"South Africa\",\"Sierra Leone\",\"Seychelles\",\"Senegal\",\"Kenya\",\"Congo, Rep.\",\"Comoros\",\"Central African Republic\",\"Burundi\",\"Benin\",\"Guinea\",\"Equatorial Guinea\",\"Eritrea\",\"Djibouti\"],\"ids\":[\"Africa\",\"Africa\",\"Africa\",\"Africa\",\"Africa\",\"Africa\",\"Africa\",\"Africa\",\"Africa\",\"Africa\",\"Africa\",\"Africa\",\"Africa\",\"Africa\",\"Africa\",\"Africa\",\"Africa\",\"Africa\",\"Africa\",\"Africa\",\"Africa\",\"Africa\",\"Africa\",\"Africa\"],\"legendgroup\":\"Africa\",\"marker\":{\"color\":\"#00cc96\",\"size\":[51973783609.6619,210279316681.398,1091447589672.27,438026654198.154,8277741799.94974,518198786575.484,43665971241.8178,912343358860.25,31871283307.4798,16154334474.9643,1922000874886.08,4267127163215.8,5101494859.53613,3409651290944.62,2066470879484.32,1145775186873.47,88667026719.2555,704771156005.4159,1136590888294.95,2362685922257.24,6624852764220.55,790505717427.395,7625776932.86565,70305830781.2036],\"sizemode\":\"area\",\"sizeref\":3783796695310.0737,\"symbol\":\"circle\"},\"mode\":\"markers\",\"name\":\"Africa\",\"orientation\":\"v\",\"showlegend\":true,\"x\":[51973783609.6619,210279316681.398,1091447589672.27,438026654198.154,8277741799.94974,518198786575.484,43665971241.8178,912343358860.25,31871283307.4798,16154334474.9643,1922000874886.08,4267127163215.8,5101494859.53613,3409651290944.62,2066470879484.32,1145775186873.47,88667026719.2555,704771156005.4159,1136590888294.95,2362685922257.24,6624852764220.55,790505717427.395,7625776932.86565,70305830781.2036],\"xaxis\":\"x\",\"y\":[21.8368606567383,11.510120391845698,14.5252103805541,17.9367599487305,24.363759994506804,19.8586502075195,23.147020339965803,30.7000293731689,17.2937698364258,11.0448904037476,20.0956993103027,17.703189849853498,9.22015953063965,16.7219200134277,25.628210067749,11.5927696228027,15.789719581604,9.21473026275635,15.23766040802,14.1290798187256,13.064319610595698,5.57981014251708,5.633379936218259,25.4893093109131],\"yaxis\":\"y\",\"type\":\"scatter\"},{\"hovertemplate\":\"<b>%{hovertext}</b><br><br>Continent_Name=Asia<br>Year=2002<br>gdi_value=%{marker.size}<br>ExpenditureEducationValue=%{y}<extra></extra>\",\"hovertext\":[\"Philippines\",\"Nepal\",\"Oman\",\"Maldives\",\"Malaysia\",\"Lebanon\",\"Turkey\",\"Thailand\",\"Tajikistan\",\"Syrian Arab Republic\",\"Singapore\",\"Russian Federation\",\"Lao PDR\",\"Cambodia\",\"Kyrgyz Republic\",\"Bangladesh\",\"Azerbaijan\",\"Cyprus\",\"Kazakhstan\",\"Japan\",\"Israel\",\"Iran, Islamic Rep.\",\"Indonesia\",\"Hong Kong SAR, China\",\"Georgia\"],\"ids\":[\"Asia\",\"Asia\",\"Asia\",\"Asia\",\"Asia\",\"Asia\",\"Asia\",\"Asia\",\"Asia\",\"Asia\",\"Asia\",\"Asia\",\"Asia\",\"Asia\",\"Asia\",\"Asia\",\"Asia\",\"Asia\",\"Asia\",\"Asia\",\"Asia\",\"Asia\",\"Asia\",\"Asia\",\"Asia\"],\"legendgroup\":\"Asia\",\"marker\":{\"color\":\"#ab63fa\",\"size\":[3816209076099.28,443137360362.72296,10660963320.9991,10618522643.5104,499854885751.761,27703416052279.4,71431212307.1846,5769579116371.46,2031603248.62083,1014921911084.69,183429954531.285,7784419817916.35,17681983499922.5,16443485088424.2,21557376788.8208,3849927553370.99,5594705853.26229,13075301168.0689,5264518573040.57,466775015853947.0,650771537343.75,1373999533340800.0,4552593808632200.0,1498833193198.45,5104836178.60577],\"sizemode\":\"area\",\"sizeref\":3783796695310.0737,\"symbol\":\"circle\"},\"mode\":\"markers\",\"name\":\"Asia\",\"orientation\":\"v\",\"showlegend\":true,\"x\":[3816209076099.28,443137360362.72296,10660963320.9991,10618522643.5104,499854885751.761,27703416052279.4,71431212307.1846,5769579116371.46,2031603248.62083,1014921911084.69,183429954531.285,7784419817916.35,17681983499922.5,16443485088424.2,21557376788.8208,3849927553370.99,5594705853.26229,13075301168.0689,5264518573040.57,466775015853947.0,650771537343.75,1373999533340800.0,4552593808632200.0,1498833193198.45,5104836178.60577],\"xaxis\":\"x\",\"y\":[14.0689296722412,20.426349639892603,11.062479972839402,21.2399005889893,25.903600692749,7.05630016326904,6.52606010437012,16.2229309082031,14.5936403274536,16.8260707855225,17.6956005096436,10.5838403701782,16.2045497894287,10.1375703811646,15.0168104171753,15.6937999725342,11.39684009552,14.9478397369385,14.7594804763794,9.858110427856449,12.6119003295898,26.3335208892822,14.3672304153442,22.2072906494141,13.6035099029541],\"yaxis\":\"y\",\"type\":\"scatter\"},{\"hovertemplate\":\"<b>%{hovertext}</b><br><br>Continent_Name=North America<br>Year=2002<br>gdi_value=%{marker.size}<br>ExpenditureEducationValue=%{y}<extra></extra>\",\"hovertext\":[\"Nicaragua\",\"Panama\",\"Mexico\",\"United States\",\"Trinidad and Tobago\",\"Costa Rica\",\"Canada\",\"Belize\",\"Barbados\",\"Dominican Republic\",\"El Salvador\"],\"ids\":[\"North America\",\"North America\",\"North America\",\"North America\",\"North America\",\"North America\",\"North America\",\"North America\",\"North America\",\"North America\",\"North America\"],\"legendgroup\":\"North America\",\"marker\":{\"color\":\"#FFA15A\",\"size\":[103280429505.743,14652357652.0019,9934041676440.27,13150348316691.8,49115186266.7719,1460992814062.28,1361214733403.69,1815148884.6765,1027136758.32127,1199840507235.4,7819204934.65832],\"sizemode\":\"area\",\"sizeref\":3783796695310.0737,\"symbol\":\"circle\"},\"mode\":\"markers\",\"name\":\"North America\",\"orientation\":\"v\",\"showlegend\":true,\"x\":[103280429505.743,14652357652.0019,9934041676440.27,13150348316691.8,49115186266.7719,1460992814062.28,1361214733403.69,1815148884.6765,1027136758.32127,1199840507235.4,7819204934.65832],\"xaxis\":\"x\",\"y\":[15.6877899169922,16.957500457763697,20.9714794158936,16.380569458007802,13.3984403610229,19.24049949646,12.1744003295898,15.9391603469849,15.917010307312,12.079719543457,15.8993101119995],\"yaxis\":\"y\",\"type\":\"scatter\"},{\"hovertemplate\":\"<b>%{hovertext}</b><br><br>Continent_Name=South America<br>Year=2002<br>gdi_value=%{marker.size}<br>ExpenditureEducationValue=%{y}<extra></extra>\",\"hovertext\":[\"Peru\",\"Uruguay\",\"Bolivia\",\"Colombia\",\"Chile\",\"Argentina\",\"Brazil\"],\"ids\":[\"South America\",\"South America\",\"South America\",\"South America\",\"South America\",\"South America\",\"South America\"],\"legendgroup\":\"South America\",\"marker\":{\"color\":\"#19d3f3\",\"size\":[212905419802.712,379040464202.398,22361296774.9305,289837839974870.0,62352894991673.8,442313960995.277,1255241564499.74],\"sizemode\":\"area\",\"sizeref\":3783796695310.0737,\"symbol\":\"circle\"},\"mode\":\"markers\",\"name\":\"South America\",\"orientation\":\"v\",\"showlegend\":true,\"x\":[212905419802.712,379040464202.398,22361296774.9305,289837839974870.0,62352894991673.8,442313960995.277,1255241564499.74],\"xaxis\":\"x\",\"y\":[14.5780601501465,7.71913003921509,18.713809967041,15.2995595932007,17.4072799682617,16.4432907104492,9.63646030426025],\"yaxis\":\"y\",\"type\":\"scatter\"}],\"name\":\"2002\"},{\"data\":[{\"hovertemplate\":\"<b>%{hovertext}</b><br><br>Continent_Name=Oceania<br>Year=2003<br>gdi_value=%{marker.size}<br>ExpenditureEducationValue=%{y}<extra></extra>\",\"hovertext\":[\"New Zealand\"],\"ids\":[\"Oceania\"],\"legendgroup\":\"Oceania\",\"marker\":{\"color\":\"#636efa\",\"size\":[172538452222.114],\"sizemode\":\"area\",\"sizeref\":3783796695310.0737,\"symbol\":\"circle\"},\"mode\":\"markers\",\"name\":\"Oceania\",\"orientation\":\"v\",\"showlegend\":true,\"x\":[172538452222.114],\"xaxis\":\"x\",\"y\":[19.6698093414307],\"yaxis\":\"y\",\"type\":\"scatter\"},{\"hovertemplate\":\"<b>%{hovertext}</b><br><br>Continent_Name=Europe<br>Year=2003<br>gdi_value=%{marker.size}<br>ExpenditureEducationValue=%{y}<extra></extra>\",\"hovertext\":[\"Portugal\",\"Norway\",\"Poland\",\"Moldova\",\"Russian Federation\",\"Netherlands\",\"United Kingdom\",\"Ukraine\",\"Turkey\",\"Sweden\",\"Spain\",\"Slovenia\",\"Slovak Republic\",\"Latvia\",\"Cyprus\",\"Croatia\",\"Czech Republic\",\"Bulgaria\",\"Belgium\",\"Azerbaijan\",\"Austria\",\"Albania\",\"Denmark\",\"Italy\",\"Ireland\",\"Iceland\",\"Hungary\",\"Greece\",\"Georgia\",\"France\",\"Finland\",\"Estonia\"],\"ids\":[\"Europe\",\"Europe\",\"Europe\",\"Europe\",\"Europe\",\"Europe\",\"Europe\",\"Europe\",\"Europe\",\"Europe\",\"Europe\",\"Europe\",\"Europe\",\"Europe\",\"Europe\",\"Europe\",\"Europe\",\"Europe\",\"Europe\",\"Europe\",\"Europe\",\"Europe\",\"Europe\",\"Europe\",\"Europe\",\"Europe\",\"Europe\",\"Europe\",\"Europe\",\"Europe\",\"Europe\",\"Europe\"],\"legendgroup\":\"Europe\",\"marker\":{\"color\":\"#EF553B\",\"size\":[169904238332.44,2040051438342.19,890697915282.855,8985206871.55725,8598651008246.83,570170674120.6229,1452836472252.49,267344000000.0,75763826188.4988,3058695318652.89,955038244280.682,31406951217.0559,49458456765.6709,15062535808.7674,13538504574.7186,286730878809.399,3180979271661.19,52392537375.3053,329543769581.008,6402290703.26199,267798907883.7,479890890595.552,1664162794984.8,1613730975720.21,151315898028.65,1396315931246.88,25274182649522.4,218232010659.65695,5669334227.029429,1850928804257.84,175221455488.85098,12547760805.2642],\"sizemode\":\"area\",\"sizeref\":3783796695310.0737,\"symbol\":\"circle\"},\"mode\":\"markers\",\"name\":\"Europe\",\"orientation\":\"v\",\"showlegend\":true,\"x\":[169904238332.44,2040051438342.19,890697915282.855,8985206871.55725,8598651008246.83,570170674120.6229,1452836472252.49,267344000000.0,75763826188.4988,3058695318652.89,955038244280.682,31406951217.0559,49458456765.6709,15062535808.7674,13538504574.7186,286730878809.399,3180979271661.19,52392537375.3053,329543769581.008,6402290703.26199,267798907883.7,479890890595.552,1664162794984.8,1613730975720.21,151315898028.65,1396315931246.88,25274182649522.4,218232010659.65695,5669334227.029429,1850928804257.84,175221455488.85098,12547760805.2642],\"xaxis\":\"x\",\"y\":[11.6459503173828,15.7551498413086,11.9741802215576,16.282329559326197,10.5316896438599,11.4018497467041,13.616539955139196,14.4195203781128,7.14305019378662,12.9597597122192,10.8875503540039,13.695960044860804,10.6366195678711,10.8068599700928,16.5025005340576,8.27388954162598,8.64953994750977,11.1802501678467,11.7502202987671,11.523289680481,10.5492401123047,10.5735998153687,15.1417503356934,9.64083957672119,12.752960205078098,16.394840240478498,11.9148197174072,7.952899932861331,12.492939949035598,10.8421497344971,12.775970458984402,15.1878299713135],\"yaxis\":\"y\",\"type\":\"scatter\"},{\"hovertemplate\":\"<b>%{hovertext}</b><br><br>Continent_Name=Africa<br>Year=2003<br>gdi_value=%{marker.size}<br>ExpenditureEducationValue=%{y}<extra></extra>\",\"hovertext\":[\"Namibia\",\"Morocco\",\"Mauritius\",\"Mali\",\"Malawi\",\"Seychelles\",\"Madagascar\",\"Tunisia\",\"Senegal\",\"Togo\",\"Swaziland\",\"South Africa\",\"Sierra Leone\",\"Lesotho\",\"Congo, Rep.\",\"Central African Republic\",\"Cameroon\",\"Benin\",\"Djibouti\",\"Kenya\",\"Guinea\",\"Egypt, Arab Rep.\"],\"ids\":[\"Africa\",\"Africa\",\"Africa\",\"Africa\",\"Africa\",\"Africa\",\"Africa\",\"Africa\",\"Africa\",\"Africa\",\"Africa\",\"Africa\",\"Africa\",\"Africa\",\"Africa\",\"Africa\",\"Africa\",\"Africa\",\"Africa\",\"Africa\",\"Africa\",\"Africa\"],\"legendgroup\":\"Africa\",\"marker\":{\"color\":\"#00cc96\",\"size\":[50911388987.3032,556486488046.421,213484453263.862,1122250611865.99,489739578578.224,4768957813.22471,494164533386.197,45859131505.4886,3620474094331.18,951607442082.6808,32705913960.1087,2004879090054.35,4680589225698.3,7926479298.708159,966828879479.3728,666731276304.71,7411372197816.15,2457694592592.59,72555493449.7576,2090221896247.15,6840950000000.0,389770137524.558],\"sizemode\":\"area\",\"sizeref\":3783796695310.0737,\"symbol\":\"circle\"},\"mode\":\"markers\",\"name\":\"Africa\",\"orientation\":\"v\",\"showlegend\":true,\"x\":[50911388987.3032,556486488046.421,213484453263.862,1122250611865.99,489739578578.224,4768957813.22471,494164533386.197,45859131505.4886,3620474094331.18,951607442082.6808,32705913960.1087,2004879090054.35,4680589225698.3,7926479298.708159,966828879479.3728,666731276304.71,7411372197816.15,2457694592592.59,72555493449.7576,2090221896247.15,6840950000000.0,389770137524.558],\"xaxis\":\"x\",\"y\":[20.3282108306885,20.7118606567383,15.9108695983887,18.2837600708008,12.7964696884155,12.0431995391846,15.7631397247314,28.0318794250488,16.1175098419189,27.7564296722412,22.063819885253896,19.5923004150391,17.3193607330322,32.1057281494141,9.5199499130249,12.028019905090302,21.4420204162598,16.6825294494629,24.271490097045803,24.980089187622102,11.6247501373291,14.043869972229],\"yaxis\":\"y\",\"type\":\"scatter\"},{\"hovertemplate\":\"<b>%{hovertext}</b><br><br>Continent_Name=Asia<br>Year=2003<br>gdi_value=%{marker.size}<br>ExpenditureEducationValue=%{y}<extra></extra>\",\"hovertext\":[\"Philippines\",\"Oman\",\"Nepal\",\"Maldives\",\"Malaysia\",\"Russian Federation\",\"Tajikistan\",\"Turkey\",\"Syrian Arab Republic\",\"Singapore\",\"Thailand\",\"Kyrgyz Republic\",\"Cyprus\",\"Bangladesh\",\"Azerbaijan\",\"Japan\",\"Israel\",\"Indonesia\",\"India\",\"Iran, Islamic Rep.\",\"Hong Kong SAR, China\",\"Georgia\"],\"ids\":[\"Asia\",\"Asia\",\"Asia\",\"Asia\",\"Asia\",\"Asia\",\"Asia\",\"Asia\",\"Asia\",\"Asia\",\"Asia\",\"Asia\",\"Asia\",\"Asia\",\"Asia\",\"Asia\",\"Asia\",\"Asia\",\"Asia\",\"Asia\",\"Asia\",\"Asia\"],\"legendgroup\":\"Asia\",\"marker\":{\"color\":\"#ab63fa\",\"size\":[4022091055285.21,11034955425.2199,455204148859.219,12039345909.8054,540252658417.2271,8598651008246.83,2146234343.85198,75763826188.4988,1076459993882.46,193236031890.455,6248745789873.28,23251342145.7978,13538504574.7186,4041379174448.44,6402290703.26199,473936822361565.0,654603829111.97,4791747692903330.0,47274639436830.1,1474478500382290.0,1519366336520.67,5669334227.029429],\"sizemode\":\"area\",\"sizeref\":3783796695310.0737,\"symbol\":\"circle\"},\"mode\":\"markers\",\"name\":\"Asia\",\"orientation\":\"v\",\"showlegend\":true,\"x\":[4022091055285.21,11034955425.2199,455204148859.219,12039345909.8054,540252658417.2271,8598651008246.83,2146234343.85198,75763826188.4988,1076459993882.46,193236031890.455,6248745789873.28,23251342145.7978,13538504574.7186,4041379174448.44,6402290703.26199,473936822361565.0,654603829111.97,4791747692903330.0,47274639436830.1,1474478500382290.0,1519366336520.67,5669334227.029429],\"xaxis\":\"x\",\"y\":[14.380220413208,10.038960456848098,21.302179336547898,20.3462009429932,24.5424404144287,10.5316896438599,12.694239616394,7.14305019378662,19.8554000854492,22.6797695159912,20.8663501739502,15.6549997329712,16.5025005340576,16.6816291809082,11.523289680481,9.946370124816893,12.6816501617432,16.278640747070302,12.922229766845698,21.652959823608303,23.2444190979004,12.492939949035598],\"yaxis\":\"y\",\"type\":\"scatter\"},{\"hovertemplate\":\"<b>%{hovertext}</b><br><br>Continent_Name=North America<br>Year=2003<br>gdi_value=%{marker.size}<br>ExpenditureEducationValue=%{y}<extra></extra>\",\"hovertext\":[\"Panama\",\"Nicaragua\",\"Mexico\",\"United States\",\"Trinidad and Tobago\",\"Costa Rica\",\"Belize\",\"Barbados\",\"Dominican Republic\",\"El Salvador\"],\"ids\":[\"North America\",\"North America\",\"North America\",\"North America\",\"North America\",\"North America\",\"North America\",\"North America\",\"North America\",\"North America\"],\"legendgroup\":\"North America\",\"marker\":{\"color\":\"#FFA15A\",\"size\":[15935943934.0726,105634227714.34698,10121002685052.9,13499948565648.4,68882626168.2243,1532069695609.96,1889139960.79632,1047715796.43093,1196253339859.57,7944961501.345459],\"sizemode\":\"area\",\"sizeref\":3783796695310.0737,\"symbol\":\"circle\"},\"mode\":\"markers\",\"name\":\"North America\",\"orientation\":\"v\",\"showlegend\":true,\"x\":[15935943934.0726,105634227714.34698,10121002685052.9,13499948565648.4,68882626168.2243,1532069695609.96,1889139960.79632,1047715796.43093,1196253339859.57,7944961501.345459],\"xaxis\":\"x\",\"y\":[16.3430099487305,14.887000083923304,23.6120300292969,16.4283790588379,13.3358497619629,20.151720046997102,16.1585102081299,15.665949821472198,9.70180988311768,14.4400796890259],\"yaxis\":\"y\",\"type\":\"scatter\"},{\"hovertemplate\":\"<b>%{hovertext}</b><br><br>Continent_Name=South America<br>Year=2003<br>gdi_value=%{marker.size}<br>ExpenditureEducationValue=%{y}<extra></extra>\",\"hovertext\":[\"Peru\",\"Uruguay\",\"Colombia\",\"Chile\",\"Argentina\",\"Bolivia\"],\"ids\":[\"South America\",\"South America\",\"South America\",\"South America\",\"South America\",\"South America\"],\"legendgroup\":\"South America\",\"marker\":{\"color\":\"#19d3f3\",\"size\":[223213526851.886,389311981315.692,302084502209619.0,66113102104244.7,489158690567.715,23594438585.3072],\"sizemode\":\"area\",\"sizeref\":3783796695310.0737,\"symbol\":\"circle\"},\"mode\":\"markers\",\"name\":\"South America\",\"orientation\":\"v\",\"showlegend\":true,\"x\":[223213526851.886,389311981315.692,302084502209619.0,66113102104244.7,489158690567.715,23594438585.3072],\"xaxis\":\"x\",\"y\":[14.6583099365234,6.8295001983642605,15.537260055542,17.604679107665998,14.3627901077271,19.940959930419897],\"yaxis\":\"y\",\"type\":\"scatter\"}],\"name\":\"2003\"},{\"data\":[{\"hovertemplate\":\"<b>%{hovertext}</b><br><br>Continent_Name=Oceania<br>Year=2004<br>gdi_value=%{marker.size}<br>ExpenditureEducationValue=%{y}<extra></extra>\",\"hovertext\":[\"New Zealand\"],\"ids\":[\"Oceania\"],\"legendgroup\":\"Oceania\",\"marker\":{\"color\":\"#636efa\",\"size\":[181334041082.22305],\"sizemode\":\"area\",\"sizeref\":3783796695310.0737,\"symbol\":\"circle\"},\"mode\":\"markers\",\"name\":\"Oceania\",\"orientation\":\"v\",\"showlegend\":true,\"x\":[181334041082.22305],\"xaxis\":\"x\",\"y\":[20.1399993896484],\"yaxis\":\"y\",\"type\":\"scatter\"},{\"hovertemplate\":\"<b>%{hovertext}</b><br><br>Continent_Name=Europe<br>Year=2004<br>gdi_value=%{marker.size}<br>ExpenditureEducationValue=%{y}<extra></extra>\",\"hovertext\":[\"Norway\",\"Poland\",\"Portugal\",\"Netherlands\",\"Moldova\",\"Malta\",\"Russian Federation\",\"United Kingdom\",\"Ukraine\",\"Turkey\",\"Sweden\",\"Spain\",\"Slovenia\",\"Slovak Republic\",\"Latvia\",\"Austria\",\"Bulgaria\",\"Croatia\",\"Belgium\",\"Belarus\",\"Azerbaijan\",\"Albania\",\"Cyprus\",\"Czech Republic\",\"Kazakhstan\",\"Italy\",\"Ireland\",\"Iceland\",\"Hungary\",\"Estonia\",\"Denmark\",\"France\",\"Georgia\",\"Greece\",\"Finland\"],\"ids\":[\"Europe\",\"Europe\",\"Europe\",\"Europe\",\"Europe\",\"Europe\",\"Europe\",\"Europe\",\"Europe\",\"Europe\",\"Europe\",\"Europe\",\"Europe\",\"Europe\",\"Europe\",\"Europe\",\"Europe\",\"Europe\",\"Europe\",\"Europe\",\"Europe\",\"Europe\",\"Europe\",\"Europe\",\"Europe\",\"Europe\",\"Europe\",\"Europe\",\"Europe\",\"Europe\",\"Europe\",\"Europe\",\"Europe\",\"Europe\",\"Europe\"],\"legendgroup\":\"Europe\",\"marker\":{\"color\":\"#EF553B\",\"size\":[2190096978316.32,947461849870.945,172780969688.754,580438746376.914,9220379756.930971,4644908558.15645,9954673253903.48,1490797949056.46,306645519028.027,83284475355.1936,3174837623138.45,984139748793.487,32634733436.38,52232742839.621,16462011196.277,274645545709.815,56016842011.5639,301126780919.445,339539106300.214,12635304531910.9,7550245484.68013,506883596508.699,14243115473.5592,3367598668932.81,6521072963129.08,1636602663534.76,157499115666.209,1500823894411.4,26540547089351.4,13353122491.947,1713803517502.04,1898346226315.44,6001405787.34921,229333465762.125,180934590165.531],\"sizemode\":\"area\",\"sizeref\":3783796695310.0737,\"symbol\":\"circle\"},\"mode\":\"markers\",\"name\":\"Europe\",\"orientation\":\"v\",\"showlegend\":true,\"x\":[2190096978316.32,947461849870.945,172780969688.754,580438746376.914,9220379756.930971,4644908558.15645,9954673253903.48,1490797949056.46,306645519028.027,83284475355.1936,3174837623138.45,984139748793.487,32634733436.38,52232742839.621,16462011196.277,274645545709.815,56016842011.5639,301126780919.445,339539106300.214,12635304531910.9,7550245484.68013,506883596508.699,14243115473.5592,3367598668932.81,6521072963129.08,1636602663534.76,157499115666.209,1500823894411.4,26540547089351.4,13353122491.947,1713803517502.04,1898346226315.44,6001405787.34921,229333465762.125,180934590165.531],\"xaxis\":\"x\",\"y\":[16.5360507965088,12.6810998916626,10.9462099075317,11.7195596694946,19.553730010986303,10.5651597976685,11.1759099960327,12.955510139465302,12.781749725341802,8.75745010375977,13.0808696746826,10.7262897491455,13.4990196228027,10.9335498809814,10.1919403076172,9.95687007904053,6.70300006866455,8.19225978851318,12.013879776001,12.8464202880859,13.3316402435303,10.703160285949698,15.771129608154302,9.69723987579346,10.2669200897217,9.38801002502441,13.5497102737427,16.824970245361303,11.0919599533081,14.4886598587036,15.4868602752686,10.732310295105,15.0367603302002,8.422670364379881,12.7789602279663],\"yaxis\":\"y\",\"type\":\"scatter\"},{\"hovertemplate\":\"<b>%{hovertext}</b><br><br>Continent_Name=Africa<br>Year=2004<br>gdi_value=%{marker.size}<br>ExpenditureEducationValue=%{y}<extra></extra>\",\"hovertext\":[\"Madagascar\",\"Morocco\",\"Mauritius\",\"Mauritania\",\"Mali\",\"Lesotho\",\"Mozambique\",\"Zambia\",\"Senegal\",\"Uganda\",\"Tunisia\",\"Togo\",\"Tanzania\",\"Swaziland\",\"Sudan\",\"South Africa\",\"Sierra Leone\",\"Congo, Rep.\",\"Chad\",\"Central African Republic\",\"Cameroon\",\"Burundi\",\"Benin\",\"Kenya\",\"Djibouti\",\"Egypt, Arab Rep.\",\"Eritrea\"],\"ids\":[\"Africa\",\"Africa\",\"Africa\",\"Africa\",\"Africa\",\"Africa\",\"Africa\",\"Africa\",\"Africa\",\"Africa\",\"Africa\",\"Africa\",\"Africa\",\"Africa\",\"Africa\",\"Africa\",\"Africa\",\"Africa\",\"Africa\",\"Africa\",\"Africa\",\"Africa\",\"Africa\",\"Africa\",\"Africa\",\"Africa\",\"Africa\"],\"legendgroup\":\"Africa\",\"marker\":{\"color\":\"#00cc96\",\"size\":[515814569871.35205,578250305763.27,220041362037.945,485862882307.03,1160207863940.14,7972537700.0,200493367045.252,58906419327.1848,3767406265205.31,25958879169930.8,48705034310.4317,932377927311.744,21564652394031.6,33317222726.0502,19348677233.2298,2108711980317.05,5051302281322.66,1262906877379.01,3835612308705.67,706703576655.4391,7668991123431.74,1183437638686.21,2597585913994.83,2192697298871.95,75331846945.3899,405311977715.878,7353871398.86687],\"sizemode\":\"area\",\"sizeref\":3783796695310.0737,\"symbol\":\"circle\"},\"mode\":\"markers\",\"name\":\"Africa\",\"orientation\":\"v\",\"showlegend\":true,\"x\":[515814569871.35205,578250305763.27,220041362037.945,485862882307.03,1160207863940.14,7972537700.0,200493367045.252,58906419327.1848,3767406265205.31,25958879169930.8,48705034310.4317,932377927311.744,21564652394031.6,33317222726.0502,19348677233.2298,2108711980317.05,5051302281322.66,1262906877379.01,3835612308705.67,706703576655.4391,7668991123431.74,1183437638686.21,2597585913994.83,2192697298871.95,75331846945.3899,405311977715.878,7353871398.86687],\"xaxis\":\"x\",\"y\":[12.9607696533203,20.0115604400635,16.2123908996582,8.17586040496826,17.736349105835,27.6499004364014,18.001539230346697,10.5849895477295,16.9622497558594,21.8537101745605,27.7362098693848,21.8306903839111,19.492639541626,21.104070663452102,7.94924020767212,19.9346294403076,17.1487998962402,8.56180953979492,11.0319004058838,12.0644598007202,20.8471202850342,12.9588298797607,19.2139492034912,26.668149948120103,24.7011394500732,13.7928304672241,5.7418498992919895],\"yaxis\":\"y\",\"type\":\"scatter\"},{\"hovertemplate\":\"<b>%{hovertext}</b><br><br>Continent_Name=Asia<br>Year=2004<br>gdi_value=%{marker.size}<br>ExpenditureEducationValue=%{y}<extra></extra>\",\"hovertext\":[\"Oman\",\"Pakistan\",\"Philippines\",\"Nepal\",\"Maldives\",\"Malaysia\",\"Qatar\",\"Lebanon\",\"Turkey\",\"Thailand\",\"Tajikistan\",\"Syrian Arab Republic\",\"Singapore\",\"Russian Federation\",\"Kyrgyz Republic\",\"Cambodia\",\"Bangladesh\",\"Azerbaijan\",\"Lao PDR\",\"Bhutan\",\"Cyprus\",\"Kazakhstan\",\"Japan\",\"Israel\",\"Iran, Islamic Rep.\",\"Indonesia\",\"India\",\"Hong Kong SAR, China\",\"Georgia\"],\"ids\":[\"Asia\",\"Asia\",\"Asia\",\"Asia\",\"Asia\",\"Asia\",\"Asia\",\"Asia\",\"Asia\",\"Asia\",\"Asia\",\"Asia\",\"Asia\",\"Asia\",\"Asia\",\"Asia\",\"Asia\",\"Asia\",\"Asia\",\"Asia\",\"Asia\",\"Asia\",\"Asia\",\"Asia\",\"Asia\",\"Asia\",\"Asia\",\"Asia\",\"Asia\"],\"legendgroup\":\"Asia\",\"marker\":{\"color\":\"#ab63fa\",\"size\":[12080148878.6814,7359605619797.94,4252392064852.61,475795404124.228,13584003360.5341,584098858491.999,163059994482.80402,32347482441589.0,83284475355.1936,6694091047893.0,2318428369.9134,1145648779183.65,216080464166.883,9954673253903.48,24853231848.5647,19593482432622.0,4260965428307.88,7550245484.68013,19947118714294.7,26959170515.7778,14243115473.5592,6521072963129.08,483623442159710.0,682944159574.7379,1582365567461180.0,5031421631028400.0,50276698463912.9,1592124406132.53,6001405787.34921],\"sizemode\":\"area\",\"sizeref\":3783796695310.0737,\"symbol\":\"circle\"},\"mode\":\"markers\",\"name\":\"Asia\",\"orientation\":\"v\",\"showlegend\":true,\"x\":[12080148878.6814,7359605619797.94,4252392064852.61,475795404124.228,13584003360.5341,584098858491.999,163059994482.80402,32347482441589.0,83284475355.1936,6694091047893.0,2318428369.9134,1145648779183.65,216080464166.883,9954673253903.48,24853231848.5647,19593482432622.0,4260965428307.88,7550245484.68013,19947118714294.7,26959170515.7778,14243115473.5592,6521072963129.08,483623442159710.0,682944159574.7379,1582365567461180.0,5031421631028400.0,50276698463912.9,1592124406132.53,6001405787.34921],\"xaxis\":\"x\",\"y\":[10.3164701461791,11.229350090026902,12.750849723815902,21.60618019104,19.4792404174805,21.012920379638697,7.28412008285522,7.93123006820679,8.75745010375977,21.457670211792,13.6767597198486,17.1453990936279,26.360670089721697,11.1759099960327,15.9067001342773,12.4043102264404,15.953120231628402,13.3316402435303,16.243829727172898,18.8499393463135,15.771129608154302,10.2669200897217,9.93784046173096,12.6044597625732,21.474050521850604,14.170299530029302,11.552189826965302,23.151309967041,15.0367603302002],\"yaxis\":\"y\",\"type\":\"scatter\"},{\"hovertemplate\":\"<b>%{hovertext}</b><br><br>Continent_Name=North America<br>Year=2004<br>gdi_value=%{marker.size}<br>ExpenditureEducationValue=%{y}<extra></extra>\",\"hovertext\":[\"Panama\",\"Mexico\",\"United States\",\"Costa Rica\",\"Belize\",\"Barbados\"],\"ids\":[\"North America\",\"North America\",\"North America\",\"North America\",\"North America\",\"North America\"],\"legendgroup\":\"North America\",\"marker\":{\"color\":\"#FFA15A\",\"size\":[16522560022.6838,10534286182959.0,13998620085369.6,1579638266851.86,1907870681.2601,1013625828.7691],\"sizemode\":\"area\",\"sizeref\":3783796695310.0737,\"symbol\":\"circle\"},\"mode\":\"markers\",\"name\":\"North America\",\"orientation\":\"v\",\"showlegend\":true,\"x\":[16522560022.6838,10534286182959.0,13998620085369.6,1579638266851.86,1907870681.2601,1013625828.7691],\"xaxis\":\"x\",\"y\":[14.5682697296143,22.8481998443604,15.5266304016113,20.430889129638697,16.8213405609131,15.3879299163818],\"yaxis\":\"y\",\"type\":\"scatter\"},{\"hovertemplate\":\"<b>%{hovertext}</b><br><br>Continent_Name=South America<br>Year=2004<br>gdi_value=%{marker.size}<br>ExpenditureEducationValue=%{y}<extra></extra>\",\"hovertext\":[\"Peru\",\"Uruguay\",\"Colombia\",\"Chile\",\"Brazil\",\"Argentina\"],\"ids\":[\"South America\",\"South America\",\"South America\",\"South America\",\"South America\",\"South America\"],\"legendgroup\":\"South America\",\"marker\":{\"color\":\"#19d3f3\",\"size\":[238355852600.482,404679650579.337,320803878148400.0,74102350331792.3,1346943145999.71,535828336083.091],\"sizemode\":\"area\",\"sizeref\":3783796695310.0737,\"symbol\":\"circle\"},\"mode\":\"markers\",\"name\":\"South America\",\"orientation\":\"v\",\"showlegend\":true,\"x\":[238355852600.482,404679650579.337,320803878148400.0,74102350331792.3,1346943145999.71,535828336083.091],\"xaxis\":\"x\",\"y\":[15.273850440979,8.42053985595703,15.4397802352905,16.9748802185059,10.3937196731567,15.1602001190186],\"yaxis\":\"y\",\"type\":\"scatter\"}],\"name\":\"2004\"},{\"data\":[{\"hovertemplate\":\"<b>%{hovertext}</b><br><br>Continent_Name=Oceania<br>Year=2005<br>gdi_value=%{marker.size}<br>ExpenditureEducationValue=%{y}<extra></extra>\",\"hovertext\":[\"New Zealand\",\"Australia\"],\"ids\":[\"Oceania\",\"Oceania\"],\"legendgroup\":\"Oceania\",\"marker\":{\"color\":\"#636efa\",\"size\":[187275052021.466,1172150833775.92],\"sizemode\":\"area\",\"sizeref\":3783796695310.0737,\"symbol\":\"circle\"},\"mode\":\"markers\",\"name\":\"Oceania\",\"orientation\":\"v\",\"showlegend\":true,\"x\":[187275052021.466,1172150833775.92],\"xaxis\":\"x\",\"y\":[19.4904804229736,13.585129737854],\"yaxis\":\"y\",\"type\":\"scatter\"},{\"hovertemplate\":\"<b>%{hovertext}</b><br><br>Continent_Name=Europe<br>Year=2005<br>gdi_value=%{marker.size}<br>ExpenditureEducationValue=%{y}<extra></extra>\",\"hovertext\":[\"Norway\",\"Netherlands\",\"Moldova\",\"Poland\",\"Sweden\",\"Russian Federation\",\"Kazakhstan\",\"United Kingdom\",\"Ukraine\",\"Portugal\",\"Spain\",\"Slovenia\",\"Slovak Republic\",\"Italy\",\"Bulgaria\",\"Belgium\",\"Azerbaijan\",\"Austria\",\"Armenia\",\"Albania\",\"Belarus\",\"Iceland\",\"Hungary\",\"Greece\",\"Georgia\",\"France\",\"Ireland\",\"Estonia\",\"Denmark\",\"Czech Republic\",\"Cyprus\",\"Finland\"],\"ids\":[\"Europe\",\"Europe\",\"Europe\",\"Europe\",\"Europe\",\"Europe\",\"Europe\",\"Europe\",\"Europe\",\"Europe\",\"Europe\",\"Europe\",\"Europe\",\"Europe\",\"Europe\",\"Europe\",\"Europe\",\"Europe\",\"Europe\",\"Europe\",\"Europe\",\"Europe\",\"Europe\",\"Europe\",\"Europe\",\"Europe\",\"Europe\",\"Europe\",\"Europe\",\"Europe\",\"Europe\",\"Europe\"],\"legendgroup\":\"Europe\",\"marker\":{\"color\":\"#EF553B\",\"size\":[2383160934613.25,594470270281.184,9497014624.82706,984919000000.0,3237109900478.68,11469196018140.2,7590593500000.0,1533358037899.68,318326338398.99896,173572744036.259,1022914666270.64,33573006368.2971,55653322491.7379,1639367473805.19,59803736500.8219,345063319061.68604,11251238132.5965,279629696967.497,1431037523708.75,525479501033.688,14910960281151.4,1597872016567.92,27457348036312.5,230282171553.872,6577519183.858911,1922295876201.03,165855035680.99698,14728467233.0646,1767574287000.84,3549040541572.22,14691270094.7822,183770968038.668],\"sizemode\":\"area\",\"sizeref\":3783796695310.0737,\"symbol\":\"circle\"},\"mode\":\"markers\",\"name\":\"Europe\",\"orientation\":\"v\",\"showlegend\":true,\"x\":[2383160934613.25,594470270281.184,9497014624.82706,984919000000.0,3237109900478.68,11469196018140.2,7590593500000.0,1533358037899.68,318326338398.99896,173572744036.259,1022914666270.64,33573006368.2971,55653322491.7379,1639367473805.19,59803736500.8219,345063319061.68604,11251238132.5965,279629696967.497,1431037523708.75,525479501033.688,14910960281151.4,1597872016567.92,27457348036312.5,230282171553.872,6577519183.858911,1922295876201.03,165855035680.99698,14728467233.0646,1767574287000.84,3549040541572.22,14691270094.7822,183770968038.668],\"xaxis\":\"x\",\"y\":[16.7516994476318,12.190899848938,19.350650787353494,12.1864995956421,12.7873296737671,11.9505701065063,10.2278003692627,13.186650276184098,13.7386503219604,10.863539695739698,10.7814502716064,13.2905502319336,9.59239959716797,9.0137300491333,12.0725202560425,11.3502998352051,13.1206798553467,10.3396596908569,13.6480903625488,11.3579702377319,12.9149398803711,17.8096103668213,10.9096202850342,9.17249011993408,11.1812496185303,10.4009199142456,13.5801296234131,14.5233497619629,15.7793397903442,9.47811031341553,15.7937202453613,12.249699592590302],\"yaxis\":\"y\",\"type\":\"scatter\"},{\"hovertemplate\":\"<b>%{hovertext}</b><br><br>Continent_Name=Africa<br>Year=2005<br>gdi_value=%{marker.size}<br>ExpenditureEducationValue=%{y}<extra></extra>\",\"hovertext\":[\"Morocco\",\"Mozambique\",\"Lesotho\",\"Mauritius\",\"Mali\",\"Madagascar\",\"Kenya\",\"Zambia\",\"Tunisia\",\"Togo\",\"Tanzania\",\"Swaziland\",\"Sudan\",\"South Africa\",\"Sierra Leone\",\"Senegal\",\"Cameroon\",\"Burundi\",\"Burkina Faso\",\"Botswana\",\"Benin\",\"Central African Republic\",\"Chad\",\"Egypt, Arab Rep.\",\"Djibouti\",\"Congo, Rep.\"],\"ids\":[\"Africa\",\"Africa\",\"Africa\",\"Africa\",\"Africa\",\"Africa\",\"Africa\",\"Africa\",\"Africa\",\"Africa\",\"Africa\",\"Africa\",\"Africa\",\"Africa\",\"Africa\",\"Africa\",\"Africa\",\"Africa\",\"Africa\",\"Africa\",\"Africa\",\"Africa\",\"Africa\",\"Africa\",\"Africa\",\"Africa\"],\"legendgroup\":\"Africa\",\"marker\":{\"color\":\"#00cc96\",\"size\":[589209125552.22,222283731892.555,8226466513.835859,212327189400.0,1200511685355.14,520390624781.99896,2330871747719.23,60093087773.5035,50501332754.6471,886842377610.716,23310588826669.9,34147749149.2238,19768052967.6603,2226025537476.07,5299611290445.9,3998131283286.6,7812055417907.79,1208400000000.0,2604015676389.75,54545111781.4065,2596497519083.97,713119061198.305,3505903000000.0,423725170842.825,77719565956.5071,1404151578699.05],\"sizemode\":\"area\",\"sizeref\":3783796695310.0737,\"symbol\":\"circle\"},\"mode\":\"markers\",\"name\":\"Africa\",\"orientation\":\"v\",\"showlegend\":true,\"x\":[589209125552.22,222283731892.555,8226466513.835859,212327189400.0,1200511685355.14,520390624781.99896,2330871747719.23,60093087773.5035,50501332754.6471,886842377610.716,23310588826669.9,34147749149.2238,19768052967.6603,2226025537476.07,5299611290445.9,3998131283286.6,7812055417907.79,1208400000000.0,2604015676389.75,54545111781.4065,2596497519083.97,713119061198.305,3505903000000.0,423725170842.825,77719565956.5071,1404151578699.05],\"xaxis\":\"x\",\"y\":[22.4466495513916,22.7181797027588,32.404918670654205,15.821660041809098,16.2803001403809,18.033039093017603,27.3088397979736,7.729730129241941,26.737970352172898,17.6780796051025,18.143140792846697,20.8918590545654,5.96680021286011,19.9249897003174,15.506609916687,21.7709693908691,21.377609252929695,13.8704204559326,19.4941902160645,25.8235301971436,18.7903900146484,9.68047046661376,14.6728200912476,14.4214496612549,22.7150497436523,7.59781980514526],\"yaxis\":\"y\",\"type\":\"scatter\"},{\"hovertemplate\":\"<b>%{hovertext}</b><br><br>Continent_Name=Asia<br>Year=2005<br>gdi_value=%{marker.size}<br>ExpenditureEducationValue=%{y}<extra></extra>\",\"hovertext\":[\"Pakistan\",\"Oman\",\"Nepal\",\"Lebanon\",\"Lao PDR\",\"Kyrgyz Republic\",\"Kazakhstan\",\"Philippines\",\"Thailand\",\"Singapore\",\"Russian Federation\",\"Tajikistan\",\"Japan\",\"Israel\",\"Azerbaijan\",\"Armenia\",\"Bhutan\",\"Iran, Islamic Rep.\",\"Indonesia\",\"India\",\"Hong Kong SAR, China\",\"Georgia\",\"Cyprus\"],\"ids\":[\"Asia\",\"Asia\",\"Asia\",\"Asia\",\"Asia\",\"Asia\",\"Asia\",\"Asia\",\"Asia\",\"Asia\",\"Asia\",\"Asia\",\"Asia\",\"Asia\",\"Asia\",\"Asia\",\"Asia\",\"Asia\",\"Asia\",\"Asia\",\"Asia\",\"Asia\",\"Asia\"],\"legendgroup\":\"Asia\",\"marker\":{\"color\":\"#ab63fa\",\"size\":[7877710067144.25,13940705145.4741,489952700677.924,32570005781324.1,21364873814647.2,24734211632.3378,7590593500000.0,4404234841110.89,6925445618075.84,233424047909.67,11469196018140.2,1727974886.16968,484799200007746.0,708953984141.523,11251238132.5965,1431037523708.75,28879353447.1724,1750387152265940.0,5307779307251270.0,54983111850444.8,1688699943955.76,6577519183.858911,14691270094.7822],\"sizemode\":\"area\",\"sizeref\":3783796695310.0737,\"symbol\":\"circle\"},\"mode\":\"markers\",\"name\":\"Asia\",\"orientation\":\"v\",\"showlegend\":true,\"x\":[7877710067144.25,13940705145.4741,489952700677.924,32570005781324.1,21364873814647.2,24734211632.3378,7590593500000.0,4404234841110.89,6925445618075.84,233424047909.67,11469196018140.2,1727974886.16968,484799200007746.0,708953984141.523,11251238132.5965,1431037523708.75,28879353447.1724,1750387152265940.0,5307779307251270.0,54983111850444.8,1688699943955.76,6577519183.858911,14691270094.7822],\"xaxis\":\"x\",\"y\":[13.7775096893311,10.053640365600598,22.2768898010254,8.42131042480469,13.7315797805786,16.4619197845458,10.2278003692627,12.4223604202271,20.5468196868896,23.852300643920803,11.9505701065063,15.2933797836304,10.2918195724487,12.5063695907593,13.1206798553467,13.6480903625488,17.4828205108643,22.321960449218803,15.1487998962402,11.5321502685547,22.4784107208252,11.1812496185303,15.7937202453613],\"yaxis\":\"y\",\"type\":\"scatter\"},{\"hovertemplate\":\"<b>%{hovertext}</b><br><br>Continent_Name=North America<br>Year=2005<br>gdi_value=%{marker.size}<br>ExpenditureEducationValue=%{y}<extra></extra>\",\"hovertext\":[\"Mexico\",\"United States\",\"Canada\",\"Barbados\",\"El Salvador\"],\"ids\":[\"North America\",\"North America\",\"North America\",\"North America\",\"North America\"],\"legendgroup\":\"North America\",\"marker\":{\"color\":\"#FFA15A\",\"size\":[10933029064771.5,14443582613984.7,1541741070692.19,980738720.872583,8200093242.72411],\"sizemode\":\"area\",\"sizeref\":3783796695310.0737,\"symbol\":\"circle\"},\"mode\":\"markers\",\"name\":\"North America\",\"orientation\":\"v\",\"showlegend\":true,\"x\":[10933029064771.5,14443582613984.7,1541741070692.19,980738720.872583,8200093242.72411],\"xaxis\":\"x\",\"y\":[22.6173496246338,14.975520133972198,12.2474498748779,15.3954401016235,14.6558198928833],\"yaxis\":\"y\",\"type\":\"scatter\"},{\"hovertemplate\":\"<b>%{hovertext}</b><br><br>Continent_Name=South America<br>Year=2005<br>gdi_value=%{marker.size}<br>ExpenditureEducationValue=%{y}<extra></extra>\",\"hovertext\":[\"Peru\",\"Uruguay\",\"Brazil\",\"Argentina\",\"Colombia\",\"Chile\"],\"ids\":[\"South America\",\"South America\",\"South America\",\"South America\",\"South America\",\"South America\"],\"legendgroup\":\"South America\",\"marker\":{\"color\":\"#19d3f3\",\"size\":[254746925190.798,425018448100.0,1389918913688.54,582228329143.297,340156000000000.0,81062472878854.8],\"sizemode\":\"area\",\"sizeref\":3783796695310.0737,\"symbol\":\"circle\"},\"mode\":\"markers\",\"name\":\"South America\",\"orientation\":\"v\",\"showlegend\":true,\"x\":[254746925190.798,425018448100.0,1389918913688.54,582228329143.297,340156000000000.0,81062472878854.8],\"xaxis\":\"x\",\"y\":[14.2785196304321,9.46483039855957,11.2567195892334,15.8062801361084,15.5356101989746,16.122249603271502],\"yaxis\":\"y\",\"type\":\"scatter\"}],\"name\":\"2005\"},{\"data\":[{\"hovertemplate\":\"<b>%{hovertext}</b><br><br>Continent_Name=Oceania<br>Year=2006<br>gdi_value=%{marker.size}<br>ExpenditureEducationValue=%{y}<extra></extra>\",\"hovertext\":[\"New Zealand\",\"Australia\"],\"ids\":[\"Oceania\",\"Oceania\"],\"legendgroup\":\"Oceania\",\"marker\":{\"color\":\"#636efa\",\"size\":[191681440264.435,1226635804572.14],\"sizemode\":\"area\",\"sizeref\":3783796695310.0737,\"symbol\":\"circle\"},\"mode\":\"markers\",\"name\":\"Oceania\",\"orientation\":\"v\",\"showlegend\":true,\"x\":[191681440264.435,1226635804572.14],\"xaxis\":\"x\",\"y\":[18.058889389038104,13.1781997680664],\"yaxis\":\"y\",\"type\":\"scatter\"},{\"hovertemplate\":\"<b>%{hovertext}</b><br><br>Continent_Name=Europe<br>Year=2006<br>gdi_value=%{marker.size}<br>ExpenditureEducationValue=%{y}<extra></extra>\",\"hovertext\":[\"Poland\",\"Netherlands\",\"Norway\",\"Moldova\",\"Latvia\",\"Portugal\",\"United Kingdom\",\"Ukraine\",\"Turkey\",\"Russian Federation\",\"Sweden\",\"Spain\",\"Slovenia\",\"Slovak Republic\",\"Bulgaria\",\"Belgium\",\"Belarus\",\"Azerbaijan\",\"Austria\",\"Armenia\",\"Cyprus\",\"Albania\",\"Denmark\",\"Kazakhstan\",\"Italy\",\"Ireland\",\"Czech Republic\",\"Iceland\",\"Hungary\",\"France\",\"Georgia\",\"Germany\",\"Finland\"],\"ids\":[\"Europe\",\"Europe\",\"Europe\",\"Europe\",\"Europe\",\"Europe\",\"Europe\",\"Europe\",\"Europe\",\"Europe\",\"Europe\",\"Europe\",\"Europe\",\"Europe\",\"Europe\",\"Europe\",\"Europe\",\"Europe\",\"Europe\",\"Europe\",\"Europe\",\"Europe\",\"Europe\",\"Europe\",\"Europe\",\"Europe\",\"Europe\",\"Europe\",\"Europe\",\"Europe\",\"Europe\",\"Europe\",\"Europe\"],\"legendgroup\":\"Europe\",\"marker\":{\"color\":\"#EF553B\",\"size\":[1045664650295.62,616326429944.553,2557571115356.94,9851524110.05173,20257176050.3987,176440506701.20398,1571289832871.01,348367456658.076,95393330898.8629,13163816752346.9,3384024217791.77,1065985932429.56,35379822027.3451,60025751425.4351,65493141441.3571,351940624149.52795,16806132645318.1,17256364300.8223,287564618909.55,1618956227543.28,15345855903.7554,551447781883.152,1828888321842.06,8887531194822.42,1659473454257.41,175301548289.266,3750788640874.01,1679753947253.9,28276741486613.1,1960082213961.54,7194705998.828859,2510025782943.17,189029363275.913],\"sizemode\":\"area\",\"sizeref\":3783796695310.0737,\"symbol\":\"circle\"},\"mode\":\"markers\",\"name\":\"Europe\",\"orientation\":\"v\",\"showlegend\":true,\"x\":[1045664650295.62,616326429944.553,2557571115356.94,9851524110.05173,20257176050.3987,176440506701.20398,1571289832871.01,348367456658.076,95393330898.8629,13163816752346.9,3384024217791.77,1065985932429.56,35379822027.3451,60025751425.4351,65493141441.3571,351940624149.52795,16806132645318.1,17256364300.8223,287564618909.55,1618956227543.28,15345855903.7554,551447781883.152,1828888321842.06,8887531194822.42,1659473454257.41,175301548289.266,3750788640874.01,1679753947253.9,28276741486613.1,1960082213961.54,7194705998.828859,2510025782943.17,189029363275.913],\"xaxis\":\"x\",\"y\":[12.6283302307129,11.8270702362061,16.233539581298803,18.6719703674316,9.77717018127441,11.4394397735596,13.2210702896118,13.9232301712036,8.55447959899902,12.4258003234863,12.7999801635742,10.8887901306152,13.3197002410889,9.67681980133057,12.010479927063,12.2234497070313,12.696439743042,9.5108699798584,10.4633798599243,13.578519821167,16.135799407959002,10.9329500198364,15.5126399993896,13.2673397064209,9.52719020843506,13.429759979248,10.5287199020386,17.925279617309602,10.427470207214402,10.367300033569302,12.8953895568848,9.76033973693848,12.2838201522827],\"yaxis\":\"y\",\"type\":\"scatter\"},{\"hovertemplate\":\"<b>%{hovertext}</b><br><br>Continent_Name=Africa<br>Year=2006<br>gdi_value=%{marker.size}<br>ExpenditureEducationValue=%{y}<extra></extra>\",\"hovertext\":[\"Niger\",\"Namibia\",\"Mauritius\",\"Morocco\",\"Mauritania\",\"Madagascar\",\"Lesotho\",\"Mozambique\",\"Tunisia\",\"Togo\",\"Tanzania\",\"Swaziland\",\"Sudan\",\"South Africa\",\"Seychelles\",\"Senegal\",\"Kenya\",\"Central African Republic\",\"Cameroon\",\"Burkina Faso\",\"Benin\",\"Ghana\",\"Egypt, Arab Rep.\",\"Eritrea\",\"Djibouti\"],\"ids\":[\"Africa\",\"Africa\",\"Africa\",\"Africa\",\"Africa\",\"Africa\",\"Africa\",\"Africa\",\"Africa\",\"Africa\",\"Africa\",\"Africa\",\"Africa\",\"Africa\",\"Africa\",\"Africa\",\"Africa\",\"Africa\",\"Africa\",\"Africa\",\"Africa\",\"Africa\",\"Africa\",\"Africa\",\"Africa\"],\"legendgroup\":\"Africa\",\"marker\":{\"color\":\"#00cc96\",\"size\":[1906838000000.0,67234601452.5254,213444000000.0,630741452172.586,724812153941.101,540816278851.019,8646472594.48897,245147689704.963,53025055890.5748,917218387918.519,24597280570556.4,35228495129.6425,20439058642.2029,2380280920601.25,5610323700.0,4081002158200.34,2524701438717.35,717939365040.23,8322784806486.89,2762836317590.22,2696772321428.57,18705084600.0,455912820512.821,7319869681.94017,81450000007.2684],\"sizemode\":\"area\",\"sizeref\":3783796695310.0737,\"symbol\":\"circle\"},\"mode\":\"markers\",\"name\":\"Africa\",\"orientation\":\"v\",\"showlegend\":true,\"x\":[1906838000000.0,67234601452.5254,213444000000.0,630741452172.586,724812153941.101,540816278851.019,8646472594.48897,245147689704.963,53025055890.5748,917218387918.519,24597280570556.4,35228495129.6425,20439058642.2029,2380280920601.25,5610323700.0,4081002158200.34,2524701438717.35,717939365040.23,8322784806486.89,2762836317590.22,2696772321428.57,18705084600.0,455912820512.821,7319869681.94017,81450000007.2684],\"xaxis\":\"x\",\"y\":[16.883769989013697,21.6029891967773,14.1383304595947,18.6764698028564,10.3102903366089,15.3241901397705,28.233810424804695,18.5500392913818,27.1384391784668,17.2866497039795,15.0141201019287,22.7075691223145,8.25316047668457,19.6818504333496,10.9545202255249,17.9546394348145,24.9559707641602,10.0542402267456,20.312650680542,18.2017002105713,19.7096099853516,24.161979675293,10.5962295532227,5.16806983947754,22.145410537719695],\"yaxis\":\"y\",\"type\":\"scatter\"},{\"hovertemplate\":\"<b>%{hovertext}</b><br><br>Continent_Name=Asia<br>Year=2006<br>gdi_value=%{marker.size}<br>ExpenditureEducationValue=%{y}<extra></extra>\",\"hovertext\":[\"Philippines\",\"Oman\",\"Pakistan\",\"Nepal\",\"Malaysia\",\"Lebanon\",\"Russian Federation\",\"Lao PDR\",\"Turkey\",\"Thailand\",\"Syrian Arab Republic\",\"Tajikistan\",\"Kyrgyz Republic\",\"Kazakhstan\",\"Bangladesh\",\"Bahrain\",\"Azerbaijan\",\"Armenia\",\"Cyprus\",\"Japan\",\"Israel\",\"Iran, Islamic Rep.\",\"Hong Kong SAR, China\",\"India\",\"Georgia\"],\"ids\":[\"Asia\",\"Asia\",\"Asia\",\"Asia\",\"Asia\",\"Asia\",\"Asia\",\"Asia\",\"Asia\",\"Asia\",\"Asia\",\"Asia\",\"Asia\",\"Asia\",\"Asia\",\"Asia\",\"Asia\",\"Asia\",\"Asia\",\"Asia\",\"Asia\",\"Asia\",\"Asia\",\"Asia\",\"Asia\"],\"legendgroup\":\"Asia\",\"marker\":{\"color\":\"#ab63fa\",\"size\":[4611636442511.34,15853654358.8612,8216160000000.0,502288835545.748,674466534940.339,32752158884174.4,13163816752346.9,23206369163766.6,95393330898.8629,7223571175534.61,1249994192482.31,1433476327.5104198,25698658157.107,8887531194822.42,4823368000000.0,6724181183.56265,17256364300.8223,1618956227543.28,15345855903.7554,488098545194961.0,747899542525.8241,1850645235476820.0,1769291845286.45,60047901527058.7,7194705998.828859],\"sizemode\":\"area\",\"sizeref\":3783796695310.0737,\"symbol\":\"circle\"},\"mode\":\"markers\",\"name\":\"Asia\",\"orientation\":\"v\",\"showlegend\":true,\"x\":[4611636442511.34,15853654358.8612,8216160000000.0,502288835545.748,674466534940.339,32752158884174.4,13163816752346.9,23206369163766.6,95393330898.8629,7223571175534.61,1249994192482.31,1433476327.5104198,25698658157.107,8887531194822.42,4823368000000.0,6724181183.56265,17256364300.8223,1618956227543.28,15345855903.7554,488098545194961.0,747899542525.8241,1850645235476820.0,1769291845286.45,60047901527058.7,7194705998.828859],\"xaxis\":\"x\",\"y\":[13.2685298919678,11.224630355834998,15.289099693298304,25.485040664672898,16.745569229126,7.69319009780884,12.4258003234863,17.4804706573486,8.55447959899902,22.0027904510498,20.0484790802002,15.6360101699829,18.434749603271506,13.2673397064209,17.3365306854248,11.9186601638794,9.5108699798584,13.578519821167,16.135799407959002,10.1511697769165,12.9200401306152,19.3481292724609,23.2827396392822,11.7810897827148,12.8953895568848],\"yaxis\":\"y\",\"type\":\"scatter\"},{\"hovertemplate\":\"<b>%{hovertext}</b><br><br>Continent_Name=North America<br>Year=2006<br>gdi_value=%{marker.size}<br>ExpenditureEducationValue=%{y}<extra></extra>\",\"hovertext\":[\"Mexico\",\"United States\",\"Costa Rica\",\"Guatemala\",\"El Salvador\"],\"ids\":[\"North America\",\"North America\",\"North America\",\"North America\",\"North America\"],\"legendgroup\":\"North America\",\"marker\":{\"color\":\"#FFA15A\",\"size\":[11566917475062.9,14820611002072.3,1742921089364.63,171057707492.235,8469205505.412],\"sizemode\":\"area\",\"sizeref\":3783796695310.0737,\"symbol\":\"circle\"},\"mode\":\"markers\",\"name\":\"North America\",\"orientation\":\"v\",\"showlegend\":true,\"x\":[11566917475062.9,14820611002072.3,1742921089364.63,171057707492.235,8469205505.412],\"xaxis\":\"x\",\"y\":[20.7457809448242,15.0133304595947,20.643390655517603,20.3384494781494,15.5718297958374],\"yaxis\":\"y\",\"type\":\"scatter\"},{\"hovertemplate\":\"<b>%{hovertext}</b><br><br>Continent_Name=South America<br>Year=2006<br>gdi_value=%{marker.size}<br>ExpenditureEducationValue=%{y}<extra></extra>\",\"hovertext\":[\"Peru\",\"Venezuela, RB\",\"Uruguay\",\"Colombia\",\"Chile\",\"Brazil\",\"Bolivia\",\"Argentina\"],\"ids\":[\"South America\",\"South America\",\"South America\",\"South America\",\"South America\",\"South America\",\"South America\",\"South America\"],\"legendgroup\":\"South America\",\"marker\":{\"color\":\"#19d3f3\",\"size\":[291841738453.08,73177659003.4404,439858530013.654,366528295843428.0,91773579965998.3,1461560332947.75,28587996047.1378,635531398179.076],\"sizemode\":\"area\",\"sizeref\":3783796695310.0737,\"symbol\":\"circle\"},\"mode\":\"markers\",\"name\":\"South America\",\"orientation\":\"v\",\"showlegend\":true,\"x\":[291841738453.08,73177659003.4404,439858530013.654,366528295843428.0,91773579965998.3,1461560332947.75,28587996047.1378,635531398179.076],\"xaxis\":\"x\",\"y\":[14.0353002548218,9.3439998626709,9.89818000793457,13.7688302993774,16.1579208374023,12.4227304458618,21.1625003814697,16.3514804840088],\"yaxis\":\"y\",\"type\":\"scatter\"}],\"name\":\"2006\"},{\"data\":[{\"hovertemplate\":\"<b>%{hovertext}</b><br><br>Continent_Name=Oceania<br>Year=2007<br>gdi_value=%{marker.size}<br>ExpenditureEducationValue=%{y}<extra></extra>\",\"hovertext\":[\"New Zealand\",\"Australia\"],\"ids\":[\"Oceania\",\"Oceania\"],\"legendgroup\":\"Oceania\",\"marker\":{\"color\":\"#636efa\",\"size\":[201945827694.288,1287478354734.76],\"sizemode\":\"area\",\"sizeref\":3783796695310.0737,\"symbol\":\"circle\"},\"mode\":\"markers\",\"name\":\"Oceania\",\"orientation\":\"v\",\"showlegend\":true,\"x\":[201945827694.288,1287478354734.76],\"xaxis\":\"x\",\"y\":[17.6912803649902,13.0302696228027],\"yaxis\":\"y\",\"type\":\"scatter\"},{\"hovertemplate\":\"<b>%{hovertext}</b><br><br>Continent_Name=Europe<br>Year=2007<br>gdi_value=%{marker.size}<br>ExpenditureEducationValue=%{y}<extra></extra>\",\"hovertext\":[\"Netherlands\",\"Moldova\",\"Italy\",\"Latvia\",\"Kazakhstan\",\"Norway\",\"Malta\",\"Sweden\",\"United Kingdom\",\"Ukraine\",\"Spain\",\"Slovenia\",\"Slovak Republic\",\"Serbia\",\"Portugal\",\"Poland\",\"Ireland\",\"Bulgaria\",\"Belgium\",\"Belarus\",\"Azerbaijan\",\"Austria\",\"Armenia\",\"Albania\",\"Iceland\",\"Hungary\",\"Georgia\",\"France\",\"Finland\",\"Germany\",\"Estonia\",\"Denmark\",\"Czech Republic\",\"Cyprus\",\"Croatia\"],\"ids\":[\"Europe\",\"Europe\",\"Europe\",\"Europe\",\"Europe\",\"Europe\",\"Europe\",\"Europe\",\"Europe\",\"Europe\",\"Europe\",\"Europe\",\"Europe\",\"Europe\",\"Europe\",\"Europe\",\"Europe\",\"Europe\",\"Europe\",\"Europe\",\"Europe\",\"Europe\",\"Europe\",\"Europe\",\"Europe\",\"Europe\",\"Europe\",\"Europe\",\"Europe\",\"Europe\",\"Europe\",\"Europe\",\"Europe\",\"Europe\",\"Europe\"],\"legendgroup\":\"Europe\",\"marker\":{\"color\":\"#EF553B\",\"size\":[638594791434.283,9949290246.97092,1688643044273.53,22699279148.5316,9973963266521.25,2606025051980.14,5179623135.72114,3522997050508.42,1608367514626.9,392690151515.074,1107974804764.71,38074948220.2331,65986943527.1602,2967468286949.33,181085279501.9,1128242815326.86,181806543828.515,71242223624.9962,364379585116.159,18000611994064.8,23513938369.4944,297419987749.101,1825170164658.37,585724620200.96,1820653985038.55,28469907744256.2,8082820481.854441,2012553218996.07,198852338089.245,2593375435278.69,17967161519.3726,1839796353727.32,3984789502578.28,16238078234.3081,349098217823.48],\"sizemode\":\"area\",\"sizeref\":3783796695310.0737,\"symbol\":\"circle\"},\"mode\":\"markers\",\"name\":\"Europe\",\"orientation\":\"v\",\"showlegend\":true,\"x\":[638594791434.283,9949290246.97092,1688643044273.53,22699279148.5316,9973963266521.25,2606025051980.14,5179623135.72114,3522997050508.42,1608367514626.9,392690151515.074,1107974804764.71,38074948220.2331,65986943527.1602,2967468286949.33,181085279501.9,1128242815326.86,181806543828.515,71242223624.9962,364379585116.159,18000611994064.8,23513938369.4944,297419987749.101,1825170164658.37,585724620200.96,1820653985038.55,28469907744256.2,8082820481.854441,2012553218996.07,198852338089.245,2593375435278.69,17967161519.3726,1839796353727.32,3984789502578.28,16238078234.3081,349098217823.48],\"xaxis\":\"x\",\"y\":[11.6218299865723,19.487850189209,8.80193042755126,9.886389732360833,11.9446201324463,16.5571308135986,14.536789894104,12.864959716796902,13.0127401351929,14.036190032959,10.876199722290002,12.8966598510742,9.81595993041992,10.3935604095459,11.063759803772,11.2532196044922,13.129460334777802,11.113920211792,12.2826795578003,10.7487201690674,9.82855987548828,10.5420799255371,13.4655895233154,11.177189826965302,17.2176399230957,10.4443397521973,9.486650466918949,10.425990104675302,12.150360107421902,10.3287601470947,13.877770423889196,15.3566999435425,9.87837028503417,16.649610519409197,8.883279800415039],\"yaxis\":\"y\",\"type\":\"scatter\"},{\"hovertemplate\":\"<b>%{hovertext}</b><br><br>Continent_Name=Africa<br>Year=2007<br>gdi_value=%{marker.size}<br>ExpenditureEducationValue=%{y}<extra></extra>\",\"hovertext\":[\"Niger\",\"Morocco\",\"Mauritius\",\"Madagascar\",\"Zambia\",\"Tunisia\",\"Togo\",\"Tanzania\",\"South Africa\",\"Sierra Leone\",\"Rwanda\",\"Cameroon\",\"Cabo Verde\",\"Burkina Faso\",\"Botswana\",\"Benin\",\"Central African Republic\",\"Ghana\",\"Egypt, Arab Rep.\"],\"ids\":[\"Africa\",\"Africa\",\"Africa\",\"Africa\",\"Africa\",\"Africa\",\"Africa\",\"Africa\",\"Africa\",\"Africa\",\"Africa\",\"Africa\",\"Africa\",\"Africa\",\"Africa\",\"Africa\",\"Africa\",\"Africa\",\"Africa\"],\"legendgroup\":\"Africa\",\"marker\":{\"color\":\"#00cc96\",\"size\":[1956806156165.01,647530000000.0,228414018493.828,557702545125.76,75536430148.7735,56174803799.0472,939841954647.445,26770431799800.0,2527580584595.48,5947195713037.99,2765392079207.92,8535880837365.98,121973724800.0,2896736411588.18,64303156035.0605,2861000000000.0,746293517003.2471,19518160727.383,480658326908.25],\"sizemode\":\"area\",\"sizeref\":3783796695310.0737,\"symbol\":\"circle\"},\"mode\":\"markers\",\"name\":\"Africa\",\"orientation\":\"v\",\"showlegend\":true,\"x\":[1956806156165.01,647530000000.0,228414018493.828,557702545125.76,75536430148.7735,56174803799.0472,939841954647.445,26770431799800.0,2527580584595.48,5947195713037.99,2765392079207.92,8535880837365.98,121973724800.0,2896736411588.18,64303156035.0605,2861000000000.0,746293517003.2471,19518160727.383,480658326908.25],\"xaxis\":\"x\",\"y\":[17.375970840454098,20.028720855712898,12.7499504089355,18.0445499420166,6.227910041809079,27.2232093811035,18.15452003479,19.4317398071289,18.3821506500244,19.7502193450928,18.774959564209,21.5682201385498,18.3287506103516,17.8638191223145,26.5077896118164,14.9486904144287,9.86948013305664,24.1195697784424,10.4479103088379],\"yaxis\":\"y\",\"type\":\"scatter\"},{\"hovertemplate\":\"<b>%{hovertext}</b><br><br>Continent_Name=Asia<br>Year=2007<br>gdi_value=%{marker.size}<br>ExpenditureEducationValue=%{y}<extra></extra>\",\"hovertext\":[\"Nepal\",\"Mongolia\",\"Malaysia\",\"Lebanon\",\"Lao PDR\",\"Kyrgyz Republic\",\"Japan\",\"Pakistan\",\"Philippines\",\"Israel\",\"Thailand\",\"Tajikistan\",\"Syrian Arab Republic\",\"Kazakhstan\",\"Indonesia\",\"Cambodia\",\"Bangladesh\",\"Bahrain\",\"Azerbaijan\",\"Armenia\",\"Iran, Islamic Rep.\",\"Hong Kong SAR, China\",\"Georgia\",\"Cyprus\"],\"ids\":[\"Asia\",\"Asia\",\"Asia\",\"Asia\",\"Asia\",\"Asia\",\"Asia\",\"Asia\",\"Asia\",\"Asia\",\"Asia\",\"Asia\",\"Asia\",\"Asia\",\"Asia\",\"Asia\",\"Asia\",\"Asia\",\"Asia\",\"Asia\",\"Asia\",\"Asia\",\"Asia\",\"Asia\"],\"legendgroup\":\"Asia\",\"marker\":{\"color\":\"#ab63fa\",\"size\":[518699806061.682,9100343354293.52,725555803721.2471,35417304409613.6,24969317299963.9,28170876178.1615,495826300549898.0,8569296650424.16,4884030956496.86,788282094913.207,7783677376160.22,1411053519.58704,1367649113227.69,9973963266521.25,5987072203769450.0,27032841858802.3,5174238828577.84,7649807064.13902,23513938369.4944,1825170164658.37,2088534453840480.0,1901278135338.9,8082820481.854441,16238078234.3081],\"sizemode\":\"area\",\"sizeref\":3783796695310.0737,\"symbol\":\"circle\"},\"mode\":\"markers\",\"name\":\"Asia\",\"orientation\":\"v\",\"showlegend\":true,\"x\":[518699806061.682,9100343354293.52,725555803721.2471,35417304409613.6,24969317299963.9,28170876178.1615,495826300549898.0,8569296650424.16,4884030956496.86,788282094913.207,7783677376160.22,1411053519.58704,1367649113227.69,9973963266521.25,5987072203769450.0,27032841858802.3,5174238828577.84,7649807064.13902,23513938369.4944,1825170164658.37,2088534453840480.0,1901278135338.9,8082820481.854441,16238078234.3081],\"xaxis\":\"x\",\"y\":[21.1286697387695,13.2864503860474,16.1246604919434,7.341040134429929,17.3574504852295,20.3240699768066,10.0429801940918,15.445520401001,13.6670198440552,12.8846197128296,18.484670639038104,12.214879989624,18.9259300231934,11.9446201324463,14.9443101882935,11.0617198944092,18.153400421142603,11.0267295837402,9.82855987548828,13.4655895233154,19.8744297027588,22.6378803253174,9.486650466918949,16.649610519409197],\"yaxis\":\"y\",\"type\":\"scatter\"},{\"hovertemplate\":\"<b>%{hovertext}</b><br><br>Continent_Name=North America<br>Year=2007<br>gdi_value=%{marker.size}<br>ExpenditureEducationValue=%{y}<extra></extra>\",\"hovertext\":[\"Mexico\",\"Jamaica\",\"United States\",\"Canada\",\"Barbados\",\"Guatemala\",\"El Salvador\",\"Dominican Republic\",\"Costa Rica\"],\"ids\":[\"North America\",\"North America\",\"North America\",\"North America\",\"North America\",\"North America\",\"North America\",\"North America\",\"North America\"],\"legendgroup\":\"North America\",\"marker\":{\"color\":\"#FFA15A\",\"size\":[11974825072303.0,885632200000.0,15082128317697.3,1635950029276.4,993184115.523466,181441165801.96695,8712173165.73288,1455253260247.04,1849477503360.39],\"sizemode\":\"area\",\"sizeref\":3783796695310.0737,\"symbol\":\"circle\"},\"mode\":\"markers\",\"name\":\"North America\",\"orientation\":\"v\",\"showlegend\":true,\"x\":[11974825072303.0,885632200000.0,15082128317697.3,1635950029276.4,993184115.523466,181441165801.96695,8712173165.73288,1455253260247.04,1849477503360.39],\"xaxis\":\"x\",\"y\":[20.3031005859375,17.173049926757802,14.4024200439453,12.3589296340942,15.2156295776367,21.2781600952148,16.940650939941403,12.5778799057007,21.0218906402588],\"yaxis\":\"y\",\"type\":\"scatter\"},{\"hovertemplate\":\"<b>%{hovertext}</b><br><br>Continent_Name=South America<br>Year=2007<br>gdi_value=%{marker.size}<br>ExpenditureEducationValue=%{y}<extra></extra>\",\"hovertext\":[\"Venezuela, RB\",\"Peru\",\"Brazil\",\"Argentina\",\"Colombia\",\"Chile\"],\"ids\":[\"South America\",\"South America\",\"South America\",\"South America\",\"South America\",\"South America\"],\"legendgroup\":\"South America\",\"marker\":{\"color\":\"#19d3f3\",\"size\":[78566775154.6166,319692999000.0,1553767268379.88,694280079029.776,394500345836459.0,97372186886106.8],\"sizemode\":\"area\",\"sizeref\":3783796695310.0737,\"symbol\":\"circle\"},\"mode\":\"markers\",\"name\":\"South America\",\"orientation\":\"v\",\"showlegend\":true,\"x\":[78566775154.6166,319692999000.0,1553767268379.88,694280079029.776,394500345836459.0,97372186886106.8],\"xaxis\":\"x\",\"y\":[10.0900497436523,14.141770362854,13.218560218811,15.8274898529053,14.481450080871598,16.648370742797898],\"yaxis\":\"y\",\"type\":\"scatter\"}],\"name\":\"2007\"},{\"data\":[{\"hovertemplate\":\"<b>%{hovertext}</b><br><br>Continent_Name=Oceania<br>Year=2008<br>gdi_value=%{marker.size}<br>ExpenditureEducationValue=%{y}<extra></extra>\",\"hovertext\":[\"New Zealand\",\"Vanuatu\",\"Australia\"],\"ids\":[\"Oceania\",\"Oceania\",\"Oceania\"],\"legendgroup\":\"Oceania\",\"marker\":{\"color\":\"#636efa\",\"size\":[197574695715.953,57260766402.7946,1347972595301.1],\"sizemode\":\"area\",\"sizeref\":3783796695310.0737,\"symbol\":\"circle\"},\"mode\":\"markers\",\"name\":\"Oceania\",\"orientation\":\"v\",\"showlegend\":true,\"x\":[197574695715.953,57260766402.7946,1347972595301.1],\"xaxis\":\"x\",\"y\":[16.827880859375,21.4056301116943,12.599720001220698],\"yaxis\":\"y\",\"type\":\"scatter\"},{\"hovertemplate\":\"<b>%{hovertext}</b><br><br>Continent_Name=Europe<br>Year=2008<br>gdi_value=%{marker.size}<br>ExpenditureEducationValue=%{y}<extra></extra>\",\"hovertext\":[\"Netherlands\",\"Norway\",\"Moldova\",\"Latvia\",\"Malta\",\"Poland\",\"United Kingdom\",\"Ukraine\",\"Sweden\",\"Portugal\",\"Spain\",\"Slovenia\",\"Slovak Republic\",\"Serbia\",\"Russian Federation\",\"Kazakhstan\",\"Bulgaria\",\"Azerbaijan\",\"Austria\",\"Armenia\",\"Belgium\",\"Croatia\",\"Ireland\",\"Iceland\",\"Hungary\",\"Germany\",\"Italy\",\"Georgia\",\"France\",\"Finland\",\"Estonia\",\"Denmark\",\"Czech Republic\",\"Cyprus\"],\"ids\":[\"Europe\",\"Europe\",\"Europe\",\"Europe\",\"Europe\",\"Europe\",\"Europe\",\"Europe\",\"Europe\",\"Europe\",\"Europe\",\"Europe\",\"Europe\",\"Europe\",\"Europe\",\"Europe\",\"Europe\",\"Europe\",\"Europe\",\"Europe\",\"Europe\",\"Europe\",\"Europe\",\"Europe\",\"Europe\",\"Europe\",\"Europe\",\"Europe\",\"Europe\",\"Europe\",\"Europe\",\"Europe\",\"Europe\",\"Europe\"],\"legendgroup\":\"Europe\",\"marker\":{\"color\":\"#EF553B\",\"size\":[648389315148.397,2752048855762.39,10238464406.4246,21717595676.7248,5295088620.57137,1165066137324.59,1584639814397.93,416017871528.38,3496377590855.26,180183116233.108,1113590353310.08,39007360726.2157,68787243794.4252,3146779448842.99,16502585043944.3,11245018685958.2,75720150966.7908,30376232316.796,299915383430.134,1928523683529.95,359754291811.891,357913391857.31104,173608995860.644,1790476663066.93,28427982204649.8,2602771705160.87,1661453358232.45,8269860730.563391,2013091630421.14,198751229348.882,17023239922.7949,1840300196064.02,4060877113291.21,16670389776.1271],\"sizemode\":\"area\",\"sizeref\":3783796695310.0737,\"symbol\":\"circle\"},\"mode\":\"markers\",\"name\":\"Europe\",\"orientation\":\"v\",\"showlegend\":true,\"x\":[648389315148.397,2752048855762.39,10238464406.4246,21717595676.7248,5295088620.57137,1165066137324.59,1584639814397.93,416017871528.38,3496377590855.26,180183116233.108,1113590353310.08,39007360726.2157,68787243794.4252,3146779448842.99,16502585043944.3,11245018685958.2,75720150966.7908,30376232316.796,299915383430.134,1928523683529.95,359754291811.891,357913391857.31104,173608995860.644,1790476663066.93,28427982204649.8,2602771705160.87,1661453358232.45,8269860730.563391,2013091630421.14,198751229348.882,17023239922.7949,1840300196064.02,4060877113291.21,16670389776.1271],\"xaxis\":\"x\",\"y\":[11.6887397766113,16.148870468139602,19.8227500915527,9.36797046661376,13.0857095718384,11.4508495330811,12.9662199020386,13.5557098388672,13.0583000183105,10.3718299865723,10.9386701583862,12.5490398406982,9.73608016967773,10.8384599685669,11.9592304229736,13.6471099853516,12.6122598648071,8.28234958648682,10.6384401321411,14.2684497833252,12.6905202865601,9.63045978546143,13.0165700912476,13.0336198806763,10.356760025024402,10.3590297698975,9.20516967773438,8.93760013580322,10.2736101150513,12.1146297454834,14.1512699127197,14.8302602767944,9.51578998565674,17.583490371704098],\"yaxis\":\"y\",\"type\":\"scatter\"},{\"hovertemplate\":\"<b>%{hovertext}</b><br><br>Continent_Name=Africa<br>Year=2008<br>gdi_value=%{marker.size}<br>ExpenditureEducationValue=%{y}<extra></extra>\",\"hovertext\":[\"Morocco\",\"Namibia\",\"Niger\",\"Mauritania\",\"Mali\",\"Madagascar\",\"Liberia\",\"Lesotho\",\"Mauritius\",\"Zambia\",\"Tunisia\",\"Togo\",\"Tanzania\",\"Swaziland\",\"South Africa\",\"Sierra Leone\",\"Senegal\",\"Rwanda\",\"Sudan\",\"Central African Republic\",\"Cameroon\",\"Cabo Verde\",\"Burundi\",\"Benin\",\"Algeria\",\"Comoros\",\"Cote d'Ivoire\",\"Guinea\",\"Ghana\",\"Gambia, The\",\"Egypt, Arab Rep.\"],\"ids\":[\"Africa\",\"Africa\",\"Africa\",\"Africa\",\"Africa\",\"Africa\",\"Africa\",\"Africa\",\"Africa\",\"Africa\",\"Africa\",\"Africa\",\"Africa\",\"Africa\",\"Africa\",\"Africa\",\"Africa\",\"Africa\",\"Africa\",\"Africa\",\"Africa\",\"Africa\",\"Africa\",\"Africa\",\"Africa\",\"Africa\",\"Africa\",\"Africa\",\"Africa\",\"Africa\",\"Africa\"],\"legendgroup\":\"Africa\",\"marker\":{\"color\":\"#00cc96\",\"size\":[699327417508.192,79376809072.2293,2074794867082.33,747100784287.827,1459121039865.46,608577019236.07,444181692.27836,9961911235.81558,228445103961.293,84487558927.6421,59212434709.8846,927798066460.4608,28099101682885.0,36643452232.9184,2617510260892.51,6309466246095.64,4394431217731.48,3031961643835.62,25214070159.1395,756599835249.491,8687147313884.07,129752719024.226,1372800971948.49,3005614368136.98,314446231208.38104,89077892241.1717,10848549459600.7,9302833929799.94,21304039011.5037,19117843085.4778,507069051030.925],\"sizemode\":\"area\",\"sizeref\":3783796695310.0737,\"symbol\":\"circle\"},\"mode\":\"markers\",\"name\":\"Africa\",\"orientation\":\"v\",\"showlegend\":true,\"x\":[699327417508.192,79376809072.2293,2074794867082.33,747100784287.827,1459121039865.46,608577019236.07,444181692.27836,9961911235.81558,228445103961.293,84487558927.6421,59212434709.8846,927798066460.4608,28099101682885.0,36643452232.9184,2617510260892.51,6309466246095.64,4394431217731.48,3031961643835.62,25214070159.1395,756599835249.491,8687147313884.07,129752719024.226,1372800971948.49,3005614368136.98,314446231208.38104,89077892241.1717,10848549459600.7,9302833929799.94,21304039011.5037,19117843085.4778,507069051030.925],\"xaxis\":\"x\",\"y\":[17.4706401824951,25.0723495483398,16.1773300170898,13.8801698684692,18.0316905975342,16.2581405639648,10.1141700744629,24.6975498199463,11.955249786377,5.651800155639651,25.3473205566406,19.2456607818604,18.7784099578857,21.8132400512695,17.9063091278076,14.9308996200562,19.226139068603494,15.5908803939819,9.38539981842041,7.86225986480713,15.5886402130127,18.6230792999268,12.6155395507813,19.0885791778564,11.4294099807739,29.2331199645996,21.9425792694092,15.678259849548304,23.606449127197298,18.164909362793,10.4425296783447],\"yaxis\":\"y\",\"type\":\"scatter\"},{\"hovertemplate\":\"<b>%{hovertext}</b><br><br>Continent_Name=Asia<br>Year=2008<br>gdi_value=%{marker.size}<br>ExpenditureEducationValue=%{y}<extra></extra>\",\"hovertext\":[\"Nepal\",\"Pakistan\",\"Malaysia\",\"Lebanon\",\"Lao PDR\",\"Kyrgyz Republic\",\"Philippines\",\"Qatar\",\"Vietnam\",\"Thailand\",\"Tajikistan\",\"Singapore\",\"Russian Federation\",\"Kazakhstan\",\"Bhutan\",\"Bangladesh\",\"Bahrain\",\"Azerbaijan\",\"Armenia\",\"Japan\",\"Israel\",\"Iran, Islamic Rep.\",\"Indonesia\",\"Hong Kong SAR, China\",\"Cyprus\",\"Georgia\"],\"ids\":[\"Asia\",\"Asia\",\"Asia\",\"Asia\",\"Asia\",\"Asia\",\"Asia\",\"Asia\",\"Asia\",\"Asia\",\"Asia\",\"Asia\",\"Asia\",\"Asia\",\"Asia\",\"Asia\",\"Asia\",\"Asia\",\"Asia\",\"Asia\",\"Asia\",\"Asia\",\"Asia\",\"Asia\",\"Asia\",\"Asia\"],\"legendgroup\":\"Asia\",\"marker\":{\"color\":\"#ab63fa\",\"size\":[552254215908.379,8593717964814.91,800596215228.408,38311931837555.0,26923142099208.7,30165817205.9657,5050107094099.52,437636521043.65,1851963978407990.0,7681352043197.24,1146683191.72361,278479625810.835,16502585043944.3,11245018685958.2,37165713208.9686,5364891992633.75,8815411720.28955,30376232316.796,1928523683529.95,483094250883650.0,804794442675.2329,2083082040845130.0,6171632773624670.0,1913444857096.31,16670389776.1271,8269860730.563391],\"sizemode\":\"area\",\"sizeref\":3783796695310.0737,\"symbol\":\"circle\"},\"mode\":\"markers\",\"name\":\"Asia\",\"orientation\":\"v\",\"showlegend\":true,\"x\":[552254215908.379,8593717964814.91,800596215228.408,38311931837555.0,26923142099208.7,30165817205.9657,5050107094099.52,437636521043.65,1851963978407990.0,7681352043197.24,1146683191.72361,278479625810.835,16502585043944.3,11245018685958.2,37165713208.9686,5364891992633.75,8815411720.28955,30376232316.796,1928523683529.95,483094250883650.0,804794442675.2329,2083082040845130.0,6171632773624670.0,1913444857096.31,16670389776.1271,8269860730.563391],\"xaxis\":\"x\",\"y\":[22.114820480346697,14.096960067749,14.038640022277802,5.869770050048831,13.9630098342896,20.172960281372102,14.4419898986816,8.236499786376951,18.0542106628418,17.5441303253174,12.800499916076696,22.8246994018555,11.9592304229736,13.6471099853516,13.134129524231,17.8161907196045,10.5586700439453,8.28234958648682,14.2684497833252,10.3273496627808,13.0475597381592,20.5794296264648,13.674750328064,22.9222297668457,17.583490371704098,8.93760013580322],\"yaxis\":\"y\",\"type\":\"scatter\"},{\"hovertemplate\":\"<b>%{hovertext}</b><br><br>Continent_Name=North America<br>Year=2008<br>gdi_value=%{marker.size}<br>ExpenditureEducationValue=%{y}<extra></extra>\",\"hovertext\":[\"Panama\",\"Mexico\",\"United States\",\"Jamaica\",\"Canada\",\"Belize\",\"Barbados\",\"Guatemala\",\"El Salvador\"],\"ids\":[\"North America\",\"North America\",\"North America\",\"North America\",\"North America\",\"North America\",\"North America\",\"North America\",\"North America\"],\"legendgroup\":\"North America\",\"marker\":{\"color\":\"#FFA15A\",\"size\":[22792620342.2021,12256863645000.0,14942847165288.3,848781858871.595,1677463244361.05,2153947421.90676,950885966.714609,186702462566.772,8712810179.42146],\"sizemode\":\"area\",\"sizeref\":3783796695310.0737,\"symbol\":\"circle\"},\"mode\":\"markers\",\"name\":\"North America\",\"orientation\":\"v\",\"showlegend\":true,\"x\":[22792620342.2021,12256863645000.0,14942847165288.3,848781858871.595,1677463244361.05,2153947421.90676,950885966.714609,186702462566.772,8712810179.42146],\"xaxis\":\"x\",\"y\":[14.8898296356201,18.7323093414307,14.0189504623413,19.1193809509277,12.0665903091431,19.6007194519043,13.4276304244995,23.3481597900391,19.4488296508789],\"yaxis\":\"y\",\"type\":\"scatter\"},{\"hovertemplate\":\"<b>%{hovertext}</b><br><br>Continent_Name=South America<br>Year=2008<br>gdi_value=%{marker.size}<br>ExpenditureEducationValue=%{y}<extra></extra>\",\"hovertext\":[\"Peru\",\"Chile\",\"Brazil\",\"Bolivia\",\"Colombia\",\"Argentina\"],\"ids\":[\"South America\",\"South America\",\"South America\",\"South America\",\"South America\",\"South America\"],\"legendgroup\":\"South America\",\"marker\":{\"color\":\"#19d3f3\",\"size\":[338272088451.25104,93847932008135.7,1638430992820.09,31730648412.0475,417014192479286.0,729693385807.323],\"sizemode\":\"area\",\"sizeref\":3783796695310.0737,\"symbol\":\"circle\"},\"mode\":\"markers\",\"name\":\"South America\",\"orientation\":\"v\",\"showlegend\":true,\"x\":[338272088451.25104,93847932008135.7,1638430992820.09,31730648412.0475,417014192479286.0,729693385807.323],\"xaxis\":\"x\",\"y\":[14.5344200134277,17.4780902862549,14.0822401046753,19.923809051513697,14.6772899627686,16.6255207061768],\"yaxis\":\"y\",\"type\":\"scatter\"}],\"name\":\"2008\"},{\"data\":[{\"hovertemplate\":\"<b>%{hovertext}</b><br><br>Continent_Name=Oceania<br>Year=2009<br>gdi_value=%{marker.size}<br>ExpenditureEducationValue=%{y}<extra></extra>\",\"hovertext\":[\"New Zealand\",\"Vanuatu\",\"Australia\"],\"ids\":[\"Oceania\",\"Oceania\",\"Oceania\"],\"legendgroup\":\"Oceania\",\"marker\":{\"color\":\"#636efa\",\"size\":[194406500864.74695,59524841078.3966,1391158518587.56],\"sizemode\":\"area\",\"sizeref\":3783796695310.0737,\"symbol\":\"circle\"},\"mode\":\"markers\",\"name\":\"Oceania\",\"orientation\":\"v\",\"showlegend\":true,\"x\":[194406500864.74695,59524841078.3966,1391158518587.56],\"xaxis\":\"x\",\"y\":[18.1121196746826,18.7231502532958,13.4150199890137],\"yaxis\":\"y\",\"type\":\"scatter\"},{\"hovertemplate\":\"<b>%{hovertext}</b><br><br>Continent_Name=Europe<br>Year=2009<br>gdi_value=%{marker.size}<br>ExpenditureEducationValue=%{y}<extra></extra>\",\"hovertext\":[\"Netherlands\",\"Norway\",\"Malta\",\"Latvia\",\"Moldova\",\"Poland\",\"Sweden\",\"United Kingdom\",\"Ukraine\",\"Portugal\",\"Spain\",\"Slovenia\",\"Slovak Republic\",\"Serbia\",\"Switzerland\",\"Kazakhstan\",\"Italy\",\"Bulgaria\",\"Belgium\",\"Belarus\",\"Azerbaijan\",\"Austria\",\"Armenia\",\"Croatia\",\"Ireland\",\"Iceland\",\"Hungary\",\"Germany\",\"Cyprus\",\"Georgia\",\"France\",\"Finland\",\"Estonia\",\"Denmark\",\"Czech Republic\"],\"ids\":[\"Europe\",\"Europe\",\"Europe\",\"Europe\",\"Europe\",\"Europe\",\"Europe\",\"Europe\",\"Europe\",\"Europe\",\"Europe\",\"Europe\",\"Europe\",\"Europe\",\"Europe\",\"Europe\",\"Europe\",\"Europe\",\"Europe\",\"Europe\",\"Europe\",\"Europe\",\"Europe\",\"Europe\",\"Europe\",\"Europe\",\"Europe\",\"Europe\",\"Europe\",\"Europe\",\"Europe\",\"Europe\",\"Europe\",\"Europe\",\"Europe\"],\"legendgroup\":\"Europe\",\"marker\":{\"color\":\"#EF553B\",\"size\":[627284443342.088,2510456764657.62,5151305604.434589,18616193771.7257,9734049359.48296,1210284424913.5,3328926428563.68,1525980255625.79,330715192885.287,177243275032.732,1086758729000.94,36699097215.5561,64394884785.5687,3055734210339.98,589192295814.916,9803067098558.79,1593856352430.66,73382742843.8139,359560887121.5,19666403932217.0,25438089055.9494,291422263783.342,1616867908891.67,332993440339.68896,167905528155.87,1641147996436.64,26835209062810.2,2501584394036.89,16366487439.503,7957609497.655641,1966523732066.28,183092445703.875,14541674985.0945,1749563073869.34,3910777164335.48],\"sizemode\":\"area\",\"sizeref\":3783796695310.0737,\"symbol\":\"circle\"},\"mode\":\"markers\",\"name\":\"Europe\",\"orientation\":\"v\",\"showlegend\":true,\"x\":[627284443342.088,2510456764657.62,5151305604.434589,18616193771.7257,9734049359.48296,1210284424913.5,3328926428563.68,1525980255625.79,330715192885.287,177243275032.732,1086758729000.94,36699097215.5561,64394884785.5687,3055734210339.98,589192295814.916,9803067098558.79,1593856352430.66,73382742843.8139,359560887121.5,19666403932217.0,25438089055.9494,291422263783.342,1616867908891.67,332993440339.68896,167905528155.87,1641147996436.64,26835209062810.2,2501584394036.89,16366487439.503,7957609497.655641,1966523732066.28,183092445703.875,14541674985.0945,1749563073869.34,3910777164335.48],\"xaxis\":\"x\",\"y\":[11.4065799713135,15.7609195709229,12.3497400283813,8.9966697692871,21.0141201019287,11.1392803192139,13.2163600921631,12.6069803237915,15.0573701858521,11.0748100280762,10.6355199813843,12.3041801452637,9.18132972717285,10.9367704391479,16.1419696807861,13.0409002304077,8.867170333862301,12.656749725341802,12.026309967041,9.78505992889404,9.54358005523682,10.6606302261353,13.4512195587158,9.30414009094238,13.043140411377,15.1677703857422,9.94991970062256,10.4751501083374,17.1792907714844,8.998250007629391,10.1098804473877,11.8384304046631,13.4590301513672,14.9441699981689,9.7614402770996],\"yaxis\":\"y\",\"type\":\"scatter\"},{\"hovertemplate\":\"<b>%{hovertext}</b><br><br>Continent_Name=Africa<br>Year=2009<br>gdi_value=%{marker.size}<br>ExpenditureEducationValue=%{y}<extra></extra>\",\"hovertext\":[\"Morocco\",\"Niger\",\"Mali\",\"Mauritius\",\"Madagascar\",\"Senegal\",\"Uganda\",\"Tunisia\",\"Togo\",\"Tanzania\",\"Swaziland\",\"Sudan\",\"South Africa\",\"Sierra Leone\",\"Burundi\",\"Cameroon\",\"Cabo Verde\",\"Botswana\",\"Benin\",\"Central African Republic\",\"Guinea\",\"Ghana\",\"Gambia, The\"],\"ids\":[\"Africa\",\"Africa\",\"Africa\",\"Africa\",\"Africa\",\"Africa\",\"Africa\",\"Africa\",\"Africa\",\"Africa\",\"Africa\",\"Africa\",\"Africa\",\"Africa\",\"Africa\",\"Africa\",\"Africa\",\"Africa\",\"Africa\",\"Africa\",\"Africa\",\"Africa\",\"Africa\"],\"legendgroup\":\"Africa\",\"marker\":{\"color\":\"#00cc96\",\"size\":[724876742804.636,2110499942432.54,1553303971825.89,232290438842.46,578282186568.674,4561360618696.37,38235379965930.2,60251622697.7504,985287991207.682,29770537767783.7,37003475368.0779,23371960378.6295,2625891554264.34,6615376960445.2,1425284440049.78,8852834151039.94,129880142304.155,60111617172.0453,3094524893852.69,790132977305.227,8589526102734.98,22336362247.6147,20396041824.0613],\"sizemode\":\"area\",\"sizeref\":3783796695310.0737,\"symbol\":\"circle\"},\"mode\":\"markers\",\"name\":\"Africa\",\"orientation\":\"v\",\"showlegend\":true,\"x\":[724876742804.636,2110499942432.54,1553303971825.89,232290438842.46,578282186568.674,4561360618696.37,38235379965930.2,60251622697.7504,985287991207.682,29770537767783.7,37003475368.0779,23371960378.6295,2625891554264.34,6615376960445.2,1425284440049.78,8852834151039.94,129880142304.155,60111617172.0453,3094524893852.69,790132977305.227,8589526102734.98,22336362247.6147,20396041824.0613],\"xaxis\":\"x\",\"y\":[17.2952899932861,18.9129390716553,16.9594097137451,11.6479301452637,22.5858306884766,20.8808307647705,15.9659004211426,26.400630950927702,19.3719806671143,17.4109191894531,19.3863792419434,10.7707004547119,18.3062591552734,15.8964595794678,16.3016891479492,19.7797908782958,16.1689205169678,20.4773998260498,18.1756191253662,7.83038997650146,13.583399772644,22.675989151001,13.293740272522],\"yaxis\":\"y\",\"type\":\"scatter\"},{\"hovertemplate\":\"<b>%{hovertext}</b><br><br>Continent_Name=Asia<br>Year=2009<br>gdi_value=%{marker.size}<br>ExpenditureEducationValue=%{y}<extra></extra>\",\"hovertext\":[\"Nepal\",\"Oman\",\"Pakistan\",\"Mongolia\",\"Malaysia\",\"Macao SAR, China\",\"Lebanon\",\"Kyrgyz Republic\",\"Philippines\",\"Kazakhstan\",\"Thailand\",\"Tajikistan\",\"Singapore\",\"Bhutan\",\"Bangladesh\",\"Azerbaijan\",\"Armenia\",\"Iran, Islamic Rep.\",\"Indonesia\",\"India\",\"Hong Kong SAR, China\",\"Israel\",\"Cyprus\",\"Georgia\"],\"ids\":[\"Asia\",\"Asia\",\"Asia\",\"Asia\",\"Asia\",\"Asia\",\"Asia\",\"Asia\",\"Asia\",\"Asia\",\"Asia\",\"Asia\",\"Asia\",\"Asia\",\"Asia\",\"Asia\",\"Asia\",\"Asia\",\"Asia\",\"Asia\",\"Asia\",\"Asia\",\"Asia\",\"Asia\"],\"legendgroup\":\"Asia\",\"marker\":{\"color\":\"#ab63fa\",\"size\":[578157184293.038,19102143592.9258,8873000937110.8,8801350469521.8,770188254450.966,200629517336.244,43166408407780.7,30899108274.198,5186097040352.77,9803067098558.79,7747328192474.23,1286288663.71664,279153722671.06,40662248043.6952,5647044740979.24,25438089055.9494,1616867908891.67,2039442901967930.0,6497583812494850.0,74906777666611.8,1875258508659.2,837181200599.74,16366487439.503,7957609497.655641],\"sizemode\":\"area\",\"sizeref\":3783796695310.0737,\"symbol\":\"circle\"},\"mode\":\"markers\",\"name\":\"Asia\",\"orientation\":\"v\",\"showlegend\":true,\"x\":[578157184293.038,19102143592.9258,8873000937110.8,8801350469521.8,770188254450.966,200629517336.244,43166408407780.7,30899108274.198,5186097040352.77,9803067098558.79,7747328192474.23,1286288663.71664,279153722671.06,40662248043.6952,5647044740979.24,25438089055.9494,1616867908891.67,2039442901967930.0,6497583812494850.0,74906777666611.8,1875258508659.2,837181200599.74,16366487439.503,7957609497.655641],\"xaxis\":\"x\",\"y\":[19.8475303649902,10.949179649353,12.082630157470698,14.511420249939,18.4646301269531,12.9088201522827,5.502999782562259,18.1331005096436,13.2111597061157,13.0409002304077,17.562519073486303,14.312159538269,17.5252895355225,13.1167697906494,14.029870033264196,9.54358005523682,13.4512195587158,18.0235404968262,19.3084392547607,10.8218402862549,23.7995090484619,12.9191598892212,17.1792907714844,8.998250007629391],\"yaxis\":\"y\",\"type\":\"scatter\"},{\"hovertemplate\":\"<b>%{hovertext}</b><br><br>Continent_Name=North America<br>Year=2009<br>gdi_value=%{marker.size}<br>ExpenditureEducationValue=%{y}<extra></extra>\",\"hovertext\":[\"Mexico\",\"United States\",\"Canada\",\"Barbados\",\"Jamaica\",\"Belize\",\"El Salvador\"],\"ids\":[\"North America\",\"North America\",\"North America\",\"North America\",\"North America\",\"North America\",\"North America\"],\"legendgroup\":\"North America\",\"marker\":{\"color\":\"#FFA15A\",\"size\":[11550460116238.1,14619236850761.1,1587174504451.33,976743094.597898,812818036036.778,2066998780.69045,8484617489.29993],\"sizemode\":\"area\",\"sizeref\":3783796695310.0737,\"symbol\":\"circle\"},\"mode\":\"markers\",\"name\":\"North America\",\"orientation\":\"v\",\"showlegend\":true,\"x\":[11550460116238.1,14619236850761.1,1587174504451.33,976743094.597898,812818036036.778,2066998780.69045,8484617489.29993],\"xaxis\":\"x\",\"y\":[19.217950820922898,12.7826099395752,12.48876953125,13.8427600860596,17.5528392791748,21.7700290679932,18.5469799041748],\"yaxis\":\"y\",\"type\":\"scatter\"},{\"hovertemplate\":\"<b>%{hovertext}</b><br><br>Continent_Name=South America<br>Year=2009<br>gdi_value=%{marker.size}<br>ExpenditureEducationValue=%{y}<extra></extra>\",\"hovertext\":[\"Peru\",\"Venezuela, RB\",\"Brazil\",\"Bolivia\",\"Argentina\",\"Chile\",\"Colombia\"],\"ids\":[\"South America\",\"South America\",\"South America\",\"South America\",\"South America\",\"South America\",\"South America\"],\"legendgroup\":\"South America\",\"marker\":{\"color\":\"#19d3f3\",\"size\":[340481107288.282,67098413340.3815,1630322300663.46,31776233015.5812,727873935520.5559,94756828120840.4,417912788520425.0],\"sizemode\":\"area\",\"sizeref\":3783796695310.0737,\"symbol\":\"circle\"},\"mode\":\"markers\",\"name\":\"South America\",\"orientation\":\"v\",\"showlegend\":true,\"x\":[340481107288.282,67098413340.3815,1630322300663.46,31776233015.5812,727873935520.5559,94756828120840.4,417912788520425.0],\"xaxis\":\"x\",\"y\":[14.6187200546265,20.6635799407958,14.724029541015598,22.5608406066895,16.6149005889893,17.18869972229,16.081169128418],\"yaxis\":\"y\",\"type\":\"scatter\"}],\"name\":\"2009\"},{\"data\":[{\"hovertemplate\":\"<b>%{hovertext}</b><br><br>Continent_Name=Oceania<br>Year=2010<br>gdi_value=%{marker.size}<br>ExpenditureEducationValue=%{y}<extra></extra>\",\"hovertext\":[\"New Zealand\",\"Australia\"],\"ids\":[\"Oceania\",\"Oceania\"],\"legendgroup\":\"Oceania\",\"marker\":{\"color\":\"#636efa\",\"size\":[201630122100.0,1408005385648.56],\"sizemode\":\"area\",\"sizeref\":3783796695310.0737,\"symbol\":\"circle\"},\"mode\":\"markers\",\"name\":\"Oceania\",\"orientation\":\"v\",\"showlegend\":true,\"x\":[201630122100.0,1408005385648.56],\"xaxis\":\"x\",\"y\":[19.4754695892333,14.327599525451696],\"yaxis\":\"y\",\"type\":\"scatter\"},{\"hovertemplate\":\"<b>%{hovertext}</b><br><br>Continent_Name=Europe<br>Year=2010<br>gdi_value=%{marker.size}<br>ExpenditureEducationValue=%{y}<extra></extra>\",\"hovertext\":[\"Netherlands\",\"Norway\",\"Moldova\",\"Malta\",\"Latvia\",\"Poland\",\"United Kingdom\",\"Switzerland\",\"Sweden\",\"Spain\",\"Slovenia\",\"Slovak Republic\",\"Serbia\",\"Portugal\",\"Ireland\",\"Bulgaria\",\"Belgium\",\"Belarus\",\"Azerbaijan\",\"Austria\",\"Italy\",\"Armenia\",\"Iceland\",\"Hungary\",\"Germany\",\"Finland\",\"Estonia\",\"Denmark\",\"Czech Republic\",\"Cyprus\",\"Croatia\",\"France\"],\"ids\":[\"Europe\",\"Europe\",\"Europe\",\"Europe\",\"Europe\",\"Europe\",\"Europe\",\"Europe\",\"Europe\",\"Europe\",\"Europe\",\"Europe\",\"Europe\",\"Europe\",\"Europe\",\"Europe\",\"Europe\",\"Europe\",\"Europe\",\"Europe\",\"Europe\",\"Europe\",\"Europe\",\"Europe\",\"Europe\",\"Europe\",\"Europe\",\"Europe\",\"Europe\",\"Europe\",\"Europe\",\"Europe\"],\"legendgroup\":\"Europe\",\"marker\":{\"color\":\"#EF553B\",\"size\":[631512000000.0,2590089000000.0,10323943329.1099,5348342269.71068,17921450000.0,1246522672255.61,1555548000000.0,606145691100.0,3519994000000.0,1080913000000.0,36252430000.0,67387142000.0,3067210200000.0,179929812000.0,166157466400.0,73780127000.0,365101000000.0,21367624184278.7,27190306690.26,294627500000.0,1605694419600.0,1683004890405.32,1618101000000.0,27051695000000.0,2580060000000.0,187100000000.0,14718470000.0,1798649000000.0,3953651000000.0,16582506626.3224,328040520200.0,1998481000000.0],\"sizemode\":\"area\",\"sizeref\":3783796695310.0737,\"symbol\":\"circle\"},\"mode\":\"markers\",\"name\":\"Europe\",\"orientation\":\"v\",\"showlegend\":true,\"x\":[631512000000.0,2590089000000.0,10323943329.1099,5348342269.71068,17921450000.0,1246522672255.61,1555548000000.0,606145691100.0,3519994000000.0,1080913000000.0,36252430000.0,67387142000.0,3067210200000.0,179929812000.0,166157466400.0,73780127000.0,365101000000.0,21367624184278.7,27190306690.26,294627500000.0,1605694419600.0,1683004890405.32,1618101000000.0,27051695000000.0,2580060000000.0,187100000000.0,14718470000.0,1798649000000.0,3953651000000.0,16582506626.3224,328040520200.0,1998481000000.0],\"xaxis\":\"x\",\"y\":[11.524359703064,15.30601978302,22.3360996246338,15.7308197021484,8.12263965606689,11.1089200973511,12.9603700637817,15.9490003585815,13.3455400466919,10.5639801025391,12.080189704895,9.85752964019775,10.5135498046875,10.4265604019165,9.29551029205322,11.1634197235107,12.2237396240234,12.8646297454834,8.77910995483398,10.8581695556641,8.723950386047362,12.4005098342896,14.6101303100586,9.684980392456051,10.6165800094604,11.9561100006104,13.681799888610804,15.1033401489258,9.71249961853027,15.6823396682739,9.08259010314941,10.0691299438477],\"yaxis\":\"y\",\"type\":\"scatter\"},{\"hovertemplate\":\"<b>%{hovertext}</b><br><br>Continent_Name=Africa<br>Year=2010<br>gdi_value=%{marker.size}<br>ExpenditureEducationValue=%{y}<extra></extra>\",\"hovertext\":[\"Namibia\",\"Niger\",\"Malawi\",\"Mauritania\",\"Mali\",\"Kenya\",\"Mauritius\",\"Zimbabwe\",\"Uganda\",\"Tunisia\",\"Togo\",\"Tanzania\",\"Swaziland\",\"South Africa\",\"Sierra Leone\",\"Senegal\",\"Rwanda\",\"Cameroon\",\"Cabo Verde\",\"Burundi\",\"Burkina Faso\",\"Benin\",\"Central African Republic\",\"Guinea\",\"Ghana\",\"Gambia, The\",\"Congo, Rep.\"],\"ids\":[\"Africa\",\"Africa\",\"Africa\",\"Africa\",\"Africa\",\"Africa\",\"Africa\",\"Africa\",\"Africa\",\"Africa\",\"Africa\",\"Africa\",\"Africa\",\"Africa\",\"Africa\",\"Africa\",\"Africa\",\"Africa\",\"Africa\",\"Africa\",\"Africa\",\"Africa\",\"Africa\",\"Africa\",\"Africa\",\"Africa\",\"Africa\"],\"legendgroup\":\"Africa\",\"marker\":{\"color\":\"#00cc96\",\"size\":[82599109945.8435,2268089944345.03,756557395511.91,861059779913.2421,1602500901869.16,3067834426037.32,232213797755.387,8987403725.69678,40946469965300.0,63054787097.9235,1002233090522.54,31935819198481.9,37356579909.8716,2748008332300.0,7112997928089.65,4687194892795.57,3566941872981.7,9239151898347.06,131102747833.186,1537674976179.24,3585914678540.59,3181401308003.74,814540923599.49,9083544341049.48,23599010724.5266,21633302975.9259,2271498942238.76],\"sizemode\":\"area\",\"sizeref\":3783796695310.0737,\"symbol\":\"circle\"},\"mode\":\"markers\",\"name\":\"Africa\",\"orientation\":\"v\",\"showlegend\":true,\"x\":[82599109945.8435,2268089944345.03,756557395511.91,861059779913.2421,1602500901869.16,3067834426037.32,232213797755.387,8987403725.69678,40946469965300.0,63054787097.9235,1002233090522.54,31935819198481.9,37356579909.8716,2748008332300.0,7112997928089.65,4687194892795.57,3566941872981.7,9239151898347.06,131102747833.186,1537674976179.24,3585914678540.59,3181401308003.74,814540923599.49,9083544341049.48,23599010724.5266,21633302975.9259,2271498942238.76],\"xaxis\":\"x\",\"y\":[26.193250656127898,18.104040145874,10.8215398788452,16.0350208282471,16.5039100646973,20.5559902191162,14.5731496810913,8.72091007232666,13.5175695419312,25.5817394256592,19.6157608032227,19.6480102539063,18.2830295562744,18.0443706512451,12.801910400390598,20.723180770874,17.3757591247559,18.7538890838623,14.396240234375,16.5881004333496,17.2508106231689,26.1439609527588,6.475520133972171,12.4383201599121,21.244220733642603,17.3059196472168,29.0183601379395],\"yaxis\":\"y\",\"type\":\"scatter\"},{\"hovertemplate\":\"<b>%{hovertext}</b><br><br>Continent_Name=Asia<br>Year=2010<br>gdi_value=%{marker.size}<br>ExpenditureEducationValue=%{y}<extra></extra>\",\"hovertext\":[\"Mongolia\",\"Nepal\",\"Pakistan\",\"Malaysia\",\"Macao SAR, China\",\"Lebanon\",\"Lao PDR\",\"Kyrgyz Republic\",\"Japan\",\"Vietnam\",\"Thailand\",\"Tajikistan\",\"Singapore\",\"Israel\",\"Cambodia\",\"Brunei Darussalam\",\"Bhutan\",\"Azerbaijan\",\"Armenia\",\"Indonesia\",\"India\",\"Hong Kong SAR, China\",\"Iran, Islamic Rep.\",\"Cyprus\"],\"ids\":[\"Asia\",\"Asia\",\"Asia\",\"Asia\",\"Asia\",\"Asia\",\"Asia\",\"Asia\",\"Asia\",\"Asia\",\"Asia\",\"Asia\",\"Asia\",\"Asia\",\"Asia\",\"Asia\",\"Asia\",\"Asia\",\"Asia\",\"Asia\",\"Asia\",\"Asia\",\"Asia\",\"Asia\"],\"legendgroup\":\"Asia\",\"marker\":{\"color\":\"#ab63fa\",\"size\":[9756588429833.16,611054708239.098,8996297304726.64,821435000000.0,255606409053.965,46111262646118.7,31410785571577.6,30559891207.1627,482384400000000.0,2157828000000000.0,8353821189094.91,1427732972.83246,322361100000.0,876130000000.0,31596979681889.5,19729102167.8845,45431459787.8232,27190306690.26,1683004890405.32,6864133100000010.0,82983741955085.1,1965211605363.37,2238002738321870.0,16582506626.3224],\"sizemode\":\"area\",\"sizeref\":3783796695310.0737,\"symbol\":\"circle\"},\"mode\":\"markers\",\"name\":\"Asia\",\"orientation\":\"v\",\"showlegend\":true,\"x\":[9756588429833.16,611054708239.098,8996297304726.64,821435000000.0,255606409053.965,46111262646118.7,31410785571577.6,30559891207.1627,482384400000000.0,2157828000000000.0,8353821189094.91,1427732972.83246,322361100000.0,876130000000.0,31596979681889.5,19729102167.8845,45431459787.8232,27190306690.26,1683004890405.32,6864133100000010.0,82983741955085.1,1965211605363.37,2238002738321870.0,16582506626.3224],\"xaxis\":\"x\",\"y\":[14.7111396789551,20.8135204315186,11.9250898361206,18.406230926513697,15.672679901123,5.5342898368835405,11.8929796218872,15.684760093689,9.45757961273193,20.9394302368164,16.4613208770752,15.3314504623413,16.5565891265869,13.2593202590942,13.0835800170898,5.291540145874019,8.24322986602783,8.77910995483398,12.4005098342896,16.6541805267333,11.7427797317505,19.9095497131348,18.804349899292,15.6823396682739],\"yaxis\":\"y\",\"type\":\"scatter\"},{\"hovertemplate\":\"<b>%{hovertext}</b><br><br>Continent_Name=North America<br>Year=2010<br>gdi_value=%{marker.size}<br>ExpenditureEducationValue=%{y}<extra></extra>\",\"hovertext\":[\"Nicaragua\",\"Mexico\",\"United States\",\"Jamaica\",\"Canada\",\"Barbados\",\"Belize\",\"Guatemala\",\"El Salvador\"],\"ids\":[\"North America\",\"North America\",\"North America\",\"North America\",\"North America\",\"North America\",\"North America\",\"North America\",\"North America\"],\"legendgroup\":\"North America\",\"marker\":{\"color\":\"#FFA15A\",\"size\":[137078379320.272,12175363417496.9,14964372000000.0,799136855997.966,1662757000000.0,923018750.0,2183004922.03179,198200406041.19,8546138213.915979],\"sizemode\":\"area\",\"sizeref\":3783796695310.0737,\"symbol\":\"circle\"},\"mode\":\"markers\",\"name\":\"North America\",\"orientation\":\"v\",\"showlegend\":true,\"x\":[137078379320.272,12175363417496.9,14964372000000.0,799136855997.966,1662757000000.0,923018750.0,2183004922.03179,198200406041.19,8546138213.915979],\"xaxis\":\"x\",\"y\":[22.7536697387695,19.319980621337898,13.0375699996948,16.1029396057129,12.3878898620605,15.5602397918701,23.0520801544189,19.2969207763672,16.1642208099365],\"yaxis\":\"y\",\"type\":\"scatter\"},{\"hovertemplate\":\"<b>%{hovertext}</b><br><br>Continent_Name=South America<br>Year=2010<br>gdi_value=%{marker.size}<br>ExpenditureEducationValue=%{y}<extra></extra>\",\"hovertext\":[\"Paraguay\",\"Peru\",\"Brazil\",\"Bolivia\",\"Argentina\",\"Colombia\",\"Chile\",\"Ecuador\"],\"ids\":[\"South America\",\"South America\",\"South America\",\"South America\",\"South America\",\"South America\",\"South America\",\"South America\"],\"legendgroup\":\"South America\",\"marker\":{\"color\":\"#19d3f3\",\"size\":[22631754357341.0,387545183826.74896,1788965701454.38,34378858069.7299,803951689900.6659,443448158101338.0,107080954612620.0,56479739053.3248],\"sizemode\":\"area\",\"sizeref\":3783796695310.0737,\"symbol\":\"circle\"},\"mode\":\"markers\",\"name\":\"South America\",\"orientation\":\"v\",\"showlegend\":true,\"x\":[22631754357341.0,387545183826.74896,1788965701454.38,34378858069.7299,803951689900.6659,443448158101338.0,107080954612620.0,56479739053.3248],\"xaxis\":\"x\",\"y\":[15.7070302963257,13.6427001953125,14.559889793396,24.1277904510498,15.570460319519,16.4185791015625,17.5140209197998,11.7518301010132],\"yaxis\":\"y\",\"type\":\"scatter\"}],\"name\":\"2010\"},{\"data\":[{\"hovertemplate\":\"<b>%{hovertext}</b><br><br>Continent_Name=Oceania<br>Year=2011<br>gdi_value=%{marker.size}<br>ExpenditureEducationValue=%{y}<extra></extra>\",\"hovertext\":[\"New Zealand\",\"Australia\"],\"ids\":[\"Oceania\",\"Oceania\"],\"legendgroup\":\"Oceania\",\"marker\":{\"color\":\"#636efa\",\"size\":[207023265940.814,1496979535887.82],\"sizemode\":\"area\",\"sizeref\":3783796695310.0737,\"symbol\":\"circle\"},\"mode\":\"markers\",\"name\":\"Oceania\",\"orientation\":\"v\",\"showlegend\":true,\"x\":[207023265940.814,1496979535887.82],\"xaxis\":\"x\",\"y\":[17.8662490844727,13.5020198822021],\"yaxis\":\"y\",\"type\":\"scatter\"},{\"hovertemplate\":\"<b>%{hovertext}</b><br><br>Continent_Name=Europe<br>Year=2011<br>gdi_value=%{marker.size}<br>ExpenditureEducationValue=%{y}<extra></extra>\",\"hovertext\":[\"Moldova\",\"Norway\",\"Netherlands\",\"Latvia\",\"Spain\",\"Italy\",\"United Kingdom\",\"Ukraine\",\"Switzerland\",\"Sweden\",\"Slovenia\",\"Slovak Republic\",\"Serbia\",\"Portugal\",\"Poland\",\"Bulgaria\",\"Belgium\",\"Belarus\",\"Azerbaijan\",\"Austria\",\"Armenia\",\"Ireland\",\"Cyprus\",\"Croatia\",\"Iceland\",\"Hungary\",\"Germany\",\"France\",\"Finland\",\"Estonia\",\"Denmark\",\"Georgia\",\"Czech Republic\"],\"ids\":[\"Europe\",\"Europe\",\"Europe\",\"Europe\",\"Europe\",\"Europe\",\"Europe\",\"Europe\",\"Europe\",\"Europe\",\"Europe\",\"Europe\",\"Europe\",\"Europe\",\"Europe\",\"Europe\",\"Europe\",\"Europe\",\"Europe\",\"Europe\",\"Europe\",\"Europe\",\"Europe\",\"Europe\",\"Europe\",\"Europe\",\"Europe\",\"Europe\",\"Europe\",\"Europe\",\"Europe\",\"Europe\",\"Europe\"],\"legendgroup\":\"Europe\",\"marker\":{\"color\":\"#EF553B\",\"size\":[10494000510.2499,2708530364683.53,634778728220.3579,19361813060.7312,1059022267460.37,1603977501976.16,1581434077548.22,377368758227.8471,615134055310.795,3599792247175.7,36140263426.4601,68545584061.5838,3140705985647.4,175500320276.544,1300826959062.9,76655590563.2942,368141850444.855,25345016673211.7,31153685705.1754,300194644330.745,1730717031044.67,168870688455.539,16594193754.8951,327385458484.69604,1626230514046.2,27194539783070.5,2642496112655.19,2026884809495.1,190750670602.275,15894270150.158,1798852723454.38,9063975432.11353,3987216529154.01],\"sizemode\":\"area\",\"sizeref\":3783796695310.0737,\"symbol\":\"circle\"},\"mode\":\"markers\",\"name\":\"Europe\",\"orientation\":\"v\",\"showlegend\":true,\"x\":[10494000510.2499,2708530364683.53,634778728220.3579,19361813060.7312,1059022267460.37,1603977501976.16,1581434077548.22,377368758227.8471,615134055310.795,3599792247175.7,36140263426.4601,68545584061.5838,3140705985647.4,175500320276.544,1300826959062.9,76655590563.2942,368141850444.855,25345016673211.7,31153685705.1754,300194644330.745,1730717031044.67,168870688455.539,16594193754.8951,327385458484.69604,1626230514046.2,27194539783070.5,2642496112655.19,2026884809495.1,190750670602.275,15894270150.158,1798852723454.38,9063975432.11353,3987216529154.01],\"xaxis\":\"x\",\"y\":[21.9582004547119,15.010930061340302,11.7542295455933,8.94204998016357,10.6610097885132,8.430210113525389,12.716420173645,13.4843196868896,15.8985204696655,13.2463998794556,12.0716800689697,9.83438014984131,10.6035203933716,10.2466802597046,11.063289642334,11.1000499725342,11.954700469970698,14.0311603546143,7.30383014678955,11.045390129089402,12.5933399200439,12.6826496124268,15.5367097854614,8.62063026428223,15.4157695770264,9.35004997253417,11.0262298583984,9.86394023895264,11.9230003356934,13.4126501083374,15.036259651184098,9.26943016052246,10.4440898895264],\"yaxis\":\"y\",\"type\":\"scatter\"},{\"hovertemplate\":\"<b>%{hovertext}</b><br><br>Continent_Name=Africa<br>Year=2011<br>gdi_value=%{marker.size}<br>ExpenditureEducationValue=%{y}<extra></extra>\",\"hovertext\":[\"Mauritius\",\"Niger\",\"Mauritania\",\"Malawi\",\"Madagascar\",\"Mali\",\"Uganda\",\"Togo\",\"South Africa\",\"Rwanda\",\"Swaziland\",\"Cameroon\",\"Central African Republic\",\"Cabo Verde\",\"Burundi\",\"Burkina Faso\",\"Guinea\",\"Ghana\",\"Gambia, The\"],\"ids\":[\"Africa\",\"Africa\",\"Africa\",\"Africa\",\"Africa\",\"Africa\",\"Africa\",\"Africa\",\"Africa\",\"Africa\",\"Africa\",\"Africa\",\"Africa\",\"Africa\",\"Africa\",\"Africa\",\"Africa\",\"Africa\",\"Africa\"],\"legendgroup\":\"Africa\",\"marker\":{\"color\":\"#00cc96\",\"size\":[239246516702.9,2325646637060.68,930857338420.735,789448691927.755,610723341698.094,1658002167492.87,45035374182561.2,1035754935605.08,2871643720776.73,3846000000000.0,36037249349.3042,9655092464630.03,842700251005.239,135624374476.17,1585653602608.31,3937383591269.03,9085952958008.25,27486102081.4158,20697089132.8046],\"sizemode\":\"area\",\"sizeref\":3783796695310.0737,\"symbol\":\"circle\"},\"mode\":\"markers\",\"name\":\"Africa\",\"orientation\":\"v\",\"showlegend\":true,\"x\":[239246516702.9,2325646637060.68,930857338420.735,789448691927.755,610723341698.094,1658002167492.87,45035374182561.2,1035754935605.08,2871643720776.73,3846000000000.0,36037249349.3042,9655092464630.03,842700251005.239,135624374476.17,1585653602608.31,3937383591269.03,9085952958008.25,27486102081.4158,20697089132.8046],\"xaxis\":\"x\",\"y\":[13.846170425415002,21.675809860229503,13.6826601028442,14.6596097946166,19.7796993255615,18.2702503204346,13.315460205078098,18.634939193725604,18.9216194152832,15.3851003646851,22.356309890747102,14.8677701950073,7.8254599571228,15.1532802581787,14.9792995452881,20.3136405944824,14.2593097686768,30.7698097229004,15.1183300018311],\"yaxis\":\"y\",\"type\":\"scatter\"},{\"hovertemplate\":\"<b>%{hovertext}</b><br><br>Continent_Name=Asia<br>Year=2011<br>gdi_value=%{marker.size}<br>ExpenditureEducationValue=%{y}<extra></extra>\",\"hovertext\":[\"Mongolia\",\"Macao SAR, China\",\"Malaysia\",\"Lebanon\",\"Kyrgyz Republic\",\"Japan\",\"Pakistan\",\"Thailand\",\"Tajikistan\",\"Singapore\",\"Israel\",\"Iran, Islamic Rep.\",\"Brunei Darussalam\",\"Bhutan\",\"Armenia\",\"Azerbaijan\",\"Indonesia\",\"India\",\"Georgia\",\"Hong Kong SAR, China\",\"Cyprus\"],\"ids\":[\"Asia\",\"Asia\",\"Asia\",\"Asia\",\"Asia\",\"Asia\",\"Asia\",\"Asia\",\"Asia\",\"Asia\",\"Asia\",\"Asia\",\"Asia\",\"Asia\",\"Asia\",\"Asia\",\"Asia\",\"Asia\",\"Asia\",\"Asia\",\"Asia\"],\"legendgroup\":\"Asia\",\"marker\":{\"color\":\"#ab63fa\",\"size\":[11895581040553.1,308124462949.86896,879743927854.913,46368697108047.0,32671981825.7157,474642536731659.0,9276102207495.49,8209028799258.93,1454533751.66208,332939054236.283,909014200713.334,2395930536772860.0,22655842845.9421,49017280503.6908,1730717031044.67,31153685705.1754,7325702982341421.0,88320115262326.3,9063975432.11353,2045767287762.18,16594193754.8951],\"sizemode\":\"area\",\"sizeref\":3783796695310.0737,\"symbol\":\"circle\"},\"mode\":\"markers\",\"name\":\"Asia\",\"orientation\":\"v\",\"showlegend\":true,\"x\":[11895581040553.1,308124462949.86896,879743927854.913,46368697108047.0,32671981825.7157,474642536731659.0,9276102207495.49,8209028799258.93,1454533751.66208,332939054236.283,909014200713.334,2395930536772860.0,22655842845.9421,49017280503.6908,1730717031044.67,31153685705.1754,7325702982341421.0,88320115262326.3,9063975432.11353,2045767287762.18,16594193754.8951],\"xaxis\":\"x\",\"y\":[12.1508502960205,16.1378707885742,20.9770202636719,5.73380994796753,18.172700881958,9.70960998535156,10.979419708252,21.9537200927734,14.560509681701696,20.6166305541992,13.4908199310303,19.1266994476318,9.18218994140625,11.3027896881104,12.5933399200439,7.30383014678955,18.0618591308594,14.1536197662354,9.26943016052246,20.1483898162842,15.5367097854614],\"yaxis\":\"y\",\"type\":\"scatter\"},{\"hovertemplate\":\"<b>%{hovertext}</b><br><br>Continent_Name=North America<br>Year=2011<br>gdi_value=%{marker.size}<br>ExpenditureEducationValue=%{y}<extra></extra>\",\"hovertext\":[\"Mexico\",\"Jamaica\",\"Panama\",\"United States\",\"Canada\",\"Guatemala\",\"El Salvador\"],\"ids\":[\"North America\",\"North America\",\"North America\",\"North America\",\"North America\",\"North America\",\"North America\"],\"legendgroup\":\"North America\",\"marker\":{\"color\":\"#FFA15A\",\"size\":[12643473649390.6,803044855030.572,28105500064.9963,15180634027039.8,1729819191734.13,208642575571.505,8714676293.36692],\"sizemode\":\"area\",\"sizeref\":3783796695310.0737,\"symbol\":\"circle\"},\"mode\":\"markers\",\"name\":\"North America\",\"orientation\":\"v\",\"showlegend\":true,\"x\":[12643473649390.6,803044855030.572,28105500064.9963,15180634027039.8,1729819191734.13,208642575571.505,8714676293.36692],\"xaxis\":\"x\",\"y\":[19.0880508422852,18.5819301605225,13.0197200775146,12.9089603424072,12.2270803451538,20.246410369873,15.872579574584998],\"yaxis\":\"y\",\"type\":\"scatter\"},{\"hovertemplate\":\"<b>%{hovertext}</b><br><br>Continent_Name=South America<br>Year=2011<br>gdi_value=%{marker.size}<br>ExpenditureEducationValue=%{y}<extra></extra>\",\"hovertext\":[\"Peru\",\"Paraguay\",\"Uruguay\",\"Brazil\",\"Bolivia\",\"Argentina\",\"Chile\",\"Colombia\",\"Ecuador\"],\"ids\":[\"South America\",\"South America\",\"South America\",\"South America\",\"South America\",\"South America\",\"South America\",\"South America\",\"South America\"],\"legendgroup\":\"South America\",\"marker\":{\"color\":\"#19d3f3\",\"size\":[420667325489.123,23813132871540.7,625043685496.652,1882147686450.33,37048759891.3164,887759835442.0591,113169458081372.0,487204427186352.0,61980999335.0517],\"sizemode\":\"area\",\"sizeref\":3783796695310.0737,\"symbol\":\"circle\"},\"mode\":\"markers\",\"name\":\"South America\",\"orientation\":\"v\",\"showlegend\":true,\"x\":[420667325489.123,23813132871540.7,625043685496.652,1882147686450.33,37048759891.3164,887759835442.0591,113169458081372.0,487204427186352.0,61980999335.0517],\"xaxis\":\"x\",\"y\":[13.525050163269,18.6604595184326,14.9258899688721,15.2692899703979,19.4831104278564,15.7295503616333,17.5041103363037,15.5291404724121,10.9646701812744],\"yaxis\":\"y\",\"type\":\"scatter\"}],\"name\":\"2011\"},{\"data\":[{\"hovertemplate\":\"<b>%{hovertext}</b><br><br>Continent_Name=Oceania<br>Year=2012<br>gdi_value=%{marker.size}<br>ExpenditureEducationValue=%{y}<extra></extra>\",\"hovertext\":[\"New Zealand\",\"Australia\"],\"ids\":[\"Oceania\",\"Oceania\"],\"legendgroup\":\"Oceania\",\"marker\":{\"color\":\"#636efa\",\"size\":[208664756197.44,1553394992997.73],\"sizemode\":\"area\",\"sizeref\":3783796695310.0737,\"symbol\":\"circle\"},\"mode\":\"markers\",\"name\":\"Oceania\",\"orientation\":\"v\",\"showlegend\":true,\"x\":[208664756197.44,1553394992997.73],\"xaxis\":\"x\",\"y\":[18.6658706665039,13.2204103469849],\"yaxis\":\"y\",\"type\":\"scatter\"},{\"hovertemplate\":\"<b>%{hovertext}</b><br><br>Continent_Name=Europe<br>Year=2012<br>gdi_value=%{marker.size}<br>ExpenditureEducationValue=%{y}<extra></extra>\",\"hovertext\":[\"Netherlands\",\"Moldova\",\"Serbia\",\"Slovak Republic\",\"Spain\",\"Switzerland\",\"Ukraine\",\"Latvia\",\"Armenia\",\"Belarus\",\"Georgia\",\"France\",\"Finland\"],\"ids\":[\"Europe\",\"Europe\",\"Europe\",\"Europe\",\"Europe\",\"Europe\",\"Europe\",\"Europe\",\"Europe\",\"Europe\",\"Europe\",\"Europe\",\"Europe\"],\"legendgroup\":\"Europe\",\"marker\":{\"color\":\"#EF553B\",\"size\":[626316401676.898,10313057201.8634,3116781829883.26,68769006551.2647,1025955604960.65,619564350609.013,385225581231.408,19815619085.6711,1862579841193.1,27811902804137.2,9624321077.71062,2028482028911.03,187228231165.305],\"sizemode\":\"area\",\"sizeref\":3783796695310.0737,\"symbol\":\"circle\"},\"mode\":\"markers\",\"name\":\"Europe\",\"orientation\":\"v\",\"showlegend\":true,\"x\":[626316401676.898,10313057201.8634,3116781829883.26,68769006551.2647,1025955604960.65,619564350609.013,385225581231.408,19815619085.6711,1862579841193.1,27811902804137.2,9624321077.71062,2028482028911.03,187228231165.305],\"xaxis\":\"x\",\"y\":[11.6193504333496,20.8234691619873,9.59922981262207,9.794389724731449,9.22980976104736,16.099510192871097,13.6655197143555,8.743639945983888,13.7018699645996,13.180720329284698,6.707759857177731,9.74195957183838,12.8176002502441],\"yaxis\":\"y\",\"type\":\"scatter\"},{\"hovertemplate\":\"<b>%{hovertext}</b><br><br>Continent_Name=Africa<br>Year=2012<br>gdi_value=%{marker.size}<br>ExpenditureEducationValue=%{y}<extra></extra>\",\"hovertext\":[\"Niger\",\"Mozambique\",\"Morocco\",\"Mali\",\"Mauritania\",\"Madagascar\",\"Liberia\",\"Mauritius\",\"Rwanda\",\"South Africa\",\"Togo\",\"Tunisia\",\"Uganda\",\"Benin\",\"Burkina Faso\",\"Burundi\",\"Cameroon\",\"Guinea\",\"Gambia, The\"],\"ids\":[\"Africa\",\"Africa\",\"Africa\",\"Africa\",\"Africa\",\"Africa\",\"Africa\",\"Africa\",\"Africa\",\"Africa\",\"Africa\",\"Africa\",\"Africa\",\"Africa\",\"Africa\",\"Africa\",\"Africa\",\"Africa\",\"Africa\"],\"legendgroup\":\"Africa\",\"marker\":{\"color\":\"#00cc96\",\"size\":[2610500693465.67,349927260344.714,802348980025.705,1636833554835.37,947241206753.048,636398550193.319,631120063.0903491,246082688561.553,4142513055751.59,2922992674427.54,1283434781816.81,63593718850.8533,47140320295160.7,3458404038968.95,4080771521426.54,1639572653745.42,10166418396913.4,8874089837084.08,21909713979.9947],\"sizemode\":\"area\",\"sizeref\":3783796695310.0737,\"symbol\":\"circle\"},\"mode\":\"markers\",\"name\":\"Africa\",\"orientation\":\"v\",\"showlegend\":true,\"x\":[2610500693465.67,349927260344.714,802348980025.705,1636833554835.37,947241206753.048,636398550193.319,631120063.0903491,246082688561.553,4142513055751.59,2922992674427.54,1283434781816.81,63593718850.8533,47140320295160.7,3458404038968.95,4080771521426.54,1639572653745.42,10166418396913.4,8874089837084.08,21909713979.9947],\"xaxis\":\"x\",\"y\":[19.1920204162598,19.767240524292,17.1595897674561,22.403379440307603,10.017749786377,20.3257999420166,8.1326904296875,14.9606199264526,15.9212398529053,20.6222190856934,17.6804294586182,21.2496700286865,14.0230703353882,25.0213108062744,15.8953800201416,16.3489208221436,15.1762199401855,9.46061038970947,13.8002996444702],\"yaxis\":\"y\",\"type\":\"scatter\"},{\"hovertemplate\":\"<b>%{hovertext}</b><br><br>Continent_Name=Asia<br>Year=2012<br>gdi_value=%{marker.size}<br>ExpenditureEducationValue=%{y}<extra></extra>\",\"hovertext\":[\"Macao SAR, China\",\"Pakistan\",\"Thailand\",\"Singapore\",\"Tajikistan\",\"Vietnam\",\"Lebanon\",\"Hong Kong SAR, China\",\"Japan\",\"Kyrgyz Republic\",\"Armenia\",\"Bahrain\",\"Brunei Darussalam\",\"Iran, Islamic Rep.\",\"Indonesia\",\"India\",\"Georgia\"],\"ids\":[\"Asia\",\"Asia\",\"Asia\",\"Asia\",\"Asia\",\"Asia\",\"Asia\",\"Asia\",\"Asia\",\"Asia\",\"Asia\",\"Asia\",\"Asia\",\"Asia\",\"Asia\",\"Asia\",\"Asia\"],\"legendgroup\":\"Asia\",\"marker\":{\"color\":\"#ab63fa\",\"size\":[343499500000.0,9566668476980.43,8766885668996.06,342167565496.897,1827431470.14664,2476807141197320.0,49573001013810.0,2067329092313.25,482080082996546.0,32624437360.1265,1862579841193.1,10463866790.1346,23941125777.3942,2024670920381350.0,7662188308002899.0,92524868090379.4,9624321077.71062],\"sizemode\":\"area\",\"sizeref\":3783796695310.0737,\"symbol\":\"circle\"},\"mode\":\"markers\",\"name\":\"Asia\",\"orientation\":\"v\",\"showlegend\":true,\"x\":[343499500000.0,9566668476980.43,8766885668996.06,342167565496.897,1827431470.14664,2476807141197320.0,49573001013810.0,2067329092313.25,482080082996546.0,32624437360.1265,1862579841193.1,10463866790.1346,23941125777.3942,2024670920381350.0,7662188308002899.0,92524868090379.4,9624321077.71062],\"xaxis\":\"x\",\"y\":[20.2237491607666,10.9475803375244,20.7391109466553,20.9007301330566,16.3502407073975,21.437429428100604,7.10915994644165,18.6494102478027,9.480139732360833,18.1955890655518,13.7018699645996,8.94804000854492,9.727820396423333,17.034309387207,18.090419769287102,14.2194499969482,6.707759857177731],\"yaxis\":\"y\",\"type\":\"scatter\"},{\"hovertemplate\":\"<b>%{hovertext}</b><br><br>Continent_Name=North America<br>Year=2012<br>gdi_value=%{marker.size}<br>ExpenditureEducationValue=%{y}<extra></extra>\",\"hovertext\":[\"Barbados\",\"Jamaica\",\"Guatemala\"],\"ids\":[\"North America\",\"North America\",\"North America\"],\"legendgroup\":\"North America\",\"marker\":{\"color\":\"#FFA15A\",\"size\":[940504711.560561,800187446134.611,213502634594.30103],\"sizemode\":\"area\",\"sizeref\":3783796695310.0737,\"symbol\":\"circle\"},\"mode\":\"markers\",\"name\":\"North America\",\"orientation\":\"v\",\"showlegend\":true,\"x\":[940504711.560561,800187446134.611,213502634594.30103],\"xaxis\":\"x\",\"y\":[13.689579963684098,18.809259414672898,21.1051406860352],\"yaxis\":\"y\",\"type\":\"scatter\"},{\"hovertemplate\":\"<b>%{hovertext}</b><br><br>Continent_Name=South America<br>Year=2012<br>gdi_value=%{marker.size}<br>ExpenditureEducationValue=%{y}<extra></extra>\",\"hovertext\":[\"Paraguay\",\"Peru\",\"Argentina\",\"Bolivia\",\"Brazil\",\"Colombia\",\"Chile\",\"Ecuador\"],\"ids\":[\"South America\",\"South America\",\"South America\",\"South America\",\"South America\",\"South America\",\"South America\",\"South America\"],\"legendgroup\":\"South America\",\"marker\":{\"color\":\"#19d3f3\",\"size\":[23725536009788.1,442988467680.90295,896369638933.096,39178931140.6702,1900869269154.8,507304224800144.0,116595272081012.0,65079926705.9621],\"sizemode\":\"area\",\"sizeref\":3783796695310.0737,\"symbol\":\"circle\"},\"mode\":\"markers\",\"name\":\"South America\",\"orientation\":\"v\",\"showlegend\":true,\"x\":[23725536009788.1,442988467680.90295,896369638933.096,39178931140.6702,1900869269154.8,507304224800144.0,116595272081012.0,65079926705.9621],\"xaxis\":\"x\",\"y\":[16.088970184326197,14.3761701583862,15.0635299682617,17.8287506103516,15.5696496963501,15.5128297805786,19.277999877929695,10.3482904434204],\"yaxis\":\"y\",\"type\":\"scatter\"}],\"name\":\"2012\"},{\"data\":[{\"hovertemplate\":\"<b>%{hovertext}</b><br><br>Continent_Name=Europe<br>Year=2013<br>gdi_value=%{marker.size}<br>ExpenditureEducationValue=%{y}<extra></extra>\",\"hovertext\":[\"Armenia\",\"Belarus\"],\"ids\":[\"Europe\",\"Europe\"],\"legendgroup\":\"Europe\",\"marker\":{\"color\":\"#EF553B\",\"size\":[1885978900736.63,27167691091380.1],\"sizemode\":\"area\",\"sizeref\":3783796695310.0737,\"symbol\":\"circle\"},\"mode\":\"markers\",\"name\":\"Europe\",\"orientation\":\"v\",\"showlegend\":true,\"x\":[1885978900736.63,27167691091380.1],\"xaxis\":\"x\",\"y\":[8.8688497543335,12.3036298751831],\"yaxis\":\"y\",\"type\":\"scatter\"},{\"hovertemplate\":\"<b>%{hovertext}</b><br><br>Continent_Name=Africa<br>Year=2013<br>gdi_value=%{marker.size}<br>ExpenditureEducationValue=%{y}<extra></extra>\",\"hovertext\":[\"Malawi\",\"Mozambique\",\"Mauritania\",\"Mauritius\",\"Morocco\",\"Togo\",\"Rwanda\",\"South Africa\",\"Uganda\",\"Madagascar\",\"Benin\",\"Burkina Faso\",\"Burundi\",\"Guinea\"],\"ids\":[\"Africa\",\"Africa\",\"Africa\",\"Africa\",\"Africa\",\"Africa\",\"Africa\",\"Africa\",\"Africa\",\"Africa\",\"Africa\",\"Africa\",\"Africa\",\"Africa\"],\"legendgroup\":\"Africa\",\"marker\":{\"color\":\"#00cc96\",\"size\":[846161589175.807,382692816270.324,987162868189.738,259030166036.567,839568327480.817,1450420429617.21,4383190348525.47,2940749002886.86,48860823310972.0,634223161853.459,3722029119182.02,4181981935465.97,1705548287422.97,9352829005572.25],\"sizemode\":\"area\",\"sizeref\":3783796695310.0737,\"symbol\":\"circle\"},\"mode\":\"markers\",\"name\":\"Africa\",\"orientation\":\"v\",\"showlegend\":true,\"x\":[846161589175.807,382692816270.324,987162868189.738,259030166036.567,839568327480.817,1450420429617.21,4383190348525.47,2940749002886.86,48860823310972.0,634223161853.459,3722029119182.02,4181981935465.97,1705548287422.97,9352829005572.25],\"xaxis\":\"x\",\"y\":[13.65149974823,19.0328807830811,11.405369758606,14.779109954834,18.4573001861572,17.2000102996826,16.597190856933597,19.1552505493164,12.866189956665002,13.9893798828125,22.3412208557129,16.1652793884277,17.241529464721697,14.1327695846558],\"yaxis\":\"y\",\"type\":\"scatter\"},{\"hovertemplate\":\"<b>%{hovertext}</b><br><br>Continent_Name=Asia<br>Year=2013<br>gdi_value=%{marker.size}<br>ExpenditureEducationValue=%{y}<extra></extra>\",\"hovertext\":[\"Nepal\",\"Singapore\",\"Pakistan\",\"Lebanon\",\"Armenia\",\"Bhutan\",\"Japan\",\"Hong Kong SAR, China\",\"Iran, Islamic Rep.\"],\"ids\":[\"Asia\",\"Asia\",\"Asia\",\"Asia\",\"Asia\",\"Asia\",\"Asia\",\"Asia\",\"Asia\"],\"legendgroup\":\"Asia\",\"marker\":{\"color\":\"#ab63fa\",\"size\":[697508946418.249,357051948293.411,9944725200686.36,49299334286442.0,1885978900736.63,52606614251.4286,488506181296568.0,2138660000000.0,2003483055780330.0],\"sizemode\":\"area\",\"sizeref\":3783796695310.0737,\"symbol\":\"circle\"},\"mode\":\"markers\",\"name\":\"Asia\",\"orientation\":\"v\",\"showlegend\":true,\"x\":[697508946418.249,357051948293.411,9944725200686.36,49299334286442.0,1885978900736.63,52606614251.4286,488506181296568.0,2138660000000.0,2003483055780330.0],\"xaxis\":\"x\",\"y\":[21.3980197906494,19.9503402709961,11.5536203384399,8.57551956176758,8.8688497543335,15.6082897186279,9.57814979553223,20.3008708953857,21.6739101409912],\"yaxis\":\"y\",\"type\":\"scatter\"},{\"hovertemplate\":\"<b>%{hovertext}</b><br><br>Continent_Name=North America<br>Year=2013<br>gdi_value=%{marker.size}<br>ExpenditureEducationValue=%{y}<extra></extra>\",\"hovertext\":[\"Jamaica\",\"Dominican Republic\",\"Guatemala\",\"Honduras\"],\"ids\":[\"North America\",\"North America\",\"North America\",\"North America\"],\"legendgroup\":\"North America\",\"marker\":{\"color\":\"#FFA15A\",\"size\":[797167684457.263,1779947380393.56,219462515263.99,156783064143.859],\"sizemode\":\"area\",\"sizeref\":3783796695310.0737,\"symbol\":\"circle\"},\"mode\":\"markers\",\"name\":\"North America\",\"orientation\":\"v\",\"showlegend\":true,\"x\":[797167684457.263,1779947380393.56,219462515263.99,156783064143.859],\"xaxis\":\"x\",\"y\":[20.573860168457,20.6472492218018,20.6379508972168,19.230510711669897],\"yaxis\":\"y\",\"type\":\"scatter\"},{\"hovertemplate\":\"<b>%{hovertext}</b><br><br>Continent_Name=South America<br>Year=2013<br>gdi_value=%{marker.size}<br>ExpenditureEducationValue=%{y}<extra></extra>\",\"hovertext\":[\"Peru\",\"Colombia\"],\"ids\":[\"South America\",\"South America\"],\"legendgroup\":\"South America\",\"marker\":{\"color\":\"#19d3f3\",\"size\":[460418437643.009,528206544951957.0],\"sizemode\":\"area\",\"sizeref\":3783796695310.0737,\"symbol\":\"circle\"},\"mode\":\"markers\",\"name\":\"South America\",\"orientation\":\"v\",\"showlegend\":true,\"x\":[460418437643.009,528206544951957.0],\"xaxis\":\"x\",\"y\":[15.2097902297974,16.8658790588379],\"yaxis\":\"y\",\"type\":\"scatter\"}],\"name\":\"2013\"},{\"data\":[{\"hovertemplate\":\"<b>%{hovertext}</b><br><br>Continent_Name=Africa<br>Year=2014<br>gdi_value=%{marker.size}<br>ExpenditureEducationValue=%{y}<extra></extra>\",\"hovertext\":[\"Tanzania\"],\"ids\":[\"Africa\"],\"legendgroup\":\"Africa\",\"marker\":{\"color\":\"#00cc96\",\"size\":[41196612768394.8],\"sizemode\":\"area\",\"sizeref\":3783796695310.0737,\"symbol\":\"circle\"},\"mode\":\"markers\",\"name\":\"Africa\",\"orientation\":\"v\",\"showlegend\":true,\"x\":[41196612768394.8],\"xaxis\":\"x\",\"y\":[15.879810333252],\"yaxis\":\"y\",\"type\":\"scatter\"},{\"hovertemplate\":\"<b>%{hovertext}</b><br><br>Continent_Name=Asia<br>Year=2014<br>gdi_value=%{marker.size}<br>ExpenditureEducationValue=%{y}<extra></extra>\",\"hovertext\":[\"Lao PDR\"],\"ids\":[\"Asia\"],\"legendgroup\":\"Asia\",\"marker\":{\"color\":\"#ab63fa\",\"size\":[42752670350045.6],\"sizemode\":\"area\",\"sizeref\":3783796695310.0737,\"symbol\":\"circle\"},\"mode\":\"markers\",\"name\":\"Asia\",\"orientation\":\"v\",\"showlegend\":true,\"x\":[42752670350045.6],\"xaxis\":\"x\",\"y\":[15.3525295257568],\"yaxis\":\"y\",\"type\":\"scatter\"}],\"name\":\"2014\"}]);\n",
       "                        }).then(function(){\n",
       "                            \n",
       "var gd = document.getElementById('12bdbab3-aae4-4d4e-b419-eff40680cfab');\n",
       "var x = new MutationObserver(function (mutations, observer) {{\n",
       "        var display = window.getComputedStyle(gd).display;\n",
       "        if (!display || display === 'none') {{\n",
       "            console.log([gd, 'removed!']);\n",
       "            Plotly.purge(gd);\n",
       "            observer.disconnect();\n",
       "        }}\n",
       "}});\n",
       "\n",
       "// Listen for the removal of the full notebook cells\n",
       "var notebookContainer = gd.closest('#notebook-container');\n",
       "if (notebookContainer) {{\n",
       "    x.observe(notebookContainer, {childList: true});\n",
       "}}\n",
       "\n",
       "// Listen for the clearing of the current output cell\n",
       "var outputEl = gd.closest('.output');\n",
       "if (outputEl) {{\n",
       "    x.observe(outputEl, {childList: true});\n",
       "}}\n",
       "\n",
       "                        })                };                });            </script>        </div>"
      ]
     },
     "metadata": {},
     "output_type": "display_data"
    }
   ],
   "source": [
    "fig = px.scatter(df_final,x=\"gdi_value\", y=\"ExpenditureEducationValue\",animation_frame=\"Year\", \n",
    " animation_group=\"Continent_Name\",size=\"gdi_value\", \n",
    " color=\"Continent_Name\",\n",
    " hover_name=\"CountryName\", log_x=True, \n",
    " size_max=45,range_x=[200,150000], range_y=[10,100]\n",
    " )\n",
    "fig.layout.updatemenus[0].buttons[0].args[1][\"frame\"][\"duration\"] = 900\n",
    "fig.show()"
   ]
  },
  {
   "cell_type": "code",
   "execution_count": null,
   "id": "059b9121",
   "metadata": {},
   "outputs": [],
   "source": []
  },
  {
   "cell_type": "code",
   "execution_count": null,
   "id": "e1158ad9",
   "metadata": {},
   "outputs": [],
   "source": []
  }
 ],
 "metadata": {
  "kernelspec": {
   "display_name": "Python 3 (ipykernel)",
   "language": "python",
   "name": "python3"
  },
  "language_info": {
   "codemirror_mode": {
    "name": "ipython",
    "version": 3
   },
   "file_extension": ".py",
   "mimetype": "text/x-python",
   "name": "python",
   "nbconvert_exporter": "python",
   "pygments_lexer": "ipython3",
   "version": "3.10.1"
  }
 },
 "nbformat": 4,
 "nbformat_minor": 5
}
