{
 "cells": [
  {
   "cell_type": "code",
   "execution_count": null,
   "id": "4289a97e",
   "metadata": {},
   "outputs": [],
   "source": [
    "# Data Source: https://www.kaggle.com/datasets/kaggle/world-development-indicators\n",
    "# Folder: 'world-development-indicators' "
   ]
  },
  {
   "cell_type": "markdown",
   "id": "61157639",
   "metadata": {},
   "source": [
    "<br><p style=\"font-family: Arial; font-size:3.75em;color:purple; font-style:bold\">\n",
    "World Development Indicators</p><br><br>\n",
    "# Exploring Data Visualization "
   ]
  },
  {
   "cell_type": "code",
   "execution_count": null,
   "id": "480a55e8",
   "metadata": {},
   "outputs": [],
   "source": [
    "#import libraries\n",
    "\n",
    "import pandas as pd\n",
    "import numpy as np\n",
    "import random\n",
    "import matplotlib.pyplot as plt\n",
    "%matplotlib inline\n",
    "import plotly.express as px"
   ]
  },
  {
   "cell_type": "code",
   "execution_count": null,
   "id": "254fee43",
   "metadata": {},
   "outputs": [],
   "source": [
    "# loading the csv files into pandas DFs\n",
    "indicators = pd.read_csv('../DS_World_Development_Indicators/data_wdi/Indicators.csv')\n",
    "country = pd.read_csv('../DS_World_Development_Indicators/data_wdi/Country.csv')\n",
    "country_notes = pd.read_csv('../DS_World_Development_Indicators/data_wdi/CountryNotes.csv')\n",
    "series = pd.read_csv('../DS_World_Development_Indicators/data_wdi/Series.csv')\n",
    "series_notes = pd.read_csv('../DS_World_Development_Indicators/data_wdi/SeriesNotes.csv')\n",
    "footnotes = pd.read_csv('../DS_World_Development_Indicators/data_wdi/Footnotes.csv')\n"
   ]
  },
  {
   "cell_type": "code",
   "execution_count": null,
   "id": "89e76ddb",
   "metadata": {},
   "outputs": [],
   "source": [
    "indicators.head()"
   ]
  },
  {
   "cell_type": "markdown",
   "id": "dc5387ef",
   "metadata": {},
   "source": [
    "### How many UNIQUE country names are there ?"
   ]
  },
  {
   "cell_type": "code",
   "execution_count": null,
   "id": "b2bc86a3",
   "metadata": {},
   "outputs": [],
   "source": [
    "countries = indicators['CountryName'].unique().tolist()\n",
    "len(countries)"
   ]
  },
  {
   "cell_type": "markdown",
   "id": "b7b69e03",
   "metadata": {},
   "source": [
    "### Are there same number of country codes ?"
   ]
  },
  {
   "cell_type": "code",
   "execution_count": null,
   "id": "02537efc",
   "metadata": {},
   "outputs": [],
   "source": [
    "# How many unique country codes are there ? (should be the same #)\n",
    "countryCodes = indicators['CountryCode'].unique().tolist()\n",
    "len(countryCodes)"
   ]
  },
  {
   "cell_type": "markdown",
   "id": "a8243688",
   "metadata": {},
   "source": [
    "### Are there many indicators or few ?"
   ]
  },
  {
   "cell_type": "code",
   "execution_count": null,
   "id": "17a37b91",
   "metadata": {},
   "outputs": [],
   "source": [
    "# How many unique indicators are there ? (should be the same #)\n",
    "var_indicators = indicators['IndicatorName'].unique().tolist()\n",
    "len(var_indicators)"
   ]
  },
  {
   "cell_type": "code",
   "execution_count": null,
   "id": "68caf42a",
   "metadata": {},
   "outputs": [],
   "source": [
    "# List with the Indicators\n",
    "var_indicators.sort()\n",
    "var_indicators[:5]"
   ]
  },
  {
   "cell_type": "markdown",
   "id": "83295ce3",
   "metadata": {},
   "source": [
    "### How many years of data do we have ?"
   ]
  },
  {
   "cell_type": "code",
   "execution_count": null,
   "id": "40d16a85",
   "metadata": {},
   "outputs": [],
   "source": [
    "# How many years of data do we have ?\n",
    "years = indicators['Year'].unique().tolist()\n",
    "len(years)"
   ]
  },
  {
   "cell_type": "markdown",
   "id": "2e26bbc7",
   "metadata": {},
   "source": [
    "### What's the range of years?"
   ]
  },
  {
   "cell_type": "code",
   "execution_count": null,
   "id": "655ec7c8",
   "metadata": {},
   "outputs": [],
   "source": [
    "print(min(years),\" to \",max(years))"
   ]
  },
  {
   "cell_type": "markdown",
   "id": "246df320",
   "metadata": {},
   "source": [
    "Creating new DF with the following Indicators:<br>\n",
    "`Expenditure on education as % of total government expenditure (%)`<br>\n",
    "`Life expectancy at birth, total (years)`<br>\n",
    "`Gross domestic income (constant LCU)`"
   ]
  },
  {
   "cell_type": "code",
   "execution_count": null,
   "id": "a1930369",
   "metadata": {},
   "outputs": [],
   "source": [
    "# Creating masks to select only a few indicators\n",
    "education_expenditure = 'Expenditure on education as % of total'\n",
    "life_expectancy = 'Life expectancy at birth, total'\n",
    "gross_domestic_income_LCU = 'Gross domestic income \\(constant LCU'\n",
    "\n",
    "mask1 = indicators['IndicatorName'].str.contains(education_expenditure)\n",
    "mask2 = indicators['IndicatorName'].str.contains(life_expectancy)\n",
    "mask3 = indicators['IndicatorName'].str.contains(gross_domestic_income_LCU)\n",
    "\n",
    "# Creating new DF matching the masks\n",
    "df_expenditure = indicators[mask1]\n",
    "df_life_expectancy = indicators[mask2]\n",
    "df_gross_domestic_income_LCU = indicators[mask3]"
   ]
  },
  {
   "cell_type": "code",
   "execution_count": null,
   "id": "9655fe72",
   "metadata": {},
   "outputs": [],
   "source": [
    "#Cheking for Null values\n",
    "\n",
    "not_null = 0\n",
    "not_null == df_expenditure.isnull().sum() & df_life_expectancy.isnull().sum() & df_gross_domestic_income_LCU.isnull().sum()"
   ]
  },
  {
   "cell_type": "markdown",
   "id": "137be7e9",
   "metadata": {},
   "source": [
    "### aqui detalhar - Expenditure on Education"
   ]
  },
  {
   "cell_type": "code",
   "execution_count": null,
   "id": "6bfb3c3d",
   "metadata": {},
   "outputs": [],
   "source": [
    "df_expenditure.head(2)"
   ]
  },
  {
   "cell_type": "code",
   "execution_count": null,
   "id": "921607bf",
   "metadata": {},
   "outputs": [],
   "source": [
    "# import CountryCode\n",
    "\n",
    "CountryCode=pd.read_csv('https://pkgstore.datahub.io/JohnSnowLabs/country-and-continent-codes-list/country-and-continent-codes-list-csv_csv/data/b7876b7f496677669644f3d1069d3121/country-and-continent-codes-list-csv_csv.csv',sep=',')\n",
    "CountryCode.head(2)"
   ]
  },
  {
   "cell_type": "markdown",
   "id": "e3dcab31",
   "metadata": {},
   "source": [
    "I only need two columns - `Continent_Name` and `Three_Letter_Country_Code`"
   ]
  },
  {
   "cell_type": "code",
   "execution_count": null,
   "id": "8925fe0e",
   "metadata": {},
   "outputs": [],
   "source": [
    "CountryCode = CountryCode[['Continent_Name', 'Three_Letter_Country_Code']]"
   ]
  },
  {
   "cell_type": "code",
   "execution_count": null,
   "id": "49b067c8",
   "metadata": {},
   "outputs": [],
   "source": [
    "# Merging the DFs and creating a new column\n",
    "df_expenditure_final = pd.merge(df_expenditure, CountryCode, left_on='CountryCode', right_on='Three_Letter_Country_Code', how='left')\n",
    "df_expenditure_final = df_expenditure_final.iloc[:, :-1] #remove last column\n",
    "\n",
    "# Now, we get the final dataset which includes the continent information.\n",
    "df_expenditure_final.head(2)"
   ]
  },
  {
   "cell_type": "code",
   "execution_count": null,
   "id": "95fb8795",
   "metadata": {},
   "outputs": [],
   "source": [
    "# Now we drop all the missing values and sort the dataset with Year\n",
    "\n",
    "df_expenditure_final = df_expenditure_final.dropna(how='any')\n",
    "#df_expenditure_final = df_expenditure_final.sort_values(by=['Year'])\n",
    "df_expenditure_final.rename(columns={'IndicatorName':'ExpenditureEducation','Value':'ExpenditureEducationValue'}, inplace = True)\n",
    "df_expenditure_final.head(2)"
   ]
  },
  {
   "cell_type": "markdown",
   "id": "5fc46e85",
   "metadata": {},
   "source": [
    "Now we want to <b>merge</b> the `df_gross_domestic_income_LCU` columns IndicatorName and Value with the `df_expenditure_final` dataframe"
   ]
  },
  {
   "cell_type": "code",
   "execution_count": null,
   "id": "ae53f44f",
   "metadata": {},
   "outputs": [],
   "source": [
    "# First let's change the values of column IndicatorName to --> GDI\n",
    "df_gross_domestic_income_LCU.loc[df_gross_domestic_income_LCU['IndicatorName'] \n",
    "                                 == 'Gross domestic income (constant LCU)', 'IndicatorName'] = 'GDI'\n",
    "\n",
    "\n",
    "gdi_final = df_gross_domestic_income_LCU[['IndicatorName', 'Value', 'Year','CountryCode']]\n",
    "\n",
    "# Selecting from 1995 which is the start date of the \"df_expenditure_final\" dataframe\n",
    "gdi_final = gdi_final[gdi_final['Year'] > 1994]\n",
    "\n",
    "gdi_final.rename(columns={'IndicatorName':'GrossDomesticIncome','Value':'gdi_value'}, inplace = True)\n",
    "gdi_final.head(2)"
   ]
  },
  {
   "cell_type": "code",
   "execution_count": null,
   "id": "94f0846a",
   "metadata": {},
   "outputs": [],
   "source": [
    "df_final = pd.merge(df_expenditure_final, gdi_final, how='inner', \n",
    "                    left_on=['CountryCode','Year'], right_on=['CountryCode', 'Year'])\n",
    "df_final = df_final.sort_values(by=['Year'])\n",
    "df_final.head(2)\n",
    "\n"
   ]
  },
  {
   "cell_type": "code",
   "execution_count": null,
   "id": "3fe25461",
   "metadata": {},
   "outputs": [],
   "source": [
    "df1 = df_final\n",
    "df1.round(10)\n",
    "\n",
    "df1.head()\n"
   ]
  },
  {
   "cell_type": "code",
   "execution_count": null,
   "id": "ee9a7a21",
   "metadata": {},
   "outputs": [],
   "source": [
    "fig = px.scatter(df_final,x=\"gdi_value\", y=\"ExpenditureEducationValue\",animation_frame=\"Year\", \n",
    " animation_group=\"Continent_Name\",size=\"gdi_value\", \n",
    " color=\"Continent_Name\",\n",
    " hover_name=\"CountryName\", log_x=True, \n",
    " size_max=45,range_x=[200,150000], range_y=[10,100]\n",
    " )\n",
    "fig.layout.updatemenus[0].buttons[0].args[1][\"frame\"][\"duration\"] = 900\n",
    "fig.show()"
   ]
  },
  {
   "cell_type": "code",
   "execution_count": null,
   "id": "e1158ad9",
   "metadata": {},
   "outputs": [],
   "source": []
  }
 ],
 "metadata": {
  "kernelspec": {
   "display_name": "Python 3 (ipykernel)",
   "language": "python",
   "name": "python3"
  },
  "language_info": {
   "codemirror_mode": {
    "name": "ipython",
    "version": 3
   },
   "file_extension": ".py",
   "mimetype": "text/x-python",
   "name": "python",
   "nbconvert_exporter": "python",
   "pygments_lexer": "ipython3",
   "version": "3.9.7"
  }
 },
 "nbformat": 4,
 "nbformat_minor": 5
}
