{
 "cells": [
  {
   "cell_type": "code",
   "execution_count": 3,
   "id": "4289a97e",
   "metadata": {},
   "outputs": [],
   "source": [
    "# Data Source: https://www.kaggle.com/datasets/kaggle/world-development-indicators\n",
    "# Folder: 'world-development-indicators' "
   ]
  },
  {
   "cell_type": "markdown",
   "id": "61157639",
   "metadata": {},
   "source": [
    "<br><p style=\"font-family: Arial; font-size:3.75em;color:green; font-style:bold\">\n",
    "World Development Indicators</p><br><br>\n",
    "# Exploring Data Visualization "
   ]
  },
  {
   "cell_type": "code",
   "execution_count": 1,
   "id": "480a55e8",
   "metadata": {},
   "outputs": [],
   "source": [
    "#import libraries\n",
    "\n",
    "import pandas as pd\n",
    "import numpy as np\n",
    "import random\n",
    "import matplotlib.pyplot as plt\n",
    "%matplotlib inline\n",
    "import plotly.express as px\n",
    "import seaborn as sns"
   ]
  },
  {
   "cell_type": "code",
   "execution_count": 20,
   "id": "254fee43",
   "metadata": {},
   "outputs": [],
   "source": [
    "# loading the csv files into pandas DFs\n",
    "indicators = pd.read_csv('../DS_World_Development_Indicators/data_wdi/Indicators.csv')\n"
   ]
  },
  {
   "cell_type": "code",
   "execution_count": 31,
   "id": "89e76ddb",
   "metadata": {},
   "outputs": [
    {
     "data": {
      "text/html": [
       "<div>\n",
       "<style scoped>\n",
       "    .dataframe tbody tr th:only-of-type {\n",
       "        vertical-align: middle;\n",
       "    }\n",
       "\n",
       "    .dataframe tbody tr th {\n",
       "        vertical-align: top;\n",
       "    }\n",
       "\n",
       "    .dataframe thead th {\n",
       "        text-align: right;\n",
       "    }\n",
       "</style>\n",
       "<table border=\"1\" class=\"dataframe\">\n",
       "  <thead>\n",
       "    <tr style=\"text-align: right;\">\n",
       "      <th></th>\n",
       "      <th>CountryName</th>\n",
       "      <th>CountryCode</th>\n",
       "      <th>IndicatorName</th>\n",
       "      <th>IndicatorCode</th>\n",
       "      <th>Year</th>\n",
       "      <th>Value</th>\n",
       "    </tr>\n",
       "  </thead>\n",
       "  <tbody>\n",
       "    <tr>\n",
       "      <th>0</th>\n",
       "      <td>Arab World</td>\n",
       "      <td>ARB</td>\n",
       "      <td>Adolescent fertility rate (births per 1,000 wo...</td>\n",
       "      <td>SP.ADO.TFRT</td>\n",
       "      <td>1960</td>\n",
       "      <td>1.335609e+02</td>\n",
       "    </tr>\n",
       "    <tr>\n",
       "      <th>1</th>\n",
       "      <td>Arab World</td>\n",
       "      <td>ARB</td>\n",
       "      <td>Age dependency ratio (% of working-age populat...</td>\n",
       "      <td>SP.POP.DPND</td>\n",
       "      <td>1960</td>\n",
       "      <td>8.779760e+01</td>\n",
       "    </tr>\n",
       "    <tr>\n",
       "      <th>2</th>\n",
       "      <td>Arab World</td>\n",
       "      <td>ARB</td>\n",
       "      <td>Age dependency ratio, old (% of working-age po...</td>\n",
       "      <td>SP.POP.DPND.OL</td>\n",
       "      <td>1960</td>\n",
       "      <td>6.634579e+00</td>\n",
       "    </tr>\n",
       "    <tr>\n",
       "      <th>3</th>\n",
       "      <td>Arab World</td>\n",
       "      <td>ARB</td>\n",
       "      <td>Age dependency ratio, young (% of working-age ...</td>\n",
       "      <td>SP.POP.DPND.YG</td>\n",
       "      <td>1960</td>\n",
       "      <td>8.102333e+01</td>\n",
       "    </tr>\n",
       "    <tr>\n",
       "      <th>4</th>\n",
       "      <td>Arab World</td>\n",
       "      <td>ARB</td>\n",
       "      <td>Arms exports (SIPRI trend indicator values)</td>\n",
       "      <td>MS.MIL.XPRT.KD</td>\n",
       "      <td>1960</td>\n",
       "      <td>3.000000e+06</td>\n",
       "    </tr>\n",
       "  </tbody>\n",
       "</table>\n",
       "</div>"
      ],
      "text/plain": [
       "  CountryName CountryCode                                      IndicatorName  \\\n",
       "0  Arab World         ARB  Adolescent fertility rate (births per 1,000 wo...   \n",
       "1  Arab World         ARB  Age dependency ratio (% of working-age populat...   \n",
       "2  Arab World         ARB  Age dependency ratio, old (% of working-age po...   \n",
       "3  Arab World         ARB  Age dependency ratio, young (% of working-age ...   \n",
       "4  Arab World         ARB        Arms exports (SIPRI trend indicator values)   \n",
       "\n",
       "    IndicatorCode  Year         Value  \n",
       "0     SP.ADO.TFRT  1960  1.335609e+02  \n",
       "1     SP.POP.DPND  1960  8.779760e+01  \n",
       "2  SP.POP.DPND.OL  1960  6.634579e+00  \n",
       "3  SP.POP.DPND.YG  1960  8.102333e+01  \n",
       "4  MS.MIL.XPRT.KD  1960  3.000000e+06  "
      ]
     },
     "execution_count": 31,
     "metadata": {},
     "output_type": "execute_result"
    }
   ],
   "source": [
    "# Take a look into the dataframes\n",
    "indicators.head(5)"
   ]
  },
  {
   "cell_type": "code",
   "execution_count": 14,
   "id": "1ebef38b",
   "metadata": {},
   "outputs": [
    {
     "name": "stdout",
     "output_type": "stream",
     "text": [
      "<class 'pandas.core.frame.DataFrame'>\n",
      "RangeIndex: 5656458 entries, 0 to 5656457\n",
      "Data columns (total 6 columns):\n",
      " #   Column         Dtype  \n",
      "---  ------         -----  \n",
      " 0   CountryName    object \n",
      " 1   CountryCode    object \n",
      " 2   IndicatorName  object \n",
      " 3   IndicatorCode  object \n",
      " 4   Year           int64  \n",
      " 5   Value          float64\n",
      "dtypes: float64(1), int64(1), object(4)\n",
      "memory usage: 258.9+ MB\n"
     ]
    }
   ],
   "source": [
    "# This method prints information about a DataFrame including the index dtype and columns, non-null values and memory usage.\n",
    "indicators.info()"
   ]
  },
  {
   "cell_type": "markdown",
   "id": "dc5387ef",
   "metadata": {},
   "source": [
    "### How many UNIQUE country names are there ?"
   ]
  },
  {
   "cell_type": "code",
   "execution_count": 4,
   "id": "b2bc86a3",
   "metadata": {},
   "outputs": [
    {
     "data": {
      "text/plain": [
       "247"
      ]
     },
     "execution_count": 4,
     "metadata": {},
     "output_type": "execute_result"
    }
   ],
   "source": [
    "countries = indicators['CountryName'].unique().tolist()\n",
    "len(countries)"
   ]
  },
  {
   "cell_type": "markdown",
   "id": "b7b69e03",
   "metadata": {},
   "source": [
    "### Are there same number of country codes ?"
   ]
  },
  {
   "cell_type": "code",
   "execution_count": 5,
   "id": "02537efc",
   "metadata": {},
   "outputs": [
    {
     "data": {
      "text/plain": [
       "247"
      ]
     },
     "execution_count": 5,
     "metadata": {},
     "output_type": "execute_result"
    }
   ],
   "source": [
    "# How many unique country codes are there ? (should be the same #)\n",
    "countryCodes = indicators['CountryCode'].unique().tolist()\n",
    "len(countryCodes)"
   ]
  },
  {
   "cell_type": "markdown",
   "id": "a8243688",
   "metadata": {},
   "source": [
    "### Are there many indicators or few ?"
   ]
  },
  {
   "cell_type": "code",
   "execution_count": 6,
   "id": "17a37b91",
   "metadata": {},
   "outputs": [
    {
     "data": {
      "text/plain": [
       "1344"
      ]
     },
     "execution_count": 6,
     "metadata": {},
     "output_type": "execute_result"
    }
   ],
   "source": [
    "# How many unique indicators are there ? (should be the same #)\n",
    "var_indicators = indicators['IndicatorName'].unique().tolist()\n",
    "len(var_indicators)"
   ]
  },
  {
   "cell_type": "code",
   "execution_count": 116,
   "id": "68caf42a",
   "metadata": {},
   "outputs": [
    {
     "data": {
      "text/plain": [
       "['2005 PPP conversion factor, GDP (LCU per international $)',\n",
       " '2005 PPP conversion factor, private consumption (LCU per international $)',\n",
       " 'ARI treatment (% of children under 5 taken to a health provider)']"
      ]
     },
     "execution_count": 116,
     "metadata": {},
     "output_type": "execute_result"
    }
   ],
   "source": [
    "# List the five first Indicators\n",
    "var_indicators.sort()\n",
    "var_indicators[:3]"
   ]
  },
  {
   "cell_type": "markdown",
   "id": "83295ce3",
   "metadata": {},
   "source": [
    "### How many years of data do we have ?"
   ]
  },
  {
   "cell_type": "code",
   "execution_count": 117,
   "id": "40d16a85",
   "metadata": {},
   "outputs": [
    {
     "data": {
      "text/plain": [
       "56"
      ]
     },
     "execution_count": 117,
     "metadata": {},
     "output_type": "execute_result"
    }
   ],
   "source": [
    "# How many years of data do we have ?\n",
    "years = indicators['Year'].unique().tolist()\n",
    "len(years)"
   ]
  },
  {
   "cell_type": "markdown",
   "id": "2e26bbc7",
   "metadata": {},
   "source": [
    "### What's the range of years?"
   ]
  },
  {
   "cell_type": "code",
   "execution_count": 118,
   "id": "655ec7c8",
   "metadata": {},
   "outputs": [
    {
     "name": "stdout",
     "output_type": "stream",
     "text": [
      "1960  to  2015\n"
     ]
    }
   ],
   "source": [
    "print(min(years),\" to \",max(years))"
   ]
  },
  {
   "cell_type": "markdown",
   "id": "ccad0617",
   "metadata": {},
   "source": [
    "### Creating masks\n",
    "\n",
    "we just want the data from <b>Brazil</b>"
   ]
  },
  {
   "cell_type": "code",
   "execution_count": 102,
   "id": "a1930369",
   "metadata": {},
   "outputs": [],
   "source": [
    "# Creating masks to select only a few indicators\n",
    "education_expenditure = 'Expenditure on education as % of total'\n",
    "life_expectancy = 'Life expectancy at birth, total'\n",
    "gross_domestic_income_LCU = 'Gross domestic income \\(constant LCU'\n",
    "infant_deaths = 'Number of infant deaths'\n",
    "health_expenditure = 'Health expenditure, total \\(% of GDP'\n",
    "selected_country_BRA = 'BRA' #Brazil\n",
    "access_electricity = 'Access to electricity \\(% of population'\n",
    "\n",
    "\n",
    "mask1 = indicators['IndicatorName'].str.contains(education_expenditure)\n",
    "mask2 = indicators['IndicatorName'].str.contains(life_expectancy)\n",
    "mask3 = indicators['IndicatorName'].str.contains(gross_domestic_income_LCU)\n",
    "mask4 = indicators['CountryCode'].str.contains(selected_country_BRA)\n",
    "mask5 = indicators['IndicatorName'].str.contains(infant_deaths)\n",
    "mask6 = indicators['IndicatorName'].str.contains(health_expenditure)\n",
    "\n",
    "\n",
    "# Creating new DF matching the masks \n",
    "df_expenditure = indicators[mask1 & mask4]\n",
    "df_life_expectancy = indicators[mask2 & mask4]\n",
    "df_gross_domestic_income_LCU = indicators[mask3 & mask4]\n",
    "df_healh_expenditure = indicators[mask6 & mask4]\n",
    "df_infant_deaths = indicators[mask5 & mask4]\n",
    "df_brazil = indicators[mask4]"
   ]
  },
  {
   "cell_type": "code",
   "execution_count": 107,
   "id": "9655fe72",
   "metadata": {},
   "outputs": [
    {
     "data": {
      "text/plain": [
       "CountryName      True\n",
       "CountryCode      True\n",
       "IndicatorName    True\n",
       "IndicatorCode    True\n",
       "Year             True\n",
       "Value            True\n",
       "dtype: bool"
      ]
     },
     "execution_count": 107,
     "metadata": {},
     "output_type": "execute_result"
    }
   ],
   "source": [
    "#Cheking for Null values\n",
    "\n",
    "not_null = 0\n",
    "not_null == df_expenditure.isnull().sum() & df_life_expectancy.isnull().sum() & df_gross_domestic_income_LCU.isnull().sum() & df_infant_deaths.isnull().sum()& df_healh_expenditure.isnull().sum()"
   ]
  },
  {
   "cell_type": "markdown",
   "id": "137be7e9",
   "metadata": {},
   "source": [
    "### Plotting some data - Country = Brazil"
   ]
  },
  {
   "cell_type": "code",
   "execution_count": 109,
   "id": "512b28c6",
   "metadata": {},
   "outputs": [
    {
     "data": {
      "image/png": "[encoded data removed]",
      "text/plain": [
       "<Figure size 432x432 with 3 Axes>"
      ]
     },
     "metadata": {
      "needs_background": "light"
     },
     "output_type": "display_data"
    }
   ],
   "source": [
    "rel = sns.jointplot(data = df_life_expectancy, x=\"Year\", y=\"Value\");\n",
    "rel.fig.subplots_adjust(top=.8)\n",
    "rel.fig.suptitle('Brazil life expectancy');"
   ]
  },
  {
   "cell_type": "code",
   "execution_count": 152,
   "id": "2c9eaf42",
   "metadata": {},
   "outputs": [
    {
     "data": {
      "image/png": "[encoded data removed]",
      "text/plain": [
       "<Figure size 432x288 with 1 Axes>"
      ]
     },
     "metadata": {
      "needs_background": "light"
     },
     "output_type": "display_data"
    }
   ],
   "source": [
    "plt.plot(df_gross_domestic_income_LCU[\"Year\"].values, df_gross_domestic_income_LCU[\"Value\"].values)\n",
    "plt.xlabel(\"Years\")\n",
    "plt.ylabel(\"Values\")\n",
    "plt.title(\"Brazil Gross Domestic Income (LCU)\");\n",
    "#plt.axis([1960, 2016,0,2])"
   ]
  },
  {
   "cell_type": "code",
   "execution_count": 147,
   "id": "db7b7738",
   "metadata": {},
   "outputs": [
    {
     "data": {
      "image/png": "[encoded data removed]",
      "text/plain": [
       "<Figure size 432x432 with 3 Axes>"
      ]
     },
     "metadata": {
      "needs_background": "light"
     },
     "output_type": "display_data"
    }
   ],
   "source": [
    "rel =sns.jointplot(data = df_infant_deaths, x=\"Year\", y=\"Value\",hue=\"Value\")\n",
    "rel.fig.subplots_adjust(top=.8)\n",
    "rel.fig.suptitle('Brazil Infant Deaths');"
   ]
  },
  {
   "cell_type": "code",
   "execution_count": 166,
   "id": "84aefcd5",
   "metadata": {},
   "outputs": [
    {
     "data": {
      "image/png": "[encoded data removed]",
      "text/plain": [
       "<Figure size 432x288 with 1 Axes>"
      ]
     },
     "metadata": {
      "needs_background": "light"
     },
     "output_type": "display_data"
    }
   ],
   "source": [
    "plt.plot(df_healh_expenditure[\"Year\"].values, df_healh_expenditure[\"Value\"].values)\n",
    "plt.xlabel(\"Years\")\n",
    "plt.ylabel(\"Values\")\n",
    "plt.title(\"Brazil total (public and private) Health Expenditure\")\n",
    "plt.axis([1994, 2015,6,10]);"
   ]
  },
  {
   "cell_type": "markdown",
   "id": "86a09b90",
   "metadata": {},
   "source": [
    "# WDI Interactive Plots"
   ]
  },
  {
   "cell_type": "code",
   "execution_count": 9,
   "id": "a6acae34",
   "metadata": {},
   "outputs": [
    {
     "data": {
      "text/html": [
       "\n",
       "    <div class=\"bk-root\">\n",
       "        <a href=\"https://bokeh.org\" target=\"_blank\" class=\"bk-logo bk-logo-small bk-logo-notebook\"></a>\n",
       "        <span id=\"1002\">Loading BokehJS ...</span>\n",
       "    </div>"
      ]
     },
     "metadata": {},
     "output_type": "display_data"
    },
    {
     "data": {
      "application/javascript": [
       "\n",
       "(function(root) {\n",
       "  function now() {\n",
       "    return new Date();\n",
       "  }\n",
       "\n",
       "  const force = true;\n",
       "\n",
       "  if (typeof root._bokeh_onload_callbacks === \"undefined\" || force === true) {\n",
       "    root._bokeh_onload_callbacks = [];\n",
       "    root._bokeh_is_loading = undefined;\n",
       "  }\n",
       "\n",
       "  const JS_MIME_TYPE = 'application/javascript';\n",
       "  const HTML_MIME_TYPE = 'text/html';\n",
       "  const EXEC_MIME_TYPE = 'application/vnd.bokehjs_exec.v0+json';\n",
       "  const CLASS_NAME = 'output_bokeh rendered_html';\n",
       "\n",
       "  /**\n",
       "   * Render data to the DOM node\n",
       "   */\n",
       "  function render(props, node) {\n",
       "    const script = document.createElement(\"script\");\n",
       "    node.appendChild(script);\n",
       "  }\n",
       "\n",
       "  /**\n",
       "   * Handle when an output is cleared or removed\n",
       "   */\n",
       "  function handleClearOutput(event, handle) {\n",
       "    const cell = handle.cell;\n",
       "\n",
       "    const id = cell.output_area._bokeh_element_id;\n",
       "    const server_id = cell.output_area._bokeh_server_id;\n",
       "    // Clean up Bokeh references\n",
       "    if (id != null && id in Bokeh.index) {\n",
       "      Bokeh.index[id].model.document.clear();\n",
       "      delete Bokeh.index[id];\n",
       "    }\n",
       "\n",
       "    if (server_id !== undefined) {\n",
       "      // Clean up Bokeh references\n",
       "      const cmd_clean = \"from bokeh.io.state import curstate; print(curstate().uuid_to_server['\" + server_id + \"'].get_sessions()[0].document.roots[0]._id)\";\n",
       "      cell.notebook.kernel.execute(cmd_clean, {\n",
       "        iopub: {\n",
       "          output: function(msg) {\n",
       "            const id = msg.content.text.trim();\n",
       "            if (id in Bokeh.index) {\n",
       "              Bokeh.index[id].model.document.clear();\n",
       "              delete Bokeh.index[id];\n",
       "            }\n",
       "          }\n",
       "        }\n",
       "      });\n",
       "      // Destroy server and session\n",
       "      const cmd_destroy = \"import bokeh.io.notebook as ion; ion.destroy_server('\" + server_id + \"')\";\n",
       "      cell.notebook.kernel.execute(cmd_destroy);\n",
       "    }\n",
       "  }\n",
       "\n",
       "  /**\n",
       "   * Handle when a new output is added\n",
       "   */\n",
       "  function handleAddOutput(event, handle) {\n",
       "    const output_area = handle.output_area;\n",
       "    const output = handle.output;\n",
       "\n",
       "    // limit handleAddOutput to display_data with EXEC_MIME_TYPE content only\n",
       "    if ((output.output_type != \"display_data\") || (!Object.prototype.hasOwnProperty.call(output.data, EXEC_MIME_TYPE))) {\n",
       "      return\n",
       "    }\n",
       "\n",
       "    const toinsert = output_area.element.find(\".\" + CLASS_NAME.split(' ')[0]);\n",
       "\n",
       "    if (output.metadata[EXEC_MIME_TYPE][\"id\"] !== undefined) {\n",
       "      toinsert[toinsert.length - 1].firstChild.textContent = output.data[JS_MIME_TYPE];\n",
       "      // store reference to embed id on output_area\n",
       "      output_area._bokeh_element_id = output.metadata[EXEC_MIME_TYPE][\"id\"];\n",
       "    }\n",
       "    if (output.metadata[EXEC_MIME_TYPE][\"server_id\"] !== undefined) {\n",
       "      const bk_div = document.createElement(\"div\");\n",
       "      bk_div.innerHTML = output.data[HTML_MIME_TYPE];\n",
       "      const script_attrs = bk_div.children[0].attributes;\n",
       "      for (let i = 0; i < script_attrs.length; i++) {\n",
       "        toinsert[toinsert.length - 1].firstChild.setAttribute(script_attrs[i].name, script_attrs[i].value);\n",
       "        toinsert[toinsert.length - 1].firstChild.textContent = bk_div.children[0].textContent\n",
       "      }\n",
       "      // store reference to server id on output_area\n",
       "      output_area._bokeh_server_id = output.metadata[EXEC_MIME_TYPE][\"server_id\"];\n",
       "    }\n",
       "  }\n",
       "\n",
       "  function register_renderer(events, OutputArea) {\n",
       "\n",
       "    function append_mime(data, metadata, element) {\n",
       "      // create a DOM node to render to\n",
       "      const toinsert = this.create_output_subarea(\n",
       "        metadata,\n",
       "        CLASS_NAME,\n",
       "        EXEC_MIME_TYPE\n",
       "      );\n",
       "      this.keyboard_manager.register_events(toinsert);\n",
       "      // Render to node\n",
       "      const props = {data: data, metadata: metadata[EXEC_MIME_TYPE]};\n",
       "      render(props, toinsert[toinsert.length - 1]);\n",
       "      element.append(toinsert);\n",
       "      return toinsert\n",
       "    }\n",
       "\n",
       "    /* Handle when an output is cleared or removed */\n",
       "    events.on('clear_output.CodeCell', handleClearOutput);\n",
       "    events.on('delete.Cell', handleClearOutput);\n",
       "\n",
       "    /* Handle when a new output is added */\n",
       "    events.on('output_added.OutputArea', handleAddOutput);\n",
       "\n",
       "    /**\n",
       "     * Register the mime type and append_mime function with output_area\n",
       "     */\n",
       "    OutputArea.prototype.register_mime_type(EXEC_MIME_TYPE, append_mime, {\n",
       "      /* Is output safe? */\n",
       "      safe: true,\n",
       "      /* Index of renderer in `output_area.display_order` */\n",
       "      index: 0\n",
       "    });\n",
       "  }\n",
       "\n",
       "  // register the mime type if in Jupyter Notebook environment and previously unregistered\n",
       "  if (root.Jupyter !== undefined) {\n",
       "    const events = require('base/js/events');\n",
       "    const OutputArea = require('notebook/js/outputarea').OutputArea;\n",
       "\n",
       "    if (OutputArea.prototype.mime_types().indexOf(EXEC_MIME_TYPE) == -1) {\n",
       "      register_renderer(events, OutputArea);\n",
       "    }\n",
       "  }\n",
       "\n",
       "  \n",
       "  if (typeof (root._bokeh_timeout) === \"undefined\" || force === true) {\n",
       "    root._bokeh_timeout = Date.now() + 5000;\n",
       "    root._bokeh_failed_load = false;\n",
       "  }\n",
       "\n",
       "  const NB_LOAD_WARNING = {'data': {'text/html':\n",
       "     \"<div style='background-color: #fdd'>\\n\"+\n",
       "     \"<p>\\n\"+\n",
       "     \"BokehJS does not appear to have successfully loaded. If loading BokehJS from CDN, this \\n\"+\n",
       "     \"may be due to a slow or bad network connection. Possible fixes:\\n\"+\n",
       "     \"</p>\\n\"+\n",
       "     \"<ul>\\n\"+\n",
       "     \"<li>re-rerun `output_notebook()` to attempt to load from CDN again, or</li>\\n\"+\n",
       "     \"<li>use INLINE resources instead, as so:</li>\\n\"+\n",
       "     \"</ul>\\n\"+\n",
       "     \"<code>\\n\"+\n",
       "     \"from bokeh.resources import INLINE\\n\"+\n",
       "     \"output_notebook(resources=INLINE)\\n\"+\n",
       "     \"</code>\\n\"+\n",
       "     \"</div>\"}};\n",
       "\n",
       "  function display_loaded() {\n",
       "    const el = document.getElementById(\"1002\");\n",
       "    if (el != null) {\n",
       "      el.textContent = \"BokehJS is loading...\";\n",
       "    }\n",
       "    if (root.Bokeh !== undefined) {\n",
       "      if (el != null) {\n",
       "        el.textContent = \"BokehJS \" + root.Bokeh.version + \" successfully loaded.\";\n",
       "      }\n",
       "    } else if (Date.now() < root._bokeh_timeout) {\n",
       "      setTimeout(display_loaded, 100)\n",
       "    }\n",
       "  }\n",
       "\n",
       "\n",
       "  function run_callbacks() {\n",
       "    try {\n",
       "      root._bokeh_onload_callbacks.forEach(function(callback) {\n",
       "        if (callback != null)\n",
       "          callback();\n",
       "      });\n",
       "    } finally {\n",
       "      delete root._bokeh_onload_callbacks\n",
       "    }\n",
       "    console.debug(\"Bokeh: all callbacks have finished\");\n",
       "  }\n",
       "\n",
       "  function load_libs(css_urls, js_urls, callback) {\n",
       "    if (css_urls == null) css_urls = [];\n",
       "    if (js_urls == null) js_urls = [];\n",
       "\n",
       "    root._bokeh_onload_callbacks.push(callback);\n",
       "    if (root._bokeh_is_loading > 0) {\n",
       "      console.debug(\"Bokeh: BokehJS is being loaded, scheduling callback at\", now());\n",
       "      return null;\n",
       "    }\n",
       "    if (js_urls == null || js_urls.length === 0) {\n",
       "      run_callbacks();\n",
       "      return null;\n",
       "    }\n",
       "    console.debug(\"Bokeh: BokehJS not loaded, scheduling load and callback at\", now());\n",
       "    root._bokeh_is_loading = css_urls.length + js_urls.length;\n",
       "\n",
       "    function on_load() {\n",
       "      root._bokeh_is_loading--;\n",
       "      if (root._bokeh_is_loading === 0) {\n",
       "        console.debug(\"Bokeh: all BokehJS libraries/stylesheets loaded\");\n",
       "        run_callbacks()\n",
       "      }\n",
       "    }\n",
       "\n",
       "    function on_error(url) {\n",
       "      console.error(\"failed to load \" + url);\n",
       "    }\n",
       "\n",
       "    for (let i = 0; i < css_urls.length; i++) {\n",
       "      const url = css_urls[i];\n",
       "      const element = document.createElement(\"link\");\n",
       "      element.onload = on_load;\n",
       "      element.onerror = on_error.bind(null, url);\n",
       "      element.rel = \"stylesheet\";\n",
       "      element.type = \"text/css\";\n",
       "      element.href = url;\n",
       "      console.debug(\"Bokeh: injecting link tag for BokehJS stylesheet: \", url);\n",
       "      document.body.appendChild(element);\n",
       "    }\n",
       "\n",
       "    for (let i = 0; i < js_urls.length; i++) {\n",
       "      const url = js_urls[i];\n",
       "      const element = document.createElement('script');\n",
       "      element.onload = on_load;\n",
       "      element.onerror = on_error.bind(null, url);\n",
       "      element.async = false;\n",
       "      element.src = url;\n",
       "      console.debug(\"Bokeh: injecting script tag for BokehJS library: \", url);\n",
       "      document.head.appendChild(element);\n",
       "    }\n",
       "  };\n",
       "\n",
       "  function inject_raw_css(css) {\n",
       "    const element = document.createElement(\"style\");\n",
       "    element.appendChild(document.createTextNode(css));\n",
       "    document.body.appendChild(element);\n",
       "  }\n",
       "\n",
       "  \n",
       "  const js_urls = [\"https://cdn.bokeh.org/bokeh/release/bokeh-2.4.1.min.js\", \"https://cdn.bokeh.org/bokeh/release/bokeh-gl-2.4.1.min.js\", \"https://cdn.bokeh.org/bokeh/release/bokeh-widgets-2.4.1.min.js\", \"https://cdn.bokeh.org/bokeh/release/bokeh-tables-2.4.1.min.js\", \"https://cdn.bokeh.org/bokeh/release/bokeh-mathjax-2.4.1.min.js\"];\n",
       "  const css_urls = [];\n",
       "  \n",
       "\n",
       "  const inline_js = [\n",
       "    function(Bokeh) {\n",
       "      Bokeh.set_log_level(\"info\");\n",
       "    },\n",
       "    function(Bokeh) {\n",
       "    \n",
       "    \n",
       "    }\n",
       "  ];\n",
       "\n",
       "  function run_inline_js() {\n",
       "    \n",
       "    if (root.Bokeh !== undefined || force === true) {\n",
       "      \n",
       "    for (let i = 0; i < inline_js.length; i++) {\n",
       "      inline_js[i].call(root, root.Bokeh);\n",
       "    }\n",
       "    if (force === true) {\n",
       "        display_loaded();\n",
       "      }} else if (Date.now() < root._bokeh_timeout) {\n",
       "      setTimeout(run_inline_js, 100);\n",
       "    } else if (!root._bokeh_failed_load) {\n",
       "      console.log(\"Bokeh: BokehJS failed to load within specified timeout.\");\n",
       "      root._bokeh_failed_load = true;\n",
       "    } else if (force !== true) {\n",
       "      const cell = $(document.getElementById(\"1002\")).parents('.cell').data().cell;\n",
       "      cell.output_area.append_execute_result(NB_LOAD_WARNING)\n",
       "    }\n",
       "\n",
       "  }\n",
       "\n",
       "  if (root._bokeh_is_loading === 0) {\n",
       "    console.debug(\"Bokeh: BokehJS loaded, going straight to plotting\");\n",
       "    run_inline_js();\n",
       "  } else {\n",
       "    load_libs(css_urls, js_urls, function() {\n",
       "      console.debug(\"Bokeh: BokehJS plotting callback run at\", now());\n",
       "      run_inline_js();\n",
       "    });\n",
       "  }\n",
       "}(window));"
      ],
      "application/vnd.bokehjs_load.v0+json": "\n(function(root) {\n  function now() {\n    return new Date();\n  }\n\n  const force = true;\n\n  if (typeof root._bokeh_onload_callbacks === \"undefined\" || force === true) {\n    root._bokeh_onload_callbacks = [];\n    root._bokeh_is_loading = undefined;\n  }\n\n  \n\n  \n  if (typeof (root._bokeh_timeout) === \"undefined\" || force === true) {\n    root._bokeh_timeout = Date.now() + 5000;\n    root._bokeh_failed_load = false;\n  }\n\n  const NB_LOAD_WARNING = {'data': {'text/html':\n     \"<div style='background-color: #fdd'>\\n\"+\n     \"<p>\\n\"+\n     \"BokehJS does not appear to have successfully loaded. If loading BokehJS from CDN, this \\n\"+\n     \"may be due to a slow or bad network connection. Possible fixes:\\n\"+\n     \"</p>\\n\"+\n     \"<ul>\\n\"+\n     \"<li>re-rerun `output_notebook()` to attempt to load from CDN again, or</li>\\n\"+\n     \"<li>use INLINE resources instead, as so:</li>\\n\"+\n     \"</ul>\\n\"+\n     \"<code>\\n\"+\n     \"from bokeh.resources import INLINE\\n\"+\n     \"output_notebook(resources=INLINE)\\n\"+\n     \"</code>\\n\"+\n     \"</div>\"}};\n\n  function display_loaded() {\n    const el = document.getElementById(\"1002\");\n    if (el != null) {\n      el.textContent = \"BokehJS is loading...\";\n    }\n    if (root.Bokeh !== undefined) {\n      if (el != null) {\n        el.textContent = \"BokehJS \" + root.Bokeh.version + \" successfully loaded.\";\n      }\n    } else if (Date.now() < root._bokeh_timeout) {\n      setTimeout(display_loaded, 100)\n    }\n  }\n\n\n  function run_callbacks() {\n    try {\n      root._bokeh_onload_callbacks.forEach(function(callback) {\n        if (callback != null)\n          callback();\n      });\n    } finally {\n      delete root._bokeh_onload_callbacks\n    }\n    console.debug(\"Bokeh: all callbacks have finished\");\n  }\n\n  function load_libs(css_urls, js_urls, callback) {\n    if (css_urls == null) css_urls = [];\n    if (js_urls == null) js_urls = [];\n\n    root._bokeh_onload_callbacks.push(callback);\n    if (root._bokeh_is_loading > 0) {\n      console.debug(\"Bokeh: BokehJS is being loaded, scheduling callback at\", now());\n      return null;\n    }\n    if (js_urls == null || js_urls.length === 0) {\n      run_callbacks();\n      return null;\n    }\n    console.debug(\"Bokeh: BokehJS not loaded, scheduling load and callback at\", now());\n    root._bokeh_is_loading = css_urls.length + js_urls.length;\n\n    function on_load() {\n      root._bokeh_is_loading--;\n      if (root._bokeh_is_loading === 0) {\n        console.debug(\"Bokeh: all BokehJS libraries/stylesheets loaded\");\n        run_callbacks()\n      }\n    }\n\n    function on_error(url) {\n      console.error(\"failed to load \" + url);\n    }\n\n    for (let i = 0; i < css_urls.length; i++) {\n      const url = css_urls[i];\n      const element = document.createElement(\"link\");\n      element.onload = on_load;\n      element.onerror = on_error.bind(null, url);\n      element.rel = \"stylesheet\";\n      element.type = \"text/css\";\n      element.href = url;\n      console.debug(\"Bokeh: injecting link tag for BokehJS stylesheet: \", url);\n      document.body.appendChild(element);\n    }\n\n    for (let i = 0; i < js_urls.length; i++) {\n      const url = js_urls[i];\n      const element = document.createElement('script');\n      element.onload = on_load;\n      element.onerror = on_error.bind(null, url);\n      element.async = false;\n      element.src = url;\n      console.debug(\"Bokeh: injecting script tag for BokehJS library: \", url);\n      document.head.appendChild(element);\n    }\n  };\n\n  function inject_raw_css(css) {\n    const element = document.createElement(\"style\");\n    element.appendChild(document.createTextNode(css));\n    document.body.appendChild(element);\n  }\n\n  \n  const js_urls = [\"https://cdn.bokeh.org/bokeh/release/bokeh-2.4.1.min.js\", \"https://cdn.bokeh.org/bokeh/release/bokeh-gl-2.4.1.min.js\", \"https://cdn.bokeh.org/bokeh/release/bokeh-widgets-2.4.1.min.js\", \"https://cdn.bokeh.org/bokeh/release/bokeh-tables-2.4.1.min.js\", \"https://cdn.bokeh.org/bokeh/release/bokeh-mathjax-2.4.1.min.js\"];\n  const css_urls = [];\n  \n\n  const inline_js = [\n    function(Bokeh) {\n      Bokeh.set_log_level(\"info\");\n    },\n    function(Bokeh) {\n    \n    \n    }\n  ];\n\n  function run_inline_js() {\n    \n    if (root.Bokeh !== undefined || force === true) {\n      \n    for (let i = 0; i < inline_js.length; i++) {\n      inline_js[i].call(root, root.Bokeh);\n    }\n    if (force === true) {\n        display_loaded();\n      }} else if (Date.now() < root._bokeh_timeout) {\n      setTimeout(run_inline_js, 100);\n    } else if (!root._bokeh_failed_load) {\n      console.log(\"Bokeh: BokehJS failed to load within specified timeout.\");\n      root._bokeh_failed_load = true;\n    } else if (force !== true) {\n      const cell = $(document.getElementById(\"1002\")).parents('.cell').data().cell;\n      cell.output_area.append_execute_result(NB_LOAD_WARNING)\n    }\n\n  }\n\n  if (root._bokeh_is_loading === 0) {\n    console.debug(\"Bokeh: BokehJS loaded, going straight to plotting\");\n    run_inline_js();\n  } else {\n    load_libs(css_urls, js_urls, function() {\n      console.debug(\"Bokeh: BokehJS plotting callback run at\", now());\n      run_inline_js();\n    });\n  }\n}(window));"
     },
     "metadata": {},
     "output_type": "display_data"
    },
    {
     "data": {
      "application/javascript": [
       "(function(root) {\n",
       "  function now() {\n",
       "    return new Date();\n",
       "  }\n",
       "\n",
       "  var force = true;\n",
       "\n",
       "  if (typeof root._bokeh_onload_callbacks === \"undefined\" || force === true) {\n",
       "    root._bokeh_onload_callbacks = [];\n",
       "    root._bokeh_is_loading = undefined;\n",
       "  }\n",
       "\n",
       "  if (typeof (root._bokeh_timeout) === \"undefined\" || force === true) {\n",
       "    root._bokeh_timeout = Date.now() + 5000;\n",
       "    root._bokeh_failed_load = false;\n",
       "  }\n",
       "\n",
       "  function run_callbacks() {\n",
       "    try {\n",
       "      root._bokeh_onload_callbacks.forEach(function(callback) {\n",
       "        if (callback != null)\n",
       "          callback();\n",
       "      });\n",
       "    } finally {\n",
       "      delete root._bokeh_onload_callbacks\n",
       "    }\n",
       "    console.debug(\"Bokeh: all callbacks have finished\");\n",
       "  }\n",
       "\n",
       "  function load_libs(css_urls, js_urls, js_modules, callback) {\n",
       "    if (css_urls == null) css_urls = [];\n",
       "    if (js_urls == null) js_urls = [];\n",
       "    if (js_modules == null) js_modules = [];\n",
       "\n",
       "    root._bokeh_onload_callbacks.push(callback);\n",
       "    if (root._bokeh_is_loading > 0) {\n",
       "      console.debug(\"Bokeh: BokehJS is being loaded, scheduling callback at\", now());\n",
       "      return null;\n",
       "    }\n",
       "    if (js_urls.length === 0 && js_modules.length === 0) {\n",
       "      run_callbacks();\n",
       "      return null;\n",
       "    }\n",
       "    console.debug(\"Bokeh: BokehJS not loaded, scheduling load and callback at\", now());\n",
       "\n",
       "    function on_load() {\n",
       "      root._bokeh_is_loading--;\n",
       "      if (root._bokeh_is_loading === 0) {\n",
       "        console.debug(\"Bokeh: all BokehJS libraries/stylesheets loaded\");\n",
       "        run_callbacks()\n",
       "      }\n",
       "    }\n",
       "\n",
       "    function on_error() {\n",
       "      console.error(\"failed to load \" + url);\n",
       "    }\n",
       "\n",
       "    for (var i = 0; i < css_urls.length; i++) {\n",
       "      var url = css_urls[i];\n",
       "      const element = document.createElement(\"link\");\n",
       "      element.onload = on_load;\n",
       "      element.onerror = on_error;\n",
       "      element.rel = \"stylesheet\";\n",
       "      element.type = \"text/css\";\n",
       "      element.href = url;\n",
       "      console.debug(\"Bokeh: injecting link tag for BokehJS stylesheet: \", url);\n",
       "      document.body.appendChild(element);\n",
       "    }\n",
       "\n",
       "    var skip = [];\n",
       "    if (window.requirejs) {\n",
       "      window.requirejs.config({'packages': {}, 'paths': {'gridstack': 'https://cdn.jsdelivr.net/npm/gridstack@4.2.5/dist/gridstack-h5', 'notyf': 'https://cdn.jsdelivr.net/npm/notyf@3/notyf.min'}, 'shim': {'gridstack': {'exports': 'GridStack'}}});\n",
       "      require([\"gridstack\"], function(GridStack) {\n",
       "\twindow.GridStack = GridStack\n",
       "\ton_load()\n",
       "      })\n",
       "      require([\"notyf\"], function() {\n",
       "\ton_load()\n",
       "      })\n",
       "      root._bokeh_is_loading = css_urls.length + 2;\n",
       "    } else {\n",
       "      root._bokeh_is_loading = css_urls.length + js_urls.length + js_modules.length;\n",
       "    }    if (((window['GridStack'] !== undefined) && (!(window['GridStack'] instanceof HTMLElement))) || window.requirejs) {\n",
       "      var urls = ['https://cdn.jsdelivr.net/npm/gridstack@4.2.5/dist/gridstack-h5.js'];\n",
       "      for (var i = 0; i < urls.length; i++) {\n",
       "        skip.push(urls[i])\n",
       "      }\n",
       "    }    if (((window['Notyf'] !== undefined) && (!(window['Notyf'] instanceof HTMLElement))) || window.requirejs) {\n",
       "      var urls = ['https://cdn.jsdelivr.net/npm/notyf@3/notyf.min.js'];\n",
       "      for (var i = 0; i < urls.length; i++) {\n",
       "        skip.push(urls[i])\n",
       "      }\n",
       "    }    for (var i = 0; i < js_urls.length; i++) {\n",
       "      var url = js_urls[i];\n",
       "      if (skip.indexOf(url) >= 0) {\n",
       "\tif (!window.requirejs) {\n",
       "\t  on_load();\n",
       "\t}\n",
       "\tcontinue;\n",
       "      }\n",
       "      var element = document.createElement('script');\n",
       "      element.onload = on_load;\n",
       "      element.onerror = on_error;\n",
       "      element.async = false;\n",
       "      element.src = url;\n",
       "      console.debug(\"Bokeh: injecting script tag for BokehJS library: \", url);\n",
       "      document.head.appendChild(element);\n",
       "    }\n",
       "    for (var i = 0; i < js_modules.length; i++) {\n",
       "      var url = js_modules[i];\n",
       "      if (skip.indexOf(url) >= 0) {\n",
       "\tif (!window.requirejs) {\n",
       "\t  on_load();\n",
       "\t}\n",
       "\tcontinue;\n",
       "      }\n",
       "      var element = document.createElement('script');\n",
       "      element.onload = on_load;\n",
       "      element.onerror = on_error;\n",
       "      element.async = false;\n",
       "      element.src = url;\n",
       "      element.type = \"module\";\n",
       "      console.debug(\"Bokeh: injecting script tag for BokehJS library: \", url);\n",
       "      document.head.appendChild(element);\n",
       "    }\n",
       "    if (!js_urls.length && !js_modules.length) {\n",
       "      on_load()\n",
       "    }\n",
       "  };\n",
       "\n",
       "  function inject_raw_css(css) {\n",
       "    const element = document.createElement(\"style\");\n",
       "    element.appendChild(document.createTextNode(css));\n",
       "    document.body.appendChild(element);\n",
       "  }\n",
       "\n",
       "  var js_urls = [\"https://cdn.bokeh.org/bokeh/release/bokeh-2.4.1.min.js\", \"https://cdn.bokeh.org/bokeh/release/bokeh-gl-2.4.1.min.js\", \"https://cdn.bokeh.org/bokeh/release/bokeh-widgets-2.4.1.min.js\", \"https://cdn.bokeh.org/bokeh/release/bokeh-tables-2.4.1.min.js\", \"https://cdn.bokeh.org/bokeh/release/bokeh-mathjax-2.4.1.min.js\", \"https://cdn.jsdelivr.net/npm/notyf@3/notyf.min.js\", \"https://unpkg.com/@holoviz/panel@0.13.1/dist/panel.min.js\"];\n",
       "  var js_modules = [];\n",
       "  var css_urls = [\"https://cdn.jsdelivr.net/npm/notyf@3/notyf.min.css\", \"https://cdnjs.cloudflare.com/ajax/libs/font-awesome/5.15.1/css/all.min.css\", \"https://unpkg.com/@holoviz/panel@0.13.1/dist/css/alerts.css\", \"https://unpkg.com/@holoviz/panel@0.13.1/dist/css/card.css\", \"https://unpkg.com/@holoviz/panel@0.13.1/dist/css/dataframe.css\", \"https://unpkg.com/@holoviz/panel@0.13.1/dist/css/debugger.css\", \"https://unpkg.com/@holoviz/panel@0.13.1/dist/css/json.css\", \"https://unpkg.com/@holoviz/panel@0.13.1/dist/css/loading.css\", \"https://unpkg.com/@holoviz/panel@0.13.1/dist/css/markdown.css\", \"https://unpkg.com/@holoviz/panel@0.13.1/dist/css/widgets.css\"];\n",
       "  var inline_js = [    function(Bokeh) {\n",
       "      inject_raw_css(\"\\n    .bk.pn-loading.arcs:before {\\n      background-image: url(\\\"data:image/svg+xml;base64,PHN2ZyB4bWxucz0iaHR0cDovL3d3dy53My5vcmcvMjAwMC9zdmciIHhtbG5zOnhsaW5rPSJodHRwOi8vd3d3LnczLm9yZy8xOTk5L3hsaW5rIiBzdHlsZT0ibWFyZ2luOiBhdXRvOyBiYWNrZ3JvdW5kOiBub25lOyBkaXNwbGF5OiBibG9jazsgc2hhcGUtcmVuZGVyaW5nOiBhdXRvOyIgdmlld0JveD0iMCAwIDEwMCAxMDAiIHByZXNlcnZlQXNwZWN0UmF0aW89InhNaWRZTWlkIj4gIDxjaXJjbGUgY3g9IjUwIiBjeT0iNTAiIHI9IjMyIiBzdHJva2Utd2lkdGg9IjgiIHN0cm9rZT0iI2MzYzNjMyIgc3Ryb2tlLWRhc2hhcnJheT0iNTAuMjY1NDgyNDU3NDM2NjkgNTAuMjY1NDgyNDU3NDM2NjkiIGZpbGw9Im5vbmUiIHN0cm9rZS1saW5lY2FwPSJyb3VuZCI+ICAgIDxhbmltYXRlVHJhbnNmb3JtIGF0dHJpYnV0ZU5hbWU9InRyYW5zZm9ybSIgdHlwZT0icm90YXRlIiByZXBlYXRDb3VudD0iaW5kZWZpbml0ZSIgZHVyPSIxcyIga2V5VGltZXM9IjA7MSIgdmFsdWVzPSIwIDUwIDUwOzM2MCA1MCA1MCI+PC9hbmltYXRlVHJhbnNmb3JtPiAgPC9jaXJjbGU+PC9zdmc+\\\");\\n      background-size: auto calc(min(50%, 400px));\\n    }\\n    \");\n",
       "    },    function(Bokeh) {\n",
       "      Bokeh.set_log_level(\"info\");\n",
       "    },\n",
       "function(Bokeh) {} // ensure no trailing comma for IE\n",
       "  ];\n",
       "\n",
       "  function run_inline_js() {\n",
       "    if ((root.Bokeh !== undefined) || (force === true)) {\n",
       "      for (var i = 0; i < inline_js.length; i++) {\n",
       "        inline_js[i].call(root, root.Bokeh);\n",
       "      }} else if (Date.now() < root._bokeh_timeout) {\n",
       "      setTimeout(run_inline_js, 100);\n",
       "    } else if (!root._bokeh_failed_load) {\n",
       "      console.log(\"Bokeh: BokehJS failed to load within specified timeout.\");\n",
       "      root._bokeh_failed_load = true;\n",
       "    }\n",
       "  }\n",
       "\n",
       "  if (root._bokeh_is_loading === 0) {\n",
       "    console.debug(\"Bokeh: BokehJS loaded, going straight to plotting\");\n",
       "    run_inline_js();\n",
       "  } else {\n",
       "    load_libs(css_urls, js_urls, js_modules, function() {\n",
       "      console.debug(\"Bokeh: BokehJS plotting callback run at\", now());\n",
       "      run_inline_js();\n",
       "    });\n",
       "  }\n",
       "}(window));"
      ],
      "application/vnd.holoviews_load.v0+json": "(function(root) {\n  function now() {\n    return new Date();\n  }\n\n  var force = true;\n\n  if (typeof root._bokeh_onload_callbacks === \"undefined\" || force === true) {\n    root._bokeh_onload_callbacks = [];\n    root._bokeh_is_loading = undefined;\n  }\n\n  if (typeof (root._bokeh_timeout) === \"undefined\" || force === true) {\n    root._bokeh_timeout = Date.now() + 5000;\n    root._bokeh_failed_load = false;\n  }\n\n  function run_callbacks() {\n    try {\n      root._bokeh_onload_callbacks.forEach(function(callback) {\n        if (callback != null)\n          callback();\n      });\n    } finally {\n      delete root._bokeh_onload_callbacks\n    }\n    console.debug(\"Bokeh: all callbacks have finished\");\n  }\n\n  function load_libs(css_urls, js_urls, js_modules, callback) {\n    if (css_urls == null) css_urls = [];\n    if (js_urls == null) js_urls = [];\n    if (js_modules == null) js_modules = [];\n\n    root._bokeh_onload_callbacks.push(callback);\n    if (root._bokeh_is_loading > 0) {\n      console.debug(\"Bokeh: BokehJS is being loaded, scheduling callback at\", now());\n      return null;\n    }\n    if (js_urls.length === 0 && js_modules.length === 0) {\n      run_callbacks();\n      return null;\n    }\n    console.debug(\"Bokeh: BokehJS not loaded, scheduling load and callback at\", now());\n\n    function on_load() {\n      root._bokeh_is_loading--;\n      if (root._bokeh_is_loading === 0) {\n        console.debug(\"Bokeh: all BokehJS libraries/stylesheets loaded\");\n        run_callbacks()\n      }\n    }\n\n    function on_error() {\n      console.error(\"failed to load \" + url);\n    }\n\n    for (var i = 0; i < css_urls.length; i++) {\n      var url = css_urls[i];\n      const element = document.createElement(\"link\");\n      element.onload = on_load;\n      element.onerror = on_error;\n      element.rel = \"stylesheet\";\n      element.type = \"text/css\";\n      element.href = url;\n      console.debug(\"Bokeh: injecting link tag for BokehJS stylesheet: \", url);\n      document.body.appendChild(element);\n    }\n\n    var skip = [];\n    if (window.requirejs) {\n      window.requirejs.config({'packages': {}, 'paths': {'gridstack': 'https://cdn.jsdelivr.net/npm/gridstack@4.2.5/dist/gridstack-h5', 'notyf': 'https://cdn.jsdelivr.net/npm/notyf@3/notyf.min'}, 'shim': {'gridstack': {'exports': 'GridStack'}}});\n      require([\"gridstack\"], function(GridStack) {\n\twindow.GridStack = GridStack\n\ton_load()\n      })\n      require([\"notyf\"], function() {\n\ton_load()\n      })\n      root._bokeh_is_loading = css_urls.length + 2;\n    } else {\n      root._bokeh_is_loading = css_urls.length + js_urls.length + js_modules.length;\n    }    if (((window['GridStack'] !== undefined) && (!(window['GridStack'] instanceof HTMLElement))) || window.requirejs) {\n      var urls = ['https://cdn.jsdelivr.net/npm/gridstack@4.2.5/dist/gridstack-h5.js'];\n      for (var i = 0; i < urls.length; i++) {\n        skip.push(urls[i])\n      }\n    }    if (((window['Notyf'] !== undefined) && (!(window['Notyf'] instanceof HTMLElement))) || window.requirejs) {\n      var urls = ['https://cdn.jsdelivr.net/npm/notyf@3/notyf.min.js'];\n      for (var i = 0; i < urls.length; i++) {\n        skip.push(urls[i])\n      }\n    }    for (var i = 0; i < js_urls.length; i++) {\n      var url = js_urls[i];\n      if (skip.indexOf(url) >= 0) {\n\tif (!window.requirejs) {\n\t  on_load();\n\t}\n\tcontinue;\n      }\n      var element = document.createElement('script');\n      element.onload = on_load;\n      element.onerror = on_error;\n      element.async = false;\n      element.src = url;\n      console.debug(\"Bokeh: injecting script tag for BokehJS library: \", url);\n      document.head.appendChild(element);\n    }\n    for (var i = 0; i < js_modules.length; i++) {\n      var url = js_modules[i];\n      if (skip.indexOf(url) >= 0) {\n\tif (!window.requirejs) {\n\t  on_load();\n\t}\n\tcontinue;\n      }\n      var element = document.createElement('script');\n      element.onload = on_load;\n      element.onerror = on_error;\n      element.async = false;\n      element.src = url;\n      element.type = \"module\";\n      console.debug(\"Bokeh: injecting script tag for BokehJS library: \", url);\n      document.head.appendChild(element);\n    }\n    if (!js_urls.length && !js_modules.length) {\n      on_load()\n    }\n  };\n\n  function inject_raw_css(css) {\n    const element = document.createElement(\"style\");\n    element.appendChild(document.createTextNode(css));\n    document.body.appendChild(element);\n  }\n\n  var js_urls = [\"https://cdn.bokeh.org/bokeh/release/bokeh-2.4.1.min.js\", \"https://cdn.bokeh.org/bokeh/release/bokeh-gl-2.4.1.min.js\", \"https://cdn.bokeh.org/bokeh/release/bokeh-widgets-2.4.1.min.js\", \"https://cdn.bokeh.org/bokeh/release/bokeh-tables-2.4.1.min.js\", \"https://cdn.bokeh.org/bokeh/release/bokeh-mathjax-2.4.1.min.js\", \"https://cdn.jsdelivr.net/npm/notyf@3/notyf.min.js\", \"https://unpkg.com/@holoviz/panel@0.13.1/dist/panel.min.js\"];\n  var js_modules = [];\n  var css_urls = [\"https://cdn.jsdelivr.net/npm/notyf@3/notyf.min.css\", \"https://cdnjs.cloudflare.com/ajax/libs/font-awesome/5.15.1/css/all.min.css\", \"https://unpkg.com/@holoviz/panel@0.13.1/dist/css/alerts.css\", \"https://unpkg.com/@holoviz/panel@0.13.1/dist/css/card.css\", \"https://unpkg.com/@holoviz/panel@0.13.1/dist/css/dataframe.css\", \"https://unpkg.com/@holoviz/panel@0.13.1/dist/css/debugger.css\", \"https://unpkg.com/@holoviz/panel@0.13.1/dist/css/json.css\", \"https://unpkg.com/@holoviz/panel@0.13.1/dist/css/loading.css\", \"https://unpkg.com/@holoviz/panel@0.13.1/dist/css/markdown.css\", \"https://unpkg.com/@holoviz/panel@0.13.1/dist/css/widgets.css\"];\n  var inline_js = [    function(Bokeh) {\n      inject_raw_css(\"\\n    .bk.pn-loading.arcs:before {\\n      background-image: url(\\\"data:image/svg+xml;base64,PHN2ZyB4bWxucz0iaHR0cDovL3d3dy53My5vcmcvMjAwMC9zdmciIHhtbG5zOnhsaW5rPSJodHRwOi8vd3d3LnczLm9yZy8xOTk5L3hsaW5rIiBzdHlsZT0ibWFyZ2luOiBhdXRvOyBiYWNrZ3JvdW5kOiBub25lOyBkaXNwbGF5OiBibG9jazsgc2hhcGUtcmVuZGVyaW5nOiBhdXRvOyIgdmlld0JveD0iMCAwIDEwMCAxMDAiIHByZXNlcnZlQXNwZWN0UmF0aW89InhNaWRZTWlkIj4gIDxjaXJjbGUgY3g9IjUwIiBjeT0iNTAiIHI9IjMyIiBzdHJva2Utd2lkdGg9IjgiIHN0cm9rZT0iI2MzYzNjMyIgc3Ryb2tlLWRhc2hhcnJheT0iNTAuMjY1NDgyNDU3NDM2NjkgNTAuMjY1NDgyNDU3NDM2NjkiIGZpbGw9Im5vbmUiIHN0cm9rZS1saW5lY2FwPSJyb3VuZCI+ICAgIDxhbmltYXRlVHJhbnNmb3JtIGF0dHJpYnV0ZU5hbWU9InRyYW5zZm9ybSIgdHlwZT0icm90YXRlIiByZXBlYXRDb3VudD0iaW5kZWZpbml0ZSIgZHVyPSIxcyIga2V5VGltZXM9IjA7MSIgdmFsdWVzPSIwIDUwIDUwOzM2MCA1MCA1MCI+PC9hbmltYXRlVHJhbnNmb3JtPiAgPC9jaXJjbGU+PC9zdmc+\\\");\\n      background-size: auto calc(min(50%, 400px));\\n    }\\n    \");\n    },    function(Bokeh) {\n      Bokeh.set_log_level(\"info\");\n    },\nfunction(Bokeh) {} // ensure no trailing comma for IE\n  ];\n\n  function run_inline_js() {\n    if ((root.Bokeh !== undefined) || (force === true)) {\n      for (var i = 0; i < inline_js.length; i++) {\n        inline_js[i].call(root, root.Bokeh);\n      }} else if (Date.now() < root._bokeh_timeout) {\n      setTimeout(run_inline_js, 100);\n    } else if (!root._bokeh_failed_load) {\n      console.log(\"Bokeh: BokehJS failed to load within specified timeout.\");\n      root._bokeh_failed_load = true;\n    }\n  }\n\n  if (root._bokeh_is_loading === 0) {\n    console.debug(\"Bokeh: BokehJS loaded, going straight to plotting\");\n    run_inline_js();\n  } else {\n    load_libs(css_urls, js_urls, js_modules, function() {\n      console.debug(\"Bokeh: BokehJS plotting callback run at\", now());\n      run_inline_js();\n    });\n  }\n}(window));"
     },
     "metadata": {},
     "output_type": "display_data"
    },
    {
     "data": {
      "application/javascript": [
       "\n",
       "if ((window.PyViz === undefined) || (window.PyViz instanceof HTMLElement)) {\n",
       "  window.PyViz = {comms: {}, comm_status:{}, kernels:{}, receivers: {}, plot_index: []}\n",
       "}\n",
       "\n",
       "\n",
       "    function JupyterCommManager() {\n",
       "    }\n",
       "\n",
       "    JupyterCommManager.prototype.register_target = function(plot_id, comm_id, msg_handler) {\n",
       "      if (window.comm_manager || ((window.Jupyter !== undefined) && (Jupyter.notebook.kernel != null))) {\n",
       "        var comm_manager = window.comm_manager || Jupyter.notebook.kernel.comm_manager;\n",
       "        comm_manager.register_target(comm_id, function(comm) {\n",
       "          comm.on_msg(msg_handler);\n",
       "        });\n",
       "      } else if ((plot_id in window.PyViz.kernels) && (window.PyViz.kernels[plot_id])) {\n",
       "        window.PyViz.kernels[plot_id].registerCommTarget(comm_id, function(comm) {\n",
       "          comm.onMsg = msg_handler;\n",
       "        });\n",
       "      } else if (typeof google != 'undefined' && google.colab.kernel != null) {\n",
       "        google.colab.kernel.comms.registerTarget(comm_id, (comm) => {\n",
       "          var messages = comm.messages[Symbol.asyncIterator]();\n",
       "          function processIteratorResult(result) {\n",
       "            var message = result.value;\n",
       "            console.log(message)\n",
       "            var content = {data: message.data, comm_id};\n",
       "            var buffers = []\n",
       "            for (var buffer of message.buffers || []) {\n",
       "              buffers.push(new DataView(buffer))\n",
       "            }\n",
       "            var metadata = message.metadata || {};\n",
       "            var msg = {content, buffers, metadata}\n",
       "            msg_handler(msg);\n",
       "            return messages.next().then(processIteratorResult);\n",
       "          }\n",
       "          return messages.next().then(processIteratorResult);\n",
       "        })\n",
       "      }\n",
       "    }\n",
       "\n",
       "    JupyterCommManager.prototype.get_client_comm = function(plot_id, comm_id, msg_handler) {\n",
       "      if (comm_id in window.PyViz.comms) {\n",
       "        return window.PyViz.comms[comm_id];\n",
       "      } else if (window.comm_manager || ((window.Jupyter !== undefined) && (Jupyter.notebook.kernel != null))) {\n",
       "        var comm_manager = window.comm_manager || Jupyter.notebook.kernel.comm_manager;\n",
       "        var comm = comm_manager.new_comm(comm_id, {}, {}, {}, comm_id);\n",
       "        if (msg_handler) {\n",
       "          comm.on_msg(msg_handler);\n",
       "        }\n",
       "      } else if ((plot_id in window.PyViz.kernels) && (window.PyViz.kernels[plot_id])) {\n",
       "        var comm = window.PyViz.kernels[plot_id].connectToComm(comm_id);\n",
       "        comm.open();\n",
       "        if (msg_handler) {\n",
       "          comm.onMsg = msg_handler;\n",
       "        }\n",
       "      } else if (typeof google != 'undefined' && google.colab.kernel != null) {\n",
       "        var comm_promise = google.colab.kernel.comms.open(comm_id)\n",
       "        comm_promise.then((comm) => {\n",
       "          window.PyViz.comms[comm_id] = comm;\n",
       "          if (msg_handler) {\n",
       "            var messages = comm.messages[Symbol.asyncIterator]();\n",
       "            function processIteratorResult(result) {\n",
       "              var message = result.value;\n",
       "              var content = {data: message.data};\n",
       "              var metadata = message.metadata || {comm_id};\n",
       "              var msg = {content, metadata}\n",
       "              msg_handler(msg);\n",
       "              return messages.next().then(processIteratorResult);\n",
       "            }\n",
       "            return messages.next().then(processIteratorResult);\n",
       "          }\n",
       "        }) \n",
       "        var sendClosure = (data, metadata, buffers, disposeOnDone) => {\n",
       "          return comm_promise.then((comm) => {\n",
       "            comm.send(data, metadata, buffers, disposeOnDone);\n",
       "          });\n",
       "        };\n",
       "        var comm = {\n",
       "          send: sendClosure\n",
       "        };\n",
       "      }\n",
       "      window.PyViz.comms[comm_id] = comm;\n",
       "      return comm;\n",
       "    }\n",
       "    window.PyViz.comm_manager = new JupyterCommManager();\n",
       "    \n",
       "\n",
       "\n",
       "var JS_MIME_TYPE = 'application/javascript';\n",
       "var HTML_MIME_TYPE = 'text/html';\n",
       "var EXEC_MIME_TYPE = 'application/vnd.holoviews_exec.v0+json';\n",
       "var CLASS_NAME = 'output';\n",
       "\n",
       "/**\n",
       " * Render data to the DOM node\n",
       " */\n",
       "function render(props, node) {\n",
       "  var div = document.createElement(\"div\");\n",
       "  var script = document.createElement(\"script\");\n",
       "  node.appendChild(div);\n",
       "  node.appendChild(script);\n",
       "}\n",
       "\n",
       "/**\n",
       " * Handle when a new output is added\n",
       " */\n",
       "function handle_add_output(event, handle) {\n",
       "  var output_area = handle.output_area;\n",
       "  var output = handle.output;\n",
       "  if ((output.data == undefined) || (!output.data.hasOwnProperty(EXEC_MIME_TYPE))) {\n",
       "    return\n",
       "  }\n",
       "  var id = output.metadata[EXEC_MIME_TYPE][\"id\"];\n",
       "  var toinsert = output_area.element.find(\".\" + CLASS_NAME.split(' ')[0]);\n",
       "  if (id !== undefined) {\n",
       "    var nchildren = toinsert.length;\n",
       "    var html_node = toinsert[nchildren-1].children[0];\n",
       "    html_node.innerHTML = output.data[HTML_MIME_TYPE];\n",
       "    var scripts = [];\n",
       "    var nodelist = html_node.querySelectorAll(\"script\");\n",
       "    for (var i in nodelist) {\n",
       "      if (nodelist.hasOwnProperty(i)) {\n",
       "        scripts.push(nodelist[i])\n",
       "      }\n",
       "    }\n",
       "\n",
       "    scripts.forEach( function (oldScript) {\n",
       "      var newScript = document.createElement(\"script\");\n",
       "      var attrs = [];\n",
       "      var nodemap = oldScript.attributes;\n",
       "      for (var j in nodemap) {\n",
       "        if (nodemap.hasOwnProperty(j)) {\n",
       "          attrs.push(nodemap[j])\n",
       "        }\n",
       "      }\n",
       "      attrs.forEach(function(attr) { newScript.setAttribute(attr.name, attr.value) });\n",
       "      newScript.appendChild(document.createTextNode(oldScript.innerHTML));\n",
       "      oldScript.parentNode.replaceChild(newScript, oldScript);\n",
       "    });\n",
       "    if (JS_MIME_TYPE in output.data) {\n",
       "      toinsert[nchildren-1].children[1].textContent = output.data[JS_MIME_TYPE];\n",
       "    }\n",
       "    output_area._hv_plot_id = id;\n",
       "    if ((window.Bokeh !== undefined) && (id in Bokeh.index)) {\n",
       "      window.PyViz.plot_index[id] = Bokeh.index[id];\n",
       "    } else {\n",
       "      window.PyViz.plot_index[id] = null;\n",
       "    }\n",
       "  } else if (output.metadata[EXEC_MIME_TYPE][\"server_id\"] !== undefined) {\n",
       "    var bk_div = document.createElement(\"div\");\n",
       "    bk_div.innerHTML = output.data[HTML_MIME_TYPE];\n",
       "    var script_attrs = bk_div.children[0].attributes;\n",
       "    for (var i = 0; i < script_attrs.length; i++) {\n",
       "      toinsert[toinsert.length - 1].childNodes[1].setAttribute(script_attrs[i].name, script_attrs[i].value);\n",
       "    }\n",
       "    // store reference to server id on output_area\n",
       "    output_area._bokeh_server_id = output.metadata[EXEC_MIME_TYPE][\"server_id\"];\n",
       "  }\n",
       "}\n",
       "\n",
       "/**\n",
       " * Handle when an output is cleared or removed\n",
       " */\n",
       "function handle_clear_output(event, handle) {\n",
       "  var id = handle.cell.output_area._hv_plot_id;\n",
       "  var server_id = handle.cell.output_area._bokeh_server_id;\n",
       "  if (((id === undefined) || !(id in PyViz.plot_index)) && (server_id !== undefined)) { return; }\n",
       "  var comm = window.PyViz.comm_manager.get_client_comm(\"hv-extension-comm\", \"hv-extension-comm\", function () {});\n",
       "  if (server_id !== null) {\n",
       "    comm.send({event_type: 'server_delete', 'id': server_id});\n",
       "    return;\n",
       "  } else if (comm !== null) {\n",
       "    comm.send({event_type: 'delete', 'id': id});\n",
       "  }\n",
       "  delete PyViz.plot_index[id];\n",
       "  if ((window.Bokeh !== undefined) & (id in window.Bokeh.index)) {\n",
       "    var doc = window.Bokeh.index[id].model.document\n",
       "    doc.clear();\n",
       "    const i = window.Bokeh.documents.indexOf(doc);\n",
       "    if (i > -1) {\n",
       "      window.Bokeh.documents.splice(i, 1);\n",
       "    }\n",
       "  }\n",
       "}\n",
       "\n",
       "/**\n",
       " * Handle kernel restart event\n",
       " */\n",
       "function handle_kernel_cleanup(event, handle) {\n",
       "  delete PyViz.comms[\"hv-extension-comm\"];\n",
       "  window.PyViz.plot_index = {}\n",
       "}\n",
       "\n",
       "/**\n",
       " * Handle update_display_data messages\n",
       " */\n",
       "function handle_update_output(event, handle) {\n",
       "  handle_clear_output(event, {cell: {output_area: handle.output_area}})\n",
       "  handle_add_output(event, handle)\n",
       "}\n",
       "\n",
       "function register_renderer(events, OutputArea) {\n",
       "  function append_mime(data, metadata, element) {\n",
       "    // create a DOM node to render to\n",
       "    var toinsert = this.create_output_subarea(\n",
       "    metadata,\n",
       "    CLASS_NAME,\n",
       "    EXEC_MIME_TYPE\n",
       "    );\n",
       "    this.keyboard_manager.register_events(toinsert);\n",
       "    // Render to node\n",
       "    var props = {data: data, metadata: metadata[EXEC_MIME_TYPE]};\n",
       "    render(props, toinsert[0]);\n",
       "    element.append(toinsert);\n",
       "    return toinsert\n",
       "  }\n",
       "\n",
       "  events.on('output_added.OutputArea', handle_add_output);\n",
       "  events.on('output_updated.OutputArea', handle_update_output);\n",
       "  events.on('clear_output.CodeCell', handle_clear_output);\n",
       "  events.on('delete.Cell', handle_clear_output);\n",
       "  events.on('kernel_ready.Kernel', handle_kernel_cleanup);\n",
       "\n",
       "  OutputArea.prototype.register_mime_type(EXEC_MIME_TYPE, append_mime, {\n",
       "    safe: true,\n",
       "    index: 0\n",
       "  });\n",
       "}\n",
       "\n",
       "if (window.Jupyter !== undefined) {\n",
       "  try {\n",
       "    var events = require('base/js/events');\n",
       "    var OutputArea = require('notebook/js/outputarea').OutputArea;\n",
       "    if (OutputArea.prototype.mime_types().indexOf(EXEC_MIME_TYPE) == -1) {\n",
       "      register_renderer(events, OutputArea);\n",
       "    }\n",
       "  } catch(err) {\n",
       "  }\n",
       "}\n"
      ],
      "application/vnd.holoviews_load.v0+json": "\nif ((window.PyViz === undefined) || (window.PyViz instanceof HTMLElement)) {\n  window.PyViz = {comms: {}, comm_status:{}, kernels:{}, receivers: {}, plot_index: []}\n}\n\n\n    function JupyterCommManager() {\n    }\n\n    JupyterCommManager.prototype.register_target = function(plot_id, comm_id, msg_handler) {\n      if (window.comm_manager || ((window.Jupyter !== undefined) && (Jupyter.notebook.kernel != null))) {\n        var comm_manager = window.comm_manager || Jupyter.notebook.kernel.comm_manager;\n        comm_manager.register_target(comm_id, function(comm) {\n          comm.on_msg(msg_handler);\n        });\n      } else if ((plot_id in window.PyViz.kernels) && (window.PyViz.kernels[plot_id])) {\n        window.PyViz.kernels[plot_id].registerCommTarget(comm_id, function(comm) {\n          comm.onMsg = msg_handler;\n        });\n      } else if (typeof google != 'undefined' && google.colab.kernel != null) {\n        google.colab.kernel.comms.registerTarget(comm_id, (comm) => {\n          var messages = comm.messages[Symbol.asyncIterator]();\n          function processIteratorResult(result) {\n            var message = result.value;\n            console.log(message)\n            var content = {data: message.data, comm_id};\n            var buffers = []\n            for (var buffer of message.buffers || []) {\n              buffers.push(new DataView(buffer))\n            }\n            var metadata = message.metadata || {};\n            var msg = {content, buffers, metadata}\n            msg_handler(msg);\n            return messages.next().then(processIteratorResult);\n          }\n          return messages.next().then(processIteratorResult);\n        })\n      }\n    }\n\n    JupyterCommManager.prototype.get_client_comm = function(plot_id, comm_id, msg_handler) {\n      if (comm_id in window.PyViz.comms) {\n        return window.PyViz.comms[comm_id];\n      } else if (window.comm_manager || ((window.Jupyter !== undefined) && (Jupyter.notebook.kernel != null))) {\n        var comm_manager = window.comm_manager || Jupyter.notebook.kernel.comm_manager;\n        var comm = comm_manager.new_comm(comm_id, {}, {}, {}, comm_id);\n        if (msg_handler) {\n          comm.on_msg(msg_handler);\n        }\n      } else if ((plot_id in window.PyViz.kernels) && (window.PyViz.kernels[plot_id])) {\n        var comm = window.PyViz.kernels[plot_id].connectToComm(comm_id);\n        comm.open();\n        if (msg_handler) {\n          comm.onMsg = msg_handler;\n        }\n      } else if (typeof google != 'undefined' && google.colab.kernel != null) {\n        var comm_promise = google.colab.kernel.comms.open(comm_id)\n        comm_promise.then((comm) => {\n          window.PyViz.comms[comm_id] = comm;\n          if (msg_handler) {\n            var messages = comm.messages[Symbol.asyncIterator]();\n            function processIteratorResult(result) {\n              var message = result.value;\n              var content = {data: message.data};\n              var metadata = message.metadata || {comm_id};\n              var msg = {content, metadata}\n              msg_handler(msg);\n              return messages.next().then(processIteratorResult);\n            }\n            return messages.next().then(processIteratorResult);\n          }\n        }) \n        var sendClosure = (data, metadata, buffers, disposeOnDone) => {\n          return comm_promise.then((comm) => {\n            comm.send(data, metadata, buffers, disposeOnDone);\n          });\n        };\n        var comm = {\n          send: sendClosure\n        };\n      }\n      window.PyViz.comms[comm_id] = comm;\n      return comm;\n    }\n    window.PyViz.comm_manager = new JupyterCommManager();\n    \n\n\nvar JS_MIME_TYPE = 'application/javascript';\nvar HTML_MIME_TYPE = 'text/html';\nvar EXEC_MIME_TYPE = 'application/vnd.holoviews_exec.v0+json';\nvar CLASS_NAME = 'output';\n\n/**\n * Render data to the DOM node\n */\nfunction render(props, node) {\n  var div = document.createElement(\"div\");\n  var script = document.createElement(\"script\");\n  node.appendChild(div);\n  node.appendChild(script);\n}\n\n/**\n * Handle when a new output is added\n */\nfunction handle_add_output(event, handle) {\n  var output_area = handle.output_area;\n  var output = handle.output;\n  if ((output.data == undefined) || (!output.data.hasOwnProperty(EXEC_MIME_TYPE))) {\n    return\n  }\n  var id = output.metadata[EXEC_MIME_TYPE][\"id\"];\n  var toinsert = output_area.element.find(\".\" + CLASS_NAME.split(' ')[0]);\n  if (id !== undefined) {\n    var nchildren = toinsert.length;\n    var html_node = toinsert[nchildren-1].children[0];\n    html_node.innerHTML = output.data[HTML_MIME_TYPE];\n    var scripts = [];\n    var nodelist = html_node.querySelectorAll(\"script\");\n    for (var i in nodelist) {\n      if (nodelist.hasOwnProperty(i)) {\n        scripts.push(nodelist[i])\n      }\n    }\n\n    scripts.forEach( function (oldScript) {\n      var newScript = document.createElement(\"script\");\n      var attrs = [];\n      var nodemap = oldScript.attributes;\n      for (var j in nodemap) {\n        if (nodemap.hasOwnProperty(j)) {\n          attrs.push(nodemap[j])\n        }\n      }\n      attrs.forEach(function(attr) { newScript.setAttribute(attr.name, attr.value) });\n      newScript.appendChild(document.createTextNode(oldScript.innerHTML));\n      oldScript.parentNode.replaceChild(newScript, oldScript);\n    });\n    if (JS_MIME_TYPE in output.data) {\n      toinsert[nchildren-1].children[1].textContent = output.data[JS_MIME_TYPE];\n    }\n    output_area._hv_plot_id = id;\n    if ((window.Bokeh !== undefined) && (id in Bokeh.index)) {\n      window.PyViz.plot_index[id] = Bokeh.index[id];\n    } else {\n      window.PyViz.plot_index[id] = null;\n    }\n  } else if (output.metadata[EXEC_MIME_TYPE][\"server_id\"] !== undefined) {\n    var bk_div = document.createElement(\"div\");\n    bk_div.innerHTML = output.data[HTML_MIME_TYPE];\n    var script_attrs = bk_div.children[0].attributes;\n    for (var i = 0; i < script_attrs.length; i++) {\n      toinsert[toinsert.length - 1].childNodes[1].setAttribute(script_attrs[i].name, script_attrs[i].value);\n    }\n    // store reference to server id on output_area\n    output_area._bokeh_server_id = output.metadata[EXEC_MIME_TYPE][\"server_id\"];\n  }\n}\n\n/**\n * Handle when an output is cleared or removed\n */\nfunction handle_clear_output(event, handle) {\n  var id = handle.cell.output_area._hv_plot_id;\n  var server_id = handle.cell.output_area._bokeh_server_id;\n  if (((id === undefined) || !(id in PyViz.plot_index)) && (server_id !== undefined)) { return; }\n  var comm = window.PyViz.comm_manager.get_client_comm(\"hv-extension-comm\", \"hv-extension-comm\", function () {});\n  if (server_id !== null) {\n    comm.send({event_type: 'server_delete', 'id': server_id});\n    return;\n  } else if (comm !== null) {\n    comm.send({event_type: 'delete', 'id': id});\n  }\n  delete PyViz.plot_index[id];\n  if ((window.Bokeh !== undefined) & (id in window.Bokeh.index)) {\n    var doc = window.Bokeh.index[id].model.document\n    doc.clear();\n    const i = window.Bokeh.documents.indexOf(doc);\n    if (i > -1) {\n      window.Bokeh.documents.splice(i, 1);\n    }\n  }\n}\n\n/**\n * Handle kernel restart event\n */\nfunction handle_kernel_cleanup(event, handle) {\n  delete PyViz.comms[\"hv-extension-comm\"];\n  window.PyViz.plot_index = {}\n}\n\n/**\n * Handle update_display_data messages\n */\nfunction handle_update_output(event, handle) {\n  handle_clear_output(event, {cell: {output_area: handle.output_area}})\n  handle_add_output(event, handle)\n}\n\nfunction register_renderer(events, OutputArea) {\n  function append_mime(data, metadata, element) {\n    // create a DOM node to render to\n    var toinsert = this.create_output_subarea(\n    metadata,\n    CLASS_NAME,\n    EXEC_MIME_TYPE\n    );\n    this.keyboard_manager.register_events(toinsert);\n    // Render to node\n    var props = {data: data, metadata: metadata[EXEC_MIME_TYPE]};\n    render(props, toinsert[0]);\n    element.append(toinsert);\n    return toinsert\n  }\n\n  events.on('output_added.OutputArea', handle_add_output);\n  events.on('output_updated.OutputArea', handle_update_output);\n  events.on('clear_output.CodeCell', handle_clear_output);\n  events.on('delete.Cell', handle_clear_output);\n  events.on('kernel_ready.Kernel', handle_kernel_cleanup);\n\n  OutputArea.prototype.register_mime_type(EXEC_MIME_TYPE, append_mime, {\n    safe: true,\n    index: 0\n  });\n}\n\nif (window.Jupyter !== undefined) {\n  try {\n    var events = require('base/js/events');\n    var OutputArea = require('notebook/js/outputarea').OutputArea;\n    if (OutputArea.prototype.mime_types().indexOf(EXEC_MIME_TYPE) == -1) {\n      register_renderer(events, OutputArea);\n    }\n  } catch(err) {\n  }\n}\n"
     },
     "metadata": {},
     "output_type": "display_data"
    },
    {
     "data": {
      "text/html": [
       "<style>.bk-root, .bk-root .bk:before, .bk-root .bk:after {\n",
       "  font-family: var(--jp-ui-font-size1);\n",
       "  font-size: var(--jp-ui-font-size1);\n",
       "  color: var(--jp-ui-font-color1);\n",
       "}\n",
       "</style>"
      ]
     },
     "metadata": {},
     "output_type": "display_data"
    }
   ],
   "source": [
    "import pandas as pd\n",
    "import numpy as np\n",
    "import matplotlib.pyplot as plt\n",
    "%matplotlib inline\n",
    "import pylab as plt\n",
    "pd.set_option('display.width',140)\n",
    "from bokeh.io import show, output_notebook, export_png\n",
    "from bokeh.models import ColumnDataSource, ColorBar, HoverTool\n",
    "from bokeh.tile_providers import get_provider, Vendors\n",
    "from bokeh.plotting import figure\n",
    "from bokeh.palettes import brewer\n",
    "from bokeh.layouts import row, column\n",
    "from bokeh.models import CustomJS, Slider, Select\n",
    "\n",
    "output_notebook()\n",
    "#output_file('test.html')\n",
    "\n",
    "import panel as pn\n",
    "from panel.interact import interact, interactive, fixed, interact_manual\n",
    "from panel import widgets\n",
    "\n",
    "pn.extension()"
   ]
  },
  {
   "cell_type": "markdown",
   "id": "a2f21cbd",
   "metadata": {},
   "source": [
    "### Converting the dataframe from Long to Wide format"
   ]
  },
  {
   "cell_type": "code",
   "execution_count": 101,
   "id": "52495127",
   "metadata": {},
   "outputs": [],
   "source": [
    "wide_indicators = pd.pivot(indicators, index=['CountryName','CountryCode', 'IndicatorName'], columns='Year', values='Value')\n",
    "wide_indicators['CountryName'] = wide_indicators.index.get_level_values('CountryName')\n",
    "wide_indicators['IndicatorName'] = wide_indicators.index.get_level_values('IndicatorName')\n",
    "wide_indicators['CountryCode'] = wide_indicators.index.get_level_values('CountryCode')"
   ]
  },
  {
   "cell_type": "code",
   "execution_count": 102,
   "id": "2beb5ec5",
   "metadata": {},
   "outputs": [],
   "source": [
    "countries = list(wide_indicators['CountryName'].unique()[47:])\n",
    "scountries = ['Germany','Portugal','Brazil']\n",
    "names = list(wide_indicators['IndicatorName'])\n",
    "wide_indicators = wide_indicators[wide_indicators['CountryName'].isin(countries)]"
   ]
  },
  {
   "cell_type": "markdown",
   "id": "b1c3b449",
   "metadata": {},
   "source": [
    "# Matplotlib line plots"
   ]
  },
  {
   "cell_type": "code",
   "execution_count": 103,
   "id": "37a35e10",
   "metadata": {},
   "outputs": [],
   "source": [
    "from matplotlib.figure import Figure\n",
    "from cycler import cycler\n",
    "\n",
    "def plot_col(df, col, kind='line', color=True):\n",
    "    \"\"\"plot a specific column\"\"\"\n",
    "    \n",
    "    fig = Figure(figsize=(5, 4),linewidth=0.3)#10,6\n",
    "    ax = fig.subplots() \n",
    "    ax.set_title(col)\n",
    "    default_cycler = ( cycler('linestyle', ['-', '--', ':', '-.']))\n",
    "    if color == False:       \n",
    "        plt.rc('axes', prop_cycle=default_cycler)\n",
    "        df.plot(lw=3,ax=ax,kind=kind,color='black') \n",
    "    else:        \n",
    "        cmap='Spectral'  \n",
    "        df.plot(lw=3,ax=ax,kind=kind,cmap=cmap,linestyle='-') \n",
    "    return fig\n",
    "\n",
    "def get_data(col,years=None,countries=None):\n",
    "    \"\"\"get data from the wdi dataframe\"\"\"\n",
    "    \n",
    "    x = wdi.set_index('Indicator Name')\n",
    "    x = x.loc[col].set_index('Country Name')\n",
    "    if countries!=None:\n",
    "        x = x.loc[countries]\n",
    "    x = x[x.columns[3:-2]]\n",
    "    x = x.T\n",
    "    x.index=x.index.astype(int)\n",
    "    if years!=None:\n",
    "        x = x.loc[years]    \n",
    "    return x"
   ]
  },
  {
   "cell_type": "markdown",
   "id": "045416bf",
   "metadata": {},
   "source": [
    "# Panel app for interactive plot"
   ]
  },
  {
   "cell_type": "code",
   "execution_count": 104,
   "id": "1dfdb6ba",
   "metadata": {},
   "outputs": [
    {
     "data": {},
     "metadata": {},
     "output_type": "display_data"
    },
    {
     "data": {
      "application/vnd.holoviews_exec.v0+json": "",
      "text/html": [
       "<div id='1151'>\n",
       "\n",
       "\n",
       "\n",
       "\n",
       "\n",
       "  <div class=\"bk-root\" id=\"e22666ce-9ce6-42c3-a77b-af1ba5f197f8\" data-root-id=\"1151\"></div>\n",
       "</div>\n",
       "<script type=\"application/javascript\">(function(root) {\n",
       "  function embed_document(root) {\n",
       "    var docs_json = {\"c172cfdb-ebb2-4dbc-b26d-d7420017c2a5\":{\"defs\":[{\"extends\":null,\"module\":null,\"name\":\"ReactiveHTML1\",\"overrides\":[],\"properties\":[]},{\"extends\":null,\"module\":null,\"name\":\"FlexBox1\",\"overrides\":[],\"properties\":[{\"default\":\"flex-start\",\"kind\":null,\"name\":\"align_content\"},{\"default\":\"flex-start\",\"kind\":null,\"name\":\"align_items\"},{\"default\":\"row\",\"kind\":null,\"name\":\"flex_direction\"},{\"default\":\"wrap\",\"kind\":null,\"name\":\"flex_wrap\"},{\"default\":\"flex-start\",\"kind\":null,\"name\":\"justify_content\"}]},{\"extends\":null,\"module\":null,\"name\":\"GridStack1\",\"overrides\":[],\"properties\":[{\"default\":\"warn\",\"kind\":null,\"name\":\"mode\"},{\"default\":null,\"kind\":null,\"name\":\"ncols\"},{\"default\":null,\"kind\":null,\"name\":\"nrows\"},{\"default\":true,\"kind\":null,\"name\":\"allow_resize\"},{\"default\":true,\"kind\":null,\"name\":\"allow_drag\"},{\"default\":[],\"kind\":null,\"name\":\"state\"}]},{\"extends\":null,\"module\":null,\"name\":\"click1\",\"overrides\":[],\"properties\":[{\"default\":\"\",\"kind\":null,\"name\":\"terminal_output\"},{\"default\":\"\",\"kind\":null,\"name\":\"debug_name\"},{\"default\":0,\"kind\":null,\"name\":\"clears\"}]},{\"extends\":null,\"module\":null,\"name\":\"NotificationAreaBase1\",\"overrides\":[],\"properties\":[{\"default\":\"bottom-right\",\"kind\":null,\"name\":\"position\"},{\"default\":0,\"kind\":null,\"name\":\"_clear\"}]},{\"extends\":null,\"module\":null,\"name\":\"NotificationArea1\",\"overrides\":[],\"properties\":[{\"default\":[],\"kind\":null,\"name\":\"notifications\"},{\"default\":\"bottom-right\",\"kind\":null,\"name\":\"position\"},{\"default\":0,\"kind\":null,\"name\":\"_clear\"},{\"default\":[{\"background\":\"#ffc107\",\"icon\":{\"className\":\"fas fa-exclamation-triangle\",\"color\":\"white\",\"tagName\":\"i\"},\"type\":\"warning\"},{\"background\":\"#007bff\",\"icon\":{\"className\":\"fas fa-info-circle\",\"color\":\"white\",\"tagName\":\"i\"},\"type\":\"info\"}],\"kind\":null,\"name\":\"types\"}]},{\"extends\":null,\"module\":null,\"name\":\"Notification\",\"overrides\":[],\"properties\":[{\"default\":null,\"kind\":null,\"name\":\"background\"},{\"default\":3000,\"kind\":null,\"name\":\"duration\"},{\"default\":null,\"kind\":null,\"name\":\"icon\"},{\"default\":\"\",\"kind\":null,\"name\":\"message\"},{\"default\":null,\"kind\":null,\"name\":\"notification_type\"},{\"default\":false,\"kind\":null,\"name\":\"_destroyed\"}]},{\"extends\":null,\"module\":null,\"name\":\"TemplateActions1\",\"overrides\":[],\"properties\":[{\"default\":0,\"kind\":null,\"name\":\"open_modal\"},{\"default\":0,\"kind\":null,\"name\":\"close_modal\"}]},{\"extends\":null,\"module\":null,\"name\":\"MaterialTemplateActions1\",\"overrides\":[],\"properties\":[{\"default\":0,\"kind\":null,\"name\":\"open_modal\"},{\"default\":0,\"kind\":null,\"name\":\"close_modal\"}]}],\"roots\":{\"references\":[{\"attributes\":{\"end\":2019,\"margin\":[5,10,5,10],\"start\":1961,\"title\":\"Dates\",\"value\":[1961,2019]},\"id\":\"1155\",\"type\":\"RangeSlider\"},{\"attributes\":{\"margin\":[5,10,5,10],\"options\":[\"Congo, Rep.\",\"Costa Rica\",\"Cote d'Ivoire\",\"Croatia\",\"Cuba\",\"Curacao\",\"Cyprus\",\"Czech Republic\",\"Denmark\",\"Djibouti\",\"Dominica\",\"Dominican Republic\",\"East Asia & Pacific (all income levels)\",\"East Asia & Pacific (developing only)\",\"Ecuador\",\"Egypt, Arab Rep.\",\"El Salvador\",\"Equatorial Guinea\",\"Eritrea\",\"Estonia\",\"Ethiopia\",\"Euro area\",\"Europe & Central Asia (all income levels)\",\"Europe & Central Asia (developing only)\",\"European Union\",\"Faeroe Islands\",\"Fiji\",\"Finland\",\"Fragile and conflict affected situations\",\"France\",\"French Polynesia\",\"Gabon\",\"Gambia, The\",\"Georgia\",\"Germany\",\"Ghana\",\"Greece\",\"Greenland\",\"Grenada\",\"Guam\",\"Guatemala\",\"Guinea\",\"Guinea-Bissau\",\"Guyana\",\"Haiti\",\"Heavily indebted poor countries (HIPC)\",\"High income\",\"High income: OECD\",\"High income: nonOECD\",\"Honduras\",\"Hong Kong SAR, China\",\"Hungary\",\"Iceland\",\"India\",\"Indonesia\",\"Iran, Islamic Rep.\",\"Iraq\",\"Ireland\",\"Isle of Man\",\"Israel\",\"Italy\",\"Jamaica\",\"Japan\",\"Jordan\",\"Kazakhstan\",\"Kenya\",\"Kiribati\",\"Korea, Dem. Rep.\",\"Korea, Rep.\",\"Kosovo\",\"Kuwait\",\"Kyrgyz Republic\",\"Lao PDR\",\"Latin America & Caribbean (all income levels)\",\"Latin America & Caribbean (developing only)\",\"Latvia\",\"Least developed countries: UN classification\",\"Lebanon\",\"Lesotho\",\"Liberia\",\"Libya\",\"Liechtenstein\",\"Lithuania\",\"Low & middle income\",\"Low income\",\"Lower middle income\",\"Luxembourg\",\"Macao SAR, China\",\"Macedonia, FYR\",\"Madagascar\",\"Malawi\",\"Malaysia\",\"Maldives\",\"Mali\",\"Malta\",\"Marshall Islands\",\"Mauritania\",\"Mauritius\",\"Mexico\",\"Micronesia, Fed. Sts.\",\"Middle East & North Africa (all income levels)\",\"Middle East & North Africa (developing only)\",\"Middle income\",\"Moldova\",\"Monaco\",\"Mongolia\",\"Montenegro\",\"Morocco\",\"Mozambique\",\"Myanmar\",\"Namibia\",\"Nepal\",\"Netherlands\",\"New Caledonia\",\"New Zealand\",\"Nicaragua\",\"Niger\",\"Nigeria\",\"North America\",\"Northern Mariana Islands\",\"Norway\",\"OECD members\",\"Oman\",\"Other small states\",\"Pacific island small states\",\"Pakistan\",\"Palau\",\"Panama\",\"Papua New Guinea\",\"Paraguay\",\"Peru\",\"Philippines\",\"Poland\",\"Portugal\",\"Puerto Rico\",\"Qatar\",\"Romania\",\"Russian Federation\",\"Rwanda\",\"Samoa\",\"San Marino\",\"Sao Tome and Principe\",\"Saudi Arabia\",\"Senegal\",\"Serbia\",\"Seychelles\",\"Sierra Leone\",\"Singapore\",\"Sint Maarten (Dutch part)\",\"Slovak Republic\",\"Slovenia\",\"Small states\",\"Solomon Islands\",\"Somalia\",\"South Africa\",\"South Asia\",\"South Sudan\",\"Spain\",\"Sri Lanka\",\"St. Kitts and Nevis\",\"St. Lucia\",\"St. Martin (French part)\",\"St. Vincent and the Grenadines\",\"Sub-Saharan Africa (all income levels)\",\"Sub-Saharan Africa (developing only)\",\"Sudan\",\"Suriname\",\"Swaziland\",\"Sweden\",\"Switzerland\",\"Syrian Arab Republic\",\"Tajikistan\",\"Tanzania\",\"Thailand\",\"Timor-Leste\",\"Togo\",\"Tonga\",\"Trinidad and Tobago\",\"Tunisia\",\"Turkey\",\"Turkmenistan\",\"Turks and Caicos Islands\",\"Tuvalu\",\"Uganda\",\"Ukraine\",\"United Arab Emirates\",\"United Kingdom\",\"United States\",\"Upper middle income\",\"Uruguay\",\"Uzbekistan\",\"Vanuatu\",\"Venezuela, RB\",\"Vietnam\",\"Virgin Islands (U.S.)\",\"West Bank and Gaza\",\"World\",\"Yemen, Rep.\",\"Zambia\",\"Zimbabwe\"],\"size\":8,\"title\":\"Country\",\"value\":[\"Germany\",\"Portugal\"]},\"id\":\"1154\",\"type\":\"MultiSelect\"},{\"attributes\":{\"children\":[{\"id\":\"1152\"},{\"id\":\"1158\"}],\"margin\":[0,0,0,0],\"name\":\"Row00223\"},\"id\":\"1151\",\"type\":\"Row\"},{\"attributes\":{\"children\":[{\"id\":\"1159\"}],\"margin\":[0,0,0,0],\"name\":\"Row00220\"},\"id\":\"1158\",\"type\":\"Row\"},{\"attributes\":{\"margin\":[5,10,5,10],\"options\":[\"2005 PPP conversion factor, GDP (LCU per international $)\",\"2005 PPP conversion factor, private consumption (LCU per international $)\",\"ARI treatment (% of children under 5 taken to a health provider)\",\"Access to electricity (% of population)\",\"Access to electricity, rural (% of rural population)\",\"Access to electricity, urban (% of urban population)\",\"Access to non-solid fuel (% of population)\",\"Access to non-solid fuel, rural (% of rural population)\",\"Access to non-solid fuel, urban (% of urban population)\",\"Adequacy of social insurance programs (% of total welfare of beneficiary households)\",\"Adequacy of social protection and labor programs (% of total welfare of beneficiary households)\",\"Adequacy of social safety net programs (% of total welfare of beneficiary households)\",\"Adjusted net enrolment rate, primary, both sexes (%)\",\"Adjusted net enrolment rate, primary, female (%)\",\"Adjusted net enrolment rate, primary, male (%)\",\"Adjusted net national income (constant 2005 US$)\",\"Adjusted net national income (current US$)\",\"Adjusted net national income per capita (constant 2005 US$)\",\"Adjusted net national income per capita (current US$)\",\"Adjusted net savings, excluding particulate emission damage (% of GNI)\",\"Adjusted net savings, excluding particulate emission damage (current US$)\",\"Adjusted net savings, including particulate emission damage (% of GNI)\",\"Adjusted net savings, including particulate emission damage (current US$)\",\"Adjusted savings: carbon dioxide damage (% of GNI)\",\"Adjusted savings: carbon dioxide damage (current US$)\",\"Adjusted savings: consumption of fixed capital (% of GNI)\",\"Adjusted savings: consumption of fixed capital (current US$)\",\"Adjusted savings: education expenditure (% of GNI)\",\"Adjusted savings: education expenditure (current US$)\",\"Adjusted savings: energy depletion (% of GNI)\",\"Adjusted savings: energy depletion (current US$)\",\"Adjusted savings: gross savings (% of GNI)\",\"Adjusted savings: mineral depletion (% of GNI)\",\"Adjusted savings: mineral depletion (current US$)\",\"Adjusted savings: natural resources depletion (% of GNI)\",\"Adjusted savings: net forest depletion (% of GNI)\",\"Adjusted savings: net forest depletion (current US$)\",\"Adjusted savings: net national savings (% of GNI)\",\"Adjusted savings: net national savings (current US$)\",\"Adjusted savings: particulate emission damage (% of GNI)\",\"Adjusted savings: particulate emission damage (current US$)\",\"Adolescent fertility rate (births per 1,000 women ages 15-19)\",\"Adult literacy rate, population 15+ years, both sexes (%)\",\"Adult literacy rate, population 15+ years, female (%)\",\"Adult literacy rate, population 15+ years, male (%)\",\"Age dependency ratio (% of working-age population)\",\"Age dependency ratio, old (% of working-age population)\",\"Age dependency ratio, young (% of working-age population)\",\"Agricultural irrigated land (% of total agricultural land)\",\"Agricultural land (% of land area)\",\"Agricultural land (sq. km)\",\"Agricultural machinery, tractors\",\"Agricultural machinery, tractors per 100 sq. km of arable land\",\"Agricultural raw materials exports (% of merchandise exports)\",\"Agricultural raw materials imports (% of merchandise imports)\",\"Agriculture value added per worker (constant 2005 US$)\",\"Agriculture, value added (% of GDP)\",\"Agriculture, value added (annual % growth)\",\"Agriculture, value added (constant 2005 US$)\",\"Agriculture, value added (constant LCU)\",\"Agriculture, value added (current LCU)\",\"Agriculture, value added (current US$)\",\"Air transport, freight (million ton-km)\",\"Air transport, passengers carried\",\"Air transport, registered carrier departures worldwide\",\"Annual freshwater withdrawals, agriculture (% of total freshwater withdrawal)\",\"Annual freshwater withdrawals, domestic (% of total freshwater withdrawal)\",\"Annual freshwater withdrawals, industry (% of total freshwater withdrawal)\",\"Annual freshwater withdrawals, total (% of internal resources)\",\"Annual freshwater withdrawals, total (billion cubic meters)\",\"Antiretroviral therapy coverage (% of people living with HIV)\",\"Arable land (% of land area)\",\"Arable land (hectares per person)\",\"Arable land (hectares)\",\"Armed forces personnel (% of total labor force)\",\"Armed forces personnel, total\",\"Arms exports (SIPRI trend indicator values)\",\"Arms imports (SIPRI trend indicator values)\",\"Automated teller machines (ATMs) (per 100,000 adults)\",\"Average grace period on new external debt commitments (years)\",\"Average grace period on new external debt commitments, official (years)\",\"Average grace period on new external debt commitments, private (years)\",\"Average grant element on new external debt commitments (%)\",\"Average grant element on new external debt commitments, official (%)\",\"Average grant element on new external debt commitments, private (%)\",\"Average interest on new external debt commitments (%)\",\"Average interest on new external debt commitments, official (%)\",\"Average interest on new external debt commitments, private (%)\",\"Average maturity on new external debt commitments (years)\",\"Average maturity on new external debt commitments, official (years)\",\"Average maturity on new external debt commitments, private (years)\",\"Average precipitation in depth (mm per year)\",\"Average time to clear exports through customs (days)\",\"Average working hours of children, study and work, ages 7-14 (hours per week)\",\"Average working hours of children, study and work, female, ages 7-14 (hours per week)\",\"Average working hours of children, study and work, male, ages 7-14 (hours per week)\",\"Average working hours of children, working only, ages 7-14 (hours per week)\",\"Average working hours of children, working only, female, ages 7-14 (hours per week)\",\"Average working hours of children, working only, male, ages 7-14 (hours per week)\",\"Bank capital to assets ratio (%)\",\"Bank liquid reserves to bank assets ratio (%)\",\"Bank nonperforming loans to total gross loans (%)\",\"Battle-related deaths (number of people)\",\"Benefits incidence in poorest quintile (%) - All Social Assistance\",\"Benefits incidence in poorest quintile (%) - All Social Insurance\",\"Benefits incidence in poorest quintile (%) -All Social Protection and Labor\",\"Bird species, threatened\",\"Birth rate, crude (per 1,000 people)\",\"Births attended by skilled health staff (% of total)\",\"Borrowers from commercial banks (per 1,000 adults)\",\"Bribery incidence (% of firms experiencing at least one bribe payment request)\",\"Broad money (% of GDP)\",\"Broad money (current LCU)\",\"Broad money growth (annual %)\",\"Broad money to total reserves ratio\",\"Business extent of disclosure index (0=less disclosure to 10=more disclosure)\",\"CO2 emissions (kg per 2005 US$ of GDP)\",\"CO2 emissions (kg per 2011 PPP $ of GDP)\",\"CO2 emissions (kg per PPP $ of GDP)\",\"CO2 emissions (kt)\",\"CO2 emissions (metric tons per capita)\",\"CO2 emissions from gaseous fuel consumption (% of total)\",\"CO2 emissions from gaseous fuel consumption (kt)\",\"CO2 emissions from liquid fuel consumption (% of total)\",\"CO2 emissions from liquid fuel consumption (kt)\",\"CO2 emissions from solid fuel consumption (% of total)\",\"CO2 emissions from solid fuel consumption (kt)\",\"CPIA building human resources rating (1=low to 6=high)\",\"CPIA business regulatory environment rating (1=low to 6=high)\",\"CPIA debt policy rating (1=low to 6=high)\",\"CPIA economic management cluster average (1=low to 6=high)\",\"CPIA efficiency of revenue mobilization rating (1=low to 6=high)\",\"CPIA equity of public resource use rating (1=low to 6=high)\",\"CPIA financial sector rating (1=low to 6=high)\",\"CPIA fiscal policy rating (1=low to 6=high)\",\"CPIA gender equality rating (1=low to 6=high)\",\"CPIA macroeconomic management rating (1=low to 6=high)\",\"CPIA policies for social inclusion/equity cluster average (1=low to 6=high)\",\"CPIA policy and institutions for environmental sustainability rating (1=low to 6=high)\",\"CPIA property rights and rule-based governance rating (1=low to 6=high)\",\"CPIA public sector management and institutions cluster average (1=low to 6=high)\",\"CPIA quality of budgetary and financial management rating (1=low to 6=high)\",\"CPIA quality of public administration rating (1=low to 6=high)\",\"CPIA social protection rating (1=low to 6=high)\",\"CPIA structural policies cluster average (1=low to 6=high)\",\"CPIA trade rating (1=low to 6=high)\",\"CPIA transparency, accountability, and corruption in the public sector rating (1=low to 6=high)\",\"Cash surplus/deficit (% of GDP)\",\"Cash surplus/deficit (current LCU)\",\"Cause of death, by communicable diseases and maternal, prenatal and nutrition conditions (% of total)\",\"Cause of death, by injury (% of total)\",\"Cause of death, by non-communicable diseases (% of total)\",\"Cereal production (metric tons)\",\"Cereal yield (kg per hectare)\",\"Charges for the use of intellectual property, payments (BoP, current US$)\",\"Charges for the use of intellectual property, receipts (BoP, current US$)\",\"Children (0-14) living with HIV\",\"Children in employment, female (% of female children ages 7-14)\",\"Children in employment, male (% of male children ages 7-14)\",\"Children in employment, study and work (% of children in employment, ages 7-14)\",\"Children in employment, study and work, female (% of female children in employment, ages 7-14)\",\"Children in employment, study and work, male (% of male children in employment, ages 7-14)\",\"Children in employment, total (% of children ages 7-14)\",\"Children in employment, unpaid family workers (% of children in employment, ages 7-14)\",\"Children in employment, unpaid family workers, female (% of female children in employment, ages 7-14)\",\"Children in employment, unpaid family workers, male (% of male children in employment, ages 7-14)\",\"Children in employment, wage workers (% of children in employment, ages 7-14)\",\"Children in employment, wage workers, female (% of female children in employment, ages 7-14)\",\"Children in employment, wage workers, male (% of male children in employment, ages 7-14)\",\"Children in employment, work only (% of children in employment, ages 7-14)\",\"Children in employment, work only, female (% of female children in employment, ages 7-14)\",\"Children in employment, work only, male (% of male children in employment, ages 7-14)\",\"Claims on central government (annual growth as % of broad money)\",\"Claims on central government, etc. (% GDP)\",\"Claims on other sectors of the domestic economy (% of GDP)\",\"Claims on other sectors of the domestic economy (annual growth as % of broad money)\",\"Claims on private sector (annual growth as % of broad money)\",\"Coal rents (% of GDP)\",\"Commercial bank branches (per 100,000 adults)\",\"Commercial banks and other lending (PPG + PNG) (NFL, current US$)\",\"Commercial service exports (current US$)\",\"Commercial service imports (current US$)\",\"Commitments, IBRD (COM, current US$)\",\"Commitments, IDA (COM, current US$)\",\"Commitments, official creditors (COM, current US$)\",\"Commitments, private creditors (COM, current US$)\",\"Commitments, public and publicly guaranteed (COM, current US$)\",\"Communications, computer, etc. (% of service exports, BoP)\",\"Communications, computer, etc. (% of service imports, BoP)\",\"Compensation of employees (% of expense)\",\"Compensation of employees (current LCU)\",\"Completeness of birth registration (%)\",\"Completeness of birth registration, rural (%)\",\"Completeness of birth registration, urban (%)\",\"Computer, communications and other services (% of commercial service exports)\",\"Computer, communications and other services (% of commercial service imports)\",\"Concessional debt (% of total external debt)\",\"Consumer price index (2010 = 100)\",\"Consumption of iodized salt (% of households)\",\"Contraceptive prevalence (% of women ages 15-49)\",\"Cost of business start-up procedures (% of GNI per capita)\",\"Cost to export (US$ per container)\",\"Cost to import (US$ per container)\",\"Coverage (%) - All Social Assistance\",\"Coverage (%) - All Social Insurance\",\"Coverage (%) -All Social Protection and Labor\",\"Crop production index (2004-2006 = 100)\",\"Currency composition of PPG debt, Euro (%)\",\"Currency composition of PPG debt, Japanese yen (%)\",\"Currency composition of PPG debt, Multiple currencies (%)\",\"Currency composition of PPG debt, Pound sterling (%)\",\"Currency composition of PPG debt, SDR (%)\",\"Currency composition of PPG debt, Swiss franc (%)\",\"Currency composition of PPG debt, U.S. dollars (%)\",\"Currency composition of PPG debt, all other currencies (%)\",\"Current account balance (% of GDP)\",\"Current account balance (BoP, current US$)\",\"Customs and other import duties (% of tax revenue)\",\"Customs and other import duties (current LCU)\",\"DEC alternative conversion factor (LCU per US$)\",\"Death rate, crude (per 1,000 people)\",\"Debt buyback (current US$)\",\"Debt forgiveness grants (current US$)\",\"Debt forgiveness or reduction (current US$)\",\"Debt service (PPG and IMF only, % of exports of goods, services and primary income)\",\"Debt service on external debt, long-term (TDS, current US$)\",\"Debt service on external debt, private nonguaranteed (PNG) (TDS, current US$)\",\"Debt service on external debt, public and publicly guaranteed (PPG) (TDS, current US$)\",\"Debt service on external debt, total (TDS, current US$)\",\"Debt stock reduction (current US$)\",\"Debt stock rescheduled (current US$)\",\"Delay in obtaining an electrical connection (days)\",\"Depositors with commercial banks (per 1,000 adults)\",\"Depth of credit information index (0=low to 8=high)\",\"Depth of the food deficit (kilocalories per person per day)\",\"Diabetes prevalence (% of population ages 20 to 79)\",\"Diarrhea treatment (% of children under 5 receiving oral rehydration and continued feeding)\",\"Diarrhea treatment (% of children under 5 who received ORS packet)\",\"Disbursements on external debt, long-term (DIS, current US$)\",\"Disbursements on external debt, long-term + IMF (DIS, current US$)\",\"Disbursements on external debt, private nonguaranteed (PNG) (DIS, current US$)\",\"Disbursements on external debt, public and publicly guaranteed (PPG) (DIS, current US$)\",\"Discrepancy in expenditure estimate of GDP (current LCU)\",\"Distance to frontier score (0=lowest performance to 100=frontier)\",\"Documents to export (number)\",\"Documents to import (number)\",\"Domestic credit provided by financial sector (% of GDP)\",\"Domestic credit to private sector (% of GDP)\",\"Domestic credit to private sector by banks (% of GDP)\",\"Droughts, floods, extreme temperatures (% of population, average 1990-2009)\",\"EBRD, private nonguaranteed (NFL, current US$)\",\"Ease of doing business index (1=most business-friendly regulations)\",\"Emigration rate of tertiary educated (% of total tertiary educated population)\",\"Employment to population ratio, 15+, female (%) (modeled ILO estimate)\",\"Employment to population ratio, 15+, female (%) (national estimate)\",\"Employment to population ratio, 15+, male (%) (modeled ILO estimate)\",\"Employment to population ratio, 15+, male (%) (national estimate)\",\"Employment to population ratio, 15+, total (%) (modeled ILO estimate)\",\"Employment to population ratio, 15+, total (%) (national estimate)\",\"Employment to population ratio, ages 15-24, female (%) (modeled ILO estimate)\",\"Employment to population ratio, ages 15-24, male (%) (modeled ILO estimate)\",\"Employment to population ratio, ages 15-24, total (%) (modeled ILO estimate)\",\"Energy intensity level of primary energy (MJ/$2011 PPP GDP)\",\"Enrolment in primary education, both sexes (number)\",\"Enrolment in secondary education, both sexes (number)\",\"Enrolment in secondary general, both sexes (number)\",\"Enrolment in secondary vocational, both sexes (number)\",\"Exclusive breastfeeding (% of children under 6 months)\",\"Expenditure on education as % of total government expenditure (%)\",\"Expense (% of GDP)\",\"Expense (current LCU)\",\"Export value index (2000 = 100)\",\"Export volume index (2000 = 100)\",\"Exports of goods and services (% of GDP)\",\"Exports of goods and services (BoP, current US$)\",\"Exports of goods and services (constant 2005 US$)\",\"Exports of goods and services (current LCU)\",\"Exports of goods and services (current US$)\",\"Exports of goods, services and primary income (BoP, current US$)\",\"External balance on goods and services (% of GDP)\",\"External balance on goods and services (current LCU)\",\"External balance on goods and services (current US$)\",\"External debt stocks (% of GNI)\",\"External debt stocks (% of exports of goods, services and primary income)\",\"External debt stocks, concessional (DOD, current US$)\",\"External debt stocks, long-term (DOD, current US$)\",\"External debt stocks, long-term private sector (DOD, current US$)\",\"External debt stocks, long-term public sector (DOD, current US$)\",\"External debt stocks, private nonguaranteed (PNG) (DOD, current US$)\",\"External debt stocks, public and publicly guaranteed (PPG) (DOD, current US$)\",\"External debt stocks, short-term (DOD, current US$)\",\"External debt stocks, total (DOD, current US$)\",\"External debt stocks, variable rate (DOD, current US$)\",\"External resources for health (% of total expenditure on health)\",\"Fertility rate, total (births per woman)\",\"Fertilizer consumption (% of fertilizer production)\",\"Fertilizer consumption (kilograms per hectare of arable land)\",\"Final consumption expenditure (constant 2005 US$)\",\"Final consumption expenditure (current LCU)\",\"Final consumption expenditure (current US$)\",\"Final consumption expenditure, etc. (% of GDP)\",\"Final consumption expenditure, etc. (constant 2005 US$)\",\"Final consumption expenditure, etc. (current LCU)\",\"Final consumption expenditure, etc. (current US$)\",\"Firms competing against unregistered firms (% of firms)\",\"Firms expected to give gifts in meetings with tax officials (% of firms)\",\"Firms formally registered when operations started (% of firms)\",\"Firms offering formal training (% of firms)\",\"Firms using banks to finance investment (% of firms)\",\"Firms using banks to finance working capital (% of firms)\",\"Firms with female participation in ownership (% of firms)\",\"Firms with female top manager (% of firms)\",\"Fish species, threatened\",\"Fixed broadband subscriptions\",\"Fixed broadband subscriptions (per 100 people)\",\"Fixed telephone subscriptions\",\"Fixed telephone subscriptions (per 100 people)\",\"Food exports (% of merchandise exports)\",\"Food imports (% of merchandise imports)\",\"Food production index (2004-2006 = 100)\",\"Foreign direct investment, net (BoP, current US$)\",\"Foreign direct investment, net inflows (% of GDP)\",\"Foreign direct investment, net inflows (BoP, current US$)\",\"Forest area (% of land area)\",\"Forest area (sq. km)\",\"Forest rents (% of GDP)\",\"Fuel exports (% of merchandise exports)\",\"Fuel imports (% of merchandise imports)\",\"GDP (constant LCU)\",\"GDP (current LCU)\",\"GDP at market prices (constant 2005 US$)\",\"GDP at market prices (current US$)\",\"GDP deflator (base year varies by country)\",\"GDP growth (annual %)\",\"GDP per capita (constant 2005 US$)\",\"GDP per capita (constant LCU)\",\"GDP per capita (current LCU)\",\"GDP per capita (current US$)\",\"GDP per capita growth (annual %)\",\"GDP per capita, PPP (constant 2011 international $)\",\"GDP per capita, PPP (current international $)\",\"GDP, PPP (constant 2011 international $)\",\"GDP, PPP (current international $)\",\"GEF benefits index for biodiversity (0 = no biodiversity potential to 100 = maximum)\",\"GNI (constant 2005 US$)\",\"GNI (current LCU)\",\"GNI (current US$)\",\"GNI per capita (constant 2005 US$)\",\"GNI per capita (current LCU)\",\"GNI per capita, Atlas method (current US$)\",\"GNI per capita, PPP (constant 2011 international $)\",\"GNI per capita, PPP (current international $)\",\"GNI, Atlas method (current US$)\",\"GNI, PPP (constant 2011 international $)\",\"GNI, PPP (current international $)\",\"General government final consumption expenditure (% of GDP)\",\"General government final consumption expenditure (constant 2005 US$)\",\"General government final consumption expenditure (current LCU)\",\"General government final consumption expenditure (current US$)\",\"Goods and services expense (% of expense)\",\"Goods and services expense (current LCU)\",\"Goods exports (BoP, current US$)\",\"Goods imports (BoP, current US$)\",\"Government expenditure on education as % of GDP (%)\",\"Grants and other revenue (% of revenue)\",\"Grants and other revenue (current LCU)\",\"Grants, excluding technical cooperation (BoP, current US$)\",\"Gross capital formation (% of GDP)\",\"Gross capital formation (constant 2005 US$)\",\"Gross capital formation (current LCU)\",\"Gross capital formation (current US$)\",\"Gross domestic savings (% of GDP)\",\"Gross domestic savings (current LCU)\",\"Gross domestic savings (current US$)\",\"Gross enrolment ratio, pre-primary, both sexes (%)\",\"Gross enrolment ratio, pre-primary, female (%)\",\"Gross enrolment ratio, pre-primary, male (%)\",\"Gross enrolment ratio, primary and secondary, gender parity index (GPI)\",\"Gross enrolment ratio, primary, both sexes (%)\",\"Gross enrolment ratio, primary, female (%)\",\"Gross enrolment ratio, primary, gender parity index (GPI)\",\"Gross enrolment ratio, primary, male (%)\",\"Gross enrolment ratio, secondary, both sexes (%)\",\"Gross enrolment ratio, secondary, female (%)\",\"Gross enrolment ratio, secondary, gender parity index (GPI)\",\"Gross enrolment ratio, secondary, male (%)\",\"Gross enrolment ratio, tertiary, both sexes (%)\",\"Gross enrolment ratio, tertiary, female (%)\",\"Gross enrolment ratio, tertiary, gender parity index (GPI)\",\"Gross enrolment ratio, tertiary, male (%)\",\"Gross fixed capital formation (% of GDP)\",\"Gross fixed capital formation (constant 2005 US$)\",\"Gross fixed capital formation (current LCU)\",\"Gross fixed capital formation (current US$)\",\"Gross intake ratio to Grade 1 of primary education, both sexes (%)\",\"Gross intake ratio to Grade 1 of primary education, female (%)\",\"Gross intake ratio to Grade 1 of primary education, male (%)\",\"Gross national expenditure (% of GDP)\",\"Gross national expenditure (constant 2005 US$)\",\"Gross national expenditure (current LCU)\",\"Gross national expenditure (current US$)\",\"Gross savings (% of GDP)\",\"Gross savings (% of GNI)\",\"Gross savings (current LCU)\",\"Gross savings (current US$)\",\"Gross value added at factor cost (constant 2005 US$)\",\"Gross value added at factor cost (constant LCU)\",\"Gross value added at factor cost (current LCU)\",\"Gross value added at factor cost (current US$)\",\"Health expenditure per capita (current US$)\",\"Health expenditure per capita, PPP (constant 2011 international $)\",\"Health expenditure, private (% of GDP)\",\"Health expenditure, public (% of GDP)\",\"Health expenditure, public (% of government expenditure)\",\"Health expenditure, public (% of total health expenditure)\",\"Health expenditure, total (% of GDP)\",\"Hospital beds (per 1,000 people)\",\"Household final consumption expenditure (constant 2005 US$)\",\"Household final consumption expenditure (current LCU)\",\"Household final consumption expenditure (current US$)\",\"Household final consumption expenditure per capita (constant 2005 US$)\",\"Household final consumption expenditure, PPP (constant 2011 international $)\",\"Household final consumption expenditure, PPP (current international $)\",\"Household final consumption expenditure, etc. (% of GDP)\",\"Household final consumption expenditure, etc. (constant 2005 US$)\",\"Household final consumption expenditure, etc. (current LCU)\",\"Household final consumption expenditure, etc. (current US$)\",\"IBRD loans and IDA credits (DOD, current US$)\",\"ICT goods imports (% total goods imports)\",\"ICT service exports (% of service exports, BoP)\",\"ICT service exports (BoP, current US$)\",\"IDA grants (current US$)\",\"IDA resource allocation index (1=low to 6=high)\",\"IFC, private nonguaranteed (NFL, current US$)\",\"IMF charges (INT, current US$)\",\"IMF purchases (DIS, current US$)\",\"IMF repurchases (AMT, current US$)\",\"IMF repurchases and charges (TDS, current US$)\",\"Immunization, DPT (% of children ages 12-23 months)\",\"Immunization, measles (% of children ages 12-23 months)\",\"Import value index (2000 = 100)\",\"Import volume index (2000 = 100)\",\"Imports of goods and services (% of GDP)\",\"Imports of goods and services (BoP, current US$)\",\"Imports of goods and services (constant 2005 US$)\",\"Imports of goods and services (current LCU)\",\"Imports of goods and services (current US$)\",\"Imports of goods, services and primary income (BoP, current US$)\",\"Improved sanitation facilities (% of population with access)\",\"Improved sanitation facilities, rural (% of rural population with access)\",\"Improved sanitation facilities, urban (% of urban population with access)\",\"Improved water source (% of population with access)\",\"Improved water source, rural (% of rural population with access)\",\"Improved water source, urban (% of urban population with access)\",\"Incidence of tuberculosis (per 100,000 people)\",\"Industry, value added (% of GDP)\",\"Industry, value added (annual % growth)\",\"Industry, value added (constant 2005 US$)\",\"Industry, value added (constant LCU)\",\"Industry, value added (current LCU)\",\"Industry, value added (current US$)\",\"Inflation, GDP deflator (annual %)\",\"Inflation, consumer prices (annual %)\",\"Informal payments to public officials (% of firms)\",\"Insurance and financial services (% of commercial service exports)\",\"Insurance and financial services (% of commercial service imports)\",\"Insurance and financial services (% of service exports, BoP)\",\"Insurance and financial services (% of service imports, BoP)\",\"Intentional homicides (per 100,000 people)\",\"Interest arrears, long-term DOD (US$)\",\"Interest arrears, official creditors (current US$)\",\"Interest arrears, private creditors (current US$)\",\"Interest forgiven (current US$)\",\"Interest payments (% of expense)\",\"Interest payments (% of revenue)\",\"Interest payments (current LCU)\",\"Interest payments on external debt (% of GNI)\",\"Interest payments on external debt (% of exports of goods, services and primary income)\",\"Interest payments on external debt, long-term (INT, current US$)\",\"Interest payments on external debt, private nonguaranteed (PNG) (INT, current US$)\",\"Interest payments on external debt, public and publicly guaranteed (PPG) (INT, current US$)\",\"Interest payments on external debt, short-term (INT, current US$)\",\"Interest payments on external debt, total (INT, current US$)\",\"Interest rescheduled (capitalized) (current US$)\",\"Interest rescheduled, official (current US$)\",\"Interest rescheduled, private (current US$)\",\"Internally displaced persons (number, high estimate)\",\"Internally displaced persons (number, low estimate)\",\"International migrant stock (% of population)\",\"International migrant stock, total\",\"International tourism, expenditures (% of total imports)\",\"International tourism, expenditures (current US$)\",\"International tourism, expenditures for passenger transport items (current US$)\",\"International tourism, expenditures for travel items (current US$)\",\"International tourism, receipts (% of total exports)\",\"International tourism, receipts (current US$)\",\"International tourism, receipts for passenger transport items (current US$)\",\"International tourism, receipts for travel items (current US$)\",\"Internationally-recognized quality certification (% of firms)\",\"Internet users (per 100 people)\",\"Investment in energy with private participation (current US$)\",\"Investment in telecoms with private participation (current US$)\",\"Labor force participation rate for ages 15-24, female (%) (modeled ILO estimate)\",\"Labor force participation rate for ages 15-24, male (%) (modeled ILO estimate)\",\"Labor force participation rate for ages 15-24, total (%) (modeled ILO estimate)\",\"Labor force participation rate, female (% of female population ages 15+) (modeled ILO estimate)\",\"Labor force participation rate, female (% of female population ages 15+) (national estimate)\",\"Labor force participation rate, female (% of female population ages 15-64) (modeled ILO estimate)\",\"Labor force participation rate, male (% of male population ages 15+) (modeled ILO estimate)\",\"Labor force participation rate, male (% of male population ages 15+) (national estimate)\",\"Labor force participation rate, male (% of male population ages 15-64) (modeled ILO estimate)\",\"Labor force participation rate, total (% of total population ages 15+) (modeled ILO estimate)\",\"Labor force participation rate, total (% of total population ages 15+) (national estimate)\",\"Labor force participation rate, total (% of total population ages 15-64) (modeled ILO estimate)\",\"Labor force, female (% of total labor force)\",\"Labor force, total\",\"Labor tax and contributions (% of commercial profits)\",\"Land area (sq. km)\",\"Land area where elevation is below 5 meters (% of total land area)\",\"Land under cereal production (hectares)\",\"Lead time to export, median case (days)\",\"Lead time to import, median case (days)\",\"Lending interest rate (%)\",\"Life expectancy at birth, female (years)\",\"Life expectancy at birth, male (years)\",\"Life expectancy at birth, total (years)\",\"Lifetime risk of maternal death (%)\",\"Lifetime risk of maternal death (1 in: rate varies by country)\",\"Livestock production index (2004-2006 = 100)\",\"Logistics performance index: Ability to track and trace consignments (1=low to 5=high)\",\"Logistics performance index: Competence and quality of logistics services (1=low to 5=high)\",\"Logistics performance index: Ease of arranging competitively priced shipments (1=low to 5=high)\",\"Logistics performance index: Efficiency of customs clearance process (1=low to 5=high)\",\"Logistics performance index: Frequency with which shipments reach consignee within scheduled or expected time (1=low to 5=high)\",\"Logistics performance index: Overall (1=low to 5=high)\",\"Logistics performance index: Quality of trade and transport-related infrastructure (1=low to 5=high)\",\"Losses due to theft, robbery, vandalism, and arson (% sales)\",\"Lower secondary completion rate, both sexes (%)\",\"Lower secondary completion rate, female (%)\",\"Lower secondary completion rate, male (%)\",\"Mammal species, threatened\",\"Manufactures exports (% of merchandise exports)\",\"Manufactures imports (% of merchandise imports)\",\"Manufacturing, value added (% of GDP)\",\"Manufacturing, value added (annual % growth)\",\"Manufacturing, value added (constant 2005 US$)\",\"Manufacturing, value added (constant LCU)\",\"Manufacturing, value added (current LCU)\",\"Manufacturing, value added (current US$)\",\"Maternal mortality ratio (modeled estimate, per 100,000 live births)\",\"Maternal mortality ratio (national estimate, per 100,000 live births)\",\"Merchandise exports (current US$)\",\"Merchandise exports by the reporting economy (current US$)\",\"Merchandise exports by the reporting economy, residual (% of total merchandise exports)\",\"Merchandise exports to developing economies in East Asia & Pacific (% of total merchandise exports)\",\"Merchandise exports to developing economies in Europe & Central Asia (% of total merchandise exports)\",\"Merchandise exports to developing economies in Latin America & the Caribbean (% of total merchandise exports)\",\"Merchandise exports to developing economies in Middle East & North Africa (% of total merchandise exports)\",\"Merchandise exports to developing economies in South Asia (% of total merchandise exports)\",\"Merchandise exports to developing economies in Sub-Saharan Africa (% of total merchandise exports)\",\"Merchandise exports to developing economies outside region (% of total merchandise exports)\",\"Merchandise exports to developing economies within region (% of total merchandise exports)\",\"Merchandise exports to economies in the Arab World (% of total merchandise exports)\",\"Merchandise exports to high-income economies (% of total merchandise exports)\",\"Merchandise imports (current US$)\",\"Merchandise imports by the reporting economy (current US$)\",\"Merchandise imports by the reporting economy, residual (% of total merchandise imports)\",\"Merchandise imports from developing economies in East Asia & Pacific (% of total merchandise imports)\",\"Merchandise imports from developing economies in Europe & Central Asia (% of total merchandise imports)\",\"Merchandise imports from developing economies in Latin America & the Caribbean (% of total merchandise imports)\",\"Merchandise imports from developing economies in Middle East & North Africa (% of total merchandise imports)\",\"Merchandise imports from developing economies in South Asia (% of total merchandise imports)\",\"Merchandise imports from developing economies outside region (% of total merchandise imports)\",\"Merchandise imports from developing economies within region (% of total merchandise imports)\",\"Merchandise imports from economies in the Arab World (% of total merchandise imports)\",\"Merchandise imports from high-income economies (% of total merchandise imports)\",\"Merchandise trade (% of GDP)\",\"Methodology assessment of statistical capacity (scale 0 - 100)\",\"Military expenditure (% of GDP)\",\"Military expenditure (% of central government expenditure)\",\"Military expenditure (current LCU)\",\"Mineral rents (% of GDP)\",\"Mobile cellular subscriptions\",\"Mobile cellular subscriptions (per 100 people)\",\"Money (current LCU)\",\"Money and quasi money (M2) (current LCU)\",\"Money and quasi money (M2) as % of GDP\",\"Money and quasi money (M2) to total reserves ratio\",\"Money and quasi money growth (annual %)\",\"Mortality rate, adult, female (per 1,000 female adults)\",\"Mortality rate, adult, male (per 1,000 male adults)\",\"Mortality rate, infant (per 1,000 live births)\",\"Mortality rate, infant, female (per 1,000 live births)\",\"Mortality rate, infant, male (per 1,000 live births)\",\"Mortality rate, neonatal (per 1,000 live births)\",\"Mortality rate, under-5 (per 1,000)\",\"Mortality rate, under-5, female (per 1,000 live births)\",\"Mortality rate, under-5, male (per 1,000 live births)\",\"Multilateral debt (% of total external debt)\",\"Multilateral debt service (% of public and publicly guaranteed debt service)\",\"Multilateral debt service (TDS, current US$)\",\"Natural gas rents (% of GDP)\",\"Net ODA received (% of GNI)\",\"Net ODA received (% of central government expense)\",\"Net ODA received (% of gross capital formation)\",\"Net ODA received (% of imports of goods, services and primary income)\",\"Net ODA received per capita (current US$)\",\"Net barter terms of trade index (2000 = 100)\",\"Net bilateral aid flows from DAC donors, Australia (current US$)\",\"Net bilateral aid flows from DAC donors, Austria (current US$)\",\"Net bilateral aid flows from DAC donors, Belgium (current US$)\",\"Net bilateral aid flows from DAC donors, Canada (current US$)\",\"Net bilateral aid flows from DAC donors, Czech Republic (current US$)\",\"Net bilateral aid flows from DAC donors, Denmark (current US$)\",\"Net bilateral aid flows from DAC donors, European Union institutions (current US$)\",\"Net bilateral aid flows from DAC donors, Finland (current US$)\",\"Net bilateral aid flows from DAC donors, France (current US$)\",\"Net bilateral aid flows from DAC donors, Germany (current US$)\",\"Net bilateral aid flows from DAC donors, Greece (current US$)\",\"Net bilateral aid flows from DAC donors, Iceland (current US$)\",\"Net bilateral aid flows from DAC donors, Ireland (current US$)\",\"Net bilateral aid flows from DAC donors, Italy (current US$)\",\"Net bilateral aid flows from DAC donors, Japan (current US$)\",\"Net bilateral aid flows from DAC donors, Korea, Rep. (current US$)\",\"Net bilateral aid flows from DAC donors, Luxembourg (current US$)\",\"Net bilateral aid flows from DAC donors, Netherlands (current US$)\",\"Net bilateral aid flows from DAC donors, New Zealand (current US$)\",\"Net bilateral aid flows from DAC donors, Norway (current US$)\",\"Net bilateral aid flows from DAC donors, Poland (current US$)\",\"Net bilateral aid flows from DAC donors, Portugal (current US$)\",\"Net bilateral aid flows from DAC donors, Slovak Republic (current US$)\",\"Net bilateral aid flows from DAC donors, Slovenia (current US$)\",\"Net bilateral aid flows from DAC donors, Spain (current US$)\",\"Net bilateral aid flows from DAC donors, Sweden (current US$)\",\"Net bilateral aid flows from DAC donors, Switzerland (current US$)\",\"Net bilateral aid flows from DAC donors, Total (current US$)\",\"Net bilateral aid flows from DAC donors, United Kingdom (current US$)\",\"Net bilateral aid flows from DAC donors, United States (current US$)\",\"Net capital account (BoP, current US$)\",\"Net change in interest arrears (current US$)\",\"Net current transfers from abroad (current LCU)\",\"Net current transfers from abroad (current US$)\",\"Net domestic credit (current LCU)\",\"Net enrolment rate, primary, both sexes (%)\",\"Net enrolment rate, primary, female (%)\",\"Net enrolment rate, primary, male (%)\",\"Net enrolment rate, secondary, both sexes (%)\",\"Net enrolment rate, secondary, female (%)\",\"Net enrolment rate, secondary, male (%)\",\"Net errors and omissions (BoP, current US$)\",\"Net financial account (BoP, current US$)\",\"Net financial flows, IBRD (NFL, current US$)\",\"Net financial flows, IDA (NFL, current US$)\",\"Net financial flows, IMF concessional (NFL, current US$)\",\"Net financial flows, IMF nonconcessional (NFL, current US$)\",\"Net financial flows, RDB concessional (NFL, current US$)\",\"Net financial flows, RDB nonconcessional (NFL, current US$)\",\"Net financial flows, bilateral (NFL, current US$)\",\"Net financial flows, multilateral (NFL, current US$)\",\"Net financial flows, others (NFL, current US$)\",\"Net flows on external debt, long-term (NFL, current US$)\",\"Net flows on external debt, private nonguaranteed (PNG) (NFL, current US$)\",\"Net flows on external debt, public and publicly guaranteed (PPG) (NFL, current US$)\",\"Net flows on external debt, short-term (NFL, current US$)\",\"Net flows on external debt, total (NFL, current US$)\",\"Net foreign assets (current LCU)\",\"Net income from abroad (current LCU)\",\"Net income from abroad (current US$)\",\"Net incurrence of liabilities, domestic (% of GDP)\",\"Net incurrence of liabilities, domestic (current LCU)\",\"Net incurrence of liabilities, foreign (% of GDP)\",\"Net incurrence of liabilities, foreign (current LCU)\",\"Net intake rate to Grade 1 of primary education, both sexes (%)\",\"Net intake rate to Grade 1 of primary education, female (%)\",\"Net intake rate to Grade 1 of primary education, male (%)\",\"Net migration\",\"Net official development assistance and official aid received (constant 2012 US$)\",\"Net official development assistance and official aid received (current US$)\",\"Net official development assistance received (constant 2012 US$)\",\"Net official development assistance received (current US$)\",\"Net official flows from UN agencies, IAEA (current US$)\",\"Net official flows from UN agencies, IFAD (current US$)\",\"Net official flows from UN agencies, UNDP (current US$)\",\"Net official flows from UN agencies, UNFPA (current US$)\",\"Net official flows from UN agencies, UNHCR (current US$)\",\"Net official flows from UN agencies, UNICEF (current US$)\",\"Net official flows from UN agencies, UNTA (current US$)\",\"Net official flows from UN agencies, WFP (current US$)\",\"Net official flows from UN agencies, WHO (current US$)\",\"Net primary income (BoP, current US$)\",\"Net secondary income (BoP, current US$)\",\"Net taxes on products (constant LCU)\",\"Net taxes on products (current LCU)\",\"Net taxes on products (current US$)\",\"Net trade in goods (BoP, current US$)\",\"Net trade in goods and services (BoP, current US$)\",\"Net transfers on external debt, long-term (NTR, current US$)\",\"Net transfers on external debt, private nonguaranteed (PNG) (NTR, current US$)\",\"Net transfers on external debt, public and publicly guaranteed (PPG) (NTR, current US$)\",\"Net transfers on external debt, total (NTR, current US$)\",\"New business density (new registrations per 1,000 people ages 15-64)\",\"New businesses registered (number)\",\"Newborns protected against tetanus (%)\",\"Number of infant deaths\",\"Number of maternal deaths\",\"Number of neonatal deaths\",\"Number of under-five deaths\",\"Number of visits or required meetings with tax officials\",\"Nurses and midwives (per 1,000 people)\",\"Official entrance age to lower secondary education (years)\",\"Official entrance age to primary education (years)\",\"Official exchange rate (LCU per US$, period average)\",\"Oil rents (% of GDP)\",\"Ores and metals exports (% of merchandise exports)\",\"Ores and metals imports (% of merchandise imports)\",\"Other expense (% of expense)\",\"Other expense (current LCU)\",\"Other taxes (% of revenue)\",\"Other taxes (current LCU)\",\"Other taxes payable by businesses (% of commercial profits)\",\"Out-of-pocket health expenditure (% of private expenditure on health)\",\"Out-of-pocket health expenditure (% of total expenditure on health)\",\"Out-of-school children of primary school age, both sexes (number)\",\"Out-of-school children of primary school age, female (number)\",\"Out-of-school children of primary school age, male (number)\",\"Overall level of statistical capacity (scale 0 - 100)\",\"PM2.5 air pollution, mean annual exposure (micrograms per cubic meter)\",\"PM2.5 air pollution, population exposed to levels exceeding WHO guideline value (% of total)\",\"PNG, bonds (AMT, current US$)\",\"PNG, bonds (DIS, current US$)\",\"PNG, bonds (DOD, current US$)\",\"PNG, bonds (INT, current US$)\",\"PNG, bonds (NFL, current US$)\",\"PNG, bonds (NTR, current US$)\",\"PNG, bonds (TDS, current US$)\",\"PNG, commercial banks and other creditors (AMT, current US$)\",\"PNG, commercial banks and other creditors (DIS, current US$)\",\"PNG, commercial banks and other creditors (DOD, current US$)\",\"PNG, commercial banks and other creditors (INT, current US$)\",\"PNG, commercial banks and other creditors (NFL, current US$)\",\"PNG, commercial banks and other creditors (NTR, current US$)\",\"PNG, commercial banks and other creditors (TDS, current US$)\",\"PPG, IBRD (AMT, current US$)\",\"PPG, IBRD (DIS, current US$)\",\"PPG, IBRD (DOD, current US$)\",\"PPG, IBRD (INT, current US$)\",\"PPG, IBRD (NTR, current US$)\",\"PPG, IBRD (TDS, current US$)\",\"PPG, IDA (AMT, current US$)\",\"PPG, IDA (DIS, current US$)\",\"PPG, IDA (DOD, current US$)\",\"PPG, IDA (INT, current US$)\",\"PPG, IDA (NTR, current US$)\",\"PPG, IDA (TDS, current US$)\",\"PPG, bilateral (AMT, current US$)\",\"PPG, bilateral (DIS, current US$)\",\"PPG, bilateral (DOD, current US$)\",\"PPG, bilateral (INT, current US$)\",\"PPG, bilateral (NTR, current US$)\",\"PPG, bilateral (TDS, current US$)\",\"PPG, bilateral concessional (AMT, current US$)\",\"PPG, bilateral concessional (DIS, current US$)\",\"PPG, bilateral concessional (DOD, current US$)\",\"PPG, bilateral concessional (INT, current US$)\",\"PPG, bilateral concessional (NFL, current US$)\",\"PPG, bilateral concessional (NTR, current US$)\",\"PPG, bilateral concessional (TDS, current US$)\",\"PPG, bonds (AMT, current US$)\",\"PPG, bonds (DIS, current US$)\",\"PPG, bonds (DOD, current US$)\",\"PPG, bonds (INT, current US$)\",\"PPG, bonds (NFL, current US$)\",\"PPG, bonds (NTR, current US$)\",\"PPG, bonds (TDS, current US$)\",\"PPG, commercial banks (AMT, current US$)\",\"PPG, commercial banks (DIS, current US$)\",\"PPG, commercial banks (DOD, current US$)\",\"PPG, commercial banks (INT, current US$)\",\"PPG, commercial banks (NFL, current US$)\",\"PPG, commercial banks (NTR, current US$)\",\"PPG, commercial banks (TDS, current US$)\",\"PPG, multilateral (AMT, current US$)\",\"PPG, multilateral (DIS, current US$)\",\"PPG, multilateral (DOD, current US$)\",\"PPG, multilateral (INT, current US$)\",\"PPG, multilateral (NTR, current US$)\",\"PPG, multilateral concessional (AMT, current US$)\",\"PPG, multilateral concessional (DIS, current US$)\",\"PPG, multilateral concessional (DOD, current US$)\",\"PPG, multilateral concessional (INT, current US$)\",\"PPG, multilateral concessional (NFL, current US$)\",\"PPG, multilateral concessional (NTR, current US$)\",\"PPG, multilateral concessional (TDS, current US$)\",\"PPG, official creditors (AMT, current US$)\",\"PPG, official creditors (DIS, current US$)\",\"PPG, official creditors (DOD, current US$)\",\"PPG, official creditors (INT, current US$)\",\"PPG, official creditors (NFL, current US$)\",\"PPG, official creditors (NTR, current US$)\",\"PPG, official creditors (TDS, current US$)\",\"PPG, other private creditors (AMT, current US$)\",\"PPG, other private creditors (DIS, current US$)\",\"PPG, other private creditors (DOD, current US$)\",\"PPG, other private creditors (INT, current US$)\",\"PPG, other private creditors (NFL, current US$)\",\"PPG, other private creditors (NTR, current US$)\",\"PPG, other private creditors (TDS, current US$)\",\"PPG, private creditors (AMT, current US$)\",\"PPG, private creditors (DIS, current US$)\",\"PPG, private creditors (DOD, current US$)\",\"PPG, private creditors (INT, current US$)\",\"PPG, private creditors (NFL, current US$)\",\"PPG, private creditors (NTR, current US$)\",\"PPG, private creditors (TDS, current US$)\",\"PPP conversion factor, GDP (LCU per international $)\",\"PPP conversion factor, private consumption (LCU per international $)\",\"Percentage of enrolment in primary education in private institutions (%)\",\"Percentage of enrolment in secondary education in private institutions (%)\",\"Percentage of repeaters in primary education, all grades, both sexes (%)\",\"Percentage of repeaters in primary education, all grades, female (%)\",\"Percentage of repeaters in primary education, all grades, male (%)\",\"Percentage of repeaters in secondary general education, all grades, both sexes (%)\",\"Percentage of repeaters in secondary general education, all grades, female (%)\",\"Percentage of repeaters in secondary general education, all grades, male (%)\",\"Percentage of students in primary education who are female (%)\",\"Percentage of students in secondary education who are female (%)\",\"Percentage of students in secondary general education who are female (%)\",\"Percentage of students in secondary vocational education who are female (%)\",\"Percentage of teachers in primary education who are female (%)\",\"Percentage of teachers in secondary education who are female (%)\",\"Percentage of teachers in tertiary education who are female (%)\",\"Periodicity and timeliness assessment of statistical capacity (scale 0 - 100)\",\"Permanent cropland (% of land area)\",\"Personal remittances, paid (current US$)\",\"Personal remittances, received (% of GDP)\",\"Personal remittances, received (current US$)\",\"Personal transfers, receipts (BoP, current US$)\",\"Physicians (per 1,000 people)\",\"Plant species (higher), threatened\",\"Population ages 65 and above (% of total)\",\"Population density (people per sq. km of land area)\",\"Population growth (annual %)\",\"Population in largest city\",\"Population in the largest city (% of urban population)\",\"Population in urban agglomerations of more than 1 million\",\"Population in urban agglomerations of more than 1 million (% of total population)\",\"Population living in areas where elevation is below 5 meters (% of total population)\",\"Population, ages 0-14 (% of total)\",\"Population, ages 15-64 (% of total)\",\"Population, female (% of total)\",\"Population, total\",\"Portfolio Investment, net (BoP, current US$)\",\"Portfolio equity, net inflows (BoP, current US$)\",\"Portfolio investment, bonds (PPG + PNG) (NFL, current US$)\",\"Poverty gap at national poverty lines (%)\",\"Poverty headcount ratio at national poverty lines (% of population)\",\"Power outages in firms in a typical month (number)\",\"Pregnant women receiving prenatal care (%)\",\"Presence of peace keepers (number of troops, police, and military observers in mandate)\",\"Present value of external debt (% of GNI)\",\"Present value of external debt (current US$)\",\"Prevalence of HIV, female (% ages 15-24)\",\"Prevalence of HIV, male (% ages 15-24)\",\"Prevalence of HIV, total (% of population ages 15-49)\",\"Prevalence of anemia among children (% of children under 5)\",\"Prevalence of anemia among non-pregnant women (% of women ages 15-49)\",\"Prevalence of anemia among pregnant women (%)\",\"Prevalence of overweight, weight for height (% of children under 5)\",\"Prevalence of overweight, weight for height, female (% of children under 5)\",\"Prevalence of overweight, weight for height, male (% of children under 5)\",\"Prevalence of severe wasting, weight for height (% of children under 5)\",\"Prevalence of severe wasting, weight for height, female (% of children under 5)\",\"Prevalence of severe wasting, weight for height, male (% of children under 5)\",\"Prevalence of stunting, height for age (% of children under 5)\",\"Prevalence of stunting, height for age, female (% of children under 5)\",\"Prevalence of stunting, height for age, male (% of children under 5)\",\"Prevalence of undernourishment (% of population)\",\"Prevalence of underweight, weight for age (% of children under 5)\",\"Prevalence of underweight, weight for age, female (% of children under 5)\",\"Prevalence of underweight, weight for age, male (% of children under 5)\",\"Prevalence of wasting, weight for height (% of children under 5)\",\"Prevalence of wasting, weight for height, female (% of children under 5)\",\"Prevalence of wasting, weight for height, male (% of children under 5)\",\"Price level ratio of PPP conversion factor (GDP) to market exchange rate\",\"Primary completion rate, both sexes (%)\",\"Primary completion rate, female (%)\",\"Primary completion rate, male (%)\",\"Primary income on FDI, payments (current US$)\",\"Primary income payments (BoP, current US$)\",\"Primary income receipts (BoP, current US$)\",\"Primary to secondary general education transition rate, both sexes (%)\",\"Primary to secondary general education transition rate, female (%)\",\"Primary to secondary general education transition rate, male (%)\",\"Principal arrears, long-term DOD (US$)\",\"Principal arrears, official creditors (current US$)\",\"Principal arrears, private creditors (current US$)\",\"Principal forgiven (current US$)\",\"Principal repayments on external debt, long-term (AMT, current US$)\",\"Principal repayments on external debt, long-term + IMF (AMT, current US$)\",\"Principal repayments on external debt, private nonguaranteed (PNG) (AMT, current US$)\"],\"title\":\"Indicator\",\"value\":\"Adjusted savings: carbon dioxide damage (current US$)\"},\"id\":\"1153\",\"type\":\"panel.models.widgets.CustomSelect\"},{\"attributes\":{\"active\":[0],\"labels\":[\"Color\"],\"margin\":[5,10,5,10]},\"id\":\"1157\",\"type\":\"CheckboxGroup\"},{\"attributes\":{\"children\":[{\"id\":\"1153\"},{\"id\":\"1154\"},{\"id\":\"1155\"},{\"id\":\"1156\"},{\"id\":\"1157\"}],\"margin\":[0,0,0,0],\"name\":\"Column00215\"},\"id\":\"1152\",\"type\":\"Column\"},{\"attributes\":{\"height\":576,\"margin\":[5,5,5,5],\"name\":\"ParamFunction00216\",\"text\":\"&lt;img src=&quot;data:image/png;base64,iVBORw0KGgoAAAANSUhEUgAAAtAAAAJACAYAAACkMVHfAAAAOXRFWHRTb2Z0d2FyZQBNYXRwbG90bGliIHZlcnNpb24zLjQuMywgaHR0cHM6Ly9tYXRwbG90bGliLm9yZy/MnkTPAAAACXBIWXMAABYlAAAWJQFJUiTwAACDGElEQVR4nO3dd3gU1foH8O+7yaaThNB7AOmoNEGKUqyIXlD06s8GKhfLtV69diXYsV+wV1QUe7kXRRABCxYkoBTpEHoRQkJ62/P748wkm83sZifZ7GaT7+d59plkzszsuzOzs++ePXOOKKVARERERET+cYQ6ACIiIiKicMIEmoiIiIjIBibQREREREQ2MIEmIiIiIrKBCTQRERERkQ1MoImIiIiIbGACTURERERkAxNoIiIiIiIbmEATEREREdnABJqIiIiIyAYm0ERERERENjCBJiIiIiKygQk0EREREZENTKCJiIiIiGxgAk1EREREZAMTaCIiIiIiG5hAExERERHZwASaiIiIiMgGJtBERERERDYwgSYiIiIisoEJNBERERGRDUygiYiIiIhsYAJNRERERGQDE2giIiIiIhuYQBMRERER2cAEmoiIiIjIBibQREREREQ2MIEmIiIiIrKBCTQRERERkQ1MoImIiIiIbGACTURERERkAxNoIiIiIiIbmEATEREREdnABJqIiIiIyAYm0ERERERENjCBJiIiIiKygQk0EREREZENjTKBFhFlPFI95qcZ82eHJrL6Q0RGGfsiI9Sx1AURmW28vrRQx0KVichS49hMDnUswSIiqeZ1yaKs3pyrtTk2IjLZWHdp4COrucZ4vtVXIhIlIttEJFtEkkMdD9VfxnUxzY/lhhnv748CHUO9T6BFZIJbwrsw1PEEg/FhmiYiN4c6FiIioiC5BkBnALOUUlkhjiXsGRVhaSIyoRbbMCsWM2q7rIhEGl+kvxaRfSJSLCJHRGS9iHwpIneIyAk1jdWKUuonAEsBnC8igwK57XqfQAOY5Pb3KSLSvg6f6xCAjQD21eFz+CMVwDQAN4c2jAZtH/SxPhTqQIiqUZ/O1Z3QsWSHOhBqWEQkAcC9APIAPBPicBqKUdC5xITQhgGISAsAPwN4E8AZAFoDKAMgAHoAOAvAYwC+qYOnf8iYPhrIjdbrBFpEmgEYByAfwHvQ8V5aV8+nlHpOKdVTKXVXXT0H1Q9KqbuMY/1cqGMh8qU+natKqcuNWD4LdSzU4FwGoAWAT5VSh0MdDAXcHACDAOQAuB1AG6VUrFIqGUASgNMAvAAgy9sGRGSSiHwvIkcAXA7gXhHZKyLLReQZbzXMSqlvAWwHcKqIHBuoF1SvE2gAFwNwAvgCwMvGvEneFyciIqIwNMWYvh/SKCjgRKQngNONf69USj2hlNpvliulcpRSi5RS/wTQy8s23gAwG8BJ0Al3IYBiAM0AnAD9i/1kH2GY59VVNX4hHup7Am0my+8C+AH658OeIjLY10oi4hCRG0TkDxEpEJG/ROR/IjK0mvUsbyL0dYOP2zJeb7ozboy4SUR+EpEsESkRkQNGfM+7x2Wsv8T4t5Nb+2/zMdli+31F5A0R2S4ihcZzLBORa0TE6SPmJBF50m29XSLyam2byYhIZxF5UUQ2Gfs/X0R2GDfr3CUizT2WTxCRC0TkXRFZa8RfICJbROQVEelm8RwjjP1RLCIpPmJpJyJlxrLHuc23vDHL81gb+/Z9Edlv7KMNInKfiET5eM5Y41zaaKyzz9hGX1/nknHeThaRJSJy2DhP/hKRdcbxPdPnjq8hEWkmItNFJN3Y9/nGsXtfRMZbLD9ERB4VkV9EZI9xDA6Kbtd2vo/nKd/nIhItIveIyGoRyTHmJ1us01R0zcI2Y1/uNs6JNtW8pq4i8rLbekdE11xMEZEIL+uU30zmcQwLjNf3vtW56C8RiTHOnQ0e50XvatbzeROhsS//JSK/ir75qsCI+2kRae2xrENEfjC2972IVPkMMM6HvcYyMz3KfN5wJyJtjeOzx3iN24w4kqvZPeb6I4x9sltEioz3wSIR+T8REX+24WW7Z4rIYmP/HDXO3cv8WC8Q53qUiNwrup1nvojsFJGZItLUbfmBIvKp6OtMgYj8Jj7ardY0Lrf1zxZ9nXHfH5OMsuqOcZSIXG+cR5nGcdoh+hplmfz4Ec+xAAZA1z76/AlfRDqIyFOiPytyjMefIvK6iIz2WLbaG3C9vV7xuOlVRC4Rke+Mc1KZx0dEMoz/R4n+vHnBOO+LROR3j20miMjdxvHNNt4jm43zoUN18Ymf1yUxPmegm28AwCSpmkuk+trPAeZe6zvP14JKqQLPeSIyCsAVxr+PAkgB8CGAxwHEAugH4Gn4bub2oTG9VHzkRbYoperlA0AfAMrYIU5j3mPGvOd9rBcJ4HNjOQWgBMARt7/PcytL9Vg3zZg/22N+qrmOj+cdZSyTYRHPUrfndBnxlLrNe99t+d8AZBrzywDs93hc6LH9643lzG3lemx7CYA4i3jbANjstlwB9E8rCsBB6G9pVV6PH8dtAICjbtstdtv/5uNMi9fgXn4UQJHHazrVYx0BkGGUT/URz7+MZdZ6zJ9tzE/zdqyhvzHnG39neeznz708XxKAFW7LFUG3FzVfx8XeziXoL4ru+yHLYz/8YrGO+TpsHSe39U+Cfo9ZxVslTgAJHjEWexxvBeBlL89lxvoYgF/d1s8y/k42lltq/H8rgC3G3/nG/jOf4yCAXl6e52zo89l9Pxa7/f8NgHiL9cznvRHASuPvQrdzQAE4DKBrDfZzAoBffJwX/+fjvDD3W5pFWQu3WM143Y9HJoATPdbp7LbMHRbb/Mgo+xNArJd9NNlivV7GcXF/35r7bjMq3otLveyjGR7n0VFUfs/NBeCowb7/t9s2zOuvud2nvL0mBOZcfwTA96i4xrqfl78BiAEw3jhuLlS8F8xY/+7lXKpRXMb69/rYH89Uc4zbAPjdbf0yj+cuAHBeDY7Rbcb6C6pZbiIqvx/dP7eqXAfh471T3TkNXZupjPKZbq8305hOMJbLMMqmAvjL+DsP+vz/3eP9YS6roPMR92taJoDhgbguAegAnS+Y2y9A1Vyig5/HJs1q39pZFsAFbrHW5PppXhvmeRxbr8fVYhsOt3N1iN0YLLcZiI3UxQP6m4UC8ILbvGPdTpYoL+vd43ai3wYjeYT+0JiPyheoVC8Hf7bH/FRzHR/xjvJy4lzu9oa6FECMMT8CQEcA/wRwlz/bsnjO8aj4oLoLQEtjvhO6PdEGeLmYAlholP0F4G8wPpigE6otbvup2jeNx3YXG+v9AqC/2/w46PZPzwAY6rHO/0FfoIYCSDLmCYCe0O2mFPQHc7zHeuYXqiU+4vnNWOZuj/mzYXFhReUE+giAD8zzBEA8gDuhP3QUgLMsnu8tt2NyKSq+/PWBvoHiiNW5BOBkVJy3NwNo4rYf2kD/GvOkxfOZr8PWcTLW7YqKJG4VgNEAIoyyptBfID7xWCcOwJcALgLQ1u28SYb+ImR+mF3gI9YcYz9cCON9DKCT275aiorE9wB0Qmw+z0gA24zyteY6Hq/J/NBYCqCHMT8a+gOu0Ch7zSI+83mPQLeXOwP6feqAfl/sMso/rMG+fhUVXwQmu73W46DP0Syr88LXuWqUzUfFh+8FbsdvEIDVRtl+AM091puMikS+n8X1qhjAAB/7aLLHfCeAdUbZVgAnG/MdAM6Bfv+ar3GpxXZvQsX7/FpUfJmKMV7XXqP8Ls91q9nvI1Dxfn0HQGu389X8UDbj8nxNgTjXs6BvAh1n7IsI6Ou2+UH+qLHM626xtUBFJdBeAJEBjGs0Kq5vb6DiMyMJwIPV7A8ngOVG2XfQ7wnz/dsKwJOo+KyzlSQB+MxY9xEfywyFTjoV9OfMCQDEbZ9NAPCGv+8dP87pyai4XrkA3I+K8zLRbd9luC23GsAwt20c47Z/txvLfQagv3lcoT9z3kbFezU5UNcleMlpbB4bcxvVfsZ4WxZAF7fz7msALWzG8Iqx7pNu82b7Oq5etvOdsZ3baro/Km0vEBsJ9MM4OcwL5giPMvNDYaLFevGoSAiq7FjoD1HzIq8QnAT6BWP+izZev+W2LPaR+cY918synaGTiRLoBvvm/JPc9sFoi/WOQUWi4TUGL89pfisOzDc8nUB+Y2xzkkeZ+YWqDEA7L6/DfJ2dPcpmW50nqJxAL4RxgfZY5n9GuefFugsqPqwvtlgvye28Vh5ltxvz59vcP+brsHWcjHU/NNbdCCNhD8DxugxevtS4xaoAnO5jG0uNZVwATrIo74GKmvlLPcpeN+ZvgfUvL1Pdtn2Ml+fN9ywzyica5YXw8gXey+vphIoavskW5Slwq7n1sd88z1X39/GZFuu1QsWvWQ9YlH9slK2DTlQ7oiJ5uqeaYzPZY7553ItgfGnxEetSj7Jk6OSjBMBgL897onHMMm3u+29RkXBZvZdfc4uryrEJ0Lk+0qL8PrfyxRbl8ahIsk8OYFxmArHAy/54AV72B3QbZQWdREd7eW5z/edsxrzHWO8iH8uYv1p9B48vzj7WsXzv+HlOT3bbF74S+wxUJLitvCzzkLHM51b73VjmS1gkd6jFdQn1JIE2yszKJfM6scjYL+NRTUINXUGooCtNot2Ordfj6mU75i8JH9V0f7g/6msb6NOha912AFjmUfauMZ3kZb1E6IPzjGehUqoI+ltyMB01pj7bbNbAKOgP5gzl5Y54pdR26JrgSGN5k9lG7hel1BKL9bZA17zWREBfr9Jn/ZfGv8M9ytZAv6Ec0LWZnv7PmP5s7Au7HjOe39PnxrSvx/xzoRP+XdA/N1eilMoG8JKX5zL3W0uxaJfqjVJqslJKlFKp/q4DlHcZda7x7/1KqRw76/vwP2N6onhpawxgtVLKnz7df1BK/eA5Uym1ETr5AyrOZRhtZCca/z6jlMq32OZr0B/W4r6uh4+N94Cn/0JffKOhv5z56zzoc3QvdE1TJUqpTAAv2tieyYx/hVLqa4vtHkDF+fZ3i/Wvhq4d7Q39i99b0F/yfoL+dacmsXxqHB/PWH6AbspgZSJ0s4QflVLLrRZQSv0C/ctDUwAD/QlI9L0RZpvYGV7ey4/4sy0v/DnXf1ZKfWcxf5Hb31W61lJK5UFfu4Gq15kaxSX63pOTjX8f97I/ZvjYrvmZ+7zxWWrlPWN6mr/BGu/bVsa/lm1YRd+EZt77dLtSqsTf7QdAGXT72uq8bbznrJj77hkv+x2o+Mzwtu8CfV0Ktn9A78diAFEAToFuMfA5gIOie9K4xDgfPL0D/ctGHwCrReQ2AO1qEIN5fgUkP6mvCbR5ss21ONnmQp8sY0X3K+hugDH93UhWrFhdzOrSfGM6XkT+KyLnie6er7aGGdO2xo0nlg9UJJ3uNyiY+8nXvqjpfvrKmL4tIo+JyIn+NNgXkfYiMkMqbmQzb/xTqPgy1NZiVfOic7FFmZlAv2dR5o/fvMzfY0ybeszvb0yX+bhIVkkIDYtg/GwOYKmIXCoiVq83UAZBf7FS0D+p+U10Z/hXSUVn+EVux+qIsVgMqu4f089+PtVSH2Xm+TnAbV4X6AQQqLgRtxKllMttuwOsloGX4258aB80/vX22qyYz/OD8fxWavJ+M7dr+VoNi41pdxGJdy9QuquwK6DPgRugv2TnArhMKVVWw1hqck0xr2VDqrmWdTSWs7zZykJ/6C9KLgA/Wi2glNoG/YXXUgDO9TVe5h90+3utl2XMZKzKtmsYVz9j6oL+klSFUmoH9M36VZ4PFQns0z6OkVmZ4+8xMl+fmegf8bLMicY0Uyn1q41tB8IWpZQ/fbBbXteMmwPNG/M/8rHvzBt2ve27QF+XgkopVayUuhX69V0D/dlt3ocF6CY5cwB84FmJpJTaDd2Ubw+A7gCeAHAqgLtFZIWITBOPG6a9MM+v5j6X8lO9S6BFJAm6Sh+wSHyUUjuhk5BIVE2azIR6r4+n2OOjLOCM2of7oW/sOwfAJwAOib4b27zozanBps1vUFHQ3969PWKM5eLc1q2yn0Skt4h8aNzVWwhgullkM65/Q1+cmwC4A/qiclT0HfDXikis5woiMhLAeuhmDAOgk6Ac6A+QA6ionY33XBcV58hA9zuRRaQf9E0bZai4+9YWH7WyhcbU84uB+ab0NRCP5blp1CxcC32zx0nQ37j3iO4h5UUR6W+1Xi2YNT7ZPr5sVmHUXH8HXZPr3hn+X6g4Xiar4wVjWX/4eq+aZe5foltYlFvZbbG8O1+18d6OvS91dV0yt+vPaxVYfGgopRagcrdhdxhJZU1jqclrNK9lsfB9LTP3eZznBqqJKduo0bUVV4DOdW/XgvIvKEqp6papdK7VIi7z+Gcri54O3FgdwxTozxrzb2/HyHyOKtd5H6Ld/i72sox5vaqS3AeBv9crb8u513a2gPd9Zya/3s7vQF+XQkIpdVAp9bJS6mKlVHfo/fMPVHyRvQD6C73nekuh73G5BLolwiHo1zsQuunIZhGZ6LmeB3M/2Tk/vap3CTT0T/Fm0rfaousVhYqfoayacdQ7SqkHob813YWKN0EsKi5InWuwWfPYfWb8hC9KKYHuMxvQJ4pZs7FMKZXmbUMiMgT62+0E6JrQ/0C3twKAViIS7WXVKoxarRHQP0PNhL45LQr6p9QXAKwVt27yjNrpOdA/4S6CPraxSqlkpVRrpVRr6Lv3AYtkXimVgYpv/u5fqMza50VKqYMIjhp3swUASqk3oM+Fm6GP42HoNtnXAEgXkbtrGZ+7msZ6H3SN4SHo918rpVScUqqlcazcf1bz9hx2azetVBe/3+dsPVGbc6fGr9X4leMMt1kjahFHtU/nZb55LXvG/Vrm4zE7SHEF4lyvCzWNqzYxuucKx/tznGxsO9Pt72QvywRz/3ry93rlbTn3fZfkx75LrV24AWcn6TSTf19f0CpRSh1QSr0GXXlmfvm70suyRUqp95RSl0I37ZwJ/Vn/O3QOMVd8dzVqfkkJyEA99TGBtpMU95fKo8qY3wB9/fRdk5/FS80/RCTGyzJJXuYD0O2RlVKPQdeu94ROKP8wigeLSEubMZknmmcfsjOg28wlQNd4WynfT0YbuTehT/zzjW+Fd6CiLVw0gFvsBKa0RUqpm5RSA6BrJa6GvlB2QeX26UOhf97KBDBeKfWDUqrQY5Ot4JtZC/1/QHmbuos8yoLB3K++2lf5bHtlXEz+o5SaAF1bMRj6Z1EB8KC49WVdS2Yn9knGrz7+usCY3qCUetviy0l1x8oOX+9Vcz+61/q4/93Jx7rmFzh/a5Zqy5/rUk3a5Jnb9ee1Kni0LzXeJ29C1yhuhL7O/Z+IXAT7avMavV3LasuMKUlEfNVae4srmOe6HTWNy31/+EqGrPbHYVQkiAE9TkZ76lzjX29NEMzrVUcv5d6Yn93ePreBaj67A8D9F4FAn+PBYCabKeJj/AODee7YTlCNZjJmBWB3P1c7opR6H7qJzzroGun/87G8eX750ySnWvUqgRaRY1DRHq4f9Iv19jBvlHBPuFea64pIopenGVmD0LLc/vY2yMgJ/mxIKbVEKbXR+DnCHDI8ErpNqslsJykAIHoQgSWiB4MoFJH10DWTANBDRPq4bf9npdS6atowmvvpZOj90QvA90qp/7otc7Lb39cYH7Y1opQ6opR6BYBZg+p+DMz9uUlZ3/QF6LZOvnwAfaHsISIDoM+hjtDfgi1vsKwjq4zpcB/76yR/N2Z8EfkN+gNzN/T7NVA1hCug95kAGGtjPfN4rfJSXt2xssPXe9UsW+k2bxsq3quVBlQwGW3rRlmsW5fM5xnh47yoyXXJ3O5IH9sdY0w3WTRjuB76xusC6C/2DxnzXxARuzfouF9TvPH2Gs1fkEZKYO4PMa2C/uLg9X0jIp3hPSkL5rluR03j+t2YOlDxOVuJiHSExRcyo53tCuPf8/yK0h7zxlNvv8aaN1SmiMiJXpaxkmVMLT+3jfsCajT4i7+UvoHdTKLrYt/5UimXqCHzPHNvB++NOSict3OzOuY1yltTHkvGl7AFxr++BoJLNaYb7IVlrV4l0KhIhv9QSv2hlMry9oDu7B8ALpGKO40XQLeXjYbuV7QS49vTrXaDUkrlQndVA1S0z3bfbjNUDENq9ZzelLr97f4zrNnmN0lEXoeuRT0GwKcAnoeurb0curcRAHhGvN8FDlTcoGEy991QVAx9WX4jmYh0QUWvFqXQF9QuPrZvrucwbjbxxvxZx/21mu1vu1nV7ovI6fCSDJmUUn9Bd1cF6G+fZlOOeSpwvUv443PoD+wOsOj1wPhSd43Vir7OE+PLkHnXeUCaJhjntPnlYrqINPFzVfN4HetZYLTNvCcA4ZlGikiVD3rjJzqz1wfzXDZ7bPnU+PcmL7WOU6B/4lao6Mmjrn0K/UHWDrpv8EpEj0hneV5Uw4y/D6yvS63ctvuhR1lPVPzK9G+le854GLqLsqYAZtv80mweh/OsfkI1jqO35Poj6A/OGOibg7wSt9H7qqN07ybmTZS3e3k9d/rYRDDPdTtqFJdRw2fexHybl23/28fzzjamE8VjxD+LOOzezGb2tjXIqlAptQH63ASAx8X/keTMmzhP9/Lr8S0ITnOv2cb0OvExWqNogawRN3OJ5FpsYyV0/9OAj/xJ9MiMXY1/P/Uo6ywiXausVHmZOOhmpEDFlz2zLNmPOHsaU19NNs2KTm8389ujAtAXXiAeqDyy3P1+LJ+MitHFznKbbw6kUgrddjbWmJ8K3WYmCxV9EaZ6bDMNXvpMREWn+0egBx4xO0E/EfrbltnfaobHeu9D/0x6Btz62jXiMQcdKYXbQAfQN364j5z2KaqOCGbGavY7/C2AIajoWD4S+q5VBaDU4vWYA6mY/T2fb8wfDmCT234y+3Ue6+cxyTCOwbGoGNTBAd1lTZUO34118sz5MPqrhm5vdSV0m3FzpLylPp7bHABiFyr61J3gY/nZsOgfFLXo89soe8coy4FO5M3zpDf0h8QRq+1Dd6/4MfQFJMVtfitU9F3pAtDXy+uoEosfx+sYVPQ1uwr6i4r7oAzjAHzpsc57xvI7oWsUzfPtBOh+Wg/D+/vLcp9bxLXUWC4L+qfbs9yexxzoR6H6gVSWoPJAKv9Axfn+qo/nnewjtgxjmVE297U5kEqeca6aA6kca+y3LG/nna/9hsoDqZyPivfcQOgmYsrYh83c1nGiYrTMrz221x0V78cb/d1HqDyQymYY/fdDv/fHGTGYr7HK+xj6piHzvPkQbuc5dGI9Arry4E+b+919IJW3YPTTC/2z/SPGfHPsAM/XVGfnOvy7zlhuo5ZxnepW9hoqBgNJhL5x3H00RKtj/DMqzuObUPla1RK6AmOpt9ft47WaI9Vt8LHMcFQMpPItgEFuZc2hm+2967FOCio+wz5E5YFj7oH+7PX2eid7O1/tXhOgr6dbjeUOQlcWJriVd4C+Pq20iGOpVXz+xAB9L5Iyzoludo6Jx3bKR9CF/ozr4VaWBP1F3bzuVhlNEjoXKYXOZf6OyuNSxEM3N013e47zPNZ/A7rXjhGo+IyaDZ0HxaJiECAF4AQvr6Gp2zJtarovKm0zEBsJSCCVR0jq4+c6XxvLf+A2L+BDebvt/K1u6xa6nTA7oGuWFKom0O6xmMOm5rnNU9A3+Xk+n3un49nGGyQDFYluBHRiuQ2Vh3suMOa7D+etLLbvOZR3IayH8jZf4//5cTySPV5XMfQb1z2WrQDae6x3o8d6Wai4UK5CxYfrUh/P3QSVhzY9Ai+d/bu9+aw+nFK97TO3ZUZZHWu3fbDKY79moSKpNodsLvJY71mPfZCNqsPz3u3jdVSJxcb77oiXeKvsB+hfIv5yKy9wO0fyoZsEeHt/We5zi5iWGst5DuXtPmTvQQC9vax/DioPmXwElb+QLoLvobwn+4gtAzVLoD2H8nbfz7Udytv9fCtA1aG8PUf+fBgVH6ptLbZ5nds+7+VR5nUfQX9JdB/KOwf2hvK+FxXJroK+TprDJpvzttfgHPccyjsTFdckX0N519m5jtol0DWOy1h/mo/98QQqBlupcs2HTpJ/tFjf/b2pAEyzeYzcB47xOoohdJJc6PY8nteFKtdBVP18OeJ2Tt3v4/hP9nW+2r0mQFdY/OkWRxn0ezDfI75J/r7nqosB+kuPeQ11Qb8/M4xHe1/xWjzHPaj8/sw1jr37vGXwGPXUWPcMj9doHrssj3mlsP6ccx/wKAv6WroX+ou5+/nwhI/4zRztO7vXEG+P+tSEY5Ix3aSUWufnOp8Y0/FmFb9SqhS6Y/4boUctLIU+Ub+EHhHqU4vtVEspdQS63dgr0AfOAX3yz4K+e3S3l1XvhO6e7WvoZDcKOvndioo+ordbrGfeuFcGfYNfJ+NxqYikQd+JXQT9AdoDOgFbB/16k4zYzLaFZts199ezD7rGYocxywGdtL1uvJ6tnqt4eX3ujkJ/03wW+ue2v6AT2zzoXj7ugR42uNK+UkrNhP5iswz6TRUJ3UZpGvQ+r7YZhtJNNf7nNusT5b2z/zqjdPOi4dDfiLdA/7JSCP3teTB0d31A5Xb1gL6x8kbomyg2GetFQ9eofwA9GlltBn3wFu8S6PNnBnSNbin0/t9kxPw3j+W3Ga9jDvTFOMJ4Le9Cf/P3Z4AUfx2GPkefhW5DGAX93nsV+jz608tr+h90ze6r0B8UcdDn1Y/QIxGeoXx3axZwSjeZGQX9gb3JmF0IfWwHw/++sT23+xd0U6xbod/nJdD7aTP0fuujlCrftogMhe5eEgCuUUpV6bJMKfUCdHO4WABz/P253Dge/aA/7PZBf3jvhz63T0Dl3has1n8IwPHQ19jN0O+BeGNb86G7eRziTywe230Cup3/EugP/UjofXW50v3SelsvmOe632obl1JqOnSTn++hr82R0Nfny5RS/0bFTXVZFusehK71vgS6z/+D0F8OBfqa/Tr0L0a2rlXG+9EcvMvrTaxK3zDWC8BzqHgfuaCvq69B/7rjuc5M6CaJv0BfBxzQnzXnKqUesBNnbSjdVWl/6C+oS6DfD4nQ19zV0LnESOga3kA9Zwn0r7/vQHfX2BQVuYSv5pZW23oYOjd4FRVt1hOgr81fQo+AOVJZ9JmtdHeZPaCbDn0O/dlorp8FXfP+LHQPL1bnznXQv7C9Bf0Z0Ae6ErAl9Dm8CLpy0VcTJPO8er261+ov86cfAiAiD0Enea8opa4OwvONgn4jvat0tyzuZe3gPSmvRHnpMkhEUqGT82VKKW830XwEfWKer5T6xKJ8HvRPsGcppeZ7lpM9InIV9IX+O6XUqBCHQ0RUzrip7jD0l/fOSncTGqznHgSdyK9TStkdfZEaGRGZDf2LQ5ofyzaD/iKeC13z7q3DAlvqUw10fWB2wRSsfoN9MW8UWaUC19+mFfObpLduY8wbgjZ5KSc/GTcK3mT8+00oYyEisnAjdPK8OZjJMwAopVYAmAegj4icGcznpgbvRuhfxB4PVPIMMIEuZ9wZO874d7mvZYPB+Ml3HfTFJKUOn8q8S73KBcvojaM7dDOPmoxO1uiISEcReVNETjJqc8w7qwdD/yx+LCqayhARBZWIPC0ik41eWsx5rUXkAeimZ4BuGx4Kd0E3yQhVDyfUwBg9TN0AXQM9s5rFbbHVBqYhMvpQ/gEVHWyvh1uXbiH2NHSi9YaITDba15YzugrqrJSqTX+230G/5pNF5G/K6Ava6C/X7ObqJcW2Pv6Kgr75ZDIAiEgWdC8CZhdKhQAuVUrtt1iXiKiuDYZxj42IFEJfk5Ldyt+BbocedEqptSIyBUAnEUn2/MwjcvM5LNrpW+gEnTgvC2TtM8A20BCRftAN2DOhu3a73fMmtwA/3wRU9HXYGvru1G2o6JfwkFLqNrfln4duQJ8JXYO5E7prns7Q/aq+qZS6xm35EajokzoB+obKg6i4YRFKqckeMQ2Brol2QnelthP6xoNB0DdbnBKKG/LCkdGX5TXQd8L3hL7JU6Dbsy8G8JRSanPoIiSixkxExkJ3JTYE+jMoAbpnihUA3rC6F4aIqmr0CXSwGT1oTPOxyA6lVKrHOmdDJ2WDoWsKMqGT3IUA5ijdyby57GTofqe9smo3LSK9ofsBHQ3dc8YO6F4YHlNK+T2uPREREVFDxwSaiIiIiMgG3kRIRERERGQDE2giIiIiIhuYQBMRERER2cAEmoiIiIjIhkbfD3QwiMh26DHvM0IcChEREVF1UgEcVUp1DnUg9RUT6OBIjI2NTenVq1ddjihIREREVGvr169HQQF7sPWFCXRwZPTq1SslPT091HEQERER+TRw4ECsXLkyI9Rx1GdsA01EREREZAMTaCIiIiIiG5hAExERERHZwASaiIiIiMgGJtBERERERDYwgSYiIiIisoEJNBERERGRDewHup5xuVzIzMxETk4OioqKoJQKdUjUyIgIoqOj0aRJE6SkpMDh4PdsIiIid0yg6xGXy4Vdu3YhPz8/1KFQI6aUQmFhIQoLC5GXl4cOHTowiSYiInLDBLoeyczMRH5+PiIjI9G6dWvEx8czcaGgc7lcyMvLw/79+5Gfn4/MzEw0b9481GERERHVG8zO6pGcnBwAQOvWrdGkSRMmzxQSDocDTZo0QevWrQFUnJdERESkMUOrR4qKigAA8fHxIY6EqOI8NM9LIiIi0phA1yPmDYOseab6QEQAgDeyEhEReWCmRkSWzASaiIjqh9L8wlCHQAYm0ERERET1XEluAT7pORk/XfMM8vcdDnU4jR4TaCIiIqJ6bt2znyB/91/Y+Mo8fNLtcqTf+waKs3NDHVajxQSaiIiIqB4r/CsLa5/4oPz/0vxCrH7kXXx8zGXY/uHS0AXWiDGBbgA2bNiAG264AX379kVSUhKioqLQtm1bjBs3Dq+//joKC+t/m6nZs2dDRDB79uxQh4JRo0ZBRBAREYE1a9ZYLjN58mSICBYtWhTk6IiIqLH54+F3UZJTdZC1osNHEdMyOfgBERPocPfAAw+gT58+eO6559CkSRNMmjQJt912G8aOHYsNGzZgypQpGDFiRKjDDEsulwv//ve/Qx0GERE1Yjnb9mLDi/+1LGs3djDajOoX3IAIAEciDGuPPPIIpk2bhg4dOuCjjz7CkCFDqiwzb948PPXUUyGILvwdc8wxWLBgAb755hucdtppoQ6HiIgaoZX3z4arpLRqgQgGPTIl+AERANZAh62MjAykpaXB6XTiq6++skyeAeDss8/G119/XWX+hx9+iJNPPhlJSUmIjY3Fsccei0cffdRy0AwRwahRoyy3bzZlyMjIqBSbiGDy5MnIyMjARRddhObNmyMmJgaDBg3CvHnzKm1j1KhRuOKKKwAAV1xxBUSk/GFuNy0tDSKCpUuX4r333sOQIUOQkJCA1NRUbNiwASKCMWPGeN1fxx57LJxOJ/bv3+91GU+PPPIIRAT//ve/4XK5/FpnyZIlmDp1Knr37o3ExETExsaib9++mD59umVTGvfXNXfuXAwcOBBxcXFo27Yt/vWvf5Ufj8WLF2PUqFFITExE06ZNcdlll+HwYeu7sHfv3o3rr78eXbp0QXR0NJo1a4a//e1v+O233/x+7UREFHqHV23Gtve+tSzreumpSDm+a5AjIhNroMPUm2++iZKSElx00UXo27evz2Wjo6Mr/X/33Xfj0UcfRfPmzXHxxRcjISEB8+fPx913311e4+p0Omsd444dOzB48GB06dIFl112GTIzM/HBBx9g/PjxWLRoEUaPHg1AJ+HJycn44osvMH78ePTr1698G8nJyZW2+dRTT+Gbb77BOeecg9GjRyM7Oxs9e/bE6NGjsWTJEmzatAndu3evtM5PP/2EtWvXYuLEieXDU/ujf//+uPTSS/HOO+/grbfeKk/yfZkxYwY2bNiAYcOGYdy4cSgsLMSyZcuQlpaGpUuXYtGiRYiIiKiy3qxZszB//nxMmDABo0aNwsKFC/HMM88gMzMT48ePx0UXXYRx48Zh6tSp+OmnnzBnzhwcOnQI8+fPr7SdlStX4vTTT0dmZibOOOMMnHfeeTh06BA+//xzjBgxAp999hnOOussv/cBERGFzoq7XrOc74hyov/0ycENhipTSvFRxw8A6QMGDFDV+fPPP9Wff/5Z7XJKKTVmzBgFQL366qt+LW/66aefFADVoUMHtW/fvvL5JSUl6uyzz1YA1MMPP1xpHQBq5MiRltubNGmSAqC2b99ePm/79u0KgAKg0tLSKi3/9ddfKwBq7Nixlea/+eabCoB68803LZ9n2rRpCoCKi4tTK1eurFL+0UcfKQDq1ltv9RrjwoULLbftaeTIkQqA2rx5s9q5c6eKiYlR7dq1U3l5eVW2+c0331Rad+vWrcrlclXZ5r333qsAqPfff9/ydSUmJlY69oWFhap3797K4XColJQUtXTp0vKysrIydeqppyoAatWqVeXzS0pKVNeuXVV0dHSl5ZVSas+ePapt27aqdevWqrCw0K/9oJS9c5KIiAJnzzcr1BsyxvLx6y3P1+lzDxgwQAFIV/Ugh6qvDzbhCFP79u0DALRv397Wem+88QYA4N57761UGxsZGYmnnnoKDocDr71m/Y3Xrk6dOuHee++tNO+MM85Ax44dsXz58hptc+rUqejfv3+V+RMmTEDbtm0xe/bsSs1QsrKy8OGHH6Jr16449dRTbT9fhw4dcPPNN2PPnj14+umnq12+S5culiP43XzzzQCABQsWWK534403olevXuX/R0dH48ILL4TL5cK4ceMwcuTI8jKHw4FLL70UAPDHH3+Uz//yyy+xdetW3HDDDZWWB4C2bdvi9ttvx/79+/Htt9Y/BxIRUf2gXC6vtc/OxHgcd/clQY6IPDGBDlNK12zbHm555cqVAGDZXrh79+5o3749tm/fjqysrFrH2K9fP8vmCh06dMCRI0dqtM3Bgwdbzo+MjMSUKVNw+PBhfPLJJ+Xz33nnHRQUFGDq1Kk1Hpr6rrvuQosWLfD444/jwIEDPpfNy8vDI488ghNOOAFJSUlwOBwQETRv3hwAsGfPHsv1Bg0aVGVe27ZtAQADBw6sUtauXTsAur2z6eeffwagm86kpaVVeZhfWtavX1/dSyYiohDa/tF3OJy+ybLs2NsvREzzpCBHRJ7YBjpMtW3bFhs2bKiUQPkjOzsbANCmTRvL8jZt2mDnzp3Izs6u0v7YLm/rR0ZG+n1TnidfbZinTp2KRx55BC+//DIuvvhiAMArr7yCqKgov9ove5OYmIhp06bh+uuvR1paGl588UXL5UpKSjBmzBgsX74cffv2xYUXXogWLVqUtyefPn265U2aAJCUVPViGBkZWW1ZSUlJ+TzzpsKPPvrI5+vJzeXIVURE9VVZcQlW3vO6ZVlsm2bofdN5QY6IrLAGOkyZfTvb/TneTMa89UZhNg1xT9pEBKWlFl3oAAGpqbbDVy1yu3btcM455+D777/H+vXry28ePPfcc9GiRYtaPe/VV1+N7t2749VXX/Vag/vFF19g+fLlmDRpEtasWYNXXnkFDz/8MNLS0nD11VfX6vn9YR6zL774wme7rWnTptV5LEREVDMbX/kSOdv2WZb1n3Y5nPGxQY6IrDCBDlNXXHEFnE4nPvnkE/z5558+l3Wv9TTbDy9durTKclu2bMHu3bvRuXPnSrXHTZs2xa5du6osX1ZWht9//71G8Xsym3qUlZXVajvXXXcdAF3z/MorrwBAQJLXyMhIzJgxA2VlZbj99tstl9myZQsAYOLEiVXKvvvuu1rHUJ0TTzwRAPDDDz/U+XMREVHgleTk448H37EsS+rRAd2uHBvkiMgbJtBhKjU1FWlpaSguLsa4ceOwYsUKy+W+/vprjB1b8Ya78sorAQAPPfQQ/vrrr/L5ZWVluO222+ByuXDVVVdV2sbgwYOxc+dOLFy4sNL8hx56CDt27AjI62nWrBkAYOfOnbXazimnnILu3bvjrbfewocffoju3buXd5dXWxMmTMBJJ52EefPmYdmyZVXKU1NTAVT9crJt2zbccccdAYnBl/Hjx6Nr1654/vnn8dVXX1ku8/PPPyM/v+pwsEREFHprn/oIhX9lWZYNfGQKHJFV7yui0GAb6DB29913o7S0FNOnT8cJJ5yAYcOGYdCgQUhISMCBAwfw/fffY/PmzZVuUBs2bBhuv/12PP744+jbty/OP/98xMfHY/78+Vi7di1GjBhRZfjq2267DQsWLMD48eNx4YUXIiUlBT/99BO2b9+OUaNGWdZm2zV06FDExcXh2WefRWZmJlq1agUAuOGGGyzbAHsjIrjmmmvwr3/9C0Bgap/dPfnkkzjxxBPLa5vdnXPOOTjmmGPw9NNPY82aNejfvz927tyJefPmYdy4cbX+clAdp9OJTz/9FGeccQbGjRuHYcOGoV+/foiLi8OuXbvw22+/Ydu2bdi3bx/i4uLqNBYiIrKn4EAm1j71oWVZixN7oeOE4UGOiHxhDXSYu//++7F27Vpcf/31yM7OxptvvoknnngCX375Jbp27YrXXnsNP/74Y6V1ZsyYgblz56Jbt254++23MXPmTLhcLjz00EP45ptvEBUVVWn5U045BZ9//jn69OmD999/H2+99RZSU1OxfPlydOrUKSCvo2nTpvjkk0/Qu3dvvPnmm7jvvvtw33331ai3jsmTJ8PhcCA6OhqTJk0KSHymwYMH48ILL7Qsi4+Px+LFi3HxxRdj3bp1mDlzJlavXo377rsPc+bMCWgc3hx33HH4448/cMcdd5SfDy+++CLS09PRv39/vPPOO+U9ghARUf3x+4NzUJpXdcRaABj0WM17kqK6IWZ3aFR3RCR9wIABA9LT030uZ96c5t4fMNm3dOlSjB49unwUQao5npNERHXv6JY9+LT3FVClVe8D6nD2iTj1vw8HNZ6BAwdipR61rGo/qgSANdDUAD3++OMAgOuvvz7EkRAREVUv/d43LJNniGDgI1OCHxBVi22gqUFYs2YN5s2bh/T0dMyfPx9nn302hgwZEuqwiIiIfPrrtw3I+HCpZdkxk05H076dgxsQ+YUJNDUI6enpuPvuu5GYmIgLLrgAL7zwQqhDIiIi8kkphRV3vmpZFhHtRP+0wN7HQ4HDBJoahMmTJ2Py5MmhDoOIiMhvexeuwP4lv1uW9br+XCR0bBXcgMhvbANNREREFGQlOfn49RbrX0ujkuJx3F3/F+SIyA4m0ERERERBpJTCj1c9gewN1uMDHHvn/yE6JTHIUZEdTKCJiIiIgmjtUx8h4+PvLcvi2jVH7xvPC3JEZBcTaCIiIqIg2bt4FdK93DgIAIMenYLI2OggRkQ1wQSaiIiIKAhydx3E0osehHK5LMu7XXEmulxyapCjoppgAk1ERERUx8qKirHkgukoOpRtWd58UA+c+PxNHLI7TDCBJiIiIqpjv9z4HA4t32BZFt0sEaM/mobImKggR0U1xQSaiIiIqA5tev0rbHr1S8sycTgwau69SOjEPp/DCRNoIiIiojpyaMVG/HL9TK/lAx6+Em1PHRjEiCgQmEATERER1YHCQ9lYfH4ayopKLMs7nXcSjr39oiBHRYHABJrqtU2bNuFf//oXBgwYgJSUFDidTqSkpGDIkCG47bbbkJ6eHuoQiYiIqnCVleG7ix9C3s6DluVJPTtixBv/5k2DYYoJNNVLSilMnz4dvXr1wjPPPAMRwYUXXojbb78dl156KWJjYzFr1iwMGjQIzz//fKjDJSIiqmTlvW9i76KVlmWRCbEY80kaohLjgxwVBUpkqAMgsvLAAw8gLS0NHTp0wNy5czF8+PAqyxw8eBDPPvsssrOtuwQiIiIKhYxPf8CaGXO9lp/05u1I7tUpiBFRoLEGmuqdbdu24aGHHkJUVBTmz59vmTwDQMuWLfHII4/g9ttvrzQ/Pz8fjz76KPr164f4+HgkJCRg6NChmDu36sVs6dKlEBGkpaVh+fLlGDduHFJSUiAiyMjIqFS+YsUKnHnmmUhKSkLTpk0xceJE7Nq1qzzmiy66CC1atEBsbCxGjx6NP/74o8rzbdq0CXfeeScGDRqEFi1aIDo6Gp06dcLUqVOxe/dun/H9/vvvGDduHJKTkxEXF4eRI0fip59+qrT8nXfeCRHB22+/bbnP0tPTISI455xzrHc+ERHVStb6Hfhh8gyv5X3/fSFSJ54cxIioLrAGOgy86Tgl1CHUyBWub2u03ptvvonS0lJcfPHF6NOnT7XLR0ZWnMZZWVkYM2YMVq1ahQEDBuDKK6+Ey+XCggULcPHFF2PdunV46KGHqmzj559/xqOPPooRI0bgyiuvxKFDhxAVVdEf52+//YYZM2Zg5MiR+Mc//oE1a9bg008/xZo1a/Df//4XI0aMQM+ePXH55Zdjx44d+PTTT3Haaadh27ZtSEhIKN/Op59+ipdeegmjR4/GsGHDEBUVhXXr1uG1117D//73P6xYsQLt2rWrEt+KFSvw+OOPY+jQoZgyZQp27tyJTz75BKeccgp+//139OjRAwBwzTXX4IknnsDLL7+Myy+/vMp2Xn75ZQDA1VdfXe1+JSIie/L3Z+KbcXejNLfAsrzNKQMw8OGrghwV1QUm0FTvLFu2DAAwZswY2+vefPPNWLVqFWbMmFGpZrqwsBATJkzAI488gvPPPx/9+vWrtN7ChQvx0ksvVUksN23aBAD46quvMGfOHFxyySXlZVdddRXeeOMNDBs2DLfeeivuueee8rIHH3wQ999/P15//XXcdNNN5fMvu+wy3HLLLYiOjq7y/GPHjsVDDz2EF198scrr+vLLL/Hmm29i8uTJ5fNefvllXHPNNfjPf/6DF154AQCQmpqKsWPH4ssvv8SaNWtw7LHHli+fm5uLuXPnokOHDhg7dmx1u5KIiGwoyS3AorPvRm7Gfsvy+A4tMeq9e+CIjAhyZFQX2ISD6p39+/XFx6omNiMjA2lpaZUezz77LADg8OHDmDNnDgYNGlSlWUdMTAxmzJgBpRTee++9Ktvt16+fz1rZESNGVEqeAWDSpEkAgKSkJNx5552Vysza399//73S/Hbt2lVJngHg9NNPR58+fbBgwQLL5x8+fHil5BkArrzySkRGRmL58uWV5l977bUAgFdeeaXS/HfffRe5ubmYMmUKIiJ4ASciChRXaRmWXvQgDq/cbFnuiHJi9MfTENMiObiBUZ1hDTTVO0opALDs2icjIwPTp0+vNK9Tp064+eab8dtvv6GsrKy8zbCnkhLdD+f69eurlA0ePNhnTIMGDaoyr23btgB08u2ZkJrJv2e7ZqUU3n33XcyePRt//PEHjhw5grKysvJy92Yj1T2/0+lEq1atcOTIkUrzx44di86dO+Odd97BjBkzEBcXB0An1BEREZgyZYrP10pERP5TSuHn6/6D3V/96nWZoS/chBYn9AxiVFTXmEBTvdOmTRts2LABe/bsqVI2atSo8gS7tLQUTqezvOzw4cMAdHvl3377zev2c3Nzq8xr3bq1z5iSkpKqzDPbXvsqM5N207/+9S88++yzaNOmDc444wy0a9cOsbGxAIDZs2djx44dls+fnJxsOT8yMrJSAg4ADocDV199Ne6880588MEHuOKKK5Ceno6VK1diwoQJ5Yk/ERHV3upH3sOm16yH6QaA4++5FN2vZLO5hoZNOKjeMXvd+PZbezchmonsLbfcAqWU18eSJUuqrBuMjuwPHjyImTNnom/fvti4cSPmzJmDGTNmlDdFsWraUVNXXnkloqOjy28a5M2DRESBt+Wdb7Dyvje8lne9/DT0f2By8AKioGENdBioaW8W4Wry5Ml47LHH8PHHH+Pee+9Fr169/Fpv8ODBcDgc+OGHH+o4wprZtm0bXC4XTj/9dDRp0qRS2e7du7Ft27aAPVeLFi1w/vnn491338WyZcswd+5cpKam4vTTTw/YcxARNWZ7F6Xjx6ue8Fre9tQBGP7KrRxpsIFiDTTVO127dsW9996L4uJijB07tkpfx6asrKxK/7ds2RKXXHIJVqxYgQcffBClpaVV1tm6dSu2b99eF2FXKzU1FQDw448/Vmp2kZubi3/84x+W8daGeTPhhRdeiNzcXEydOhUOB9/yRES1lbl6KxZPTIMqLbMsb3psZ4z+aBoiopyW5RT+WANN9dL9998PpRQefPBBDB8+HAMHDsTgwYORkpKCrKwsZGRkYNGiRQCAk0+u6JD+ueeew+bNm3H//ffjnXfewYgRI9CqVSvs3bsX69evx2+//Ya5c+eic+fOQX9NrVu3xkUXXYT3338f/fr1w+mnn47s7Gx88803iImJQb9+/ar02lEbw4cPx/HHH48//vgDTqcTV155ZcC2TUTUWOXt/gvfjLsbJTn5luVx7VvgtC8fRVRSgmU5NQysjqJ6yexJ488//8TNN9+M0tJSvPfee5gxYwbee+89HDhwANdeey3S09MrjbqXmJiI7777DrNmzULz5s3xySef4Omnn8aSJUvQpEkTPPPMMzjttNNC9rpef/113H333SgoKMDzzz+PBQsW4Oyzz8ZPP/1keTNibV1xxRUAgPHjx6NVq1YB3z4RUWNSnJ2LhWfdhfw9hyzLnYnxOO3LRxDfvkWQI6NgE7NHA6o7IpI+YMCAAenp6T6XM7tX87fNL1F1Jk+ejLfeeguLFi3CKafYH9GS5yQRNXZKKbhKSlGaV4glf38A+75dabmcwxmJ0+Y/hrZj+gc5wsAbOHAgVq5cuVIpNTDUsdRXbMJB1EDt2rUL77//Pnr16lWjUR2JiBq6ggOZ2PjqV9i3eCVKcgpQVliMsoIiPS0sRmmBnsKPysYRb/y7QSTP5B8m0EQNzHvvvYdNmzbh/fffR1FRER588EHeBU5E5KEktwALz7oLmau21HpbAx++Cl0vOTUAUVG4YAJN1MC88sor+P7779GhQwc888wzmDhxYqhDIiKqd9Y++WFAkuceU8/GsXf+XwAionDCBJqogVm6dGmoQyAiqtdK8wux/oUvar2dDmefiBOfu5G/8jVC7IWDiIiIGpUtby1E0aHsWm2j+Qk9MHLuvXBERgQoKgonrIEmIiKiRsNVVoa1T39kax2HMxIRMVGIiIlCdLNEtDvjBAx46Ao442PrKEqq75hAExERUaOx84ufkLN1r2XZSW/diZZDeyMiNqo8YY6IiYIjgrXMVBkTaCIiImoUlFJY++QHlmVNj+uCrpeeyvbM5Be2gSYiIqJG4eCytfjrl/WWZX1v/TuTZ/IbE2giIiJqFNY+9aHl/Lj2LdDlotFBjobCGRNoIiIiavCyN+7Czv/+bFnW56bz4HCyVSv5jwk0ERERNXhrn/rIckhuZ2I8uv9jXAgionDGBJqIiIgatIIDmdj6zkLLsh5TxyEqMT7IEVG4C9sEWkSaicgUEflMRLaISIGIZIvIjyJylYjYem0i0l5E3hCRvSJSJCIZIvKsiDStq9dAFEhpaWkQEY5ESETkYf1zX6CsqKTKfImMQO8bzwtBRBTuwjaBBnABgFcBDAHwK4BnAXwCoC+A1wB8KH7eTisiXQGkA7gCwHIAzwDYBuAmAD+LSLNAB0++iUilR0REBJo3b44xY8bg3XffrdPnXrp0KUQEaWlpdfo8RERU90ryCrDhRethu7tcPAbx7VsEOSJqCMK5xfwmAH8D8KVSymXOFJG7oZPgiQDOg06qq/MCgJYAblRKzXLb1tMAbgHwMIBrAhc6+WvatGkAgJKSEmzcuBGff/45lixZgvT0dDz99NMhjo6IiOq7zW8uQFFmjmVZ31v/HuRoqKEI2wRaKbXYy/z9IvISdNI7CtUk0CLSBcDpADIAPO9RPA3AVACXicitSqm8WoZNNnnWAn/77bc47bTT8Oyzz+LGG29EampqSOIiIqL6z1VahnXPfGxZ1u6ME5BybJcgR0QNRTg34fDFbOhU6seyY4zpQveabABQSuUAWAYgDsCJgQuPauqUU05Bz549oZTCb7/9Vj4/PT0dEydORMuWLREdHY1OnTrhuuuuw759+6psY/LkyRARbNu2DbNmzcJxxx2H2NhYjBo1CpMnT8bo0bov0OnTp1dqRmK2LfbV1jgjIwMigsmTJ1cp27RpEyZOnIimTZsiPj4ew4YNw5dffonZs2dDRDB79uxKyy9ZsgRTp05F7969kZiYiNjYWPTt2xfTp09HYWFhjfchEVFjseOzH5G7vernAAD0vY21z1RzYVsD7Y2IRAK43Pj3az9W6WFMN3kp3wxdQ90dwLfVPHe6l6KefsTh1aQJ79Rm9ZB56/PL6mS7yuiGyGziPm/ePEycOBFKKZx//vno1KkT0tPT8eKLL+KLL77AsmXLLGuqb7rpJvzwww8YN24czjrrLEREROCEE07Qsb/1FkaOHIlRo0aVL1+b2u4NGzZg+PDhyMzMxLhx43Dcccdh27ZtOPfcc3HWWWdZrjNjxgxs2LABw4YNw7hx41BYWIhly5YhLS0NS5cuxaJFixAREVHjmIiIGjJfw3an9D8Gbcb0D3JE1JA0uAQawGPQNxJ+pZRa4MfyScY020u5OT+5lnFRACxatAgbN26EiOCEE05Abm4uJk+ejNLSUixduhQnnXRS+bIzZszAnXfeialTp2LhwqrdF61cuRKrVq1C586dK81PTk7GW2+9hVGjRgXsRsJ//vOfyMzMxAsvvIBrr722fP78+fO9JtAvvPACOnfuXGVo2fvuuw8PPfQQPv74Y1x44YUBiY+IqKE58P1qHPpto2UZh+2m2mpQTThE5EYAtwLYACBQ1Z/mO6xq7+selFIDrR5GPFQDaWlpSEtLwz333IPzzz8fZ555JpRSuPnmm9GpUyd88cUXOHz4MC688MJKyTMA3HrrrUhNTcU333yDnTt3Vtn27bffXiV5rgu7du3C4sWLccwxx+Dqq6+uVDZ27Ficeuqplut16dLF8gJ/8803AwAWLPDn+yERUePkbdju+I4t0fmCkUGOhhqaBlMDLSL/BPAfAH8COEUplennqmYNc5KX8kSP5SiIpk+fDkA310hOTsZJJ52Eq666CpdeeikAXYsMAGPGjKmybmRkJE4++WRkZGRg1apV6NixY6XywYMH13H02u+//w4AGDp0KByOqt9ZR4wYgUWLFlWZn5eXh//85z/47LPPsGnTJuTk5JQ3XwGAPXv21FnMREThLOvPDOya94tlWZ+bJnLYbqq1BnEGicjN0H03r4VOng/aWN38fae7l/JuxtRbG2mqQ8pi2FV32dn6e02bNm0sy835WVlZVcpat25du+D8ZMbYqlUry3Kr+SUlJRgzZgyWL1+Ovn374sILL0SLFi3gdDoB6C8WRUVFdRc0EVEYW/vUR5bzo5Li0X2KdbM5IjvCPoEWkTug2z3/DuA0pdQhm5tYYkxPFxGHR5/STQAMB1AAwPqrLIVUUpL+4WD//v2W5WYvHOZy7mra/s2sRS4trdrJi1Winpiof8Q4cOCA5fas5n/xxRdYvnw5Jk2aVKV3jn379pXXzBMRUWX5+w5j67vW9/z3uOZvcDaJC3JE1BCFdQItIvcBeAB6FMHTfTXbEBEngK4ASpRSW835SqmtIrIQuqeNfwKY5bbadADxAF4OZR/QddWbRUPQv7++i3rp0qW46qqrKpWVlpbixx9/BAAMGDDA722aPVuUlZVZljdtqkd337VrV5WyFStWeI3x559/hsvlqtKMw4zR3ZYtWwAAEydOrFL23Xff+QqfiKhRWz/rM7iKqw7b7XBGovcNE4IfEDVIYXsToYhMgk6eywD8AOBGEUnzeEx2W6UdgPWw7oruOgAHAcwUkc9F5FERWQw9CuEmAPfU5WuhmpswYQJSUlIwd+5c/PJL5R8Jnn32WWzbtg2nnnpqlfbPvjRrpkdut7rxEKhoO/3mm29WqoXetWsXHnjggSrLd+jQAaNGjcKWLVvw8ssvVyr7+uuvLds/m13mefY1vW3bNtxxxx1+vxYiosakKCsXG176n2VZ10tORVzb5kGOiBqqcK6BNrtPiABws5dlvgMwu7oNGbXQg6AT8jMBnAVgH4CZAKbbuCGRgiwhIQFvvPEGLrjgAowcORIXXHABOnbsiPT0dCxcuBCtW7eukrRWp0ePHmjXrh3ef/99REVFoWPHjhARXHbZZejUqROGDBmCk08+Gd9//z0GDx6MMWPG4MCBA/jf//6HM844w7Jm+vnnn8fw4cNx3XXX4auvvirvB/qTTz7B+PHj8cUXX1SqmT7nnHNwzDHH4Omnn8aaNWvQv39/7Ny5E/PmzcO4ceO8JvdERI3ZqmmzUZyVa1nW59YLghwNNWRhWwOtlEpTSkk1j1Fuy2cY81K9bG+XUuoKpVQbpVSUUqqTUuomJs/13/jx47Fs2TKcddZZWLBgAZ588kmsX78e11xzDdLT09Gli72hWiMiIvDZZ59hxIgR+PDDDzFt2jTcd9992L59e/kyX3zxBaZMmYLdu3dj1qxZWLVqFR5//HHMmDHDcpu9e/fGzz//jHPPPRc//PADnn32WWRkZJQ/D1DRVhoA4uPjsXjxYlx88cVYt24dZs6cidWrV+O+++7DnDlzarCXiIgatiNrt2PDC19YlrU/awia9kkNbkDUoEl1vRxQ7YlI+oABAwakp3sbqFBbv349AKBXr17BCIvqiUsuuQTvvfceNmzYgB49elS/QhDxnCSicKCUwten3Ir9S/+wLB+3bCZaDu0T5KjC18CBA7Fy5cqVxlgWZCFsa6CJwonL5bLsKeTbb7/FBx98gN69e9e75JmIKFxkfPSd1+S562WnMXmmgAvnNtBEYaO4uBgdOnTA6NGj0bNnT0RGRmLdunX45ptvEBUVheeffz7UIRIRhaWSvAIsv+0lyzJnkzgMeuwfQY6IGgMm0ERB4HQ6cc0112Dx4sX49ddfkZ+fj+bNm+OCCy7AnXfeWd7VHRER2bP60bnI3/2XZdnx912GuDbNghwRNQZMoImCICIiArNmzap+QSIi8tvRLXuw9skPLcuSenRA7xvPDXJE1FiwDTQRERGFpeX/esFy0BQAGPKf6xER5QxyRNRYMIEmIiKisLPrq1+xa94vlmUdzx2BdqcPCnJE1JgwgSYiS+zikojqq7KiYvx6s/XN1xExURj81LVBjogaGybQ9YiIANBdnhGFmplAm+clEVF9se6ZT5CzZY9l2bG3X4Qmqa2DHBE1Nkyg65Ho6GgAQF5eXogjIao4D83zkoioPsjb8xf+eNh6RNaETq1w7B0XBTkiaoyYQNcjTZo0AQDs378fOTk5cLlc/BmdgkopBZfLhZycnPKBX8zzkoioPlhx+ysozSu0LDvhqWsRGcsv/VT32I1dPZKSkoK8vDzk5+dj9+7doQ6HCHFxcUhJSQl1GEREAID936/GtrmLLcvanjoAnc4dEeSIqLFiAl2POBwOdOjQAZmZmcjJyUFRURFroCnoRATR0dFo0qQJUlJS4HDwhyoiCj1XaRl+uWGmZZlERmDIf67nPRsUNEyg6xmHw4HmzZujefPmoQ6FiIio3tjw0v9wZM12y7LeN56H5F6dghwRNWasWiIiIqJ6LSdjP1bd/6ZlWWzrFPS7/7IgR0SNHWugiYiIqN5xlZRi17xfsOmNr7Bn/m9QXrp4HfTYPxCVGB/k6KixYwJNRERE9Ub2xl3Y9PpX2PL2QhQezPK5bIuhvdH10lODExiRGybQREREFFIleQXI+Ph7bH79Kxz4ca1/K4ngxFk3QHijM4UAE2giIiIKiZyM/Vjz2Fxsm7sYJTn5ttbtMfVsNB/QvY4iI/KNCTQREREF3aH0TZg/6havg6L40mniSRj89LV1EBWRf5hAExERUdD9csNMW8lzVNMm6Hrpqeh+1VikHNe1DiMjqh4TaCIiIgqqw6s2469f1vu1bJtTBqD7VWPRccIIRMZE1XFkRP5hAk1ERERBtfHleT7L49o1R7fJZ6LbFWegSZe2QYqKyH9MoImIiChoSnLysfW9by3LWo/uh763/h3tzhgER0REkCMj8h8TaCIiIgqabe8vQWluQZX5EhmBke/eg7jWKSGIisgedp5IREREQbPxFevmGx3HD2PyTGGDCTQREREFxaH0TTicvsmyrMfUs4McDVHNMYEmIiKioPB282CTLm3Q9pQBQY6GqOaYQBMREVGdKz6ah21zrW8e7P6PcRySm8IKz1YiIiKqc9veW2w5cIrDGYluV5wZgoiIao4JNBEREdUppZT3mwfPHYHYlk2DHBFR7TCBJiIiojp1aMVGZP6+xbKsxz/GBTkaotpjAk1ERER1yuvNg8e0Q5vR/YIbDFEAcCAVIiIi8kkphf3f/YHMP7Yi5bguaD2qH0TEr3WLs3Ox/f0llmU9ePMghSkm0EREROSVq6wMP175BLa+8035vC7/NwYnzb4DDmf1acTWd79Fab7FzYNRTnSbfEZAYyUKFn7tIyIiIq9+T3u7UvIMANvmLsYPVz4O5XL5XNfXzYOdzhuBmBbJgQqTKKiYQBMREZGlXV/9ij8enmNZtu3db7H8Xy9CKeV1/b9+XY8jq7dZlnHkQQpnTKCJiIioitwdB/D9ZY/6XObPmZ9i9aPveS33Vvuc2L09Wo88vlbxEYUSE2giIiKqpKyoGEsumI7iIznVLrvy3jcsE+WirFxs/2Cp5To9/jHO75sQieojJtBERERUyfJbXsShFRv9Xv7n6/6DjE++rzRv65xFKCsoqrKsI8qJYybx5kEKb0ygiYiIqNzWdxdhw0v/tbWOcrnw3SWPYO/iVfp/HzcPpp5/MmKaJ9U6TqJQYgJNREREAIAj6zLw09XPeC3ve9vfEde+hWWZq7gE3064D4dWbMTBn/9E1trtlsvx5kFqCJhAExEREUpy8rHk/DTLPpsBoNN5J2HQjKk4Y8EMRDdLtFymNLcAC8+6C7+nzbYsT+rZEa1OOjZQIROFDBNoIiKiRk4phR+nPInsjbssy5sc0w4jXr8NIoLkXp1w2pePIjI+xnLZokPZ2LtopWUZbx6khoIJNBERUSO3ftZnyPjoO8uyiNhojPl4GqKSEsrntRjcE2M+ne7XSITl24l24phJp9c6VqL6gAk0ERFRI3bw53VYfttLXsuHvnATUo7rWmV+u9MG4eR37gL8rFFOvWAkolOsm34QhRsm0ERERI1U4V9ZWHLhg1ClZZbl3aeMQzcfXc51/vsoDH3uRr+eizcPUkPCBJqIiKiRUUohd8cBfHfJw8jf/ZflMs0GdMOQmddXu62e1/4N/dMm+VwmuXcntBzet0axEtVH/jdeIiIiorCilELB/kwcWbsdWet2GNMMZP25AyU5+V7Xi0pOwOiPpiEyJsqv5zn+vstQ+Fc21j//uWV5j6ln8+ZBalCYQBMRETUgmau3YvMbX+Pw71uQtXY7ijKrH47b08lv34kmndv4vbyIYMh//omizKPYNndxpbLYVk3R9bLTbMdAVJ8xgSYiImogdnz2IxZPnFarbRx35/+hw9lDba8nDgdGvHk7olMSy2ui49o2w8nv3IXopk1qFRNRfcMEmoiIqAEozs7Fj1c9UatttB7dD/0fuKLG60dEOXHirBtw7J0XofBgFpL7pCIiylmrmIjqIybQREREDcCGF/6L4qzcGq+f3LsTRr13DxyREbWOJb5dC8S3sx7ym6ghYAJNREQU5kryCrD2mY9trRMRG42mfVKR3KcTWg7riy4XjYazSVwdRUjUsDCBJiIiCnMbX56HokPZlmUOZySSenZA076dkdw7Fcl9U9G0b2ckpLaCI6L2tc1EjRETaCIiojBWWliMtU9+aFnWetTxOGPB47aG3Cai6nEgFSIiojC2+Y35KNifaVl2/L2XMXkmqgNMoImIiMJUWXEJ1jz+vmVZi6G90WZ0v+AGRNRIMIEmIiIKU1vnLELezoOWZf3uvZSj/xHVESbQREREYchVWobVj821LGs2oBvanTk4yBERNR5MoImIiMLQ9g+XImfLHsuy4+9h7TNRXWICTUREFGaUy4XVj7xrWZbcJxUdxw8LckREjQsTaCIiojCz4/NlyPpzh2XZ8XdfAnHw452oLvEdRkREFEaUUvjj4TmWZYnd2iH17yODHBFR48MEmoiIKIzsnr8cmau2WJYdd+fFHF2QKAiYQBMREYUJpRT+eOgdy7L4ji3R9dJTgxwRUePEBJqIiChM7FvyO/76Zb1l2XF3/B9HHSQKEibQREREYcJb2+fYNs1wzBVnBjkaosYrbBNoETlfRGaJyA8iclRElIhYX1l8byfDWNfqsb8uYiciIrLrwLK12L/kd8uyY2/7OyJjooIbEFEjFs6/9dwL4HgAuQB2A+hZi21lA3jWYn5uLbZJREQUMH946fc5unkSuk8dF+RoiBq3cE6gb4FOnLcAGAlgSS22laWUSgtEUERERIF2KH0T9sxfblnW95bz4YyPDXJERI1b2CbQSqnyhJnDlRIRUUPmrfY5KjkBPf85PsjREFHYJtABFi0ilwLoCCAPwGoA3yulykIbFhERNXZ/Ld+AnZ/9aFnW+8bzEJUYH+SIiIgJtNYagGfHmttF5Aql1Hf+bkRE0r0U1aZ9NhERNVKb31qAX/4507IsMiEWvW88N8gREREQxr1wBNCbAE6BTqLjARwL4GUAqQDmi8jxoQuNiIgao5K8Avxw5eP48YrHUZpfaLlMr+vGIzolMciRERHAGmgopaZ7zFoL4BoRyQVwK4A0AH59xVdKDbSab9RMD6hFmERE1Ehk/ZmBJX9/AFl/7vC6TERMFPrcMjGIURGRO9ZAe/eSMT05pFEQEVGjsXn21/jf4H/6TJ4B4MRZNyC2VUqQoiIiT42+BtqHg8aUd2cQEVGdKskrwC/Xz8SWtxb6XC4iNhpDn7sR3TjqIFFIMYH2bqgx3RbSKIiIqEHzp8kGACT17IjRH96Ppn07BykyIvKmUSTQIuIE0BVAiVJqq9v8PgD2KaUyPZbvBOA541/bw4MTERH5Y/Psr/HL9bO83iho6nr5aRj63E1wJnDAFKL6IGwTaBGZAGCC8W9rYzpURGYbfx9SSt1m/N0OwHoAO6B71zBdAOBOEVkCYDuAHOhEexyAGABfAXiyTl4AERE1Wq6yMvx83X+w6dUvfS4XERuNoc/fiG6T2WSDqD4J2wQaQD8AkzzmdTEegE6Wb4NvSwD0ANAfuslGPIAsAD9C9wv9jlJKBSZcIiIibcW/X642eWaTDaL6K2wTaKVUGnQXc/4smwGgynjfxiApfg+UQkREVFt/zvoM6579xOcybLJBVL+FbQJNREQUbnb+9ycsv+UFr+VsskEUHphAExERBcGhFRvx3cUPQ7lcluVsskEUPphAExER1bHcHQew6Jx7vPa2kditHc764VnENEsKcmREVBMciZCIiKgOFWXl4ptxd6HgwBHL8ujmSTjty0eZPBOFESbQREREdaSsuARLzk/zOkhKRLQTp37xIBKPaRfkyIioNphAExER1QGlFH66+mnsW7zK6zInv3MXWg7tE8SoiCgQmEATERHVgT8emoMtby30Wj7o8auRev7IIEZERIHCBJqIiCjAts75BqumzfZa3vOav6HvrRcELyAiCigm0ERERAG0b+nv+PGqJ72Wtz9rCIbMvB4iVcb3IqIwwQSaiIgoQLLW78Di86bBVVJqWZ7S/xiMev8+OCIjghwZEQUSE2giIqIAOLJ2OxacfjuKs3Ity+Pat8Bp/3uYw3MTNQBMoImIiGpp//er8dXJNyN/zyHLcmeTOJz25SOIa9s8yJERUV3gSIRERES1kPHxd/ju0kfhKi6xLJfICIz+eBpSju0S5MiIqK4wgSYiIqqhP5/7HL/e9ByglNdlhr14M9qdNiiIURFRXWMCTUREZJNSCul3v441M+b6XG7go1PQ/aqzghQVEQULE2giIiIbXCWl+PEfT2Lr2994XUYiHBj+6q3oNvnMIEZGRMHCBJqIiMhPJbkFWHLBdOxZ8JvXZSLjYjD6o/vRfuyQIEZGRMHEBJqIiMgPBQcy8c3Z9+Bw+iavy8S0SMap8x5GixN6BjEyIgo2JtBERETVOLplDxaOvRM5W/d6XaZJlzY4/esZSDymXRAjI6JQYAJNRERkobSwGPuXrMLO//6M7R8uRfGRHK/LNhvQDad9+QhiW6UEMUIiChUm0ERERIaCg0ew+8tfsXPez9i7cAVK8wqrXaft6YMw5qNpcDaJC0KERFQfMIEmIqJGSymFrD93YNd/f8LOeT/jr1/W++zT2VPXy07D8FdvRUSUsw6jJKL6hgk0ERE1Osrlwp8zP8P65z5DzrZ9NdrGsbdfhIGPToGIBDg6IqrvmEATEVGjk37361jz+Ps1W1kEQ579J3rfcG5ggyKisMEEmoiIGpUDP67Bmic+sL+iCFqddCwGPHgFWp90XOADI6KwwQSaiIgajdL8Qvx41RN+t3OOjI9B29MHoeM5Q9H+rCGIbdm0jiMkonDABJqIiBqNlffPxtHNe3wuE9euOTqcPRQd/zYUrUf3R2RMVJCiI6JwwQSaiIgahYO//Ik/n/3Esiy6WSJ6/XMCOvxtKJr178YbA4nIJybQRETU4JUWFuPHK5+Acrksy4e9dAtSJ54c5KiIKFw5Qh0AERFRXfvjgbeRvWGnZVnqBSOZPBORLUygiYioQTuUvslrrxvRzZNw4qwbghwREYU7JtBERNRglRWX4McrH4cqs266ceLM69mzBhHZxgSaiIgarNUPv4sja7ZblnWcMBydLxwd5IiIqCFgAk1ERA3S4d+34I9H37Msi2raBEOfv4m9bRBRjTCBJiKiBsdVUqp73Sgtsywf8sx1iGvTLMhREVFDwQSaiIganNUz3kfm71ssy9qfNQRdLzstyBERUUPCBJqIiBqUI2u3448H37EscybGY9hLt7DpBhHVChNoIiJqMFylZfjxyifgKim1LB/81DWIb98iyFERUUPDBJqIiBqMtU99iEMrNlqWtT19ELpdOTbIERFRQ8QEmoiIGoQj6zLwe9pblmWRCbEY/sq/2HSDiAKCCTQREYW9/H2Hsejsu1FWVGJZfsLjVyOhY6sgR0VEDRUTaCIiCmvFR/Pwzbi7kbvjgGV569H90GPquCBHRUQNGRNoIiIKW2XFJVhyfprXLusi42Iw4tVbIQ5+3BFR4PCKQkREYUkphWVTnsTeRSu9LnPiczegSZe2QYyKiBoDJtBERBSW0u9+HVvnLPJa3u/+y9Ft8plBjIiIGgsm0EREFHbWv/AF1syY67W825Vj0W/a5UGMiIgaEybQREQUVnZ89iN+uWGW1/L2Zw3BsBdvZpd1RFRnmEATEVHYOPDTOnx3ycOAUpblzQf1wKj374PDGRnkyIioMWECTUREYSFrw058+7d7UFZYbFnepEsbnDrvYTgTYoMcGRE1NkygiYio3svfdxjfjL0TRZk5luXRzZNw2vzHENuyaZAjI6LGiAk0ERHVW0op5O35C9+c7X2glIjYaJz2v4eR1K19kKMjosaKjcSIiCjklMuF3J0Hkb1+B7LW70TWnzuQvWEnstbvRPER61pnABCHA6M/uA8thvQKYrRE1NgxgSYioqArKyrGtveXYN+3K41keRdK8wttb2foCzehw9lD6yBCIiLvmEATEVHQKJcL2+Yuxsp73/DaJMNfx997KXpMPTtAkRER+Y8JNBERBcXeRen47Y5XkLlqS6231W3ymeg/fXLtgyIiqgEm0EREVKcO/74FK+58FXsXrgjI9jr8bRiGvXwLB0ohopBhAk1ERHUid8cBrLz/TWyds8jrwCf+cDgjkdi9PZJ7dUT7sUPQ9fLT4IiICGCkRET2MIEmIqKAKjqSg9WPvIf1z32GsqISv9eLjI9BUs+OSO7VEcm9OiHJmDbp2haOSCbMRFR/MIEmIqJaKzqSg4M//4kD36/Gxle/9Nn1nLukXh3R777L0HJoH8R3aAFxcHgCIqr/mEATEZEtSikc3bwbB39ah4PL1uHgz+uQ9ecOW9uIbdMMA6ZPwjGTz2TtMhGFHSbQRETkk3K5cPCX9Tjww2oc/PlPHPxpHYoOZddoW84mcTj29ovQ++bz4IyPDXCkRETBwQSaiIi8yt1xAIvG34sjq7fVajsSGYGe1/wN/e67FDEtkgMTHBFRiDCBJiIiS8XZuVg49k5kb9hZq+2k/n0UBj50JRKPaRegyIiIQosJNBERVeEqK8PSix+uVfLcetTxGDRjKlqc0DOAkRERhR4TaCIiqiL9ztewZ/5yW+skdG6DlsN6o+XQPmgz6ngk906tm+CIiEKMCTQREVWy+a0FWPvUhz6XcTgj0WxAN7Qc1kc/hvZGXNvmQYqQiCi0mEATEVG5gz+vw09XP+O1vPNFo9Hz2r+h+aAeiIyNDmJkRET1BxNoIiICAOTuOojF502Dq9h69MDWo47HyW/dCYeTHx1E1LiF7ZBPInK+iMwSkR9E5KiIKBGZU8NttReRN0Rkr4gUiUiGiDwrIk0DHTcRUX1Uml+Ixefej4IDRyzLEzq3wegPpzF5JiJCeNdA3wvgeAC5AHYDqNFt3iLSFcBPAFoC+ALABgCDAdwE4EwRGa6UOhyQiImI6iGlFH648gkcXrnZsjwyIRan/vchxDRPCnJkRET1U9jWQAO4BUB3AIkArq3Fdl6ATp5vVEpNUErdqZQaA+AZAD0APFzrSImI6rE/HpqDjA+XWheKYOS7d6Npn9RghkREVK+FbQKtlFqilNqslFI13YaIdAFwOoAMAM97FE8DkAfgMhGJr3GgRET1WManP2DVtNleywc+chU6njMseAEREYWBsE2gA2SMMV2olHK5FyilcgAsAxAH4MRgB0ZEVNcy/9iKHy5/zGt510tPxbG3XxTEiIiIwkNjT6B7GNNNXsrNBoHdgxALEVHQFBw8gkXj70VpfqFlefPBPTHslVshIkGOjIio/gvnmwgDwbwjJttLuTk/2Z+NiUi6lyKOY0tE9UbhoWwsPm8a8nYetCyPa9sMp3z2ACJjooIcGRFReGjsCXR1zKqXGrezJiKqT3Z8/iN+uuYZFB7MsiyPiInCKZ8/iLg2zYIbGBFRGGnsCbRZw+ytb6ZEj+V8UkoNtJpv1EwPsBcaEVHgFGUexS83PYdt737rc7kRr/8bzQf18LkMEVFj19gT6I3G1Fsb527G1FsbaSKiem/XvJ+xbOrTKNif6XO54+66GF3+b4zPZYiIiAn0EmN6uog43HviEJEmAIYDKADwSyiCIyKqjaKsXCz/1wvYMntBtct2Ou8kDHjwiiBERUQU/hpFLxwi4hSRnsaog+WUUlsBLASQCuCfHqtNBxAP4G2lVF5QAiUiCpA9C37D58dNqT55FkGfW87HqLn3QhyN4iOBiKjWwrYGWkQmAJhg/NvamA4VkdnG34eUUrcZf7cDsB7ADuhk2d110EN5zxSRU4zlhgAYDd10457AR09EVDeKj+bht9texqbXvqx22SZd22LEG/9G65OOC0JkREQNR9gm0AD6AZjkMa+L8QB0snwbqqGU2ioigwA8AOBMAGcB2AdgJoDpSinfjQaJiOoBpRR2z1+On6971mv3dO56XX8uBj56FZzxsUGIjoioYQnbBFoplQYgzc9lM1DRJZ1V+S4AbPxHRGHpyLoMLL/1RexduKLaZRNSW2PEG/9Gm1H96j4wIqIGKmwTaCKixq7wryysmvYWNr4yD8rlqnb5HlefgxMenwpnk7ggREdE1HAxgSYiCjNlRcX4c9bnWP3wHBRnV3+Pc3yHlhj+2q1od9qgIERHRNTwMYEmIgoTSins/HwZfrv9ZeRs3evXOt2uOBODn74WUUkJdRwdEVHjwQSaiCgMHF61GctvfRH7l/7h1/LxHVti6As3o8NZQ+o4MiKixocJNBFRPZa78wB+n/42Ns9eAChV7fKR8TE47q6L0eeW8xEZGx2ECImIGh8m0ERE9VDe7r+w+tH3sOm1r+AqKa1+BRF0m3wGBjx0JeLaNKv7AImIGjEm0ERE9Uj+3kNY/dj72PjKPLiKS/xap/XI4zH46WvRrH+3Oo6OiIgAJtBERPVC/v5MrJnxPja+/D+UFRb7tU6Trm1xwuNXo+OE4RDx2tU9EREFGBNoIqIQKjiQiTWPf4ANL/0PZQVFfq3jTIzH8fdeit43TEBEdFQdR0hERJ6YQBMRBVlZUTGObtmLLW8twIYX/ovS/EK/1pMIB7pPGYcBD0xGTIvkug2SiIi8YgJNRFQHlFIoOHAE2Rt2InvjLhzduAvZm3Yje8NO5GYc8GvkQJM4HOhy6Snod+9lSDymXR1GTURE/mACTURUSwUHj+DA96uRtWEXjm7aheyNu5C9cTdKjlY/SqAv4nCgy8VjcPy9lyKpe4cARUtERLXFBJqIqJb++nU9lvz9gcBtUARdLhqN4++7DMk9OwZuu0REFBBMoImIaimpR+Bqh1P/Pgr97rsMTfukBmybREQUWEygiYhqqUnnNpDICKjSshpvo9PEk9Dv/suRcmyXAEZGRER1gQk0EVEtOZyRSOzaFtkbd/m9Tmyrpkjs0QHNB3TDMZPOQMrxXeswQiIiCiQm0EREAZDYo0OVBDoi2okm3dojqUd7JHXvgKQeHZDUsyMSu7dHdHJCiCIlIqLaYgJNRBQAHcadiLg2zYwkWSfL8R1bwhEREerQiIgowJhAExEFQI9/jAt1CEREFCSOUAdARERERBROmEATEREREdnABJqIiIiIyAYm0ERERERENjCBJiIiIiKygQk0EREREZENTKCJiIiIiGxgAk1EREREZAMTaCIiIiIiG5hAExERERHZwASaiIiIiMgGJtBERERERDYwgSYiIiIisoEJNBERERGRDUygiYiIiIhsYAJNRERERGQDE2giIiIiIhuYQBMRERER2cAEmoiIiIjIBibQREREREQ2MIEmIiIiIrKBCTQRERERkQ1MoImIiIiIbGACTURERERkAxNoIiIiIiIbmEATEREREdnABJqIiIiIyAYm0ERERERENjCBJiIiIiKygQk0EREREZENTKCJiIiIiGxgAk1EREREZAMTaCIiIiIiG5hAExERERHZwASaiIiIiMgGJtBERERERDYwgSYiIiIisoEJNBERERGRDUygiYiIiIhsYAJNRERERGQDE2giIiIiIhuYQBMRERER2cAEmoiIiIjIBibQREREREQ2MIEmIiIiIrKBCTQRERERkQ1MoImIiIiIbGACTURERERkAxNoIiIiIiIbmEATEREREdkQ9gm0iLQXkTdEZK+IFIlIhog8KyJNbWwjQ0SUl8f+uoyfiIiIiMJLZKgDqA0R6QrgJwAtAXwBYAOAwQBuAnCmiAxXSh32c3PZAJ61mJ8bgFCJiIiIqIEI6wQawAvQyfONSqlZ5kwReRrALQAeBnCNn9vKUkqlBTxCIiIiImpQwrYJh4h0AXA6gAwAz3sUTwOQB+AyEYkPcmhERERE1ICFcw30GGO6UCnlci9QSuWIyDLoBPtEAN/6sb1oEbkUQEfo5Hs1gO+VUmUBjJmIiIiIwlw4J9A9jOkmL+WboRPo7vAvgW4N4B2PedtF5Aql1Hf+BCQi6V6KevqzPhERERHVf2HbhANAkjHN9lJuzk/2Y1tvAjgFOomOB3AsgJcBpAKYLyLH1zhKIiIiImpQwrkGujpiTFV1CyqlpnvMWgvgGhHJBXArgDQA5/qxnYGWgeia6QHVrU9ERERE9V8410CbNcxJXsoTPZariZeM6cm12AYRERERNSDhnEBvNKbdvZR3M6be2kj746AxZU8eRERERAQgvBPoJcb0dBGp9DpEpAmA4QAKAPxSi+cYaky31WIbRERERNSAhG0CrZTaCmAh9I1+//Qong5da/y2UioPAETEKSI9jdELy4lIHxFJ8dy+iHQC8Jzx75wAh09EREREYSrcbyK8Dnoo75kicgqA9QCGABgN3XTjHrdl2xnlO6CTbtMFAO4UkSUAtgPIAdAVwDgAMQC+AvBknb4KIiIiIgobYZ1AK6W2isggAA8AOBPAWQD2AZgJYLpSKtOPzSyB7lO6P3STjXgAWQB+hO4X+h2lVLU9eRARERFR4xDWCTQAKKV2AbjCj+UyUNG1nfv87wD4NVAKEREREVHYtoEmIiIiIgoFJtBERERERDYwgSYiIiIisoEJNBERERGRDUygiYiIiIhsYAJNRERERGQDE2giIiIiIhuYQBMRERER2cAEmoiIiIjIBibQREREREQ2MIEmIiIiIrKBCTQRERERkQ1MoImIiIiIbGACTURERERkAxNoIiIiIiIbmEATEREREdnABJqIiIiIyAYm0ERERERENjCBJiIiIiKygQk0EREREZENTKCJiIiIiGxgAk1EREREZAMTaCIiIiIiG5hAExERERHZwASaiIiIiMgGJtBERERERDYwgSYiIiIisoEJNBERERGRDUygiYiIiIhsYAJNRERERGQDE2giIiIiIhuYQBMRERER2cAEmoiIiIjIBibQREREREQ2MIEmIiIiIrKBCTQRERERkQ1MoImIiIiIbGACTURERERkAxNoIiIiIiIbmEATEREREdnABJqIiIiIyAYm0ERERERENjCBJiIiIiKygQk0EREREZENTKCJiIiIiGxgAk1EREREZAMTaCIiIiIiGyJDHQARERER+eZyKeTmFCErMx9HMguQfaQAx/Rsgbbtk0IdWqPEBJqIiIgoBFwuhZLiUhQVliI7qxBZRwpwJDMf2ZkFOHKkAFmZ+cjKNOZlFaKs1FVp/cunDmYCHSJMoImIiIh8KC11IfdoIY5mFyIvtxjFRWUoLi5FUVGp/rvI4u9i4+9CPV+XV16uuLisVnEdOZIfoFdIdjGBJiIiakSKi8tw5HA+jhzOR+bhPGQfKUREhCAmzonYWCdi48xHlJ7GOhEdEwkR8bldl0uhrMyFslIXysoUHA4gJtZZ7XrBppRCQX4J8vOKkZdbjPy8YuTmFCHnaBGOZhfiaFaBnro98nKKQx22pazMglCH0GgxgSYiIqpnlFLIOlKAvbuysWdXFvbuysa+3UdRUFCCmNhIxMTopDYm1okYcxobiegYZ3l5QX4JMg/nGYlyPo4c0tPcnCLb8YhAJ9KxTij3RNmljITZBaWqrhcX50SL1k3Qqk0TtHSbtmydgOSUODgc3pNrpRSKi8uQl1OEvFyd7ObmFqG4qBSlpfr5S0rKUFrqQmmJS09Ly8r/LikuQ0F+cXminJdbjPz8YuTnlUC5LIINQ0ygQ4cJNBERUYgopZB5KL88Sd6zKxt7d2Vj764s5OeXhDq8ckoB+fkltmPKzy/Bjm2Z2LEts0qZMyoCLVoloFWbJohPiEZ+bhFyc4uRl1uEvBw9LSlxWWyVTEcy2YQjVJhAExER+aGszAUR8Vlr6k1BfjH2783Bvj3Z2L83B/vN6d6jKCosrYNo67+S4jLjy0J2qEMJGzExkUhOiUNySiyapsSidTveQBgqTKCJiIjc5OcVY+/ubLcaYV07fOivPAC6XW9cnBOx8RXthOPc2wzHOREZ6cDB/bnYv+co9u09iuwj/KmdrDmjIhAdHYm4+Cg0bRarE+SmsTpJbmomy3FISolFbKwz1OGSgQk0ERE1KqUlZcjN0c0FcrILsX/v0YpkeXc2jhz2/bN4YUEJCgtKgMNBCpjqhfgmUUhMikFCk2jExDgRFR2BqOhIRBkJcFR0JKJjIhEVbfwfFVm+TLRbWVSU/js6OgLOqMga/aJBoccEmoiI6j1zEIlit+7BrKe6e7HC/BKdJJc/ipFn/F3YSJtMmESApKaxSGkWh6bN4tA0JQ4KQEF+CQrzi1FQUIKC/BIUFJSgMF//7U93ayJARIQDjghBZIQDxcX6Br/6KCo6AnHxUYhPiNLT+Cg0SYpBovEw/05K1tOExBhERnLwZqrABJqIiOqVsjIX9u3ORsbWTGRsPYyMbZnYuf1Io2srHBnpQJv2SWjbIQntjGlK8zgUF5UZteClKCwsQVFhKQoK9LSwoASFhaUoKihBpDNCJ8nN45DSLL48YU5qGms7GSwtdaHQeA5xCCIjBBGRDjgiHIiIcCAyQuCIqLxNV5kLRzILcGDfURzcn4sD+3JwcH8ODhpTf77IREQ6kJAQhfiEaMQlRCEhIQrRsU44Ix2IiHTA6YxAZKQDEU4HnJH670inOXXo5jZGomwmy3HxUXA6I2y9fiJPTKCJiChkSktd2Ls7WyfKRsK8a/uRWg8wEU6ioiPQpl0S2nUwkuUOyWjbIQktWiUgIqJ+1HpGRjqQ0CQaCU2i/V7HEeFAsxbxaNYiHr2Pq1ymlMLR7EIjoc5FSWkZ4uOjkNAk2kh29dSf/qeJQoEJNBER1amyMhcO/5Wnk6X9uTi4P6e8NvLAvhyUNIJkWQRo3jIBrdslonXbRLRpm1j+d9NmvvtDbohEBEnJsUhKjkW3ni1DHQ6RbUygiYioxpRSyMspRnZ2AbKPFCA7qxDZRwpw8EBu+U/1hw7moqwsfAauMJNdXSOcjHYdktCuYzLatEuEMyoChQUlyM8r0YN05Ot2wvn5xSjI0+2G8/P1UM9JyTFo0y4JrdslomXrJoiKYrMBooaCCTQRUSOjlEJebjEyD+UhL7fYGFVOobS0DGVlemS5UmN0Ofe/c3OLcNRIkLOzCsuHPQ6n5BjQCXJcQlR5k4Sk5Fi0bZ+Edh1184nW7RIRHe3941E3L/C/KQMRNTxMoImIGhClFAoLSnD4UD4yD+Uh05wervj/8KE8FBeFX7OJqKgIJDSJhjM6AtFRkZWm7l2Gmd2KmQlyQpNoxDepSJjj4qMaXZMJIgosJtBEREFWXFSKrCMFyM4qQHFRGcrKXHCVKZQaNb6uMoWyMhdKjflmLXBhodGtmNHNWGFB1b8L80vCrkbYSkysE6ldUpDaNQWduqYgtWsztG7TpEpPD0REocAEmogoAIqLy3Sb2LxiHM0qRNaRAmRlFhjT/Er/5+cVhzrceiUuPgqpXcxEWSfLLVs3YS0xEdVbTKCJqNFSSqG4qBQFBaXlo8uZfeuW/+1Ws5ufX1KeJOfnlyA/z7hxLL8YJSX1c8CI+iI+IQotWzdByzZN0LJ1Alq2boJWxv/JTWPZVRkRhRUm0ETUYJl9zf61PxcHD+QY01z8Zfx95EgBlCv8mzuEWlR0RHmXZInJMeWj3JmJcsvWTWz1H0xEVN8xgSaiekcphdJSF0qKy1BaUoaSEheKi0tRXFSGoqJSPWyz299Fxv/FRaXIzy/BoYO55UlzON4sFwxOpwNNm8UjuWksIp16VLfISD2qXJW/IwQRkRGIjolEUnJMRaKcHIuk5BjExDpD/XKIiIIq7BNoEWkP4AEAZwJoBmAfgM8BTFdKHQn2dojqi7IyfeOZmYCWlbpQUqIT0lLjpjSXS0G5FJTSSat+AC6jVtblMuZZ1NJ6q7ctK3WhqKgURQWlekhhY6hh8289zLBOeouKSo2Y3JPlMjaHqKXISAeSU2KR0lwP35zSPB4pzePQzJimNI9Hk8RoNpsgIqqhsE6gRaQrgJ8AtATwBYANAAYDuAnAmSIyXCl1OFjbITKVlemEsKSkDMVFRlJYXHlaWmIktKVuya3l3/r/kqJSFBeXobhYb8OskTWnJWaZsS6bJtRf4hAkJemmDvHxUXBECCLMGt8IKa/5jXBUzHdECGJinIiN0w/z75g4J2JjnYiJrShzOjlgBxFRXQrrBBrAC9BJ741KqVnmTBF5GsAtAB4GcE0Qt9OomDWTLuOhlNvfLsDl0jWcLgVjORdcLrit4ypf3vNhLlNW5rKc7yozyl0VtajmPKt4Kq1b6eHyMt/tUaZQVlqGEqM2V9fqusqT4NKSijJznlmDS42HwyGIjXciLk73N5zUNBZNU2KNaRySm8YiOSUWyU1jkZgUw+7YiIjCmCgVnh/0ItIFwFYAGQC6KqVcbmVNoJtgCICWSqm8ut5ONbGmDxgwYEB6enpNVvfps/f/wJ9/7IeCTlr11P0nebepS1UspxRcyu1vM8FU7lNUSkQ9k+UwPXWIKnE6HYgxanD1I1JPY5yINf82HnHxuoY3Lj4KcXFROmGOj0JcnBNR0ZFsEkFEDcLAgQOxcuXKlUqpgaGOpb4K5xroMcZ0oXvSCwBKqRwRWQbgdAAnAvg2CNsJiX17jmLT+oOhDoOo3nJGRaBFqwS0bJWAFq2boGUr3TNEi9YJaN4yweeQzURERFbC+ZOjhzHd5KV8M3Ti2x2+E99AbSckOM4ANVQRkQ44nRFwOh2IdEYgyhi2OSq6Ysjm6Gg9ZHNUdMX86OhIJCbH6O7TWiUgiX0MExFRgIVzAp1kTLO9lJvzk4O0HYiItzYaPatbt6aYGJA34hA4je7IIp0RFVOnMS/SAUeEAw4RQACHCMShzykRY+qQ8nLLM83i/HMIEB3rRExMJKJjjGlsJGJinIiOiURMjG4WER0TiaioCDijIuB0RiDSGVEpYeYodEREVF+FcwJdHfPTt7YtdQO1nbrBBLpeEofo5NBZkSA6oxyV/zeTWTO5jfT4u1Li60BUVCScUbqG1RkVgagoXSvrjIo0/q5ISM0+fImIiCjwwjmBNmuGk7yUJ3osV9fbgbfG9kbN9IDq1q+JUFfS6RpK3QOBiMDh0A9xePwtXuZXeTgq/S8O0V18uZWb8xyOivl6nse6UnX71s/pFmOE9TKRkTrZdbrV5Jo1pU5n5RreqKgIJq9EREQNWDgn0BuNaXcv5d2Mqbe2zYHeTkiMm9gXJ516TKWf4WH8/G7+BG5OzWQXxk/07ommuCe4ZkLs8JjvmSQLm5AQERFR4xPOCfQSY3q6iDgsup8bDqAAwC9B2k5ItG2fhLbtvVWeExEREVGghe3vzEqprQAWAkgF8E+P4ukA4gG8bfbdLCJOEelpjDpY4+0QERERUeMWzjXQAHAd9BDcM0XkFADrAQwBMBq6ycU9bsu2M8p3QCfLNd0OERERETViYVsDDZTXHg8CMBs64b0VQFcAMwEMVUodDuZ2iIiIiKjhC/caaCildgG4wo/lMuClK1s72yEiIiKixi2sa6CJiIiIiIKNCTQRERERkQ1MoImIiIiIbGACTURERERkAxNoIiIiIiIbmEATEREREdnABJqIiIiIyAYm0ERERERENjCBJiIiIiKygQk0EREREZENopQKdQwNnogcjo2NTenVq1eoQyEiIiLyaf369SgoKMhUSjULdSz1FRPoIBCR7QASAWTU4dP0NKYb6vA5KHB4vMILj1d44fEKLzxe9U8qgKNKqc6hDqS+YgLdQIhIOgAopQaGOhaqHo9XeOHxCi88XuGFx4vCEdtAExERERHZwASaiIiIiMgGJtBERERERDYwgSYiIiIisoEJNBERERGRDeyFg4iIiIjIBtZAExERERHZwASaiIiIiMgGJtBERERERDYwgSYiIiIisoEJNBERERGRDUygiYiIiIhsYAJNRERERGQDE+ggE5HzRWSWiPwgIkdFRInIHB/LJ4jIgyKyXkQKRSRLRL4VkbO8LJ9hbNPX4z6L9WJFZLqIbDSe56CIfCgivQL5+sNNXR8vY52WIvK4iKwVkRwROSwi6SLybxFp4mUdHi8LQTpeXUTkdRHZJSLFIrJfROaKSE8f6/B4eRCRZiIyRUQ+E5EtIlIgItki8qOIXCUilp9PIjJMRL4SkUwRyReR1SJys4hE+HiuSSKyXERyjedYKiJn+1iex8tDMI6XiLQXkXtE5CPjOVzGe/iYamLj8aKg40AqQSYivwM4HkAugN0AegJ4Vyl1qcWyyQB+ANAXwDoA3wKIB/A3AC0A3KSUmumxzs0Akq2eGsBdAJwATlBKrXBbJ9rY9nAAKwAsBtABwAUAigGMUUr9WrNXHN6CcLxSAfwKoCWApdD7PwbA6QC6A1gN4ESlVIHbOjxeXgTheA0AsARAIvR+Xwm978+D3venKqV+8ViHx8uCiFwD4EUA+6D36U4AraD3ZRKATwBcoNw+pERkvDG/EMAHADIBnAOgB4CPlVIXWDzPkwBuhT4fPgYQBeAiACkAblBKPeexPI+XhWAcLxGZAOAzAArAduhjlAygm1Jqi5e4eLwoNJRSfATxAWA0gG7QCe0o6AvFHC/LPmuUfwIg0m1+C+iLSzH0hcWf5z3D2NZKi7K7jLKPADjc5o835q9zn9+YHnV9vAA8b6wzzWN+BPSHggJwOY9XvTleq4x1bvGYPxRACYBNAJw8Xn4dqzHQyZTDY35r6ORMAZjoNj8RwEEARQAGuc2PAfCTsfxFHtsaZszfAqCp2/xUAIehE7tUHq96c7zaAzgJQKLx/1JjuWN8xMXjxUdIHiEPoDE//PiANy9KfSzKrjfKnvLzuT4xlr/aY74A2GGUdbZY73ujbHSo91eoH3VxvADMN+b3t1jnX0bZrTxeoT9eALoY8w5YfSBD124qAOfweNX62N1t7JdZbvOuNOa9ZbH8GKPsO4/5bxvzr7BY5wGjbDqPV/04XhbLLYWPBJrHi49QPtgGun5rbUy3WZSZ806pbiMi0gq65iAXwHsexV0BdASwSSm13WL1+cZ0TLXRUk2O1zpjOs59ptGecCwAF/RPkiYer8Cxe7zM5TOUUi4/1+HxqpkSY1rqNs/cR19bLP89gHwAw4yf9P1Zx2rf83jVTKCOl108XhQyTKDrt0PGtLNFWRdj6vXGJTdXQrd9nquUyvEo62FMN3lZd7Mx7e7H8zR2NTlejwPYCOBB4+a1J0TkP9CJ9SAAU5RSq9yW5/EKHLvHy1y+k4iIn+vweNkkIpEALjf+dU++vO5LpVQpdLObSBjHQUTiAbQDkKuU2mfxVFb7nsfLpkAdrxri8aKQYQJdv80zpmnudyyLSDPon/cBIFpEYr1twPign2L8+4rFIknGNNvLJsz5yf4E3MjZPl5KqYMAToS+cWYMgNsA3Aj9wfAhgEUez8HjFTi2jpdSahP0B3UrADe4b0hEhkC3uQSApm5FPF72PQZ9Y+dXSqkFbvPt7sua7HseL/sCdbxqgseLQiYy1AGQT/dD98ZwAYBeIvItgDjoD+oc6J/A4gCU+djGqdDf8Fcqt543bDBr2lQN1m1sbB8voxeO/wKIBXAWgGVu6zwFYLyIDPXy86QVHi//1eT9dTV0Ldt/ROQcAL9D3/h0HoA/ARwH3+9HTzxebkTkRugeMzYAuMzu6sbU7r60szyPl5sQHa/69hzUSLEGuh5TSu0HcAKAmdDda10H/eE+DzoxjgWQrZQq9rGZqcbUqvYZqPiGnuSlPNFjOfKihsdrNoBjoe9en6+UOqqU2q+UehnAPdC1ndPclufxCpCaHC+l1FIAg6Hv+D8OwE3G/w8BMPtXP+j2NDxefhKRfwL4D/QXkdFKqUyPRezuy+qWt6q95PHyUx0cr5rg8aKQYQJdzyml/lJK3aSU6qKUilJKtVJKXQXdblMA/OZtXRFpCZ0QWN08aNpoTL21EetmTL21MSM3do6X6EFSRgLIVEqtttjcEmM60G0ej1cA1eT9pZRarZT6u7FslFKqq1LqQVQcJ/d1eLz8YPRf/xyAtdDJ2H6LxbzuS6Mdbmfom9i2AYBSKg/AHgAJItLGYntW+57Hyw91cbxqiMeLQoYJdPj6hzF918cyV8D7zYOmrdDdeXUXEaubqcYa08UWZeQ/q+MVZUwTRSQKVbUwpu411jxeweHP+6uc0ZPA5dC9przvVsTjVQ0RuQPAM9DNYUYb9wVYMffRmRZlJ0M3t/lJKVXk5zpW+57Hqxp1fLzs4vGi0Al1P3qN+YHq+6l1AEiwmD/FWG8VPAZtcFtGoO9AVgAGVhMHO6IP0fGC/vlTAXjQY34MdA20AvA4j1e9OV7xACI85jkBvGGs85zF9ni8vB+j+4x9sAJASjXLJgL4CxxIpcEeL4ttLAUHUuGjnj44lHeQGUOVTjD+bQ09QuA26CGFAeCQUuo2Y9kE6EEbvoH+AAD0KE2Dob95n6qUyvDyPKdA9+CwUik10GoZt2Wjob+hD4O+MH4L3bdmox8Kta6Pl4icCuBL6NroX6E/WGKha046Gds5USl12G0dHi8vgnC8zgbwGvR7axd0knAWdEL2JYDzlVKFHuvweFkQkUnQ9wCUAZgF63aqGUqp2W7rTIAesKYQuqY/E3ro9R7G/L8rjw81EXkKulcV96G8LwTQDN6H8ubx8hDE4zXb7d8zoe8D+RT6xl4AeE0p9aPb8jxeFBqhzuAb2wNAGvS3Ym+PDLdlnQBeh27nlWc8VkP3HlCl5szjeT6AxciDPpaPBTAduta6CLrm4CMAvUO9zxr68YK+Ge0d6J8iiwEUQNeaPAIgmcer/hwv6LaWn0Anz0UAsgB8B2AyfNRy8XjV6FgpAEst1hsO4CsAR4z3yhoAt8DjlwGPdSZBt03Pg07EvgNwNo9X/TtefjzHZB4vPurDgzXQREREREQ28CZCIiIiIiIbmEATEREREdnABJqIiIiIyAYm0ERERERENjCBJiIiIiKygQk0EREREZENTKCJiIiIiGxgAk1EREREZAMTaCIiIiIiG5hAExERERHZwASaiIiIiMgGJtBERERERDYwgSYiIiIisoEJNBERERGRDUygiYiIiIhsYAJNRERERGQDE2giIiIiIhuYQBMRERER2cAEmoiIiIjIBibQREREREQ2MIEmIiIiIrKBCTQRERERkQ1MoImIiIiIbGACTURERERkAxNoIiIiIiIbmEATEREREdnABJqIiIiIyAYm0ERERERENjCBJiIiIiKygQk0EREREZENTKCJiIiIiGxgAk1EREREZAMTaCIiIiIiG5hAExERERHZwASaiIiIiMgGJtBERERERDYwgSYiIiIisoEJNBERERGRDUygiYiIiIhsYAJNRERERGQDE2giIiIiIhuYQBMRERER2fD/4caJkbEx8SkAAAAASUVORK5CYII=&quot; width=&quot;720px&quot; height=&quot;576px&quot; alt=&quot;&quot;&gt;&lt;/img&gt;\",\"width\":720},\"id\":\"1159\",\"type\":\"panel.models.markup.HTML\"},{\"attributes\":{\"margin\":[5,10,5,10],\"options\":[\"line\",\"area\"],\"title\":\"Plot kind\",\"value\":\"line\"},\"id\":\"1156\",\"type\":\"panel.models.widgets.CustomSelect\"},{\"attributes\":{\"client_comm_id\":\"72e89c6ec0054e72a782cd16e951a895\",\"comm_id\":\"a5b2eaeddd684cebb1edb83b3d8b5164\",\"plot_id\":\"1151\"},\"id\":\"1160\",\"type\":\"panel.models.comm_manager.CommManager\"}],\"root_ids\":[\"1151\",\"1160\"]},\"title\":\"Bokeh Application\",\"version\":\"2.4.1\"}};\n",
       "    var render_items = [{\"docid\":\"c172cfdb-ebb2-4dbc-b26d-d7420017c2a5\",\"root_ids\":[\"1151\"],\"roots\":{\"1151\":\"e22666ce-9ce6-42c3-a77b-af1ba5f197f8\"}}];\n",
       "    root.Bokeh.embed.embed_items_notebook(docs_json, render_items);\n",
       "  }\n",
       "  if (root.Bokeh !== undefined && root.Bokeh.Panel !== undefined) {\n",
       "    embed_document(root);\n",
       "  } else {\n",
       "    var attempts = 0;\n",
       "    var timer = setInterval(function(root) {\n",
       "      if (root.Bokeh !== undefined && root.Bokeh.Panel !== undefined) {\n",
       "        clearInterval(timer);\n",
       "        embed_document(root);\n",
       "      } else if (document.readyState == \"complete\") {\n",
       "        attempts++;\n",
       "        if (attempts > 200) {\n",
       "          clearInterval(timer);\n",
       "          console.log(\"Bokeh: ERROR: Unable to run BokehJS code because BokehJS library is missing\");\n",
       "        }\n",
       "      }\n",
       "    }, 25, root)\n",
       "  }\n",
       "})(window);</script>"
      ],
      "text/plain": [
       "Row\n",
       "    [0] Column\n",
       "        [0] Select(name='Indicator', options=['2005 PPP conversion fact...], value='Adjusted savings: c...)\n",
       "        [1] MultiSelect(name='Country', options=['Congo, Rep.', ...], size=8, value=['Germany', 'Portugal'])\n",
       "        [2] RangeSlider(end=2019, name='Dates', start=1961, step=1, value=(1961, 2019), value_end=2019, value_start=1961)\n",
       "        [3] Select(name='Plot kind', options=['line', 'area'], value='line')\n",
       "        [4] Checkbox(name='Color', value=True)\n",
       "    [1] ParamFunction(function)"
      ]
     },
     "execution_count": 104,
     "metadata": {
      "application/vnd.holoviews_exec.v0+json": {
       "id": "1151"
      }
     },
     "output_type": "execute_result"
    }
   ],
   "source": [
    "select=pn.widgets.Select(name='Indicator',options=names[:900],value=names[24])\n",
    "daterange = pn.widgets.RangeSlider(name='Dates', start=1961, end=2019, value=(1961,2019), step=1)\n",
    "countryselect = pn.widgets.MultiSelect(name='Country',options=countries,value=scountries,size=8)\n",
    "typeselect = pn.widgets.Select(name='Plot kind',options=['line','area'])\n",
    "colorselect = pn.widgets.Checkbox(name='Color',value=True)\n",
    "\n",
    "@pn.depends(select.param.value,daterange.param.value,\n",
    "            countryselect.param.value,typeselect.param.value,colorselect.param.value)\n",
    "def update(col, years, countries, kind, color):\n",
    "    years = range(years[0],years[1])\n",
    "    df = get_data(col,years,countries)    \n",
    "    f = plot_col(df, col, kind, color)\n",
    "    return f\n",
    "\n",
    "app = pn.Row(pn.Column(select,countryselect,daterange,typeselect,colorselect), update)\n",
    "app"
   ]
  },
  {
   "cell_type": "code",
   "execution_count": null,
   "id": "946ebbb0",
   "metadata": {},
   "outputs": [],
   "source": [
    "app.servable()"
   ]
  },
  {
   "cell_type": "code",
   "execution_count": null,
   "id": "bba3e502",
   "metadata": {},
   "outputs": [],
   "source": []
  },
  {
   "cell_type": "code",
   "execution_count": null,
   "id": "cf7fb337",
   "metadata": {},
   "outputs": [],
   "source": []
  },
  {
   "cell_type": "code",
   "execution_count": null,
   "id": "e5e1d082",
   "metadata": {},
   "outputs": [],
   "source": []
  },
  {
   "cell_type": "code",
   "execution_count": null,
   "id": "5b0a3a01",
   "metadata": {},
   "outputs": [],
   "source": []
  },
  {
   "cell_type": "code",
   "execution_count": null,
   "id": "f101d779",
   "metadata": {},
   "outputs": [],
   "source": []
  },
  {
   "cell_type": "code",
   "execution_count": null,
   "id": "0f3a43f3",
   "metadata": {},
   "outputs": [],
   "source": []
  },
  {
   "cell_type": "code",
   "execution_count": null,
   "id": "97039086",
   "metadata": {},
   "outputs": [],
   "source": []
  },
  {
   "cell_type": "code",
   "execution_count": null,
   "id": "99d4a8fc",
   "metadata": {},
   "outputs": [],
   "source": []
  },
  {
   "cell_type": "code",
   "execution_count": null,
   "id": "fa432c2b",
   "metadata": {},
   "outputs": [],
   "source": []
  },
  {
   "cell_type": "code",
   "execution_count": null,
   "id": "2a6f15b6",
   "metadata": {},
   "outputs": [],
   "source": []
  },
  {
   "cell_type": "code",
   "execution_count": null,
   "id": "eef64c60",
   "metadata": {},
   "outputs": [],
   "source": []
  },
  {
   "cell_type": "code",
   "execution_count": null,
   "id": "a84f07e8",
   "metadata": {},
   "outputs": [],
   "source": []
  },
  {
   "cell_type": "code",
   "execution_count": null,
   "id": "3ce1b088",
   "metadata": {},
   "outputs": [],
   "source": []
  },
  {
   "cell_type": "code",
   "execution_count": null,
   "id": "200544bc",
   "metadata": {},
   "outputs": [],
   "source": []
  },
  {
   "cell_type": "code",
   "execution_count": null,
   "id": "e1158ad9",
   "metadata": {},
   "outputs": [],
   "source": []
  }
 ],
 "metadata": {
  "kernelspec": {
   "display_name": "Python 3 (ipykernel)",
   "language": "python",
   "name": "python3"
  },
  "language_info": {
   "codemirror_mode": {
    "name": "ipython",
    "version": 3
   },
   "file_extension": ".py",
   "mimetype": "text/x-python",
   "name": "python",
   "nbconvert_exporter": "python",
   "pygments_lexer": "ipython3",
   "version": "3.9.7"
  }
 },
 "nbformat": 4,
 "nbformat_minor": 5
}
